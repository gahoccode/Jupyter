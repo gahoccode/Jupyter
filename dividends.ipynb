{
 "cells": [
  {
   "cell_type": "markdown",
   "id": "cd127e40-2d71-4db5-939a-953847b6cb93",
   "metadata": {},
   "source": [
    "# Fundamental Analysis"
   ]
  },
  {
   "cell_type": "code",
   "execution_count": null,
   "id": "1c195233-c614-4645-b75c-052f45038c7a",
   "metadata": {},
   "outputs": [],
   "source": [
    "import pandas as pd\n",
    "from vnstock_ezchart import *\n",
    "from vnstock import Vnstock\n",
    "ezchart = MPlot() # Khởi tạo đối tượng\n",
    "# Set date range\n",
    "start_date = '2024-01-01'\n",
    "end_date = '2025-03-19'\n",
    "interval = '1D'\n",
    "symbol='REE'\n",
    "stock = Vnstock().stock(symbol=symbol, source='VCI')\n"
   ]
  },
  {
   "cell_type": "code",
   "execution_count": null,
   "id": "67c75c90-fd3b-421b-8dbd-cdbc543002c2",
   "metadata": {},
   "outputs": [],
   "source": [
    "CashFlow = stock.finance.cash_flow(period='year')\n"
   ]
  },
  {
   "cell_type": "markdown",
   "id": "e5a565ce-abe1-47c7-bedd-7834b6d0cb81",
   "metadata": {},
   "source": [
    "## Transpose the CF dataframe "
   ]
  },
  {
   "cell_type": "code",
   "execution_count": null,
   "id": "e3833014-82cd-484b-b7ac-ba82e8ee14e7",
   "metadata": {},
   "outputs": [],
   "source": [
    "#CashFlow\n",
    "CashFlow_transposed = CashFlow.T\n",
    "CashFlow_transposed.columns = CashFlow['yearReport']\n",
    "# Drop the duplicate 'yearReport' row\n",
    "CashFlow_transposed = CashFlow_transposed.drop('yearReport')\n",
    "CashFlow_transposed.head()"
   ]
  },
  {
   "cell_type": "markdown",
   "id": "1171ea66-1e7e-40f5-ae55-39adeb523c9c",
   "metadata": {},
   "source": [
    "# Convert the built-in visulization method to seaborn for a more polished look"
   ]
  },
  {
   "cell_type": "code",
   "execution_count": null,
   "id": "298c3d6b-f113-42e0-b0c6-95eb6c2d3ac1",
   "metadata": {},
   "outputs": [],
   "source": [
    "Ratio = stock.finance.ratio(period='year', dropna=True)\n"
   ]
  },
  {
   "cell_type": "markdown",
   "id": "182c0a03-f27c-4178-9fdd-be3290e0e92f",
   "metadata": {},
   "source": [
    "### Transpose the data frame to display on the web."
   ]
  },
  {
   "cell_type": "code",
   "execution_count": null,
   "id": "2e2e3524-7d39-48e6-895e-efeead4fa027",
   "metadata": {},
   "outputs": [],
   "source": [
    "Ratio_transposed = Ratio.T\n",
    "Ratio_transposed.columns=Ratio_transposed.iloc[1]\n",
    "Ratio_transposed = Ratio_transposed.iloc[3:]"
   ]
  },
  {
   "cell_type": "code",
   "execution_count": null,
   "id": "8c64d7d4-ee62-4a14-b923-42382561a910",
   "metadata": {},
   "outputs": [],
   "source": [
    "# Example: Select the 'ROE (%)' column under 'Chỉ tiêu khả năng sinh lợi'\n",
    "dividend_yield = Ratio[('Chỉ tiêu khả năng sinh lợi', 'Dividend yield (%)')]\n",
    "Outstanding_Shares = Ratio[('Chỉ tiêu định giá', 'Outstanding Share (Mil. Shares)')]\n"
   ]
  },
  {
   "cell_type": "markdown",
   "id": "58def4c9-c6cc-427a-8328-8d06b431991b",
   "metadata": {},
   "source": [
    "### Transform the balance sheet from long format to wide format. "
   ]
  },
  {
   "cell_type": "code",
   "execution_count": null,
   "id": "ae5877c5-c76e-4165-be7b-dd247488f726",
   "metadata": {},
   "outputs": [],
   "source": [
    "def BS_wide(stock=None):\n",
    "    \"\"\"\n",
    "    Transform balance sheet data into a wide format with years as columns and metrics as rows.\n",
    "    \n",
    "    Parameters:\n",
    "    -----------\n",
    "    stock : object, default=None\n",
    "        The stock ticker object containing financial data.\n",
    "        If None, will create a default stock object for REE from VCI source.\n",
    "    \n",
    "    Returns:\n",
    "    --------\n",
    "    pandas.DataFrame\n",
    "        Transformed balance sheet with years as columns and financial metrics as rows\n",
    "    \"\"\"\n",
    "    \n",
    "    # Create default stock object if not provided\n",
    "    if stock is None:\n",
    "        stock = Vnstock().stock(symbol='REE', source='VCI')\n",
    "    \n",
    "    # Get the balance sheet data\n",
    "    BS = stock.finance.balance_sheet(period='year', lang='en', dropna=True)\n",
    "    \n",
    "    # Transpose the DataFrame\n",
    "    BS_wide = BS.T\n",
    "    \n",
    "    # Promote header by setting column names using the second row (index 1)\n",
    "    BS_wide.columns = BS_wide.iloc[1]\n",
    "    \n",
    "    # Keep only the data rows (skip the first 3 rows)\n",
    "    BS_wide = BS_wide.iloc[3:]\n",
    "    \n",
    "    return BS_wide"
   ]
  },
  {
   "cell_type": "code",
   "execution_count": null,
   "id": "e1e76c39-5962-428b-9d2e-36f522923d30",
   "metadata": {},
   "outputs": [],
   "source": [
    "BalanceSheet = stock.finance.balance_sheet(period='year', lang='en', dropna=True)\n",
    "BalanceSheet_Transposed = BalanceSheet.T\n",
    "BalanceSheet_Transposed.columns = BalanceSheet_Transposed.iloc[1]\n",
    "BalanceSheet_Transposed = BalanceSheet_Transposed.iloc[3:]\n",
    "BalanceSheet_Transposed.head()"
   ]
  },
  {
   "cell_type": "markdown",
   "id": "e4aeeace-b3d9-4895-ad30-6b3e0f470af6",
   "metadata": {},
   "source": [
    "### Transform Income statement from long format to wide format. "
   ]
  },
  {
   "cell_type": "code",
   "execution_count": null,
   "id": "9ce33326-5577-4946-94ce-8ffa2eaa7c91",
   "metadata": {},
   "outputs": [],
   "source": [
    "IncomeStatement = stock.finance.income_statement(period='year', lang='en', dropna=True)\n",
    "IncomeStatement_Transpose= IncomeStatement.T\n",
    "IncomeStatement_Transpose.columns = IncomeStatement_Transpose.iloc[1]\n",
    "IncomeStatement_Transpose = IncomeStatement_Transpose.iloc[3:]\n",
    "IncomeStatement_Transpose.head()"
   ]
  },
  {
   "cell_type": "code",
   "execution_count": null,
   "id": "b2596e4e-ddac-4b3f-9ac0-c21d6a8f838c",
   "metadata": {},
   "outputs": [],
   "source": [
    "# import os\n",
    "# import pandas as pd\n",
    "\n",
    "# def save_financial_statements_to_csv(balance_sheet_df, income_statement_df, cashflow_df, output_dir='./outputs'):\n",
    "#     \"\"\"\n",
    "#     Save financial statements DataFrames to CSV files in the specified output directory.\n",
    "    \n",
    "#     Parameters:\n",
    "#     -----------\n",
    "#     balance_sheet_df : pandas.DataFrame\n",
    "#         Balance Sheet DataFrame\n",
    "#     income_statement_df : pandas.DataFrame\n",
    "#         Income Statement DataFrame\n",
    "#     cashflow_df : pandas.DataFrame\n",
    "#         Cash Flow Statement DataFrame\n",
    "#     output_dir : str\n",
    "#         Directory path where CSV files will be saved (default: './outputs')\n",
    "#     \"\"\"\n",
    "    \n",
    "#     # Create output directory if it doesn't exist\n",
    "#     try:\n",
    "#         os.makedirs(output_dir, exist_ok=True)\n",
    "#         print(f\"Output directory '{output_dir}' is ready.\")\n",
    "#     except Exception as e:\n",
    "#         print(f\"Error creating directory: {e}\")\n",
    "#         return\n",
    "    \n",
    "#     # Dictionary of DataFrames and their corresponding filenames\n",
    "#     statements = {\n",
    "#         'REE_BalanceSheet_Transposed.csv': balance_sheet_df,\n",
    "#         'REE_IncomeStatement_Transpose.csv': income_statement_df,\n",
    "#         'REE_CashFlow_transposed.csv': cashflow_df\n",
    "#     }\n",
    "    \n",
    "#     # Save each DataFrame to CSV\n",
    "#     for filename, df in statements.items():\n",
    "#         try:\n",
    "#             file_path = os.path.join(output_dir, filename)\n",
    "#             df.to_csv(file_path)\n",
    "#             print(f\"Successfully saved {filename}\")\n",
    "#         except Exception as e:\n",
    "#             print(f\"Error saving {filename}: {e}\")\n",
    "\n",
    "# # Example usage:\n",
    "# # save_financial_statements_to_csv(\n",
    "# #     BalanceSheet_Transposed,\n",
    "# #     IncomeStatement_Transpose,\n",
    "# #     CashFlow_transposed\n",
    "# # )"
   ]
  },
  {
   "cell_type": "code",
   "execution_count": null,
   "id": "066f7e8d-1241-42d9-bee8-3bc1cc582616",
   "metadata": {},
   "outputs": [],
   "source": [
    "from vnstock import Vnstock\n",
    "import warnings\n",
    "warnings.filterwarnings(\"ignore\")\n",
    "symbol = 'REE'\n",
    "company = Vnstock().stock(symbol=symbol, source='TCBS').company\n",
    "\n"
   ]
  },
  {
   "cell_type": "markdown",
   "id": "9a83ee14-3aae-4eff-a277-38233aa589c6",
   "metadata": {},
   "source": [
    "# Event Impact Analysis"
   ]
  },
  {
   "cell_type": "code",
   "execution_count": null,
   "id": "a29e6f17-2e2e-47a6-9212-366e95c68f38",
   "metadata": {},
   "outputs": [],
   "source": [
    "events = stock.company.events()\n",
    "dividend_events = events[events['event_list_name'] == 'Trả cổ tức bằng tiền mặt']\n",
    "dividend_events = dividend_events.dropna()\n",
    "\n",
    "print(dividend_events)\n"
   ]
  },
  {
   "cell_type": "code",
   "execution_count": null,
   "id": "c0fbdd62-ca3c-47d9-a74f-d0930483b992",
   "metadata": {},
   "outputs": [],
   "source": [
    "# Convert from object to datetime\n",
    "dividend_events['exright_date'] = pd.to_datetime(dividend_events['exright_date'])\n",
    "dividend_events = dividend_events.set_index('exright_date')"
   ]
  },
  {
   "cell_type": "code",
   "execution_count": null,
   "id": "d17680d1-0d33-4d61-962b-63c582327a36",
   "metadata": {},
   "outputs": [],
   "source": [
    "# Loop through each dividend event\n",
    "for index, event in dividend_events.iterrows():\n",
    "    # Since exright_date is now the index, we use the index directly\n",
    "    exright_date = index\n",
    "    \n",
    "    # Calculate the time window (30 days before and after the ex-dividend date)\n",
    "    exercise_start_date = exright_date - pd.Timedelta(days=30)\n",
    "    exercise_end_date = exright_date + pd.Timedelta(days=30)\n",
    "    \n",
    "    # Convert dates to the required string format 'YYYY-MM-DD'\n",
    "    exercise_start_str = exercise_start_date.strftime('%Y-%m-%d')\n",
    "    exercise_end_str = exercise_end_date.strftime('%Y-%m-%d')\n",
    "    \n",
    "    # Get price history around the event\n",
    "    event_prices = stock.quote.history(start=exercise_start_str, end=exercise_end_str, interval='1D')"
   ]
  },
  {
   "cell_type": "code",
   "execution_count": null,
   "id": "357e95b6-7c3e-464a-80c4-e91c7fda3dc8",
   "metadata": {},
   "outputs": [],
   "source": [
    "# Add mplfinance for quick visualization\n",
    "#event_prices"
   ]
  },
  {
   "cell_type": "code",
   "execution_count": null,
   "id": "0be8674e-68dd-4488-b988-32d497e33024",
   "metadata": {},
   "outputs": [],
   "source": [
    "import plotly.graph_objects as go\n",
    "\n",
    "# Create a candlestick chart\n",
    "fig = go.Figure(data=[go.Candlestick(\n",
    "    x=event_prices.index,\n",
    "    open=event_prices['open'],\n",
    "    high=event_prices['high'],\n",
    "    low=event_prices['low'],\n",
    "    close=event_prices['close']\n",
    ")])\n",
    "\n",
    "# Update layout\n",
    "fig.update_layout(\n",
    "    title='Candlestick Chart',\n",
    "    yaxis_title='Price',\n",
    "    xaxis_title='Date'\n",
    ")\n",
    "\n",
    "fig.show()"
   ]
  },
  {
   "cell_type": "code",
   "execution_count": null,
   "id": "e554e025-b49a-4641-b5c0-4c9494b25c53",
   "metadata": {},
   "outputs": [],
   "source": [
    "# Import required libraries\n",
    "import matplotlib.pyplot as plt\n",
    "import seaborn as sns\n",
    "import numpy as np\n",
    "\n",
    "# Set the style for seaborn\n",
    "sns.set_style(\"darkgrid\")\n",
    "plt.figure(figsize=(14, 8))\n",
    "\n",
    "# Create a line chart with seaborn for the price data\n",
    "sns.lineplot(data=event_prices['close'], linewidth=2, label='Close Price')\n",
    "\n",
    "# Annotate the exright dates\n",
    "for date in dividend_events.index:\n",
    "    if date in event_prices.index or np.datetime64(date) in event_prices.index:\n",
    "        # Find the corresponding price on that date\n",
    "        if date in event_prices.index:\n",
    "            price = event_prices.loc[date, 'close']\n",
    "        else:\n",
    "            # Find the closest date if exact match not found\n",
    "            closest_date = event_prices.index[event_prices.index.get_indexer([date], method='nearest')[0]]\n",
    "            price = event_prices.loc[closest_date, 'close']\n",
    "        \n",
    "        # Annotate the exright date with a vertical line\n",
    "        plt.axvline(x=date, color='red', linestyle='--', alpha=0.7)\n",
    "        plt.annotate('Ex-Right Date', \n",
    "                     xy=(date, price),\n",
    "                     xytext=(date, price*1.05),  # Slightly above the price\n",
    "                     arrowprops=dict(facecolor='red', shrink=0.05),\n",
    "                     fontsize=10,\n",
    "                     ha='center')\n",
    "        \n",
    "        # Add markers for exercise start and end dates\n",
    "        start_date = date - pd.Timedelta(days=30)\n",
    "        end_date = date + pd.Timedelta(days=30)\n",
    "        \n",
    "        # Find prices for start and end dates\n",
    "        if start_date in event_prices.index:\n",
    "            start_price = event_prices.loc[start_date, 'close']\n",
    "        else:\n",
    "            closest_start = event_prices.index[event_prices.index.get_indexer([start_date], method='nearest')[0]]\n",
    "            start_price = event_prices.loc[closest_start, 'close']\n",
    "            \n",
    "        if end_date in event_prices.index:\n",
    "            end_price = event_prices.loc[end_date, 'close']\n",
    "        else:\n",
    "            closest_end = event_prices.index[event_prices.index.get_indexer([end_date], method='nearest')[0]]\n",
    "            end_price = event_prices.loc[closest_end, 'close']\n",
    "        \n",
    "        # Annotate exercise start and end dates\n",
    "        plt.axvline(x=start_date, color='green', linestyle=':', alpha=0.5)\n",
    "        plt.annotate('Exercise Start', \n",
    "                     xy=(start_date, start_price),\n",
    "                     xytext=(start_date, start_price*0.95),\n",
    "                     arrowprops=dict(facecolor='green', shrink=0.05),\n",
    "                     fontsize=9,\n",
    "                     ha='center')\n",
    "        \n",
    "        plt.axvline(x=end_date, color='blue', linestyle=':', alpha=0.5)\n",
    "        plt.annotate('Exercise End', \n",
    "                     xy=(end_date, end_price),\n",
    "                     xytext=(end_date, end_price*0.95),\n",
    "                     arrowprops=dict(facecolor='blue', shrink=0.05),\n",
    "                     fontsize=9,\n",
    "                     ha='center')\n",
    "\n",
    "# Customize the plot\n",
    "plt.title('Stock Price with Ex-Right Date Annotations', fontsize=16)\n",
    "plt.xlabel('Date', fontsize=12)\n",
    "plt.ylabel('Price', fontsize=12)\n",
    "plt.xticks(rotation=45)\n",
    "plt.tight_layout()\n",
    "plt.legend()\n",
    "\n",
    "# Display the plot\n",
    "plt.show()"
   ]
  },
  {
   "cell_type": "code",
   "execution_count": null,
   "id": "55831a8f-eefa-4f8a-bd1f-af948b4f2758",
   "metadata": {},
   "outputs": [],
   "source": [
    "CashFlow['Dividends paid']"
   ]
  },
  {
   "cell_type": "code",
   "execution_count": null,
   "id": "ad9e5152-e258-4f3f-8dde-7ec5583d1a6e",
   "metadata": {},
   "outputs": [],
   "source": [
    "CashFlow['Levered Free Cash Flow']"
   ]
  },
  {
   "cell_type": "code",
   "execution_count": null,
   "id": "b2f8d0d8-181c-418d-9dd1-445bc8aa30af",
   "metadata": {},
   "outputs": [],
   "source": [
    "dividend_coverage_ratio = CashFlow['Levered Free Cash Flow'] / CashFlow['Dividends paid'].abs()"
   ]
  },
  {
   "cell_type": "code",
   "execution_count": 11,
   "id": "8150e311-b28b-4a2f-9a8f-f728304c0d42",
   "metadata": {},
   "outputs": [
    {
     "name": "stderr",
     "output_type": "stream",
     "text": [
      "2025-05-21 17:37:30 - vnstock.common.data.data_explorer - INFO - TCBS không cung cấp thông tin danh sách. Dữ liệu tự động trả về từ VCI.\n"
     ]
    },
    {
     "data": {
      "text/html": [
       "<div>\n",
       "<style scoped>\n",
       "    .dataframe tbody tr th:only-of-type {\n",
       "        vertical-align: middle;\n",
       "    }\n",
       "\n",
       "    .dataframe tbody tr th {\n",
       "        vertical-align: top;\n",
       "    }\n",
       "\n",
       "    .dataframe thead th {\n",
       "        text-align: right;\n",
       "    }\n",
       "</style>\n",
       "<table border=\"1\" class=\"dataframe\">\n",
       "  <thead>\n",
       "    <tr style=\"text-align: right;\">\n",
       "      <th></th>\n",
       "      <th>exercise_date</th>\n",
       "      <th>cash_year</th>\n",
       "      <th>cash_dividend_percentage</th>\n",
       "      <th>issue_method</th>\n",
       "    </tr>\n",
       "  </thead>\n",
       "  <tbody>\n",
       "    <tr>\n",
       "      <th>0</th>\n",
       "      <td>2025-02-27</td>\n",
       "      <td>2024</td>\n",
       "      <td>0.10</td>\n",
       "      <td>cash</td>\n",
       "    </tr>\n",
       "    <tr>\n",
       "      <th>1</th>\n",
       "      <td>2024-05-21</td>\n",
       "      <td>2024</td>\n",
       "      <td>0.15</td>\n",
       "      <td>share</td>\n",
       "    </tr>\n",
       "    <tr>\n",
       "      <th>2</th>\n",
       "      <td>2024-04-12</td>\n",
       "      <td>2023</td>\n",
       "      <td>0.10</td>\n",
       "      <td>cash</td>\n",
       "    </tr>\n",
       "    <tr>\n",
       "      <th>3</th>\n",
       "      <td>2023-05-19</td>\n",
       "      <td>2023</td>\n",
       "      <td>0.15</td>\n",
       "      <td>share</td>\n",
       "    </tr>\n",
       "    <tr>\n",
       "      <th>4</th>\n",
       "      <td>2023-02-28</td>\n",
       "      <td>2022</td>\n",
       "      <td>0.10</td>\n",
       "      <td>cash</td>\n",
       "    </tr>\n",
       "    <tr>\n",
       "      <th>5</th>\n",
       "      <td>2022-05-17</td>\n",
       "      <td>2022</td>\n",
       "      <td>0.15</td>\n",
       "      <td>share</td>\n",
       "    </tr>\n",
       "    <tr>\n",
       "      <th>6</th>\n",
       "      <td>2022-04-19</td>\n",
       "      <td>2021</td>\n",
       "      <td>0.10</td>\n",
       "      <td>cash</td>\n",
       "    </tr>\n",
       "    <tr>\n",
       "      <th>7</th>\n",
       "      <td>2020-03-02</td>\n",
       "      <td>2019</td>\n",
       "      <td>0.16</td>\n",
       "      <td>cash</td>\n",
       "    </tr>\n",
       "    <tr>\n",
       "      <th>8</th>\n",
       "      <td>2019-02-26</td>\n",
       "      <td>2018</td>\n",
       "      <td>0.18</td>\n",
       "      <td>cash</td>\n",
       "    </tr>\n",
       "    <tr>\n",
       "      <th>9</th>\n",
       "      <td>2018-02-28</td>\n",
       "      <td>2017</td>\n",
       "      <td>0.16</td>\n",
       "      <td>cash</td>\n",
       "    </tr>\n",
       "    <tr>\n",
       "      <th>10</th>\n",
       "      <td>2017-02-28</td>\n",
       "      <td>2016</td>\n",
       "      <td>0.16</td>\n",
       "      <td>cash</td>\n",
       "    </tr>\n",
       "    <tr>\n",
       "      <th>11</th>\n",
       "      <td>2016-05-11</td>\n",
       "      <td>2016</td>\n",
       "      <td>0.15</td>\n",
       "      <td>share</td>\n",
       "    </tr>\n",
       "    <tr>\n",
       "      <th>12</th>\n",
       "      <td>2016-02-26</td>\n",
       "      <td>2015</td>\n",
       "      <td>0.10</td>\n",
       "      <td>cash</td>\n",
       "    </tr>\n",
       "    <tr>\n",
       "      <th>13</th>\n",
       "      <td>2015-02-25</td>\n",
       "      <td>2014</td>\n",
       "      <td>0.16</td>\n",
       "      <td>cash</td>\n",
       "    </tr>\n",
       "    <tr>\n",
       "      <th>14</th>\n",
       "      <td>2014-02-19</td>\n",
       "      <td>2013</td>\n",
       "      <td>0.16</td>\n",
       "      <td>cash</td>\n",
       "    </tr>\n",
       "  </tbody>\n",
       "</table>\n",
       "</div>"
      ],
      "text/plain": [
       "   exercise_date  cash_year  cash_dividend_percentage issue_method\n",
       "0     2025-02-27       2024                      0.10         cash\n",
       "1     2024-05-21       2024                      0.15        share\n",
       "2     2024-04-12       2023                      0.10         cash\n",
       "3     2023-05-19       2023                      0.15        share\n",
       "4     2023-02-28       2022                      0.10         cash\n",
       "5     2022-05-17       2022                      0.15        share\n",
       "6     2022-04-19       2021                      0.10         cash\n",
       "7     2020-03-02       2019                      0.16         cash\n",
       "8     2019-02-26       2018                      0.18         cash\n",
       "9     2018-02-28       2017                      0.16         cash\n",
       "10    2017-02-28       2016                      0.16         cash\n",
       "11    2016-05-11       2016                      0.15        share\n",
       "12    2016-02-26       2015                      0.10         cash\n",
       "13    2015-02-25       2014                      0.16         cash\n",
       "14    2014-02-19       2013                      0.16         cash"
      ]
     },
     "execution_count": 11,
     "metadata": {},
     "output_type": "execute_result"
    }
   ],
   "source": [
    "from vnstock import Vnstock\n",
    "company = Vnstock().stock(symbol=\"REE\",source=\"TCBS\").company\n",
    "company.dividends()"
   ]
  },
  {
   "cell_type": "code",
   "execution_count": null,
   "id": "053d8d48-a025-4a12-b1bb-32ad5e3926b3",
   "metadata": {},
   "outputs": [],
   "source": [
    "reciprocal_tariffs_date = '2025-04-02'\n",
    "baseline_tariffs_date = '2025-04-09'\n",
    "china_negotiation_date = '2025-05-12'\n",
    "deal_achieved_date = '2025-05-15'"
   ]
  }
 ],
 "metadata": {
  "kernelspec": {
   "display_name": ".venv",
   "language": "python",
   "name": "python3"
  },
  "language_info": {
   "codemirror_mode": {
    "name": "ipython",
    "version": 3
   },
   "file_extension": ".py",
   "mimetype": "text/x-python",
   "name": "python",
   "nbconvert_exporter": "python",
   "pygments_lexer": "ipython3",
   "version": "3.10.11"
  }
 },
 "nbformat": 4,
 "nbformat_minor": 5
}
