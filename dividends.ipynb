{
 "cells": [
  {
   "cell_type": "markdown",
   "id": "cd127e40-2d71-4db5-939a-953847b6cb93",
   "metadata": {},
   "source": [
    "# Fundamental Analysis"
   ]
  },
  {
   "cell_type": "code",
   "execution_count": 1,
   "id": "1c195233-c614-4645-b75c-052f45038c7a",
   "metadata": {},
   "outputs": [
    {
     "data": {
      "text/markdown": [
       "\n",
       "## 👋 Chào mừng bạn đến với Vnstock!\n",
       "\n",
       "Cảm ơn bạn đã sử dụng package phân tích chứng khoán #1 tại Việt Nam\n",
       "\n",
       "* Tài liệu: [Sổ tay hướng dẫn](https://vnstocks.com/docs/category/s%E1%BB%95-tay-h%C6%B0%E1%BB%9Bng-d%E1%BA%ABn)\n",
       "* Cộng đồng: [Nhóm Facebook](https://www.facebook.com/groups/vnstock.official)\n",
       "\n",
       "Khám phá các tính năng mới nhất và tham gia cộng đồng để nhận hỗ trợ.\n",
       "                "
      ],
      "text/plain": [
       "<IPython.core.display.Markdown object>"
      ]
     },
     "metadata": {},
     "output_type": "display_data"
    }
   ],
   "source": [
    "import pandas as pd\n",
    "from vnstock import Vnstock\n",
    "# Set date range\n",
    "start_date = '2024-01-01'\n",
    "end_date = '2025-03-19'\n",
    "interval = '1D'\n",
    "symbol='REE'\n",
    "stock = Vnstock().stock(symbol=symbol, source='VCI')\n"
   ]
  },
  {
   "cell_type": "code",
   "execution_count": 2,
   "id": "67c75c90-fd3b-421b-8dbd-cdbc543002c2",
   "metadata": {},
   "outputs": [],
   "source": [
    "CashFlow = stock.finance.cash_flow(period='year')\n"
   ]
  },
  {
   "cell_type": "markdown",
   "id": "e5a565ce-abe1-47c7-bedd-7834b6d0cb81",
   "metadata": {},
   "source": [
    "## Transpose the CF dataframe "
   ]
  },
  {
   "cell_type": "code",
   "execution_count": 3,
   "id": "e3833014-82cd-484b-b7ac-ba82e8ee14e7",
   "metadata": {},
   "outputs": [
    {
     "data": {
      "text/html": [
       "<div>\n",
       "<style scoped>\n",
       "    .dataframe tbody tr th:only-of-type {\n",
       "        vertical-align: middle;\n",
       "    }\n",
       "\n",
       "    .dataframe tbody tr th {\n",
       "        vertical-align: top;\n",
       "    }\n",
       "\n",
       "    .dataframe thead th {\n",
       "        text-align: right;\n",
       "    }\n",
       "</style>\n",
       "<table border=\"1\" class=\"dataframe\">\n",
       "  <thead>\n",
       "    <tr style=\"text-align: right;\">\n",
       "      <th>yearReport</th>\n",
       "      <th>2024</th>\n",
       "      <th>2023</th>\n",
       "      <th>2022</th>\n",
       "      <th>2021</th>\n",
       "      <th>2020</th>\n",
       "      <th>2019</th>\n",
       "      <th>2018</th>\n",
       "      <th>2017</th>\n",
       "      <th>2016</th>\n",
       "      <th>2015</th>\n",
       "      <th>2014</th>\n",
       "      <th>2013</th>\n",
       "    </tr>\n",
       "  </thead>\n",
       "  <tbody>\n",
       "    <tr>\n",
       "      <th>ticker</th>\n",
       "      <td>REE</td>\n",
       "      <td>REE</td>\n",
       "      <td>REE</td>\n",
       "      <td>REE</td>\n",
       "      <td>REE</td>\n",
       "      <td>REE</td>\n",
       "      <td>REE</td>\n",
       "      <td>REE</td>\n",
       "      <td>REE</td>\n",
       "      <td>REE</td>\n",
       "      <td>REE</td>\n",
       "      <td>REE</td>\n",
       "    </tr>\n",
       "    <tr>\n",
       "      <th>Net Profit/Loss before tax</th>\n",
       "      <td>2687606595302</td>\n",
       "      <td>3056093471161</td>\n",
       "      <td>3878561080509</td>\n",
       "      <td>2399829028939</td>\n",
       "      <td>1923585472508</td>\n",
       "      <td>1920209997754</td>\n",
       "      <td>2118013069944</td>\n",
       "      <td>1721146987668</td>\n",
       "      <td>1375753903562</td>\n",
       "      <td>1045676170298</td>\n",
       "      <td>1262427405945</td>\n",
       "      <td>1087556959984</td>\n",
       "    </tr>\n",
       "    <tr>\n",
       "      <th>Depreciation and Amortisation</th>\n",
       "      <td>1298493472359</td>\n",
       "      <td>1263900546872</td>\n",
       "      <td>1225256688185</td>\n",
       "      <td>892746007729</td>\n",
       "      <td>321516852418</td>\n",
       "      <td>182619094137</td>\n",
       "      <td>161304336971</td>\n",
       "      <td>130117592892</td>\n",
       "      <td>139556922833</td>\n",
       "      <td>132711178140</td>\n",
       "      <td>57142979454</td>\n",
       "      <td>61183861575</td>\n",
       "    </tr>\n",
       "    <tr>\n",
       "      <th>Provision for credit losses</th>\n",
       "      <td>94886966817</td>\n",
       "      <td>267350820613</td>\n",
       "      <td>98981408043</td>\n",
       "      <td>18405779937</td>\n",
       "      <td>23057787014</td>\n",
       "      <td>-37003997619</td>\n",
       "      <td>-181821279821</td>\n",
       "      <td>63225518370</td>\n",
       "      <td>-7712055856</td>\n",
       "      <td>8470325013</td>\n",
       "      <td>-26958372500</td>\n",
       "      <td>36502068928</td>\n",
       "    </tr>\n",
       "    <tr>\n",
       "      <th>Unrealized foreign exchange gain/loss</th>\n",
       "      <td>13364760</td>\n",
       "      <td>34472956246</td>\n",
       "      <td>42356802295</td>\n",
       "      <td>-54068058823</td>\n",
       "      <td>51724431455</td>\n",
       "      <td>141521813</td>\n",
       "      <td>180374946</td>\n",
       "      <td>283085334</td>\n",
       "      <td>279701943</td>\n",
       "      <td>-29384453</td>\n",
       "      <td>1641418011</td>\n",
       "      <td>4239193028</td>\n",
       "    </tr>\n",
       "  </tbody>\n",
       "</table>\n",
       "</div>"
      ],
      "text/plain": [
       "yearReport                                      2024           2023  \\\n",
       "ticker                                           REE            REE   \n",
       "Net Profit/Loss before tax             2687606595302  3056093471161   \n",
       "Depreciation and Amortisation          1298493472359  1263900546872   \n",
       "Provision for credit losses              94886966817   267350820613   \n",
       "Unrealized foreign exchange gain/loss       13364760    34472956246   \n",
       "\n",
       "yearReport                                      2022           2021  \\\n",
       "ticker                                           REE            REE   \n",
       "Net Profit/Loss before tax             3878561080509  2399829028939   \n",
       "Depreciation and Amortisation          1225256688185   892746007729   \n",
       "Provision for credit losses              98981408043    18405779937   \n",
       "Unrealized foreign exchange gain/loss    42356802295   -54068058823   \n",
       "\n",
       "yearReport                                      2020           2019  \\\n",
       "ticker                                           REE            REE   \n",
       "Net Profit/Loss before tax             1923585472508  1920209997754   \n",
       "Depreciation and Amortisation           321516852418   182619094137   \n",
       "Provision for credit losses              23057787014   -37003997619   \n",
       "Unrealized foreign exchange gain/loss    51724431455      141521813   \n",
       "\n",
       "yearReport                                      2018           2017  \\\n",
       "ticker                                           REE            REE   \n",
       "Net Profit/Loss before tax             2118013069944  1721146987668   \n",
       "Depreciation and Amortisation           161304336971   130117592892   \n",
       "Provision for credit losses            -181821279821    63225518370   \n",
       "Unrealized foreign exchange gain/loss      180374946      283085334   \n",
       "\n",
       "yearReport                                      2016           2015  \\\n",
       "ticker                                           REE            REE   \n",
       "Net Profit/Loss before tax             1375753903562  1045676170298   \n",
       "Depreciation and Amortisation           139556922833   132711178140   \n",
       "Provision for credit losses              -7712055856     8470325013   \n",
       "Unrealized foreign exchange gain/loss      279701943      -29384453   \n",
       "\n",
       "yearReport                                      2014           2013  \n",
       "ticker                                           REE            REE  \n",
       "Net Profit/Loss before tax             1262427405945  1087556959984  \n",
       "Depreciation and Amortisation            57142979454    61183861575  \n",
       "Provision for credit losses             -26958372500    36502068928  \n",
       "Unrealized foreign exchange gain/loss     1641418011     4239193028  "
      ]
     },
     "execution_count": 3,
     "metadata": {},
     "output_type": "execute_result"
    }
   ],
   "source": [
    "#CashFlow\n",
    "CashFlow_transposed = CashFlow.T\n",
    "CashFlow_transposed.columns = CashFlow['yearReport']\n",
    "# Drop the duplicate 'yearReport' row\n",
    "CashFlow_transposed = CashFlow_transposed.drop('yearReport')\n",
    "CashFlow_transposed.head()"
   ]
  },
  {
   "cell_type": "markdown",
   "id": "1171ea66-1e7e-40f5-ae55-39adeb523c9c",
   "metadata": {},
   "source": [
    "# Convert the built-in visulization method to seaborn for a more polished look"
   ]
  },
  {
   "cell_type": "code",
   "execution_count": 4,
   "id": "298c3d6b-f113-42e0-b0c6-95eb6c2d3ac1",
   "metadata": {},
   "outputs": [],
   "source": [
    "Ratio = stock.finance.ratio(period='year', dropna=True)\n"
   ]
  },
  {
   "cell_type": "markdown",
   "id": "182c0a03-f27c-4178-9fdd-be3290e0e92f",
   "metadata": {},
   "source": [
    "### Transpose the data frame to display on the web."
   ]
  },
  {
   "cell_type": "code",
   "execution_count": 5,
   "id": "2e2e3524-7d39-48e6-895e-efeead4fa027",
   "metadata": {},
   "outputs": [],
   "source": [
    "Ratio_transposed = Ratio.T\n",
    "Ratio_transposed.columns=Ratio_transposed.iloc[1]\n",
    "Ratio_transposed = Ratio_transposed.iloc[3:]"
   ]
  },
  {
   "cell_type": "code",
   "execution_count": 6,
   "id": "8c64d7d4-ee62-4a14-b923-42382561a910",
   "metadata": {},
   "outputs": [],
   "source": [
    "# Example: Select the 'ROE (%)' column under 'Chỉ tiêu khả năng sinh lợi'\n",
    "dividend_yield = Ratio[('Chỉ tiêu khả năng sinh lợi', 'Dividend yield (%)')]\n",
    "Outstanding_Shares = Ratio[('Chỉ tiêu định giá', 'Outstanding Share (Mil. Shares)')]\n"
   ]
  },
  {
   "cell_type": "markdown",
   "id": "58def4c9-c6cc-427a-8328-8d06b431991b",
   "metadata": {},
   "source": [
    "### Transform the balance sheet from long format to wide format. "
   ]
  },
  {
   "cell_type": "code",
   "execution_count": 7,
   "id": "ae5877c5-c76e-4165-be7b-dd247488f726",
   "metadata": {},
   "outputs": [],
   "source": [
    "def BS_wide(stock=None):\n",
    "    \"\"\"\n",
    "    Transform balance sheet data into a wide format with years as columns and metrics as rows.\n",
    "    \n",
    "    Parameters:\n",
    "    -----------\n",
    "    stock : object, default=None\n",
    "        The stock ticker object containing financial data.\n",
    "        If None, will create a default stock object for REE from VCI source.\n",
    "    \n",
    "    Returns:\n",
    "    --------\n",
    "    pandas.DataFrame\n",
    "        Transformed balance sheet with years as columns and financial metrics as rows\n",
    "    \"\"\"\n",
    "    \n",
    "    # Create default stock object if not provided\n",
    "    if stock is None:\n",
    "        stock = Vnstock().stock(symbol='REE', source='VCI')\n",
    "    \n",
    "    # Get the balance sheet data\n",
    "    BS = stock.finance.balance_sheet(period='year', lang='en', dropna=True)\n",
    "    \n",
    "    # Transpose the DataFrame\n",
    "    BS_wide = BS.T\n",
    "    \n",
    "    # Promote header by setting column names using the second row (index 1)\n",
    "    BS_wide.columns = BS_wide.iloc[1]\n",
    "    \n",
    "    # Keep only the data rows (skip the first 3 rows)\n",
    "    BS_wide = BS_wide.iloc[3:]\n",
    "    \n",
    "    return BS_wide"
   ]
  },
  {
   "cell_type": "code",
   "execution_count": 8,
   "id": "e1e76c39-5962-428b-9d2e-36f522923d30",
   "metadata": {},
   "outputs": [
    {
     "data": {
      "text/html": [
       "<div>\n",
       "<style scoped>\n",
       "    .dataframe tbody tr th:only-of-type {\n",
       "        vertical-align: middle;\n",
       "    }\n",
       "\n",
       "    .dataframe tbody tr th {\n",
       "        vertical-align: top;\n",
       "    }\n",
       "\n",
       "    .dataframe thead th {\n",
       "        text-align: right;\n",
       "    }\n",
       "</style>\n",
       "<table border=\"1\" class=\"dataframe\">\n",
       "  <thead>\n",
       "    <tr style=\"text-align: right;\">\n",
       "      <th>yearReport</th>\n",
       "      <th>2024</th>\n",
       "      <th>2023</th>\n",
       "      <th>2022</th>\n",
       "      <th>2021</th>\n",
       "      <th>2020</th>\n",
       "      <th>2019</th>\n",
       "      <th>2018</th>\n",
       "      <th>2017</th>\n",
       "      <th>2016</th>\n",
       "      <th>2015</th>\n",
       "      <th>2014</th>\n",
       "      <th>2013</th>\n",
       "    </tr>\n",
       "  </thead>\n",
       "  <tbody>\n",
       "    <tr>\n",
       "      <th>Cash and cash equivalents (Bn. VND)</th>\n",
       "      <td>5635908856765</td>\n",
       "      <td>3022796235406</td>\n",
       "      <td>1151270686145</td>\n",
       "      <td>1830901134902</td>\n",
       "      <td>651668665185</td>\n",
       "      <td>1539577051904</td>\n",
       "      <td>1865096744967</td>\n",
       "      <td>2397186656336</td>\n",
       "      <td>960027120496</td>\n",
       "      <td>1419715236964</td>\n",
       "      <td>1036655683725</td>\n",
       "      <td>535795614565</td>\n",
       "    </tr>\n",
       "    <tr>\n",
       "      <th>Short-term investments (Bn. VND)</th>\n",
       "      <td>1060073372989</td>\n",
       "      <td>1132366903888</td>\n",
       "      <td>1749361611727</td>\n",
       "      <td>913528242575</td>\n",
       "      <td>1328559221660</td>\n",
       "      <td>1221295628590</td>\n",
       "      <td>1138925962847</td>\n",
       "      <td>516561743653</td>\n",
       "      <td>749169998917</td>\n",
       "      <td>381491325362</td>\n",
       "      <td>249589701655</td>\n",
       "      <td>416693781070</td>\n",
       "    </tr>\n",
       "    <tr>\n",
       "      <th>Accounts receivable (Bn. VND)</th>\n",
       "      <td>3129681988376</td>\n",
       "      <td>3780066002722</td>\n",
       "      <td>4013295895776</td>\n",
       "      <td>2986542167652</td>\n",
       "      <td>3082281525922</td>\n",
       "      <td>2137973891941</td>\n",
       "      <td>1965707145074</td>\n",
       "      <td>1130676903999</td>\n",
       "      <td>1148403790279</td>\n",
       "      <td>1368936569867</td>\n",
       "      <td>1029983840576</td>\n",
       "      <td>1002628925985</td>\n",
       "    </tr>\n",
       "    <tr>\n",
       "      <th>Net Inventories</th>\n",
       "      <td>1276815964044</td>\n",
       "      <td>1353834235393</td>\n",
       "      <td>1408572015872</td>\n",
       "      <td>799900814968</td>\n",
       "      <td>807507044477</td>\n",
       "      <td>987203880889</td>\n",
       "      <td>969073762968</td>\n",
       "      <td>1555629874625</td>\n",
       "      <td>1230323799872</td>\n",
       "      <td>547093860649</td>\n",
       "      <td>598432151160</td>\n",
       "      <td>544225294953</td>\n",
       "    </tr>\n",
       "    <tr>\n",
       "      <th>Other current assets</th>\n",
       "      <td>183295042421</td>\n",
       "      <td>235115020118</td>\n",
       "      <td>250979175707</td>\n",
       "      <td>275099902031</td>\n",
       "      <td>138617308711</td>\n",
       "      <td>112997235133</td>\n",
       "      <td>48880854277</td>\n",
       "      <td>51296869224</td>\n",
       "      <td>17305145779</td>\n",
       "      <td>30168992774</td>\n",
       "      <td>13932647991</td>\n",
       "      <td>62597867219</td>\n",
       "    </tr>\n",
       "  </tbody>\n",
       "</table>\n",
       "</div>"
      ],
      "text/plain": [
       "yearReport                                    2024           2023  \\\n",
       "Cash and cash equivalents (Bn. VND)  5635908856765  3022796235406   \n",
       "Short-term investments (Bn. VND)     1060073372989  1132366903888   \n",
       "Accounts receivable (Bn. VND)        3129681988376  3780066002722   \n",
       "Net Inventories                      1276815964044  1353834235393   \n",
       "Other current assets                  183295042421   235115020118   \n",
       "\n",
       "yearReport                                    2022           2021  \\\n",
       "Cash and cash equivalents (Bn. VND)  1151270686145  1830901134902   \n",
       "Short-term investments (Bn. VND)     1749361611727   913528242575   \n",
       "Accounts receivable (Bn. VND)        4013295895776  2986542167652   \n",
       "Net Inventories                      1408572015872   799900814968   \n",
       "Other current assets                  250979175707   275099902031   \n",
       "\n",
       "yearReport                                    2020           2019  \\\n",
       "Cash and cash equivalents (Bn. VND)   651668665185  1539577051904   \n",
       "Short-term investments (Bn. VND)     1328559221660  1221295628590   \n",
       "Accounts receivable (Bn. VND)        3082281525922  2137973891941   \n",
       "Net Inventories                       807507044477   987203880889   \n",
       "Other current assets                  138617308711   112997235133   \n",
       "\n",
       "yearReport                                    2018           2017  \\\n",
       "Cash and cash equivalents (Bn. VND)  1865096744967  2397186656336   \n",
       "Short-term investments (Bn. VND)     1138925962847   516561743653   \n",
       "Accounts receivable (Bn. VND)        1965707145074  1130676903999   \n",
       "Net Inventories                       969073762968  1555629874625   \n",
       "Other current assets                   48880854277    51296869224   \n",
       "\n",
       "yearReport                                    2016           2015  \\\n",
       "Cash and cash equivalents (Bn. VND)   960027120496  1419715236964   \n",
       "Short-term investments (Bn. VND)      749169998917   381491325362   \n",
       "Accounts receivable (Bn. VND)        1148403790279  1368936569867   \n",
       "Net Inventories                      1230323799872   547093860649   \n",
       "Other current assets                   17305145779    30168992774   \n",
       "\n",
       "yearReport                                    2014           2013  \n",
       "Cash and cash equivalents (Bn. VND)  1036655683725   535795614565  \n",
       "Short-term investments (Bn. VND)      249589701655   416693781070  \n",
       "Accounts receivable (Bn. VND)        1029983840576  1002628925985  \n",
       "Net Inventories                       598432151160   544225294953  \n",
       "Other current assets                   13932647991    62597867219  "
      ]
     },
     "execution_count": 8,
     "metadata": {},
     "output_type": "execute_result"
    }
   ],
   "source": [
    "BalanceSheet = stock.finance.balance_sheet(period='year', lang='en', dropna=True)\n",
    "BalanceSheet_Transposed = BalanceSheet.T\n",
    "BalanceSheet_Transposed.columns = BalanceSheet_Transposed.iloc[1]\n",
    "BalanceSheet_Transposed = BalanceSheet_Transposed.iloc[3:]\n",
    "BalanceSheet_Transposed.head()"
   ]
  },
  {
   "cell_type": "markdown",
   "id": "e4aeeace-b3d9-4895-ad30-6b3e0f470af6",
   "metadata": {},
   "source": [
    "### Transform Income statement from long format to wide format. "
   ]
  },
  {
   "cell_type": "code",
   "execution_count": 9,
   "id": "9ce33326-5577-4946-94ce-8ffa2eaa7c91",
   "metadata": {},
   "outputs": [
    {
     "data": {
      "text/html": [
       "<div>\n",
       "<style scoped>\n",
       "    .dataframe tbody tr th:only-of-type {\n",
       "        vertical-align: middle;\n",
       "    }\n",
       "\n",
       "    .dataframe tbody tr th {\n",
       "        vertical-align: top;\n",
       "    }\n",
       "\n",
       "    .dataframe thead th {\n",
       "        text-align: right;\n",
       "    }\n",
       "</style>\n",
       "<table border=\"1\" class=\"dataframe\">\n",
       "  <thead>\n",
       "    <tr style=\"text-align: right;\">\n",
       "      <th>yearReport</th>\n",
       "      <th>2024</th>\n",
       "      <th>2023</th>\n",
       "      <th>2022</th>\n",
       "      <th>2021</th>\n",
       "      <th>2020</th>\n",
       "      <th>2019</th>\n",
       "      <th>2018</th>\n",
       "      <th>2017</th>\n",
       "      <th>2016</th>\n",
       "      <th>2015</th>\n",
       "      <th>2014</th>\n",
       "      <th>2013</th>\n",
       "    </tr>\n",
       "  </thead>\n",
       "  <tbody>\n",
       "    <tr>\n",
       "      <th>Revenue (Bn. VND)</th>\n",
       "      <td>8394604176003</td>\n",
       "      <td>8579347840237</td>\n",
       "      <td>9377949892489</td>\n",
       "      <td>5815207697974</td>\n",
       "      <td>5644088890450</td>\n",
       "      <td>4896700913533</td>\n",
       "      <td>5104605853407</td>\n",
       "      <td>4999235436523</td>\n",
       "      <td>3663193468551</td>\n",
       "      <td>2645193904607</td>\n",
       "      <td>2630675383788</td>\n",
       "      <td>2414569501626</td>\n",
       "    </tr>\n",
       "    <tr>\n",
       "      <th>Attribute to parent company (Bn. VND)</th>\n",
       "      <td>1993385852649</td>\n",
       "      <td>2188316658468</td>\n",
       "      <td>2692516590418</td>\n",
       "      <td>1855079628131</td>\n",
       "      <td>1628076208584</td>\n",
       "      <td>1638893522530</td>\n",
       "      <td>1783971852557</td>\n",
       "      <td>1377087391977</td>\n",
       "      <td>1093237014487</td>\n",
       "      <td>853082411270</td>\n",
       "      <td>1061971178941</td>\n",
       "      <td>975819282949</td>\n",
       "    </tr>\n",
       "    <tr>\n",
       "      <th>Attribute to parent company YoY (%)</th>\n",
       "      <td>-0.089078</td>\n",
       "      <td>-0.18726</td>\n",
       "      <td>0.451429</td>\n",
       "      <td>0.13943</td>\n",
       "      <td>-0.0066</td>\n",
       "      <td>-0.081323</td>\n",
       "      <td>0.295467</td>\n",
       "      <td>0.259642</td>\n",
       "      <td>0.281514</td>\n",
       "      <td>-0.196699</td>\n",
       "      <td>0.088287</td>\n",
       "      <td>0.0</td>\n",
       "    </tr>\n",
       "    <tr>\n",
       "      <th>Financial Income</th>\n",
       "      <td>317755694465</td>\n",
       "      <td>227055551430</td>\n",
       "      <td>186791709886</td>\n",
       "      <td>466044378716</td>\n",
       "      <td>221805860261</td>\n",
       "      <td>441971991367</td>\n",
       "      <td>303525295129</td>\n",
       "      <td>174539941233</td>\n",
       "      <td>176056435309</td>\n",
       "      <td>427537034206</td>\n",
       "      <td>459521649291</td>\n",
       "      <td>352660891530</td>\n",
       "    </tr>\n",
       "    <tr>\n",
       "      <th>Interest Expenses</th>\n",
       "      <td>-737977126660</td>\n",
       "      <td>-938879965835</td>\n",
       "      <td>-882746948990</td>\n",
       "      <td>-663213132564</td>\n",
       "      <td>-416425845956</td>\n",
       "      <td>-409016686932</td>\n",
       "      <td>-224927404624</td>\n",
       "      <td>-104642480959</td>\n",
       "      <td>-60159491918</td>\n",
       "      <td>-73966770226</td>\n",
       "      <td>-37413873577</td>\n",
       "      <td>-57146113236</td>\n",
       "    </tr>\n",
       "  </tbody>\n",
       "</table>\n",
       "</div>"
      ],
      "text/plain": [
       "yearReport                                      2024           2023  \\\n",
       "Revenue (Bn. VND)                      8394604176003  8579347840237   \n",
       "Attribute to parent company (Bn. VND)  1993385852649  2188316658468   \n",
       "Attribute to parent company YoY (%)        -0.089078       -0.18726   \n",
       "Financial Income                        317755694465   227055551430   \n",
       "Interest Expenses                      -737977126660  -938879965835   \n",
       "\n",
       "yearReport                                      2022           2021  \\\n",
       "Revenue (Bn. VND)                      9377949892489  5815207697974   \n",
       "Attribute to parent company (Bn. VND)  2692516590418  1855079628131   \n",
       "Attribute to parent company YoY (%)         0.451429        0.13943   \n",
       "Financial Income                        186791709886   466044378716   \n",
       "Interest Expenses                      -882746948990  -663213132564   \n",
       "\n",
       "yearReport                                      2020           2019  \\\n",
       "Revenue (Bn. VND)                      5644088890450  4896700913533   \n",
       "Attribute to parent company (Bn. VND)  1628076208584  1638893522530   \n",
       "Attribute to parent company YoY (%)          -0.0066      -0.081323   \n",
       "Financial Income                        221805860261   441971991367   \n",
       "Interest Expenses                      -416425845956  -409016686932   \n",
       "\n",
       "yearReport                                      2018           2017  \\\n",
       "Revenue (Bn. VND)                      5104605853407  4999235436523   \n",
       "Attribute to parent company (Bn. VND)  1783971852557  1377087391977   \n",
       "Attribute to parent company YoY (%)         0.295467       0.259642   \n",
       "Financial Income                        303525295129   174539941233   \n",
       "Interest Expenses                      -224927404624  -104642480959   \n",
       "\n",
       "yearReport                                      2016           2015  \\\n",
       "Revenue (Bn. VND)                      3663193468551  2645193904607   \n",
       "Attribute to parent company (Bn. VND)  1093237014487   853082411270   \n",
       "Attribute to parent company YoY (%)         0.281514      -0.196699   \n",
       "Financial Income                        176056435309   427537034206   \n",
       "Interest Expenses                       -60159491918   -73966770226   \n",
       "\n",
       "yearReport                                      2014           2013  \n",
       "Revenue (Bn. VND)                      2630675383788  2414569501626  \n",
       "Attribute to parent company (Bn. VND)  1061971178941   975819282949  \n",
       "Attribute to parent company YoY (%)         0.088287            0.0  \n",
       "Financial Income                        459521649291   352660891530  \n",
       "Interest Expenses                       -37413873577   -57146113236  "
      ]
     },
     "execution_count": 9,
     "metadata": {},
     "output_type": "execute_result"
    }
   ],
   "source": [
    "IncomeStatement = stock.finance.income_statement(period='year', lang='en', dropna=True)\n",
    "IncomeStatement_Transpose= IncomeStatement.T\n",
    "IncomeStatement_Transpose.columns = IncomeStatement_Transpose.iloc[1]\n",
    "IncomeStatement_Transpose = IncomeStatement_Transpose.iloc[3:]\n",
    "IncomeStatement_Transpose.head()"
   ]
  },
  {
   "cell_type": "code",
   "execution_count": 10,
   "id": "b2596e4e-ddac-4b3f-9ac0-c21d6a8f838c",
   "metadata": {},
   "outputs": [],
   "source": [
    "# import os\n",
    "# import pandas as pd\n",
    "\n",
    "# def save_financial_statements_to_csv(balance_sheet_df, income_statement_df, cashflow_df, output_dir='./outputs'):\n",
    "#     \"\"\"\n",
    "#     Save financial statements DataFrames to CSV files in the specified output directory.\n",
    "    \n",
    "#     Parameters:\n",
    "#     -----------\n",
    "#     balance_sheet_df : pandas.DataFrame\n",
    "#         Balance Sheet DataFrame\n",
    "#     income_statement_df : pandas.DataFrame\n",
    "#         Income Statement DataFrame\n",
    "#     cashflow_df : pandas.DataFrame\n",
    "#         Cash Flow Statement DataFrame\n",
    "#     output_dir : str\n",
    "#         Directory path where CSV files will be saved (default: './outputs')\n",
    "#     \"\"\"\n",
    "    \n",
    "#     # Create output directory if it doesn't exist\n",
    "#     try:\n",
    "#         os.makedirs(output_dir, exist_ok=True)\n",
    "#         print(f\"Output directory '{output_dir}' is ready.\")\n",
    "#     except Exception as e:\n",
    "#         print(f\"Error creating directory: {e}\")\n",
    "#         return\n",
    "    \n",
    "#     # Dictionary of DataFrames and their corresponding filenames\n",
    "#     statements = {\n",
    "#         'REE_BalanceSheet_Transposed.csv': balance_sheet_df,\n",
    "#         'REE_IncomeStatement_Transpose.csv': income_statement_df,\n",
    "#         'REE_CashFlow_transposed.csv': cashflow_df\n",
    "#     }\n",
    "    \n",
    "#     # Save each DataFrame to CSV\n",
    "#     for filename, df in statements.items():\n",
    "#         try:\n",
    "#             file_path = os.path.join(output_dir, filename)\n",
    "#             df.to_csv(file_path)\n",
    "#             print(f\"Successfully saved {filename}\")\n",
    "#         except Exception as e:\n",
    "#             print(f\"Error saving {filename}: {e}\")\n",
    "\n",
    "# # Example usage:\n",
    "# # save_financial_statements_to_csv(\n",
    "# #     BalanceSheet_Transposed,\n",
    "# #     IncomeStatement_Transpose,\n",
    "# #     CashFlow_transposed\n",
    "# # )"
   ]
  },
  {
   "cell_type": "code",
   "execution_count": 11,
   "id": "066f7e8d-1241-42d9-bee8-3bc1cc582616",
   "metadata": {},
   "outputs": [
    {
     "name": "stderr",
     "output_type": "stream",
     "text": [
      "2025-05-21 17:44:05 - vnstock.common.data.data_explorer - INFO - TCBS không cung cấp thông tin danh sách. Dữ liệu tự động trả về từ VCI.\n"
     ]
    }
   ],
   "source": [
    "from vnstock import Vnstock\n",
    "import warnings\n",
    "warnings.filterwarnings(\"ignore\")\n",
    "symbol = 'REE'\n",
    "company = Vnstock().stock(symbol=symbol, source='TCBS').company\n",
    "\n"
   ]
  },
  {
   "cell_type": "markdown",
   "id": "9a83ee14-3aae-4eff-a277-38233aa589c6",
   "metadata": {},
   "source": [
    "# Event Impact Analysis"
   ]
  },
  {
   "cell_type": "code",
   "execution_count": null,
   "id": "a29e6f17-2e2e-47a6-9212-366e95c68f38",
   "metadata": {},
   "outputs": [
    {
     "name": "stdout",
     "output_type": "stream",
     "text": [
      "          id                                        event_title  \\\n",
      "14     30225   REE-Trả cổ tức Đợt 1, 2017 bằng tiền 1600 VND/CP   \n",
      "15     30226  REE - Trả cổ tức Đợt 1, 2018 bằng tiền 1800 VN...   \n",
      "16     30227  REE - Trả cổ tức Đợt 1, 2019 bằng tiền 1600 VN...   \n",
      "17   5784800  REE - Trả cổ tức Cả năm năm 2021 bằng tiền 100...   \n",
      "18  18503180  REE - Trả cổ tức Đợt 1 năm 2022 bằng tiền 1000...   \n",
      "22  36274685  REE - Trả cổ tức Cả năm năm 2023 bằng tiền 100...   \n",
      "23  51209466  REE - Trả cổ tức Đợt 1 năm 2024 bằng tiền 1000...   \n",
      "\n",
      "                                      en__event_title public_date  issue_date  \\\n",
      "14  REE-Pays Interim 1, 2017 cash dividend at VND1...  2018-02-05  2018-04-27   \n",
      "15  REE - Pays Interim 1, 2018 cash dividend at VN...  2019-02-15  2019-04-05   \n",
      "16  REE - Pays Interim 1, 2019 cash dividend at VN...  2020-02-14  2020-04-10   \n",
      "17  REE - Pay cash dividend 2021 - Year at VND 100...  2022-04-07  2022-04-29   \n",
      "18  REE - Pay cash dividend 2022 - Interim 1 at VN...  2023-02-06  2023-04-07   \n",
      "22  REE - Pay cash dividend 2023 - Year at VND 100...  2024-04-04  2024-04-26   \n",
      "23  REE - Pay cash dividend 2024 - Interim 1 at VN...  2025-02-06  2025-04-04   \n",
      "\n",
      "                                           source_url event_list_code  ratio  \\\n",
      "14  http://cmsv5.stoxplus.com/medialib/Crawler/201...             DIV   0.16   \n",
      "15  http://cmsv5.stoxplus.com/medialib/Crawler/201...             DIV   0.18   \n",
      "16  http://fiinpro.com/News/Detail/4463039?lang=vi-VN             DIV   0.16   \n",
      "17  http://fiinpro.com/News/Detail/10275048?lang=v...             DIV   0.10   \n",
      "18  http://fiinpro.com/News/Detail/10679983?lang=v...             DIV   0.10   \n",
      "22  http://fiinpro.com/News/Detail/11141877?lang=v...             DIV   0.10   \n",
      "23  http://fiinpro.com/News/Detail/11453656?lang=v...             DIV   0.10   \n",
      "\n",
      "     value record_date exright_date           event_list_name  \\\n",
      "14  1600.0  2018-03-01   2018-02-28  Trả cổ tức bằng tiền mặt   \n",
      "15  1800.0  2019-02-27   2019-02-26  Trả cổ tức bằng tiền mặt   \n",
      "16  1600.0  2020-03-03   2020-03-02  Trả cổ tức bằng tiền mặt   \n",
      "17  1000.0  2022-04-20   2022-04-19  Trả cổ tức bằng tiền mặt   \n",
      "18  1000.0  2023-03-01   2023-02-28  Trả cổ tức bằng tiền mặt   \n",
      "22  1000.0  2024-04-15   2024-04-12  Trả cổ tức bằng tiền mặt   \n",
      "23  1000.0  2025-02-28   2025-02-27  Trả cổ tức bằng tiền mặt   \n",
      "\n",
      "   en__event_list_name  \n",
      "14       Cash Dividend  \n",
      "15       Cash Dividend  \n",
      "16       Cash Dividend  \n",
      "17       Cash Dividend  \n",
      "18       Cash Dividend  \n",
      "22       Cash Dividend  \n",
      "23       Cash Dividend  \n"
     ]
    }
   ],
   "source": [
    "events = stock.company.events()\n",
    "dividend_events = events[events['event_list_name'] == 'Trả cổ tức bằng tiền mặt']\n",
    "dividend_events = dividend_events.dropna()\n"
   ]
  },
  {
   "cell_type": "code",
   "execution_count": 13,
   "id": "c0fbdd62-ca3c-47d9-a74f-d0930483b992",
   "metadata": {},
   "outputs": [],
   "source": [
    "# Convert from object to datetime\n",
    "dividend_events['exright_date'] = pd.to_datetime(dividend_events['exright_date'])\n",
    "dividend_events = dividend_events.set_index('exright_date')"
   ]
  },
  {
   "cell_type": "code",
   "execution_count": 14,
   "id": "d17680d1-0d33-4d61-962b-63c582327a36",
   "metadata": {},
   "outputs": [],
   "source": [
    "# Loop through each dividend event\n",
    "for index, event in dividend_events.iterrows():\n",
    "    # Since exright_date is now the index, we use the index directly\n",
    "    exright_date = index\n",
    "    \n",
    "    # Calculate the time window (30 days before and after the ex-dividend date)\n",
    "    exercise_start_date = exright_date - pd.Timedelta(days=30)\n",
    "    exercise_end_date = exright_date + pd.Timedelta(days=30)\n",
    "    \n",
    "    # Convert dates to the required string format 'YYYY-MM-DD'\n",
    "    exercise_start_str = exercise_start_date.strftime('%Y-%m-%d')\n",
    "    exercise_end_str = exercise_end_date.strftime('%Y-%m-%d')\n",
    "    \n",
    "    # Get price history around the event\n",
    "    event_prices = stock.quote.history(start=exercise_start_str, end=exercise_end_str, interval='1D')"
   ]
  },
  {
   "cell_type": "code",
   "execution_count": 15,
   "id": "0be8674e-68dd-4488-b988-32d497e33024",
   "metadata": {},
   "outputs": [
    {
     "data": {
      "application/vnd.plotly.v1+json": {
       "config": {
        "plotlyServerURL": "https://plot.ly"
       },
       "data": [
        {
         "close": {
          "bdata": "CtejcD0aUEBmZmZmZkZQQGZmZmZmZlBAZmZmZmZGUEApXI/C9XhQQClcj8L1eFBAhetRuB6lUECF61G4HsVQQB+F61G4vlBAhetRuB6lUEDD9Shcj3JQQIXrUbgepVBArkfhehTOUUBI4XoUrsdRQOF6FK5HwVFAH4XrUbh+UkDD9Shcj1JSQGZmZmZmJlJAAAAAAACAUkCamZmZmRlSQGZmZmZmJlJAZmZmZmZGUkBmZmZmZkZSQM3MzMzMbFJAMzMzMzNTUkAAAAAAAMBSQGZmZmZmplJAMzMzMzNzUkDNzMzMzAxSQJqZmZmZuVFAMzMzMzOzUUAzMzMzM9NRQGZmZmZmhlFAAAAAAADgUUAAAAAAAOBRQAAAAAAAAFJAAAAAAAAgUkBmZmZmZiZSQGZmZmZmRlJAmpmZmZm5UUA=",
          "dtype": "f8"
         },
         "high": {
          "bdata": "CtejcD0aUEAAAAAAAGBQQMP1KFyPclBAKVyPwvV4UEAfhetRuJ5QQI/C9Shcf1BAhetRuB6lUECuR+F6FN5QQK5H4XoU3lBA4XoUrkfRUEC4HoXrUbhQQOxRuB6Fq1BArkfhehTOUUAAAAAAACBSQKRwPQrX81FArkfhehS+UkBSuB6F65FSQB+F61G4flJAzczMzMysUkDNzMzMzIxSQJqZmZmZOVJAZmZmZmZmUkCamZmZmZlSQDMzMzMzs1JAmpmZmZl5UkDNzMzMzOxSQJqZmZmZuVJAAAAAAADAUkDNzMzMzIxSQAAAAAAAIFJAmpmZmZn5UUBmZmZmZgZSQDMzMzMz01FAzczMzMzsUUAAAAAAACBSQAAAAAAAAFJAAAAAAABAUkAAAAAAAGBSQAAAAAAAYFJAmpmZmZlZUkA=",
          "dtype": "f8"
         },
         "low": {
          "bdata": "XI/C9SjcT0BxPQrXoyBQQGZmZmZmRlBAZmZmZmZGUEAzMzMzM1NQQAAAAAAAYFBAw/UoXI9yUECF61G4HqVQQIXrUbgepVBAH4XrUbieUEDD9Shcj3JQQFyPwvUobFBAhetRuB6lUEBI4XoUrsdRQFyPwvUofFFA7FG4HoWbUUApXI/C9ThSQDMzMzMzE1JAAAAAAAAgUkAAAAAAAABSQJqZmZmZ+VFAZmZmZmbmUUAzMzMzMxNSQGZmZmZmRlJAAAAAAABAUkDNzMzMzCxSQDMzMzMzc1JAZmZmZmZmUkBmZmZmZgZSQGZmZmZmplFAmpmZmZmZUUAAAAAAAKBRQGZmZmZmZlFAzczMzMyMUUBmZmZmZsZRQAAAAAAAoFFAAAAAAADgUUBmZmZmZgZSQAAAAAAAAFJAmpmZmZm5UUA=",
          "dtype": "f8"
         },
         "open": {
          "bdata": "pHA9CtcTUECkcD0K1zNQQM3MzMzMTFBAKVyPwvV4UEAzMzMzM1NQQI/C9Shcf1BA9ihcj8KFUEC4HoXrUbhQQIXrUbgexVBAH4XrUbi+UEAfhetRuJ5QQFyPwvUobFBAUrgeheuxUEAAAAAAACBSQEjhehSux1FAFK5H4Xq0UUAfhetRuH5SQMP1KFyPUlJAAAAAAABAUkAAAAAAAIBSQJqZmZmZOVJAAAAAAAAAUkDNzMzMzExSQAAAAAAAYFJAmpmZmZl5UkBmZmZmZmZSQDMzMzMzc1JAZmZmZmamUkDNzMzMzIxSQAAAAAAAAFJAmpmZmZm5UUAAAAAAAKBRQAAAAAAAwFFAAAAAAADAUUCamZmZmflRQAAAAAAA4FFAmpmZmZkZUkBmZmZmZiZSQAAAAAAAAFJAmpmZmZlZUkA=",
          "dtype": "f8"
         },
         "type": "candlestick",
         "x": {
          "bdata": "AAECAwQFBgcICQoLDA0ODxAREhMUFRYXGBkaGxwdHh8gISIjJCUmJw==",
          "dtype": "i1"
         }
        }
       ],
       "layout": {
        "template": {
         "data": {
          "bar": [
           {
            "error_x": {
             "color": "#2a3f5f"
            },
            "error_y": {
             "color": "#2a3f5f"
            },
            "marker": {
             "line": {
              "color": "#E5ECF6",
              "width": 0.5
             },
             "pattern": {
              "fillmode": "overlay",
              "size": 10,
              "solidity": 0.2
             }
            },
            "type": "bar"
           }
          ],
          "barpolar": [
           {
            "marker": {
             "line": {
              "color": "#E5ECF6",
              "width": 0.5
             },
             "pattern": {
              "fillmode": "overlay",
              "size": 10,
              "solidity": 0.2
             }
            },
            "type": "barpolar"
           }
          ],
          "carpet": [
           {
            "aaxis": {
             "endlinecolor": "#2a3f5f",
             "gridcolor": "white",
             "linecolor": "white",
             "minorgridcolor": "white",
             "startlinecolor": "#2a3f5f"
            },
            "baxis": {
             "endlinecolor": "#2a3f5f",
             "gridcolor": "white",
             "linecolor": "white",
             "minorgridcolor": "white",
             "startlinecolor": "#2a3f5f"
            },
            "type": "carpet"
           }
          ],
          "choropleth": [
           {
            "colorbar": {
             "outlinewidth": 0,
             "ticks": ""
            },
            "type": "choropleth"
           }
          ],
          "contour": [
           {
            "colorbar": {
             "outlinewidth": 0,
             "ticks": ""
            },
            "colorscale": [
             [
              0,
              "#0d0887"
             ],
             [
              0.1111111111111111,
              "#46039f"
             ],
             [
              0.2222222222222222,
              "#7201a8"
             ],
             [
              0.3333333333333333,
              "#9c179e"
             ],
             [
              0.4444444444444444,
              "#bd3786"
             ],
             [
              0.5555555555555556,
              "#d8576b"
             ],
             [
              0.6666666666666666,
              "#ed7953"
             ],
             [
              0.7777777777777778,
              "#fb9f3a"
             ],
             [
              0.8888888888888888,
              "#fdca26"
             ],
             [
              1,
              "#f0f921"
             ]
            ],
            "type": "contour"
           }
          ],
          "contourcarpet": [
           {
            "colorbar": {
             "outlinewidth": 0,
             "ticks": ""
            },
            "type": "contourcarpet"
           }
          ],
          "heatmap": [
           {
            "colorbar": {
             "outlinewidth": 0,
             "ticks": ""
            },
            "colorscale": [
             [
              0,
              "#0d0887"
             ],
             [
              0.1111111111111111,
              "#46039f"
             ],
             [
              0.2222222222222222,
              "#7201a8"
             ],
             [
              0.3333333333333333,
              "#9c179e"
             ],
             [
              0.4444444444444444,
              "#bd3786"
             ],
             [
              0.5555555555555556,
              "#d8576b"
             ],
             [
              0.6666666666666666,
              "#ed7953"
             ],
             [
              0.7777777777777778,
              "#fb9f3a"
             ],
             [
              0.8888888888888888,
              "#fdca26"
             ],
             [
              1,
              "#f0f921"
             ]
            ],
            "type": "heatmap"
           }
          ],
          "histogram": [
           {
            "marker": {
             "pattern": {
              "fillmode": "overlay",
              "size": 10,
              "solidity": 0.2
             }
            },
            "type": "histogram"
           }
          ],
          "histogram2d": [
           {
            "colorbar": {
             "outlinewidth": 0,
             "ticks": ""
            },
            "colorscale": [
             [
              0,
              "#0d0887"
             ],
             [
              0.1111111111111111,
              "#46039f"
             ],
             [
              0.2222222222222222,
              "#7201a8"
             ],
             [
              0.3333333333333333,
              "#9c179e"
             ],
             [
              0.4444444444444444,
              "#bd3786"
             ],
             [
              0.5555555555555556,
              "#d8576b"
             ],
             [
              0.6666666666666666,
              "#ed7953"
             ],
             [
              0.7777777777777778,
              "#fb9f3a"
             ],
             [
              0.8888888888888888,
              "#fdca26"
             ],
             [
              1,
              "#f0f921"
             ]
            ],
            "type": "histogram2d"
           }
          ],
          "histogram2dcontour": [
           {
            "colorbar": {
             "outlinewidth": 0,
             "ticks": ""
            },
            "colorscale": [
             [
              0,
              "#0d0887"
             ],
             [
              0.1111111111111111,
              "#46039f"
             ],
             [
              0.2222222222222222,
              "#7201a8"
             ],
             [
              0.3333333333333333,
              "#9c179e"
             ],
             [
              0.4444444444444444,
              "#bd3786"
             ],
             [
              0.5555555555555556,
              "#d8576b"
             ],
             [
              0.6666666666666666,
              "#ed7953"
             ],
             [
              0.7777777777777778,
              "#fb9f3a"
             ],
             [
              0.8888888888888888,
              "#fdca26"
             ],
             [
              1,
              "#f0f921"
             ]
            ],
            "type": "histogram2dcontour"
           }
          ],
          "mesh3d": [
           {
            "colorbar": {
             "outlinewidth": 0,
             "ticks": ""
            },
            "type": "mesh3d"
           }
          ],
          "parcoords": [
           {
            "line": {
             "colorbar": {
              "outlinewidth": 0,
              "ticks": ""
             }
            },
            "type": "parcoords"
           }
          ],
          "pie": [
           {
            "automargin": true,
            "type": "pie"
           }
          ],
          "scatter": [
           {
            "fillpattern": {
             "fillmode": "overlay",
             "size": 10,
             "solidity": 0.2
            },
            "type": "scatter"
           }
          ],
          "scatter3d": [
           {
            "line": {
             "colorbar": {
              "outlinewidth": 0,
              "ticks": ""
             }
            },
            "marker": {
             "colorbar": {
              "outlinewidth": 0,
              "ticks": ""
             }
            },
            "type": "scatter3d"
           }
          ],
          "scattercarpet": [
           {
            "marker": {
             "colorbar": {
              "outlinewidth": 0,
              "ticks": ""
             }
            },
            "type": "scattercarpet"
           }
          ],
          "scattergeo": [
           {
            "marker": {
             "colorbar": {
              "outlinewidth": 0,
              "ticks": ""
             }
            },
            "type": "scattergeo"
           }
          ],
          "scattergl": [
           {
            "marker": {
             "colorbar": {
              "outlinewidth": 0,
              "ticks": ""
             }
            },
            "type": "scattergl"
           }
          ],
          "scattermap": [
           {
            "marker": {
             "colorbar": {
              "outlinewidth": 0,
              "ticks": ""
             }
            },
            "type": "scattermap"
           }
          ],
          "scattermapbox": [
           {
            "marker": {
             "colorbar": {
              "outlinewidth": 0,
              "ticks": ""
             }
            },
            "type": "scattermapbox"
           }
          ],
          "scatterpolar": [
           {
            "marker": {
             "colorbar": {
              "outlinewidth": 0,
              "ticks": ""
             }
            },
            "type": "scatterpolar"
           }
          ],
          "scatterpolargl": [
           {
            "marker": {
             "colorbar": {
              "outlinewidth": 0,
              "ticks": ""
             }
            },
            "type": "scatterpolargl"
           }
          ],
          "scatterternary": [
           {
            "marker": {
             "colorbar": {
              "outlinewidth": 0,
              "ticks": ""
             }
            },
            "type": "scatterternary"
           }
          ],
          "surface": [
           {
            "colorbar": {
             "outlinewidth": 0,
             "ticks": ""
            },
            "colorscale": [
             [
              0,
              "#0d0887"
             ],
             [
              0.1111111111111111,
              "#46039f"
             ],
             [
              0.2222222222222222,
              "#7201a8"
             ],
             [
              0.3333333333333333,
              "#9c179e"
             ],
             [
              0.4444444444444444,
              "#bd3786"
             ],
             [
              0.5555555555555556,
              "#d8576b"
             ],
             [
              0.6666666666666666,
              "#ed7953"
             ],
             [
              0.7777777777777778,
              "#fb9f3a"
             ],
             [
              0.8888888888888888,
              "#fdca26"
             ],
             [
              1,
              "#f0f921"
             ]
            ],
            "type": "surface"
           }
          ],
          "table": [
           {
            "cells": {
             "fill": {
              "color": "#EBF0F8"
             },
             "line": {
              "color": "white"
             }
            },
            "header": {
             "fill": {
              "color": "#C8D4E3"
             },
             "line": {
              "color": "white"
             }
            },
            "type": "table"
           }
          ]
         },
         "layout": {
          "annotationdefaults": {
           "arrowcolor": "#2a3f5f",
           "arrowhead": 0,
           "arrowwidth": 1
          },
          "autotypenumbers": "strict",
          "coloraxis": {
           "colorbar": {
            "outlinewidth": 0,
            "ticks": ""
           }
          },
          "colorscale": {
           "diverging": [
            [
             0,
             "#8e0152"
            ],
            [
             0.1,
             "#c51b7d"
            ],
            [
             0.2,
             "#de77ae"
            ],
            [
             0.3,
             "#f1b6da"
            ],
            [
             0.4,
             "#fde0ef"
            ],
            [
             0.5,
             "#f7f7f7"
            ],
            [
             0.6,
             "#e6f5d0"
            ],
            [
             0.7,
             "#b8e186"
            ],
            [
             0.8,
             "#7fbc41"
            ],
            [
             0.9,
             "#4d9221"
            ],
            [
             1,
             "#276419"
            ]
           ],
           "sequential": [
            [
             0,
             "#0d0887"
            ],
            [
             0.1111111111111111,
             "#46039f"
            ],
            [
             0.2222222222222222,
             "#7201a8"
            ],
            [
             0.3333333333333333,
             "#9c179e"
            ],
            [
             0.4444444444444444,
             "#bd3786"
            ],
            [
             0.5555555555555556,
             "#d8576b"
            ],
            [
             0.6666666666666666,
             "#ed7953"
            ],
            [
             0.7777777777777778,
             "#fb9f3a"
            ],
            [
             0.8888888888888888,
             "#fdca26"
            ],
            [
             1,
             "#f0f921"
            ]
           ],
           "sequentialminus": [
            [
             0,
             "#0d0887"
            ],
            [
             0.1111111111111111,
             "#46039f"
            ],
            [
             0.2222222222222222,
             "#7201a8"
            ],
            [
             0.3333333333333333,
             "#9c179e"
            ],
            [
             0.4444444444444444,
             "#bd3786"
            ],
            [
             0.5555555555555556,
             "#d8576b"
            ],
            [
             0.6666666666666666,
             "#ed7953"
            ],
            [
             0.7777777777777778,
             "#fb9f3a"
            ],
            [
             0.8888888888888888,
             "#fdca26"
            ],
            [
             1,
             "#f0f921"
            ]
           ]
          },
          "colorway": [
           "#636efa",
           "#EF553B",
           "#00cc96",
           "#ab63fa",
           "#FFA15A",
           "#19d3f3",
           "#FF6692",
           "#B6E880",
           "#FF97FF",
           "#FECB52"
          ],
          "font": {
           "color": "#2a3f5f"
          },
          "geo": {
           "bgcolor": "white",
           "lakecolor": "white",
           "landcolor": "#E5ECF6",
           "showlakes": true,
           "showland": true,
           "subunitcolor": "white"
          },
          "hoverlabel": {
           "align": "left"
          },
          "hovermode": "closest",
          "mapbox": {
           "style": "light"
          },
          "paper_bgcolor": "white",
          "plot_bgcolor": "#E5ECF6",
          "polar": {
           "angularaxis": {
            "gridcolor": "white",
            "linecolor": "white",
            "ticks": ""
           },
           "bgcolor": "#E5ECF6",
           "radialaxis": {
            "gridcolor": "white",
            "linecolor": "white",
            "ticks": ""
           }
          },
          "scene": {
           "xaxis": {
            "backgroundcolor": "#E5ECF6",
            "gridcolor": "white",
            "gridwidth": 2,
            "linecolor": "white",
            "showbackground": true,
            "ticks": "",
            "zerolinecolor": "white"
           },
           "yaxis": {
            "backgroundcolor": "#E5ECF6",
            "gridcolor": "white",
            "gridwidth": 2,
            "linecolor": "white",
            "showbackground": true,
            "ticks": "",
            "zerolinecolor": "white"
           },
           "zaxis": {
            "backgroundcolor": "#E5ECF6",
            "gridcolor": "white",
            "gridwidth": 2,
            "linecolor": "white",
            "showbackground": true,
            "ticks": "",
            "zerolinecolor": "white"
           }
          },
          "shapedefaults": {
           "line": {
            "color": "#2a3f5f"
           }
          },
          "ternary": {
           "aaxis": {
            "gridcolor": "white",
            "linecolor": "white",
            "ticks": ""
           },
           "baxis": {
            "gridcolor": "white",
            "linecolor": "white",
            "ticks": ""
           },
           "bgcolor": "#E5ECF6",
           "caxis": {
            "gridcolor": "white",
            "linecolor": "white",
            "ticks": ""
           }
          },
          "title": {
           "x": 0.05
          },
          "xaxis": {
           "automargin": true,
           "gridcolor": "white",
           "linecolor": "white",
           "ticks": "",
           "title": {
            "standoff": 15
           },
           "zerolinecolor": "white",
           "zerolinewidth": 2
          },
          "yaxis": {
           "automargin": true,
           "gridcolor": "white",
           "linecolor": "white",
           "ticks": "",
           "title": {
            "standoff": 15
           },
           "zerolinecolor": "white",
           "zerolinewidth": 2
          }
         }
        },
        "title": {
         "text": "Candlestick Chart"
        },
        "xaxis": {
         "title": {
          "text": "Date"
         }
        },
        "yaxis": {
         "title": {
          "text": "Price"
         }
        }
       }
      }
     },
     "metadata": {},
     "output_type": "display_data"
    }
   ],
   "source": [
    "import plotly.graph_objects as go\n",
    "\n",
    "# Create a candlestick chart\n",
    "fig = go.Figure(data=[go.Candlestick(\n",
    "    x=event_prices.index,\n",
    "    open=event_prices['open'],\n",
    "    high=event_prices['high'],\n",
    "    low=event_prices['low'],\n",
    "    close=event_prices['close']\n",
    ")])\n",
    "\n",
    "# Update layout\n",
    "fig.update_layout(\n",
    "    title='Candlestick Chart',\n",
    "    yaxis_title='Price',\n",
    "    xaxis_title='Date'\n",
    ")\n",
    "\n",
    "fig.show()"
   ]
  },
  {
   "cell_type": "code",
   "execution_count": 16,
   "id": "e554e025-b49a-4641-b5c0-4c9494b25c53",
   "metadata": {},
   "outputs": [
    {
     "data": {
      "image/png": "[encoded data removed]",
      "text/plain": [
       "<Figure size 1400x800 with 1 Axes>"
      ]
     },
     "metadata": {},
     "output_type": "display_data"
    }
   ],
   "source": [
    "# Import required libraries\n",
    "import matplotlib.pyplot as plt\n",
    "import seaborn as sns\n",
    "import numpy as np\n",
    "\n",
    "# Set the style for seaborn\n",
    "sns.set_style(\"darkgrid\")\n",
    "plt.figure(figsize=(14, 8))\n",
    "\n",
    "# Create a line chart with seaborn for the price data\n",
    "sns.lineplot(data=event_prices['close'], linewidth=2, label='Close Price')\n",
    "\n",
    "# Annotate the exright dates\n",
    "for date in dividend_events.index:\n",
    "    if date in event_prices.index or np.datetime64(date) in event_prices.index:\n",
    "        # Find the corresponding price on that date\n",
    "        if date in event_prices.index:\n",
    "            price = event_prices.loc[date, 'close']\n",
    "        else:\n",
    "            # Find the closest date if exact match not found\n",
    "            closest_date = event_prices.index[event_prices.index.get_indexer([date], method='nearest')[0]]\n",
    "            price = event_prices.loc[closest_date, 'close']\n",
    "        \n",
    "        # Annotate the exright date with a vertical line\n",
    "        plt.axvline(x=date, color='red', linestyle='--', alpha=0.7)\n",
    "        plt.annotate('Ex-Right Date', \n",
    "                     xy=(date, price),\n",
    "                     xytext=(date, price*1.05),  # Slightly above the price\n",
    "                     arrowprops=dict(facecolor='red', shrink=0.05),\n",
    "                     fontsize=10,\n",
    "                     ha='center')\n",
    "        \n",
    "        # Add markers for exercise start and end dates\n",
    "        start_date = date - pd.Timedelta(days=30)\n",
    "        end_date = date + pd.Timedelta(days=30)\n",
    "        \n",
    "        # Find prices for start and end dates\n",
    "        if start_date in event_prices.index:\n",
    "            start_price = event_prices.loc[start_date, 'close']\n",
    "        else:\n",
    "            closest_start = event_prices.index[event_prices.index.get_indexer([start_date], method='nearest')[0]]\n",
    "            start_price = event_prices.loc[closest_start, 'close']\n",
    "            \n",
    "        if end_date in event_prices.index:\n",
    "            end_price = event_prices.loc[end_date, 'close']\n",
    "        else:\n",
    "            closest_end = event_prices.index[event_prices.index.get_indexer([end_date], method='nearest')[0]]\n",
    "            end_price = event_prices.loc[closest_end, 'close']\n",
    "        \n",
    "        # Annotate exercise start and end dates\n",
    "        plt.axvline(x=start_date, color='green', linestyle=':', alpha=0.5)\n",
    "        plt.annotate('Exercise Start', \n",
    "                     xy=(start_date, start_price),\n",
    "                     xytext=(start_date, start_price*0.95),\n",
    "                     arrowprops=dict(facecolor='green', shrink=0.05),\n",
    "                     fontsize=9,\n",
    "                     ha='center')\n",
    "        \n",
    "        plt.axvline(x=end_date, color='blue', linestyle=':', alpha=0.5)\n",
    "        plt.annotate('Exercise End', \n",
    "                     xy=(end_date, end_price),\n",
    "                     xytext=(end_date, end_price*0.95),\n",
    "                     arrowprops=dict(facecolor='blue', shrink=0.05),\n",
    "                     fontsize=9,\n",
    "                     ha='center')\n",
    "\n",
    "# Customize the plot\n",
    "plt.title('Stock Price with Ex-Right Date Annotations', fontsize=16)\n",
    "plt.xlabel('Date', fontsize=12)\n",
    "plt.ylabel('Price', fontsize=12)\n",
    "plt.xticks(rotation=45)\n",
    "plt.tight_layout()\n",
    "plt.legend()\n",
    "\n",
    "# Display the plot\n",
    "plt.show()"
   ]
  },
  {
   "cell_type": "code",
   "execution_count": 17,
   "id": "55831a8f-eefa-4f8a-bd1f-af948b4f2758",
   "metadata": {},
   "outputs": [
    {
     "data": {
      "text/plain": [
       "0    -1026622785445\n",
       "1     -886399583241\n",
       "2     -574485123284\n",
       "3      -85585440392\n",
       "4     -604308347572\n",
       "5     -619965858741\n",
       "6     -601660154901\n",
       "7     -597101775379\n",
       "8     -293364286368\n",
       "9     -509787632500\n",
       "10    -419830953186\n",
       "11    -386733996880\n",
       "Name: Dividends paid, dtype: int64"
      ]
     },
     "execution_count": 17,
     "metadata": {},
     "output_type": "execute_result"
    }
   ],
   "source": [
    "CashFlow['Dividends paid']"
   ]
  },
  {
   "cell_type": "code",
   "execution_count": 19,
   "id": "ad9e5152-e258-4f3f-8dde-7ec5583d1a6e",
   "metadata": {},
   "outputs": [],
   "source": [
    "# Levered Free Cash Flow (accounts for debt repayments/receipts)\n",
    "CashFlow['Levered Free Cash Flow'] = (\n",
    "    CashFlow['Net cash inflows/outflows from operating activities'] \n",
    "    - CashFlow['Purchase of fixed assets']\n",
    "    + CashFlow['Proceeds from disposal of fixed assets']\n",
    "    - (CashFlow['Repayment of borrowings'] - CashFlow['Proceeds from borrowings'])\n",
    ")"
   ]
  },
  {
   "cell_type": "code",
   "execution_count": 20,
   "id": "b2f8d0d8-181c-418d-9dd1-445bc8aa30af",
   "metadata": {},
   "outputs": [],
   "source": [
    "dividend_coverage_ratio = CashFlow['Levered Free Cash Flow'] / CashFlow['Dividends paid'].abs()"
   ]
  },
  {
   "cell_type": "code",
   "execution_count": null,
   "id": "8150e311-b28b-4a2f-9a8f-f728304c0d42",
   "metadata": {},
   "outputs": [
    {
     "name": "stderr",
     "output_type": "stream",
     "text": [
      "2025-05-21 17:37:30 - vnstock.common.data.data_explorer - INFO - TCBS không cung cấp thông tin danh sách. Dữ liệu tự động trả về từ VCI.\n"
     ]
    },
    {
     "data": {
      "text/html": [
       "<div>\n",
       "<style scoped>\n",
       "    .dataframe tbody tr th:only-of-type {\n",
       "        vertical-align: middle;\n",
       "    }\n",
       "\n",
       "    .dataframe tbody tr th {\n",
       "        vertical-align: top;\n",
       "    }\n",
       "\n",
       "    .dataframe thead th {\n",
       "        text-align: right;\n",
       "    }\n",
       "</style>\n",
       "<table border=\"1\" class=\"dataframe\">\n",
       "  <thead>\n",
       "    <tr style=\"text-align: right;\">\n",
       "      <th></th>\n",
       "      <th>exercise_date</th>\n",
       "      <th>cash_year</th>\n",
       "      <th>cash_dividend_percentage</th>\n",
       "      <th>issue_method</th>\n",
       "    </tr>\n",
       "  </thead>\n",
       "  <tbody>\n",
       "    <tr>\n",
       "      <th>0</th>\n",
       "      <td>2025-02-27</td>\n",
       "      <td>2024</td>\n",
       "      <td>0.10</td>\n",
       "      <td>cash</td>\n",
       "    </tr>\n",
       "    <tr>\n",
       "      <th>1</th>\n",
       "      <td>2024-05-21</td>\n",
       "      <td>2024</td>\n",
       "      <td>0.15</td>\n",
       "      <td>share</td>\n",
       "    </tr>\n",
       "    <tr>\n",
       "      <th>2</th>\n",
       "      <td>2024-04-12</td>\n",
       "      <td>2023</td>\n",
       "      <td>0.10</td>\n",
       "      <td>cash</td>\n",
       "    </tr>\n",
       "    <tr>\n",
       "      <th>3</th>\n",
       "      <td>2023-05-19</td>\n",
       "      <td>2023</td>\n",
       "      <td>0.15</td>\n",
       "      <td>share</td>\n",
       "    </tr>\n",
       "    <tr>\n",
       "      <th>4</th>\n",
       "      <td>2023-02-28</td>\n",
       "      <td>2022</td>\n",
       "      <td>0.10</td>\n",
       "      <td>cash</td>\n",
       "    </tr>\n",
       "    <tr>\n",
       "      <th>5</th>\n",
       "      <td>2022-05-17</td>\n",
       "      <td>2022</td>\n",
       "      <td>0.15</td>\n",
       "      <td>share</td>\n",
       "    </tr>\n",
       "    <tr>\n",
       "      <th>6</th>\n",
       "      <td>2022-04-19</td>\n",
       "      <td>2021</td>\n",
       "      <td>0.10</td>\n",
       "      <td>cash</td>\n",
       "    </tr>\n",
       "    <tr>\n",
       "      <th>7</th>\n",
       "      <td>2020-03-02</td>\n",
       "      <td>2019</td>\n",
       "      <td>0.16</td>\n",
       "      <td>cash</td>\n",
       "    </tr>\n",
       "    <tr>\n",
       "      <th>8</th>\n",
       "      <td>2019-02-26</td>\n",
       "      <td>2018</td>\n",
       "      <td>0.18</td>\n",
       "      <td>cash</td>\n",
       "    </tr>\n",
       "    <tr>\n",
       "      <th>9</th>\n",
       "      <td>2018-02-28</td>\n",
       "      <td>2017</td>\n",
       "      <td>0.16</td>\n",
       "      <td>cash</td>\n",
       "    </tr>\n",
       "    <tr>\n",
       "      <th>10</th>\n",
       "      <td>2017-02-28</td>\n",
       "      <td>2016</td>\n",
       "      <td>0.16</td>\n",
       "      <td>cash</td>\n",
       "    </tr>\n",
       "    <tr>\n",
       "      <th>11</th>\n",
       "      <td>2016-05-11</td>\n",
       "      <td>2016</td>\n",
       "      <td>0.15</td>\n",
       "      <td>share</td>\n",
       "    </tr>\n",
       "    <tr>\n",
       "      <th>12</th>\n",
       "      <td>2016-02-26</td>\n",
       "      <td>2015</td>\n",
       "      <td>0.10</td>\n",
       "      <td>cash</td>\n",
       "    </tr>\n",
       "    <tr>\n",
       "      <th>13</th>\n",
       "      <td>2015-02-25</td>\n",
       "      <td>2014</td>\n",
       "      <td>0.16</td>\n",
       "      <td>cash</td>\n",
       "    </tr>\n",
       "    <tr>\n",
       "      <th>14</th>\n",
       "      <td>2014-02-19</td>\n",
       "      <td>2013</td>\n",
       "      <td>0.16</td>\n",
       "      <td>cash</td>\n",
       "    </tr>\n",
       "  </tbody>\n",
       "</table>\n",
       "</div>"
      ],
      "text/plain": [
       "   exercise_date  cash_year  cash_dividend_percentage issue_method\n",
       "0     2025-02-27       2024                      0.10         cash\n",
       "1     2024-05-21       2024                      0.15        share\n",
       "2     2024-04-12       2023                      0.10         cash\n",
       "3     2023-05-19       2023                      0.15        share\n",
       "4     2023-02-28       2022                      0.10         cash\n",
       "5     2022-05-17       2022                      0.15        share\n",
       "6     2022-04-19       2021                      0.10         cash\n",
       "7     2020-03-02       2019                      0.16         cash\n",
       "8     2019-02-26       2018                      0.18         cash\n",
       "9     2018-02-28       2017                      0.16         cash\n",
       "10    2017-02-28       2016                      0.16         cash\n",
       "11    2016-05-11       2016                      0.15        share\n",
       "12    2016-02-26       2015                      0.10         cash\n",
       "13    2015-02-25       2014                      0.16         cash\n",
       "14    2014-02-19       2013                      0.16         cash"
      ]
     },
     "execution_count": 11,
     "metadata": {},
     "output_type": "execute_result"
    }
   ],
   "source": [
    "from vnstock import Vnstock\n",
    "company = Vnstock().stock(symbol=symbol,source=\"TCBS\").company\n",
    "company.dividends()"
   ]
  },
  {
   "cell_type": "code",
   "execution_count": null,
   "id": "053d8d48-a025-4a12-b1bb-32ad5e3926b3",
   "metadata": {},
   "outputs": [],
   "source": [
    "reciprocal_tariffs_date = '2025-04-02'\n",
    "baseline_tariffs_date = '2025-04-09'\n",
    "china_negotiation_date = '2025-05-12'\n",
    "deal_achieved_date = '2025-05-15'"
   ]
  }
 ],
 "metadata": {
  "kernelspec": {
   "display_name": ".venv",
   "language": "python",
   "name": "python3"
  },
  "language_info": {
   "codemirror_mode": {
    "name": "ipython",
    "version": 3
   },
   "file_extension": ".py",
   "mimetype": "text/x-python",
   "name": "python",
   "nbconvert_exporter": "python",
   "pygments_lexer": "ipython3",
   "version": "3.10.11"
  }
 },
 "nbformat": 4,
 "nbformat_minor": 5
}
