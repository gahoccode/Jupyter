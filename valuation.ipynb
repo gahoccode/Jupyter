{
 "cells": [
  {
   "cell_type": "markdown",
   "id": "cd127e40-2d71-4db5-939a-953847b6cb93",
   "metadata": {},
   "source": [
    "# Fundamental Analysis"
   ]
  },
  {
   "cell_type": "code",
   "execution_count": 1,
   "id": "1c195233-c614-4645-b75c-052f45038c7a",
   "metadata": {},
   "outputs": [
    {
     "data": {
      "text/html": [
       "<!DOCTYPE html>\n",
       "<html lang=\"vi\">\n",
       "<head>\n",
       "  <meta charset=\"UTF-8\">\n",
       "  <meta name=\"viewport\" content=\"width=device-width, initial-scale=1\">\n",
       "  <title>Vnstock – Còn <span id=\"starsLeft\">160</span> ⭐ nữa!</title>\n",
       "  <style>\n",
       "    /* Isolate ad container with theme-adaptive styling */\n",
       "    #vnstock-ad-container {\n",
       "      /* Use CSS variables for theming */\n",
       "      --vnstock-primary: #4CAF50;\n",
       "      --vnstock-hover: #8C52FF;\n",
       "      /* Theme-adaptive colors that inherit from parent */\n",
       "      --vnstock-bg: inherit;\n",
       "      --vnstock-border: rgba(125,125,125,0.3);\n",
       "      --vnstock-text: inherit;\n",
       "      --vnstock-secondary-text: inherit;\n",
       "      \n",
       "      /* Isolate container styles */\n",
       "      display: flex;\n",
       "      justify-content: center;\n",
       "      align-items: center;\n",
       "      padding: 16px;\n",
       "      box-sizing: border-box;\n",
       "      width: 100%;\n",
       "      max-width: 400px;\n",
       "      margin: 0 auto;\n",
       "    }\n",
       "    \n",
       "    /* Theme detection and adaptation */\n",
       "    @media (prefers-color-scheme: dark) {\n",
       "      #vnstock-ad-container {\n",
       "        --vnstock-border: rgba(125,125,125,0.3);\n",
       "      }\n",
       "    }\n",
       "    \n",
       "    /* Ad content styling */\n",
       "    #vnstock-ad-container .vnstock-ad {\n",
       "      width: 100%;\n",
       "      color: var(--vnstock-text);\n",
       "      background-color: var(--vnstock-bg);\n",
       "      border: 1px solid var(--vnstock-border);\n",
       "      border-radius: 8px;\n",
       "      box-shadow: 0 2px 8px rgba(0,0,0,0.08);\n",
       "      padding: 16px;\n",
       "      text-align: center;\n",
       "      font-family: -apple-system, BlinkMacSystemFont, 'Segoe UI', system-ui, sans-serif;\n",
       "    }\n",
       "    \n",
       "    #vnstock-ad-container .vnstock-ad h1 {\n",
       "      font-size: 18px;\n",
       "      margin-top: 0;\n",
       "      margin-bottom: 16px;\n",
       "      line-height: 1.3;\n",
       "    }\n",
       "    \n",
       "    #vnstock-ad-container .vnstock-progress {\n",
       "      background: rgba(125,125,125,0.2);\n",
       "      border-radius: 10px;\n",
       "      overflow: hidden;\n",
       "      height: 10px;\n",
       "      margin-bottom: 8px;\n",
       "    }\n",
       "    \n",
       "    #vnstock-ad-container .vnstock-progress .vnstock-fill {\n",
       "      width: 80%; /* default 80% */\n",
       "      height: 100%;\n",
       "      background: var(--vnstock-primary);\n",
       "      transition: width 1s ease-out;\n",
       "    }\n",
       "    \n",
       "    #vnstock-ad-container .vnstock-progress-text {\n",
       "      font-size: 12px;\n",
       "      opacity: 0.7;\n",
       "      margin-bottom: 16px;\n",
       "    }\n",
       "    \n",
       "    #vnstock-ad-container .vnstock-description {\n",
       "      font-size: 14px;\n",
       "      line-height: 1.5;\n",
       "      margin-bottom: 20px;\n",
       "      text-align: left;\n",
       "    }\n",
       "    \n",
       "    #vnstock-ad-container .vnstock-btn {\n",
       "      display: inline-block;\n",
       "      padding: 8px 18px;\n",
       "      background: var(--vnstock-primary);\n",
       "      color: white;\n",
       "      text-decoration: none;\n",
       "      font-weight: bold;\n",
       "      border-radius: 20px;\n",
       "      transition: background 0.3s;\n",
       "    }\n",
       "    \n",
       "    #vnstock-ad-container .vnstock-btn:hover {\n",
       "      background: var(--vnstock-hover);\n",
       "    }\n",
       "  </style>\n",
       "</head>\n",
       "<body>\n",
       "  <!-- Isolated container with theme-adaptive styling -->\n",
       "  <div id=\"vnstock-ad-container\">\n",
       "    <div class=\"vnstock-ad\">\n",
       "      <h1 id=\"vnstock-ad-title\">\n",
       "        Còn <span id=\"vnstock-stars-left\">160</span> ⭐ nữa để chạm mốc 1.000!\n",
       "      </h1>\n",
       "\n",
       "      <div class=\"vnstock-progress\">\n",
       "        <div class=\"vnstock-fill\"></div>\n",
       "      </div>\n",
       "      <div class=\"vnstock-progress-text\" id=\"vnstock-progress-text\">840 / 1000 ⭐</div>\n",
       "\n",
       "      <p class=\"vnstock-description\">\n",
       "        Mỗi ⭐ của bạn tiếp sức cho Vnstock phát triển nhanh hơn, mạnh mẽ hơn và duy trì nguồn mở.\n",
       "      </p>\n",
       "\n",
       "      <a href=\"https://github.com/thinh-vu/vnstock\" target=\"_blank\" class=\"vnstock-btn\">\n",
       "        ⭐ Thả Star Ngay!\n",
       "      </a>\n",
       "    </div>\n",
       "  </div>\n",
       "\n",
       "  <script>\n",
       "    // Use immediately invoked function to avoid global scope pollution\n",
       "    (function() {\n",
       "      // Wait for DOM to be ready\n",
       "      document.addEventListener('DOMContentLoaded', () => {\n",
       "        // Fetch star count from GitHub API\n",
       "        fetch('https://api.github.com/repos/thinh-vu/vnstock')\n",
       "          .then(res => res.json())\n",
       "          .then(data => {\n",
       "            const count = data.stargazers_count || 0;\n",
       "            const left = Math.max(1000 - count, 0);\n",
       "            const pct = Math.min((count / 1000) * 100, 100);\n",
       "\n",
       "            // Update UI elements\n",
       "            document.querySelector('#vnstock-ad-container .vnstock-fill')\n",
       "                   .style.width = pct + '%';\n",
       "            document.getElementById('vnstock-progress-text')\n",
       "                   .textContent = `${count} / 1000 ⭐`;\n",
       "            document.getElementById('vnstock-stars-left')\n",
       "                   .textContent = left;\n",
       "          })\n",
       "          .catch(() => {\n",
       "            // Keep defaults if fetch fails\n",
       "          });\n",
       "      });\n",
       "    })();\n",
       "  </script>\n",
       "</body>\n",
       "</html>"
      ],
      "text/plain": [
       "<IPython.core.display.HTML object>"
      ]
     },
     "metadata": {},
     "output_type": "display_data"
    },
    {
     "data": {
      "text/markdown": [
       "Phiên bản Vnstock 3.2.5 đã có mặt, vui lòng cập nhật với câu lệnh : `pip install vnstock --upgrade`.\n",
       "Lịch sử phiên bản: https://vnstocks.com/docs/tai-lieu/lich-su-phien-ban\n",
       "Phiên bản hiện tại 3.2.2"
      ],
      "text/plain": [
       "<IPython.core.display.Markdown object>"
      ]
     },
     "metadata": {},
     "output_type": "display_data"
    }
   ],
   "source": [
    "import pandas as pd\n",
    "from vnstock import Vnstock\n",
    "# Set date range\n",
    "start_date = '2024-01-01'\n",
    "end_date = '2025-03-19'\n",
    "interval = '1D'\n",
    "symbol='REE'\n",
    "stock = Vnstock().stock(symbol=symbol, source='VCI')\n",
    "candle_df = stock.quote.history(start= start_date, end= end_date)"
   ]
  },
  {
   "cell_type": "code",
   "execution_count": 2,
   "id": "67c75c90-fd3b-421b-8dbd-cdbc543002c2",
   "metadata": {},
   "outputs": [],
   "source": [
    "CashFlow = stock.finance.cash_flow(period='year')\n",
    "#CashFlow.to_csv('./outputs/CashFlow.csv')"
   ]
  },
  {
   "cell_type": "markdown",
   "id": "e5a565ce-abe1-47c7-bedd-7834b6d0cb81",
   "metadata": {},
   "source": [
    "## Transpose the CF dataframe "
   ]
  },
  {
   "cell_type": "code",
   "execution_count": 3,
   "id": "e3833014-82cd-484b-b7ac-ba82e8ee14e7",
   "metadata": {},
   "outputs": [],
   "source": [
    "#CashFlow\n",
    "CashFlow_transposed = CashFlow.T\n",
    "CashFlow_transposed.columns = CashFlow['yearReport']\n",
    "# Drop the duplicate 'yearReport' row\n",
    "CashFlow_transposed = CashFlow_transposed.drop('yearReport')\n"
   ]
  },
  {
   "cell_type": "markdown",
   "id": "1171ea66-1e7e-40f5-ae55-39adeb523c9c",
   "metadata": {},
   "source": [
    "# Convert the built-in visulization method to seaborn for a more polished look"
   ]
  },
  {
   "cell_type": "code",
   "execution_count": 4,
   "id": "a25ffa0d-35b9-4fd3-a35c-58901e0a1d14",
   "metadata": {},
   "outputs": [
    {
     "data": {
      "image/png": "[encoded data removed]",
      "text/plain": [
       "<Figure size 1200x600 with 1 Axes>"
      ]
     },
     "metadata": {},
     "output_type": "display_data"
    }
   ],
   "source": [
    "import seaborn as sns\n",
    "import matplotlib.pyplot as plt\n",
    "import pandas as pd\n",
    "import numpy as np\n",
    "\n",
    "# Assuming CashFlow is a DataFrame you already have\n",
    "# Normalize values to billions\n",
    "data = CashFlow['Net cash inflows/outflows from operating activities'] / 1000_000_000\n",
    "\n",
    "# Create figure with specified size\n",
    "plt.figure(figsize=(12, 6))\n",
    "\n",
    "# Sort data by year to ensure proper ordering\n",
    "sorted_indices = CashFlow['yearReport'].argsort()\n",
    "years = CashFlow['yearReport'].iloc[sorted_indices]\n",
    "sorted_data = data.iloc[sorted_indices]\n",
    "\n",
    "# Create the vertical bar plot with sorted data\n",
    "ax = sns.barplot(\n",
    "    x=years,                # Sorted years on x-axis\n",
    "    y=sorted_data,          # Sorted data values on y-axis\n",
    "    edgecolor='lightgrey',\n",
    "    width=0.7\n",
    ")\n",
    "\n",
    "# Set title and labels with specified font sizes\n",
    "plt.title('Net Operating Cashflow', fontsize=15)\n",
    "plt.xlabel('Years', fontsize=10)\n",
    "plt.ylabel('Value', fontsize=10)\n",
    "\n",
    "# Turn off grid\n",
    "plt.grid(False)\n",
    "\n",
    "# Add data labels with minimal gap above bars\n",
    "for i, v in enumerate(sorted_data):\n",
    "    # Much smaller offset - adjust the multiplier as needed\n",
    "    offset = 0.01 * max(sorted_data)\n",
    "    \n",
    "    ax.text(\n",
    "        i,                       # x position (bar index)\n",
    "        v + offset,              # Position with minimal gap\n",
    "        f'{v:.2f}',              # formatted value \n",
    "        ha='center',             # horizontal alignment\n",
    "        va='bottom',             # vertical alignment\n",
    "        fontsize=10\n",
    "    )\n",
    "\n",
    "# Adjust y-axis limit to make room for labels\n",
    "ymax = max(sorted_data) * 1.05  # Add just 5% padding to y-axis\n",
    "plt.ylim(0, ymax)\n",
    "\n",
    "# Rotate x-axis labels for better readability\n",
    "plt.xticks(rotation=45)\n",
    "\n",
    "# Adjust layout\n",
    "plt.tight_layout()\n",
    "\n",
    "# Save the seaborn figure\n",
    "#plt.savefig('./outputs/Net OCF.png', dpi=300, bbox_inches='tight')\n",
    "\n",
    "# Display the plot\n",
    "plt.show()"
   ]
  },
  {
   "cell_type": "code",
   "execution_count": 5,
   "id": "298c3d6b-f113-42e0-b0c6-95eb6c2d3ac1",
   "metadata": {},
   "outputs": [],
   "source": [
    "Ratio = stock.finance.ratio(period='year', lang='vi', dropna=True)"
   ]
  },
  {
   "cell_type": "markdown",
   "id": "182c0a03-f27c-4178-9fdd-be3290e0e92f",
   "metadata": {},
   "source": [
    "### Transpose the data frame to display on the web."
   ]
  },
  {
   "cell_type": "code",
   "execution_count": 6,
   "id": "2e2e3524-7d39-48e6-895e-efeead4fa027",
   "metadata": {},
   "outputs": [],
   "source": [
    "Ratio_transposed = Ratio.T\n",
    "Ratio_transposed.columns=Ratio_transposed.iloc[1]\n",
    "Ratio_transposed = Ratio_transposed.iloc[3:]"
   ]
  },
  {
   "cell_type": "code",
   "execution_count": 7,
   "id": "8c64d7d4-ee62-4a14-b923-42382561a910",
   "metadata": {},
   "outputs": [],
   "source": [
    "# Example: Select the 'ROE (%)' column under 'Chỉ tiêu khả năng sinh lợi'\n",
    "dividend_yield = Ratio[('Chỉ tiêu khả năng sinh lợi', 'Tỷ suất cổ tức (%)')]\n",
    "Outstanding_Shares = Ratio[('Chỉ tiêu định giá', 'Số CP lưu hành (Triệu CP)')]\n"
   ]
  },
  {
   "cell_type": "code",
   "execution_count": 8,
   "id": "35ccb588-cc7e-434f-a84b-2792edbba842",
   "metadata": {},
   "outputs": [
    {
     "data": {
      "image/png": "[encoded data removed]",
      "text/plain": [
       "<Figure size 1500x1500 with 27 Axes>"
      ]
     },
     "metadata": {},
     "output_type": "display_data"
    }
   ],
   "source": [
    "import seaborn as sns\n",
    "import matplotlib.pyplot as plt\n",
    "\n",
    "# Define the five most meaningful metrics (six columns for all pairwise relationships)\n",
    "selected_cols = [\n",
    "    ('Chỉ tiêu khả năng sinh lợi', 'ROE (%)'),\n",
    "    ('Chỉ tiêu cơ cấu nguồn vốn', 'Nợ/VCSH'),\n",
    "    ('Chỉ tiêu hiệu quả hoạt động', 'Vòng quay tài sản'),\n",
    "    ('Chỉ tiêu khả năng sinh lợi', 'Biên lợi nhuận ròng (%)'),\n",
    "    ('Chỉ tiêu thanh khoản', 'Chỉ số thanh toán hiện thời'),\n",
    "    ('Chỉ tiêu định giá', 'P/S'),\n",
    "]\n",
    "\n",
    "# Subset the DataFrame\n",
    "df_pair = Ratio[selected_cols].copy()\n",
    "\n",
    "# Use only the second part of each column tuple (the metric name)\n",
    "df_pair.columns = [col[1] for col in df_pair.columns]\n",
    "\n",
    "# Optional: Remove rows with missing values for these columns\n",
    "#df_pair = df_pair.dropna()\n",
    "\n",
    "# Create the pairplot\n",
    "sns.pairplot(df_pair, diag_kind='kde', corner=True)\n",
    "plt.suptitle('Pairplot of Key Financial Metrics', y=1.02)\n",
    "plt.tight_layout()\n",
    "plt.show()"
   ]
  },
  {
   "cell_type": "markdown",
   "id": "58def4c9-c6cc-427a-8328-8d06b431991b",
   "metadata": {},
   "source": [
    "### Transform the balance sheet from long format to wide format. "
   ]
  },
  {
   "cell_type": "code",
   "execution_count": 9,
   "id": "ae5877c5-c76e-4165-be7b-dd247488f726",
   "metadata": {},
   "outputs": [],
   "source": [
    "def BS_wide(stock=None):\n",
    "    \"\"\"\n",
    "    Transform balance sheet data into a wide format with years as columns and metrics as rows.\n",
    "    \n",
    "    Parameters:\n",
    "    -----------\n",
    "    stock : object, default=None\n",
    "        The stock ticker object containing financial data.\n",
    "        If None, will create a default stock object for REE from VCI source.\n",
    "    \n",
    "    Returns:\n",
    "    --------\n",
    "    pandas.DataFrame\n",
    "        Transformed balance sheet with years as columns and financial metrics as rows\n",
    "    \"\"\"\n",
    "    \n",
    "    # Create default stock object if not provided\n",
    "    if stock is None:\n",
    "        stock = Vnstock().stock(symbol= symbol, source='VCI')\n",
    "    \n",
    "    # Get the balance sheet data\n",
    "    BS = stock.finance.balance_sheet(period='year', lang='en', dropna=True)\n",
    "    \n",
    "    # Transpose the DataFrame\n",
    "    BS_wide = BS.T\n",
    "    \n",
    "    # Promote header by setting column names using the second row (index 1)\n",
    "    BS_wide.columns = BS_wide.iloc[1]\n",
    "    \n",
    "    # Keep only the data rows (skip the first 3 rows)\n",
    "    BS_wide = BS_wide.iloc[3:]\n",
    "    \n",
    "    return BS_wide"
   ]
  },
  {
   "cell_type": "code",
   "execution_count": 10,
   "id": "5c75999d-271f-4882-9985-ba6dddaada4d",
   "metadata": {},
   "outputs": [],
   "source": [
    "# BS_wide(stock)"
   ]
  },
  {
   "cell_type": "code",
   "execution_count": 11,
   "id": "e1e76c39-5962-428b-9d2e-36f522923d30",
   "metadata": {},
   "outputs": [],
   "source": [
    "BalanceSheet = stock.finance.balance_sheet(period='year', lang='en', dropna=True)\n",
    "BalanceSheet_Transposed = BalanceSheet.T\n",
    "BalanceSheet_Transposed.columns = BalanceSheet_Transposed.iloc[1]\n",
    "BalanceSheet_Transposed = BalanceSheet_Transposed.iloc[3:]\n"
   ]
  },
  {
   "cell_type": "markdown",
   "id": "e4aeeace-b3d9-4895-ad30-6b3e0f470af6",
   "metadata": {},
   "source": [
    "### Transform Income statement from long format to wide format. "
   ]
  },
  {
   "cell_type": "code",
   "execution_count": 12,
   "id": "9ce33326-5577-4946-94ce-8ffa2eaa7c91",
   "metadata": {},
   "outputs": [],
   "source": [
    "IncomeStatement = stock.finance.income_statement(period='year', lang='en', dropna=True)\n",
    "IncomeStatement_Transpose= IncomeStatement.T\n",
    "IncomeStatement_Transpose.columns = IncomeStatement_Transpose.iloc[1]\n",
    "IncomeStatement_Transpose = IncomeStatement_Transpose.iloc[3:]\n"
   ]
  },
  {
   "cell_type": "code",
   "execution_count": 13,
   "id": "b2596e4e-ddac-4b3f-9ac0-c21d6a8f838c",
   "metadata": {},
   "outputs": [],
   "source": [
    "# import os\n",
    "# import pandas as pd\n",
    "\n",
    "# def save_financial_statements_to_csv(balance_sheet_df, income_statement_df, cashflow_df, output_dir='./outputs'):\n",
    "#     \"\"\"\n",
    "#     Save financial statements DataFrames to CSV files in the specified output directory.\n",
    "    \n",
    "#     Parameters:\n",
    "#     -----------\n",
    "#     balance_sheet_df : pandas.DataFrame\n",
    "#         Balance Sheet DataFrame\n",
    "#     income_statement_df : pandas.DataFrame\n",
    "#         Income Statement DataFrame\n",
    "#     cashflow_df : pandas.DataFrame\n",
    "#         Cash Flow Statement DataFrame\n",
    "#     output_dir : str\n",
    "#         Directory path where CSV files will be saved (default: './outputs')\n",
    "#     \"\"\"\n",
    "    \n",
    "#     # Create output directory if it doesn't exist\n",
    "#     try:\n",
    "#         os.makedirs(output_dir, exist_ok=True)\n",
    "#         print(f\"Output directory '{output_dir}' is ready.\")\n",
    "#     except Exception as e:\n",
    "#         print(f\"Error creating directory: {e}\")\n",
    "#         return\n",
    "    \n",
    "#     # Dictionary of DataFrames and their corresponding filenames\n",
    "#     statements = {\n",
    "#         'REE_BalanceSheet_Transposed.csv': balance_sheet_df,\n",
    "#         'REE_IncomeStatement_Transpose.csv': income_statement_df,\n",
    "#         'REE_CashFlow_transposed.csv': cashflow_df\n",
    "#     }\n",
    "    \n",
    "#     # Save each DataFrame to CSV\n",
    "#     for filename, df in statements.items():\n",
    "#         try:\n",
    "#             file_path = os.path.join(output_dir, filename)\n",
    "#             df.to_csv(file_path)\n",
    "#             print(f\"Successfully saved {filename}\")\n",
    "#         except Exception as e:\n",
    "#             print(f\"Error saving {filename}: {e}\")\n",
    "\n",
    "# # Example usage:\n",
    "# # save_financial_statements_to_csv(\n",
    "# #     BalanceSheet_Transposed,\n",
    "# #     IncomeStatement_Transpose,\n",
    "# #     CashFlow_transposed\n",
    "# # )"
   ]
  },
  {
   "cell_type": "code",
   "execution_count": 14,
   "id": "066f7e8d-1241-42d9-bee8-3bc1cc582616",
   "metadata": {},
   "outputs": [
    {
     "name": "stderr",
     "output_type": "stream",
     "text": [
      "2025-05-17 15:56:09 - vnstock.common.data.data_explorer - INFO - TCBS không cung cấp thông tin danh sách. Dữ liệu tự động trả về từ VCI.\n"
     ]
    }
   ],
   "source": [
    "from vnstock import Vnstock\n",
    "import warnings\n",
    "warnings.filterwarnings(\"ignore\")\n",
    "company = Vnstock().stock(symbol=symbol, source='TCBS').company\n"
   ]
  },
  {
   "cell_type": "code",
   "execution_count": 22,
   "id": "69fea5c2-d98e-41da-abb0-0ef0e53c602c",
   "metadata": {},
   "outputs": [],
   "source": [
    "# Levered Free Cash Flow (accounts for debt repayments/receipts)\n",
    "CashFlow['Levered Free Cash Flow'] = (\n",
    "    CashFlow['Net cash inflows/outflows from operating activities'] \n",
    "    - CashFlow['Purchase of fixed assets']\n",
    "    + CashFlow['Proceeds from disposal of fixed assets']\n",
    "    - (CashFlow['Repayment of borrowings'] - CashFlow['Proceeds from borrowings'])\n",
    ")"
   ]
  },
  {
   "cell_type": "code",
   "execution_count": 23,
   "id": "b2f8d0d8-181c-418d-9dd1-445bc8aa30af",
   "metadata": {},
   "outputs": [],
   "source": [
    "dividend_coverage_ratio = CashFlow['Levered Free Cash Flow'] / CashFlow['Dividends paid'].abs()"
   ]
  },
  {
   "cell_type": "markdown",
   "id": "2f20a3d7-bd45-4cdd-aa60-13c7a64985e1",
   "metadata": {},
   "source": [
    "# Using Market value cost of debt"
   ]
  },
  {
   "cell_type": "code",
   "execution_count": 26,
   "id": "e26fdeb0-a756-400a-a9b2-8ca37e34c48f",
   "metadata": {},
   "outputs": [
    {
     "name": "stdout",
     "output_type": "stream",
     "text": [
      "Market-Based WACC Calculation Results:\n",
      "  ticker  yearReport  wacc_market_based\n",
      "0    REE        2024           0.076009\n",
      "1    REE        2023           0.076611\n",
      "2    REE        2022           0.076610\n",
      "3    REE        2021           0.080471\n",
      "4    REE        2020           0.078101\n",
      "\n",
      "Average Market-Based WACC by Year:\n",
      "0.07620044174041848\n"
     ]
    },
    {
     "data": {
      "image/png": "[encoded data removed]",
      "text/plain": [
       "<Figure size 1000x600 with 1 Axes>"
      ]
     },
     "metadata": {},
     "output_type": "display_data"
    }
   ],
   "source": [
    "# Step 1: Get book values from Balance Sheet\n",
    "short_term_debt = BalanceSheet['Short-term borrowings (Bn. VND)']\n",
    "long_term_debt = BalanceSheet['Long-term borrowings (Bn. VND)']\n",
    "total_debt = short_term_debt + long_term_debt\n",
    "book_equity = BalanceSheet[\"OWNER'S EQUITY(Bn.VND)\"]\n",
    "\n",
    "# Step 2: Get market values\n",
    "# Market capitalization for equity\n",
    "market_value_of_equity = Ratio[('Chỉ tiêu định giá', 'Vốn hóa (Tỷ đồng)')]  # Market capitalization\n",
    "\n",
    "# Use book value of debt as a proxy for market value of debt\n",
    "# (In practice, we'd prefer bond prices or yield-based valuation if available)\n",
    "market_value_of_debt = total_debt\n",
    "\n",
    "# Calculate total market capital and weights\n",
    "total_market_capital = market_value_of_equity + market_value_of_debt\n",
    "market_weight_of_debt = market_value_of_debt.div(total_market_capital).fillna(0)\n",
    "market_weight_of_equity = market_value_of_equity.div(total_market_capital).fillna(0)\n",
    "\n",
    "# Step 3: Market-based cost of debt\n",
    "# Option 1: If you have specific bond yield data (example values)\n",
    "# In reality, this would vary by company or be derived from external data sources\n",
    "base_interest_rate = 0.04  # e.g., Vietnamese government bond rate\n",
    "credit_spread = 0.03       # Credit spread based on company rating\n",
    "company_bond_yield = base_interest_rate + credit_spread  # = 0.05 (5%)\n",
    "\n",
    "# Option 2: Use credit rating to determine yield (if available)\n",
    "# This would be a mapping from credit ratings to yields\n",
    "# rating_to_yield = {'AAA': 0.035, 'AA': 0.04, 'A': 0.045, 'BBB': 0.05, 'BB': 0.06, 'B': 0.07}\n",
    "# company_bond_yield = rating_to_yield.get(company_rating, 0.05)  # Default to 5% if rating unknown\n",
    "\n",
    "# Use fixed rate for simplicity (you would replace this with company-specific data)\n",
    "market_cost_of_debt = 0.07  # 7% bond yield\n",
    "\n",
    "# Apply tax shield\n",
    "statutory_tax_rate = 0.12  # Vietnamese corporate tax rate\n",
    "after_tax_market_cost_of_debt = market_cost_of_debt * (1 - statutory_tax_rate)\n",
    "\n",
    "# Step 4: Cost of Equity using CAPM\n",
    "risk_free_rate = 0.03  # Vietnamese government bond yield\n",
    "\n",
    "# Option 1: If you have beta data from external sources\n",
    "# estimated_beta = external_beta_data  # This would be company-specific\n",
    "\n",
    "# Option 2: Estimate beta using financial leverage\n",
    "financial_leverage = Ratio[('Chỉ tiêu thanh khoản', 'Đòn bẩy tài chính')]\n",
    "leverage_mean = financial_leverage.mean()\n",
    "estimated_beta = 1.0 * financial_leverage.div(leverage_mean).fillna(1.0)  # Default to 1.0 if issues\n",
    "\n",
    "# Market risk premium\n",
    "market_risk_premium = 0.05  # Estimated risk premium for Vietnamese market\n",
    "\n",
    "# Calculate cost of equity using CAPM\n",
    "cost_of_equity = risk_free_rate + (estimated_beta * market_risk_premium)\n",
    "\n",
    "# Step 5: Calculate market-based WACC\n",
    "wacc_market_based = (market_weight_of_debt * after_tax_market_cost_of_debt) + (market_weight_of_equity * cost_of_equity)\n",
    "\n",
    "# Create a DataFrame with the results\n",
    "result_df = pd.DataFrame({\n",
    "    'ticker': BalanceSheet['ticker'],\n",
    "    'yearReport': BalanceSheet['yearReport'],\n",
    "    'market_cap': market_value_of_equity,\n",
    "    'market_debt': market_value_of_debt,\n",
    "    'market_weight_of_debt': market_weight_of_debt,\n",
    "    'market_weight_of_equity': market_weight_of_equity,\n",
    "    'market_cost_of_debt': after_tax_market_cost_of_debt,\n",
    "    'beta': estimated_beta,\n",
    "    'cost_of_equity': cost_of_equity,\n",
    "    'wacc_market_based': wacc_market_based\n",
    "})\n",
    "\n",
    "# Display first few rows to check the results\n",
    "print(\"Market-Based WACC Calculation Results:\")\n",
    "print(result_df[['ticker', 'yearReport', 'wacc_market_based']].head())\n",
    "\n",
    "\n",
    "# Calculate average\n",
    "avg_wacc_by_year = result_df['wacc_market_based'].mean()\n",
    "print(\"\\nAverage Market-Based WACC by Year:\")\n",
    "print(avg_wacc_by_year)\n",
    "\n",
    "# Optional: Visualize the distribution of market-based WACC\n",
    "import matplotlib.pyplot as plt\n",
    "import seaborn as sns\n",
    "\n",
    "plt.figure(figsize=(10, 6))\n",
    "sns.histplot(result_df['wacc_market_based'].dropna(), kde=True)\n",
    "plt.title('Distribution of Market-Based WACC')\n",
    "plt.xlabel('WACC')\n",
    "plt.ylabel('Frequency')\n",
    "plt.axvline(result_df['wacc_market_based'].mean(), color='red', linestyle='--', \n",
    "            label=f'Mean WACC: {result_df[\"wacc_market_based\"].mean():.2%}')\n",
    "plt.legend()\n",
    "plt.show()\n",
    "\n"
   ]
  },
  {
   "cell_type": "code",
   "execution_count": 27,
   "id": "25dae33c-7a47-4fce-aa53-a17d129730a8",
   "metadata": {},
   "outputs": [],
   "source": [
    "import pandas as pd\n",
    "import numpy as np\n",
    "\n",
    "def dcf_time_series(df, cash_flow_col, date_col, discount_rate, base_date=None):\n",
    "    \"\"\"\n",
    "    Calculate DCF using a pandas DataFrame with dates.\n",
    "    \n",
    "    Parameters:\n",
    "    df (DataFrame): DataFrame containing cash flows and dates\n",
    "    cash_flow_col (str): Column name for cash flows\n",
    "    date_col (str): Column name for dates\n",
    "    discount_rate (float): Annual discount rate\n",
    "    base_date (datetime, optional): Base date for discounting, defaults to min date\n",
    "    \n",
    "    Returns:\n",
    "    float: Present value of cash flows\n",
    "    \"\"\"\n",
    "    # Ensure dates are datetime objects\n",
    "    df[date_col] = pd.to_datetime(df[date_col])\n",
    "    \n",
    "    if base_date is None:\n",
    "        base_date = df[date_col].min()\n",
    "    \n",
    "    # Calculate years from base date\n",
    "    df['years'] = (df[date_col] - base_date).dt.days / 365.25\n",
    "    \n",
    "    # Calculate discount factors\n",
    "    df['discount_factor'] = 1 / (1 + discount_rate) ** df['years']\n",
    "    \n",
    "    # Calculate present values\n",
    "    df['present_value'] = df[cash_flow_col] * df['discount_factor']\n",
    "    \n",
    "    return df['present_value'].sum()"
   ]
  },
  {
   "cell_type": "code",
   "execution_count": 28,
   "id": "e671be69-8f9f-4e5c-a9f8-f12237182c63",
   "metadata": {},
   "outputs": [
    {
     "name": "stdout",
     "output_type": "stream",
     "text": [
      "  ticker    wacc      last_fcf  enterprise_value\n",
      "0    REE  0.0762  6.620514e+12      1.642414e+14\n"
     ]
    }
   ],
   "source": [
    "import pandas as pd\n",
    "\n",
    "def full_dcf_model(projected_fcf, terminal_growth_rate, wacc, terminal_year):\n",
    "    \"\"\"\n",
    "    Simple DCF model to calculate enterprise value.\n",
    "\n",
    "    :param projected_fcf: List of projected free cash flows for each forecast year.\n",
    "    :param terminal_growth_rate: Growth rate applied after the forecast period.\n",
    "    :param wacc: Weighted Average Cost of Capital used as the discount rate.\n",
    "    :param terminal_year: Number of years in the forecast period.\n",
    "    :return: Calculated enterprise value.\n",
    "    \"\"\"\n",
    "    # Calculate the PV of projected cash flows\n",
    "    present_value_fcf = sum(fcf / ((1 + wacc) ** (i + 1)) for i, fcf in enumerate(projected_fcf))\n",
    "    \n",
    "    # Calculate the terminal value\n",
    "    last_year_fcf = projected_fcf[-1]\n",
    "    terminal_value = last_year_fcf * (1 + terminal_growth_rate) / (wacc - terminal_growth_rate)\n",
    "    \n",
    "    # Present value of the terminal value\n",
    "    present_value_terminal = terminal_value / ((1 + wacc) ** terminal_year)\n",
    "    \n",
    "    # Total enterprise value is the sum of the PV of FCF and PV of terminal value\n",
    "    enterprise_value = present_value_fcf + present_value_terminal\n",
    "    \n",
    "    return enterprise_value\n",
    "\n",
    "# Ensure CashFlow is a properly defined DataFrame with 'Levered Free Cash Flow'\n",
    "# Example setup, ensure that 'CashFlow' exists with your data\n",
    "# CashFlow = pd.DataFrame({'Levered Free Cash Flow': [...]})\n",
    "\n",
    "# Extract the free cash flow for the stock\n",
    "free_cash_flow = CashFlow['Levered Free Cash Flow']\n",
    "\n",
    "# Determine whether to use the mean or a specific value of FCF\n",
    "# Calculate the mean directly if there are multiple entries for the stock\n",
    "ticker_fcf = free_cash_flow.mean() if len(free_cash_flow) > 1 else free_cash_flow.iloc[0]\n",
    "\n",
    "# Define your parameters\n",
    "forecast_years = 5\n",
    "terminal_growth_rate = 0.03  # Long-term growth rate\n",
    "growth_rates = [0.05, 0.06, 0.07, 0.05, 0.04]  # Growth rates for next 5 years\n",
    "\n",
    "# Retrieve WACC for this single stock from a relevant DataFrame\n",
    "# Ensure result_df is properly defined\n",
    "# result_df = pd.DataFrame({'wacc_market_based': [...]})\n",
    "ticker_wacc = result_df['wacc_market_based'].mean()  # Ensure result_df is defined and contains 'wacc_market_based'\n",
    "\n",
    "# Project future cash flows\n",
    "projected_fcf = []\n",
    "for i, growth in enumerate(growth_rates):\n",
    "    if i == 0:\n",
    "        projected_fcf.append(ticker_fcf * (1 + growth))\n",
    "    else:\n",
    "        projected_fcf.append(projected_fcf[i-1] * (1 + growth))\n",
    "\n",
    "# Calculate enterprise value for the single stock\n",
    "ev = full_dcf_model(projected_fcf, terminal_growth_rate, ticker_wacc, terminal_year=forecast_years)\n",
    "\n",
    "# Store the results\n",
    "enterprise_values = {\n",
    "    'ticker': symbol,  # Replace 'YOUR_TICKER' with the actual stock ticker\n",
    "    'wacc': ticker_wacc,\n",
    "    'last_fcf': ticker_fcf,\n",
    "    'enterprise_value': ev\n",
    "}\n",
    "\n",
    "# Convert to DataFrame if desired for structured display\n",
    "enterprise_values_df = pd.DataFrame([enterprise_values])\n",
    "\n",
    "# Display the result\n",
    "print(enterprise_values_df)"
   ]
  },
  {
   "cell_type": "code",
   "execution_count": 29,
   "id": "7ba43d4d-2b5d-4976-ab94-01b207407a57",
   "metadata": {},
   "outputs": [
    {
     "name": "stdout",
     "output_type": "stream",
     "text": [
      "0     348698.010348\n",
      "1     400868.242729\n",
      "2     460820.999382\n",
      "3     529710.537836\n",
      "4     529710.537836\n",
      "5     529710.537836\n",
      "6     529710.537836\n",
      "7     529710.537836\n",
      "8     529710.537836\n",
      "9     609166.154837\n",
      "10    610402.893001\n",
      "11    622866.574727\n",
      "Name: (Chỉ tiêu định giá, Số CP lưu hành (Triệu CP)), dtype: float64\n"
     ]
    }
   ],
   "source": [
    "#intrinsic_value = ev - net_debt / Outstanding_Shares\n",
    "intrinsic_value = ev / Outstanding_Shares\n",
    "print(intrinsic_value)"
   ]
  },
  {
   "cell_type": "code",
   "execution_count": 30,
   "id": "32aee211-e0da-4205-8f1b-41ea262e4e61",
   "metadata": {},
   "outputs": [
    {
     "data": {
      "application/vnd.plotly.v1+json": {
       "config": {
        "plotlyServerURL": "https://plot.ly"
       },
       "data": [
        {
         "connector": {
          "line": {
           "color": "rgb(63, 63, 63)"
          }
         },
         "measure": [
          "absolute",
          "relative",
          "relative",
          "relative",
          "relative",
          "relative",
          "relative",
          "relative",
          "relative",
          "relative",
          "relative",
          "relative",
          "relative",
          "relative",
          "relative",
          "relative",
          "relative",
          "relative",
          "relative",
          "relative",
          "total"
         ],
         "name": "Cashflow Waterfall for REE (2024)",
         "orientation": "v",
         "text": [
          "3,022,796,235,406.0",
          "3,819,192,785,268.0",
          "704,235,820,854.0",
          "29,619,952,766.0",
          "263,174,380,566.0",
          "-5,371,378,459.0",
          "-737,213,140,244.0",
          "-279,896,384,824.0",
          "0.0",
          "-10,215,797,049.0",
          "-1,035,028,113,142.0",
          "5,175,257,443.0",
          "-303,795,229,453.0",
          "173,730,186,148.0",
          "1,278,528,100,055.0",
          "27,719,600,000.0",
          "0.0",
          "3,451,719,075,110.0",
          "-3,827,973,059,400.0",
          "-1,026,622,785,445.0",
          "5,635,908,856,765.0"
         ],
         "textposition": "outside",
         "type": "waterfall",
         "x": [
          "Initial Balance",
          "Operating profit bef...",
          "Decrease in receivab...",
          "Decrease in inventor...",
          "Decrease in payables",
          "Decrease in prepaid ...",
          "Interest paid",
          "Business Income Tax ...",
          "Other receipts from ...",
          "Other payments on op...",
          "Purchase of fixed as...",
          "Proceeds from dispos...",
          "Investment in other ...",
          "Proceeds from divest...",
          "Gain on Dividend",
          "Increase in charter ...",
          "Payments for share r...",
          "Proceeds from borrow...",
          "Repayment of borrowi...",
          "Dividends paid",
          "Ending Balance"
         ],
         "y": [
          3022796235406,
          3819192785268,
          704235820854,
          29619952766,
          263174380566,
          -5371378459,
          -737213140244,
          -279896384824,
          0,
          -10215797049,
          -1035028113142,
          5175257443,
          -303795229453,
          173730186148,
          1278528100055,
          27719600000,
          0,
          3451719075110,
          -3827973059400,
          -1026622785445,
          5635908856765
         ]
        }
       ],
       "layout": {
        "height": 600,
        "showlegend": false,
        "template": {
         "data": {
          "bar": [
           {
            "error_x": {
             "color": "#2a3f5f"
            },
            "error_y": {
             "color": "#2a3f5f"
            },
            "marker": {
             "line": {
              "color": "#E5ECF6",
              "width": 0.5
             },
             "pattern": {
              "fillmode": "overlay",
              "size": 10,
              "solidity": 0.2
             }
            },
            "type": "bar"
           }
          ],
          "barpolar": [
           {
            "marker": {
             "line": {
              "color": "#E5ECF6",
              "width": 0.5
             },
             "pattern": {
              "fillmode": "overlay",
              "size": 10,
              "solidity": 0.2
             }
            },
            "type": "barpolar"
           }
          ],
          "carpet": [
           {
            "aaxis": {
             "endlinecolor": "#2a3f5f",
             "gridcolor": "white",
             "linecolor": "white",
             "minorgridcolor": "white",
             "startlinecolor": "#2a3f5f"
            },
            "baxis": {
             "endlinecolor": "#2a3f5f",
             "gridcolor": "white",
             "linecolor": "white",
             "minorgridcolor": "white",
             "startlinecolor": "#2a3f5f"
            },
            "type": "carpet"
           }
          ],
          "choropleth": [
           {
            "colorbar": {
             "outlinewidth": 0,
             "ticks": ""
            },
            "type": "choropleth"
           }
          ],
          "contour": [
           {
            "colorbar": {
             "outlinewidth": 0,
             "ticks": ""
            },
            "colorscale": [
             [
              0,
              "#0d0887"
             ],
             [
              0.1111111111111111,
              "#46039f"
             ],
             [
              0.2222222222222222,
              "#7201a8"
             ],
             [
              0.3333333333333333,
              "#9c179e"
             ],
             [
              0.4444444444444444,
              "#bd3786"
             ],
             [
              0.5555555555555556,
              "#d8576b"
             ],
             [
              0.6666666666666666,
              "#ed7953"
             ],
             [
              0.7777777777777778,
              "#fb9f3a"
             ],
             [
              0.8888888888888888,
              "#fdca26"
             ],
             [
              1,
              "#f0f921"
             ]
            ],
            "type": "contour"
           }
          ],
          "contourcarpet": [
           {
            "colorbar": {
             "outlinewidth": 0,
             "ticks": ""
            },
            "type": "contourcarpet"
           }
          ],
          "heatmap": [
           {
            "colorbar": {
             "outlinewidth": 0,
             "ticks": ""
            },
            "colorscale": [
             [
              0,
              "#0d0887"
             ],
             [
              0.1111111111111111,
              "#46039f"
             ],
             [
              0.2222222222222222,
              "#7201a8"
             ],
             [
              0.3333333333333333,
              "#9c179e"
             ],
             [
              0.4444444444444444,
              "#bd3786"
             ],
             [
              0.5555555555555556,
              "#d8576b"
             ],
             [
              0.6666666666666666,
              "#ed7953"
             ],
             [
              0.7777777777777778,
              "#fb9f3a"
             ],
             [
              0.8888888888888888,
              "#fdca26"
             ],
             [
              1,
              "#f0f921"
             ]
            ],
            "type": "heatmap"
           }
          ],
          "heatmapgl": [
           {
            "colorbar": {
             "outlinewidth": 0,
             "ticks": ""
            },
            "colorscale": [
             [
              0,
              "#0d0887"
             ],
             [
              0.1111111111111111,
              "#46039f"
             ],
             [
              0.2222222222222222,
              "#7201a8"
             ],
             [
              0.3333333333333333,
              "#9c179e"
             ],
             [
              0.4444444444444444,
              "#bd3786"
             ],
             [
              0.5555555555555556,
              "#d8576b"
             ],
             [
              0.6666666666666666,
              "#ed7953"
             ],
             [
              0.7777777777777778,
              "#fb9f3a"
             ],
             [
              0.8888888888888888,
              "#fdca26"
             ],
             [
              1,
              "#f0f921"
             ]
            ],
            "type": "heatmapgl"
           }
          ],
          "histogram": [
           {
            "marker": {
             "pattern": {
              "fillmode": "overlay",
              "size": 10,
              "solidity": 0.2
             }
            },
            "type": "histogram"
           }
          ],
          "histogram2d": [
           {
            "colorbar": {
             "outlinewidth": 0,
             "ticks": ""
            },
            "colorscale": [
             [
              0,
              "#0d0887"
             ],
             [
              0.1111111111111111,
              "#46039f"
             ],
             [
              0.2222222222222222,
              "#7201a8"
             ],
             [
              0.3333333333333333,
              "#9c179e"
             ],
             [
              0.4444444444444444,
              "#bd3786"
             ],
             [
              0.5555555555555556,
              "#d8576b"
             ],
             [
              0.6666666666666666,
              "#ed7953"
             ],
             [
              0.7777777777777778,
              "#fb9f3a"
             ],
             [
              0.8888888888888888,
              "#fdca26"
             ],
             [
              1,
              "#f0f921"
             ]
            ],
            "type": "histogram2d"
           }
          ],
          "histogram2dcontour": [
           {
            "colorbar": {
             "outlinewidth": 0,
             "ticks": ""
            },
            "colorscale": [
             [
              0,
              "#0d0887"
             ],
             [
              0.1111111111111111,
              "#46039f"
             ],
             [
              0.2222222222222222,
              "#7201a8"
             ],
             [
              0.3333333333333333,
              "#9c179e"
             ],
             [
              0.4444444444444444,
              "#bd3786"
             ],
             [
              0.5555555555555556,
              "#d8576b"
             ],
             [
              0.6666666666666666,
              "#ed7953"
             ],
             [
              0.7777777777777778,
              "#fb9f3a"
             ],
             [
              0.8888888888888888,
              "#fdca26"
             ],
             [
              1,
              "#f0f921"
             ]
            ],
            "type": "histogram2dcontour"
           }
          ],
          "mesh3d": [
           {
            "colorbar": {
             "outlinewidth": 0,
             "ticks": ""
            },
            "type": "mesh3d"
           }
          ],
          "parcoords": [
           {
            "line": {
             "colorbar": {
              "outlinewidth": 0,
              "ticks": ""
             }
            },
            "type": "parcoords"
           }
          ],
          "pie": [
           {
            "automargin": true,
            "type": "pie"
           }
          ],
          "scatter": [
           {
            "fillpattern": {
             "fillmode": "overlay",
             "size": 10,
             "solidity": 0.2
            },
            "type": "scatter"
           }
          ],
          "scatter3d": [
           {
            "line": {
             "colorbar": {
              "outlinewidth": 0,
              "ticks": ""
             }
            },
            "marker": {
             "colorbar": {
              "outlinewidth": 0,
              "ticks": ""
             }
            },
            "type": "scatter3d"
           }
          ],
          "scattercarpet": [
           {
            "marker": {
             "colorbar": {
              "outlinewidth": 0,
              "ticks": ""
             }
            },
            "type": "scattercarpet"
           }
          ],
          "scattergeo": [
           {
            "marker": {
             "colorbar": {
              "outlinewidth": 0,
              "ticks": ""
             }
            },
            "type": "scattergeo"
           }
          ],
          "scattergl": [
           {
            "marker": {
             "colorbar": {
              "outlinewidth": 0,
              "ticks": ""
             }
            },
            "type": "scattergl"
           }
          ],
          "scattermapbox": [
           {
            "marker": {
             "colorbar": {
              "outlinewidth": 0,
              "ticks": ""
             }
            },
            "type": "scattermapbox"
           }
          ],
          "scatterpolar": [
           {
            "marker": {
             "colorbar": {
              "outlinewidth": 0,
              "ticks": ""
             }
            },
            "type": "scatterpolar"
           }
          ],
          "scatterpolargl": [
           {
            "marker": {
             "colorbar": {
              "outlinewidth": 0,
              "ticks": ""
             }
            },
            "type": "scatterpolargl"
           }
          ],
          "scatterternary": [
           {
            "marker": {
             "colorbar": {
              "outlinewidth": 0,
              "ticks": ""
             }
            },
            "type": "scatterternary"
           }
          ],
          "surface": [
           {
            "colorbar": {
             "outlinewidth": 0,
             "ticks": ""
            },
            "colorscale": [
             [
              0,
              "#0d0887"
             ],
             [
              0.1111111111111111,
              "#46039f"
             ],
             [
              0.2222222222222222,
              "#7201a8"
             ],
             [
              0.3333333333333333,
              "#9c179e"
             ],
             [
              0.4444444444444444,
              "#bd3786"
             ],
             [
              0.5555555555555556,
              "#d8576b"
             ],
             [
              0.6666666666666666,
              "#ed7953"
             ],
             [
              0.7777777777777778,
              "#fb9f3a"
             ],
             [
              0.8888888888888888,
              "#fdca26"
             ],
             [
              1,
              "#f0f921"
             ]
            ],
            "type": "surface"
           }
          ],
          "table": [
           {
            "cells": {
             "fill": {
              "color": "#EBF0F8"
             },
             "line": {
              "color": "white"
             }
            },
            "header": {
             "fill": {
              "color": "#C8D4E3"
             },
             "line": {
              "color": "white"
             }
            },
            "type": "table"
           }
          ]
         },
         "layout": {
          "annotationdefaults": {
           "arrowcolor": "#2a3f5f",
           "arrowhead": 0,
           "arrowwidth": 1
          },
          "autotypenumbers": "strict",
          "coloraxis": {
           "colorbar": {
            "outlinewidth": 0,
            "ticks": ""
           }
          },
          "colorscale": {
           "diverging": [
            [
             0,
             "#8e0152"
            ],
            [
             0.1,
             "#c51b7d"
            ],
            [
             0.2,
             "#de77ae"
            ],
            [
             0.3,
             "#f1b6da"
            ],
            [
             0.4,
             "#fde0ef"
            ],
            [
             0.5,
             "#f7f7f7"
            ],
            [
             0.6,
             "#e6f5d0"
            ],
            [
             0.7,
             "#b8e186"
            ],
            [
             0.8,
             "#7fbc41"
            ],
            [
             0.9,
             "#4d9221"
            ],
            [
             1,
             "#276419"
            ]
           ],
           "sequential": [
            [
             0,
             "#0d0887"
            ],
            [
             0.1111111111111111,
             "#46039f"
            ],
            [
             0.2222222222222222,
             "#7201a8"
            ],
            [
             0.3333333333333333,
             "#9c179e"
            ],
            [
             0.4444444444444444,
             "#bd3786"
            ],
            [
             0.5555555555555556,
             "#d8576b"
            ],
            [
             0.6666666666666666,
             "#ed7953"
            ],
            [
             0.7777777777777778,
             "#fb9f3a"
            ],
            [
             0.8888888888888888,
             "#fdca26"
            ],
            [
             1,
             "#f0f921"
            ]
           ],
           "sequentialminus": [
            [
             0,
             "#0d0887"
            ],
            [
             0.1111111111111111,
             "#46039f"
            ],
            [
             0.2222222222222222,
             "#7201a8"
            ],
            [
             0.3333333333333333,
             "#9c179e"
            ],
            [
             0.4444444444444444,
             "#bd3786"
            ],
            [
             0.5555555555555556,
             "#d8576b"
            ],
            [
             0.6666666666666666,
             "#ed7953"
            ],
            [
             0.7777777777777778,
             "#fb9f3a"
            ],
            [
             0.8888888888888888,
             "#fdca26"
            ],
            [
             1,
             "#f0f921"
            ]
           ]
          },
          "colorway": [
           "#636efa",
           "#EF553B",
           "#00cc96",
           "#ab63fa",
           "#FFA15A",
           "#19d3f3",
           "#FF6692",
           "#B6E880",
           "#FF97FF",
           "#FECB52"
          ],
          "font": {
           "color": "#2a3f5f"
          },
          "geo": {
           "bgcolor": "white",
           "lakecolor": "white",
           "landcolor": "#E5ECF6",
           "showlakes": true,
           "showland": true,
           "subunitcolor": "white"
          },
          "hoverlabel": {
           "align": "left"
          },
          "hovermode": "closest",
          "mapbox": {
           "style": "light"
          },
          "paper_bgcolor": "white",
          "plot_bgcolor": "#E5ECF6",
          "polar": {
           "angularaxis": {
            "gridcolor": "white",
            "linecolor": "white",
            "ticks": ""
           },
           "bgcolor": "#E5ECF6",
           "radialaxis": {
            "gridcolor": "white",
            "linecolor": "white",
            "ticks": ""
           }
          },
          "scene": {
           "xaxis": {
            "backgroundcolor": "#E5ECF6",
            "gridcolor": "white",
            "gridwidth": 2,
            "linecolor": "white",
            "showbackground": true,
            "ticks": "",
            "zerolinecolor": "white"
           },
           "yaxis": {
            "backgroundcolor": "#E5ECF6",
            "gridcolor": "white",
            "gridwidth": 2,
            "linecolor": "white",
            "showbackground": true,
            "ticks": "",
            "zerolinecolor": "white"
           },
           "zaxis": {
            "backgroundcolor": "#E5ECF6",
            "gridcolor": "white",
            "gridwidth": 2,
            "linecolor": "white",
            "showbackground": true,
            "ticks": "",
            "zerolinecolor": "white"
           }
          },
          "shapedefaults": {
           "line": {
            "color": "#2a3f5f"
           }
          },
          "ternary": {
           "aaxis": {
            "gridcolor": "white",
            "linecolor": "white",
            "ticks": ""
           },
           "baxis": {
            "gridcolor": "white",
            "linecolor": "white",
            "ticks": ""
           },
           "bgcolor": "#E5ECF6",
           "caxis": {
            "gridcolor": "white",
            "linecolor": "white",
            "ticks": ""
           }
          },
          "title": {
           "x": 0.05
          },
          "xaxis": {
           "automargin": true,
           "gridcolor": "white",
           "linecolor": "white",
           "ticks": "",
           "title": {
            "standoff": 15
           },
           "zerolinecolor": "white",
           "zerolinewidth": 2
          },
          "yaxis": {
           "automargin": true,
           "gridcolor": "white",
           "linecolor": "white",
           "ticks": "",
           "title": {
            "standoff": 15
           },
           "zerolinecolor": "white",
           "zerolinewidth": 2
          }
         }
        },
        "title": {
         "text": "Cashflow Waterfall Chart for REE (2024)"
        },
        "width": 1000,
        "xaxis": {
         "tickangle": 45,
         "title": {
          "text": "Cash inflows/outflows"
         }
        },
        "yaxis": {
         "tickformat": ",.0f",
         "title": {
          "text": "Amount"
         }
        }
       }
      }
     },
     "metadata": {},
     "output_type": "display_data"
    }
   ],
   "source": [
    "import plotly.graph_objects as go\n",
    "import pandas as pd\n",
    "import numpy as np\n",
    "\n",
    "def create_cashflow_waterfall(df, ticker, year):\n",
    "    # Filter dataframe for specific ticker and year\n",
    "    data = df[(df['ticker'] == ticker) & (df['yearReport'] == year)].iloc[0]\n",
    "    \n",
    "    # Select components for the waterfall chart\n",
    "    measures = [\n",
    "        'Operating profit before changes in working capital',\n",
    "        'Increase/Decrease in receivables',\n",
    "        'Increase/Decrease in inventories',\n",
    "        'Increase/Decrease in payables',\n",
    "        'Increase/Decrease in prepaid expenses',\n",
    "        'Interest paid',\n",
    "        'Business Income Tax paid',\n",
    "        'Other receipts from operating activities',\n",
    "        'Other payments on operating activities',\n",
    "        'Purchase of fixed assets',\n",
    "        'Proceeds from disposal of fixed assets',\n",
    "        'Investment in other entities',\n",
    "        'Proceeds from divestment in other entities',\n",
    "        'Gain on Dividend',\n",
    "        'Increase in charter captial',\n",
    "        'Payments for share repurchases',\n",
    "        'Proceeds from borrowings',\n",
    "        'Repayment of borrowings',\n",
    "        'Dividends paid'\n",
    "    ]\n",
    "    \n",
    "    # Extract values for these measures\n",
    "    values = [data[measure] for measure in measures]\n",
    "    \n",
    "    # Create labels for the chart (shortened for better display)\n",
    "    labels = [m.split('/')[-1].replace(' activities', '') if '/' in m else m for m in measures]\n",
    "    labels = [label[:20] + '...' if len(label) > 20 else label for label in labels]\n",
    "    \n",
    "    # Set up measure types (relative vs total)\n",
    "    measure_types = ['relative'] * len(measures)\n",
    "    \n",
    "    # Add initial and final cash positions\n",
    "    labels = ['Initial Balance'] + labels + ['Ending Balance']\n",
    "    values = [data['Cash and cash equivalents']] + values + [data['Cash and Cash Equivalents at the end of period']]\n",
    "    measure_types = ['absolute'] + measure_types + ['total']\n",
    "    \n",
    "    # Create the waterfall chart with comma-separated numbers\n",
    "    fig = go.Figure(go.Waterfall(\n",
    "        name = f\"Cashflow Waterfall for {ticker} ({year})\",\n",
    "        orientation = \"v\",\n",
    "        measure = measure_types,\n",
    "        x = labels,\n",
    "        textposition = \"outside\",\n",
    "        # Format numbers with commas as thousands separators\n",
    "        text = [f\"{x:,.1f}\" for x in values],\n",
    "        y = values,\n",
    "        connector = {\"line\":{\"color\":\"rgb(63, 63, 63)\"}},\n",
    "    ))\n",
    "    \n",
    "    # Update layout\n",
    "    fig.update_layout(\n",
    "        title = f\"Cashflow Waterfall Chart for {ticker} ({year})\",\n",
    "        showlegend = False,\n",
    "        height = 600,\n",
    "        width = 1000,\n",
    "        xaxis = dict(\n",
    "            title = \"Cash inflows/outflows\",\n",
    "            tickangle = 45\n",
    "        ),\n",
    "        yaxis = dict(\n",
    "            title = \"Amount\",\n",
    "            # Add comma separator to y-axis labels as well\n",
    "            tickformat = \",.0f\"\n",
    "        )\n",
    "    )\n",
    "    \n",
    "    return fig\n",
    "\n",
    "# Example usage\n",
    "# Replace 'REE' and 2024 with your desired ticker and year\n",
    "cf_year = 2024\n",
    "\n",
    "fig = create_cashflow_waterfall(CashFlow, 'REE', cf_year)\n",
    "fig.show()\n",
    "\n",
    "# If you prefer to save the figure\n",
    "# fig.write_html(\"cashflow_waterfall.html\")"
   ]
  },
  {
   "cell_type": "code",
   "execution_count": 31,
   "id": "7ec1b207-f812-405d-947a-a6345a0e5421",
   "metadata": {},
   "outputs": [],
   "source": [
    "import pandas as pd\n",
    "import matplotlib.pyplot as plt\n",
    "import seaborn as sns\n",
    "\n",
    "def calculate_roce_and_include_roe(BalanceSheet, IncomeStatement, Ratio):\n",
    "    \"\"\"\n",
    "    Calculate ROCE and include ROE from Ratio dataframe with MultiIndex columns.\n",
    "    \n",
    "    Parameters:\n",
    "    -----------\n",
    "    BalanceSheet : pandas DataFrame\n",
    "        Balance Sheet data with columns: ticker, yearReport, 'TOTAL ASSETS (Bn. VND)', 'Current liabilities (Bn. VND)'\n",
    "    IncomeStatement : pandas DataFrame\n",
    "        Income Statement data with columns: ticker, yearReport, 'Operating Profit/Loss'\n",
    "    Ratio : pandas DataFrame\n",
    "        Ratio data with MultiIndex columns including ('Chỉ tiêu khả năng sinh lợi', 'ROE (%)')\n",
    "        \n",
    "    Returns:\n",
    "    --------\n",
    "    pandas DataFrame\n",
    "        DataFrame with ROCE and ROE calculations\n",
    "    \"\"\"\n",
    "    # Create a copy to avoid modifying the original dataframe\n",
    "    BalanceSheet_copy = BalanceSheet.copy()\n",
    "    \n",
    "    # Step 1: Calculate Capital Employed\n",
    "    BalanceSheet_copy['Capital Employed (Bn. VND)'] = (\n",
    "        BalanceSheet_copy['Long-term borrowings (Bn. VND)'] + \n",
    "        BalanceSheet_copy['Short-term borrowings (Bn. VND)'] + \n",
    "        BalanceSheet_copy[\"OWNER'S EQUITY(Bn.VND)\"]\n",
    "    )\n",
    "    \n",
    "    # Step 2: Merge Balance Sheet and Income Statement\n",
    "    merged_df = pd.merge(\n",
    "        BalanceSheet_copy[['ticker', 'yearReport', 'Capital Employed (Bn. VND)']],\n",
    "        IncomeStatement[['ticker', 'yearReport', 'Operating Profit/Loss']],\n",
    "        on=['ticker', 'yearReport'],\n",
    "        how='inner'\n",
    "    )\n",
    "    \n",
    "    # Step 3: Calculate ROCE\n",
    "    merged_df['ROCE'] = merged_df['Operating Profit/Loss'] / merged_df['Capital Employed (Bn. VND)']\n",
    "    \n",
    "    # Select columns for ROCE calculation\n",
    "    ROCE_df = merged_df[['ticker', 'yearReport', 'Operating Profit/Loss', \n",
    "                         'Capital Employed (Bn. VND)', 'ROCE']]\n",
    "    ROCE_df = ROCE_df.rename(columns={'Operating Profit/Loss': 'EBIT (Bn. VND)'})\n",
    "    \n",
    "    # Step 4: Create a simplified version of Ratio DataFrame for merging\n",
    "    # Extract the ticker, year, and ROE columns\n",
    "    ratio_simple = pd.DataFrame({\n",
    "        'ticker': Ratio[('Meta', 'CP')],\n",
    "        'yearReport': Ratio[('Meta', 'Năm')],\n",
    "        'ROE': Ratio[('Chỉ tiêu khả năng sinh lợi', 'ROE (%)')]\n",
    "    })\n",
    "    \n",
    "    # Step 5: Merge with simplified Ratio dataframe to include ROE\n",
    "    ROCE_df = pd.merge(\n",
    "        ROCE_df,\n",
    "        ratio_simple[['ticker', 'yearReport', 'ROE']],\n",
    "        on=['ticker', 'yearReport'],\n",
    "        how='left'\n",
    "    )\n",
    "    \n",
    "    return ROCE_df\n",
    "\n",
    "def visualize_roce_vs_roe(BalanceSheet, IncomeStatement, Ratio):\n",
    "    \"\"\"\n",
    "    Calculate and visualize only the ROCE vs ROE comparison.\n",
    "    \n",
    "    Parameters:\n",
    "    -----------\n",
    "    BalanceSheet : pandas DataFrame\n",
    "        Balance Sheet data\n",
    "    IncomeStatement : pandas DataFrame\n",
    "        Income Statement data\n",
    "    Ratio : pandas DataFrame\n",
    "        Ratio data containing ROE with MultiIndex columns\n",
    "    \"\"\"\n",
    "    # Calculate ROCE and include ROE\n",
    "    ROCE_df = calculate_roce_and_include_roe(BalanceSheet, IncomeStatement, Ratio)\n",
    "    \n",
    "    # Sort by ticker and year\n",
    "    ROCE_df = ROCE_df.sort_values(['ticker', 'yearReport'])\n",
    "    \n",
    "    # Create a comparison chart for each ticker\n",
    "    for ticker in ROCE_df['ticker'].unique():\n",
    "        ticker_data = ROCE_df[ROCE_df['ticker'] == ticker]\n",
    "        \n",
    "        fig, ax1 = plt.subplots(figsize=(12, 6))\n",
    "        \n",
    "        # Create plot for ROCE\n",
    "        color = 'tab:blue'\n",
    "        ax1.set_xlabel('Year', fontsize=12)\n",
    "        ax1.set_ylabel('ROCE', color=color, fontsize=12)\n",
    "        ax1.plot(ticker_data['yearReport'], ticker_data['ROCE'], 'o-', color=color, linewidth=2, label='ROCE')\n",
    "        ax1.tick_params(axis='y', labelcolor=color)\n",
    "        \n",
    "        # Add data labels for ROCE\n",
    "        for i, row in ticker_data.iterrows():\n",
    "            ax1.annotate(f\"{row['ROCE']:.3f}\", \n",
    "                        (row['yearReport'], row['ROCE']),\n",
    "                        textcoords=\"offset points\", \n",
    "                        xytext=(0,10), \n",
    "                        ha='center', \n",
    "                        color=color,\n",
    "                        fontsize=9)\n",
    "        \n",
    "        # Create second y-axis for ROE (%)\n",
    "        ax2 = ax1.twinx()\n",
    "        color = 'tab:red'\n",
    "        ax2.set_ylabel('ROE (%)', color=color, fontsize=12)\n",
    "        ax2.plot(ticker_data['yearReport'], ticker_data['ROE'], 's-', color=color, linewidth=2, label='ROE')\n",
    "        ax2.tick_params(axis='y', labelcolor=color)\n",
    "        \n",
    "        # Add data labels for ROE\n",
    "        for i, row in ticker_data.iterrows():\n",
    "            ax2.annotate(f\"{row['ROE']:.1f}%\", \n",
    "                        (row['yearReport'], row['ROE']),\n",
    "                        textcoords=\"offset points\", \n",
    "                        xytext=(0,-15), \n",
    "                        ha='center', \n",
    "                        color=color,\n",
    "                        fontsize=9)\n",
    "        \n",
    "        # Add legends for both lines\n",
    "        lines1, labels1 = ax1.get_legend_handles_labels()\n",
    "        lines2, labels2 = ax2.get_legend_handles_labels()\n",
    "        ax1.legend(lines1 + lines2, labels1 + labels2, loc='best')\n",
    "        \n",
    "        plt.title(f'ROCE vs ROE (%) Comparison for {ticker}', fontsize=14)\n",
    "        plt.grid(True)\n",
    "        plt.xticks(rotation=45)\n",
    "        \n",
    "        # Add annotation explaining the relationship\n",
    "        plt.figtext(0.5, 0.01, \n",
    "                   \"ROE > ROCE: Effective use of financial leverage | ROCE > ROE: Potential underutilization of debt\", \n",
    "                   ha=\"center\", fontsize=10, bbox={\"facecolor\":\"lightgray\", \"alpha\":0.5, \"pad\":5})\n",
    "        \n",
    "        plt.tight_layout(rect=[0, 0.05, 1, 0.95])\n",
    "        plt.show()\n",
    "    \n",
    "    return ROCE_df\n",
    "\n"
   ]
  },
  {
   "cell_type": "code",
   "execution_count": 32,
   "id": "9ad2850a-097a-4791-a4de-390bc6a7623a",
   "metadata": {},
   "outputs": [
    {
     "name": "stdout",
     "output_type": "stream",
     "text": [
      "  ticker  yearReport  EBIT (Bn. VND)  Capital Employed (Bn. VND)      ROCE  \\\n",
      "0    REE        2024   2672346972019              32851827291499  0.081345   \n",
      "1    REE        2023   3042127311430              31512920183225  0.096536   \n",
      "2    REE        2022   3985852232731              30604777639150  0.130236   \n",
      "3    REE        2021   2387222069978              28331835703693  0.084259   \n",
      "4    REE        2020   1901472471574              17811997377269  0.106752   \n",
      "\n",
      "        ROE  \n",
      "0  0.110077  \n",
      "1  0.133335  \n",
      "2  0.186927  \n",
      "3  0.129860  \n",
      "4  0.139663  \n"
     ]
    },
    {
     "data": {
      "image/png": "[encoded data removed]",
      "text/plain": [
       "<Figure size 1200x600 with 2 Axes>"
      ]
     },
     "metadata": {},
     "output_type": "display_data"
    },
    {
     "data": {
      "text/html": [
       "<div>\n",
       "<style scoped>\n",
       "    .dataframe tbody tr th:only-of-type {\n",
       "        vertical-align: middle;\n",
       "    }\n",
       "\n",
       "    .dataframe tbody tr th {\n",
       "        vertical-align: top;\n",
       "    }\n",
       "\n",
       "    .dataframe thead th {\n",
       "        text-align: right;\n",
       "    }\n",
       "</style>\n",
       "<table border=\"1\" class=\"dataframe\">\n",
       "  <thead>\n",
       "    <tr style=\"text-align: right;\">\n",
       "      <th></th>\n",
       "      <th>ticker</th>\n",
       "      <th>yearReport</th>\n",
       "      <th>EBIT (Bn. VND)</th>\n",
       "      <th>Capital Employed (Bn. VND)</th>\n",
       "      <th>ROCE</th>\n",
       "      <th>ROE</th>\n",
       "    </tr>\n",
       "  </thead>\n",
       "  <tbody>\n",
       "    <tr>\n",
       "      <th>11</th>\n",
       "      <td>REE</td>\n",
       "      <td>2013</td>\n",
       "      <td>653760115839</td>\n",
       "      <td>5719506891415</td>\n",
       "      <td>0.114304</td>\n",
       "      <td>0.207349</td>\n",
       "    </tr>\n",
       "    <tr>\n",
       "      <th>10</th>\n",
       "      <td>REE</td>\n",
       "      <td>2014</td>\n",
       "      <td>1209735776640</td>\n",
       "      <td>7049054886482</td>\n",
       "      <td>0.171617</td>\n",
       "      <td>0.184132</td>\n",
       "    </tr>\n",
       "    <tr>\n",
       "      <th>9</th>\n",
       "      <td>REE</td>\n",
       "      <td>2015</td>\n",
       "      <td>1038784287138</td>\n",
       "      <td>7674056085377</td>\n",
       "      <td>0.135363</td>\n",
       "      <td>0.131029</td>\n",
       "    </tr>\n",
       "    <tr>\n",
       "      <th>8</th>\n",
       "      <td>REE</td>\n",
       "      <td>2016</td>\n",
       "      <td>1368547876590</td>\n",
       "      <td>9214832267594</td>\n",
       "      <td>0.148516</td>\n",
       "      <td>0.151795</td>\n",
       "    </tr>\n",
       "    <tr>\n",
       "      <th>7</th>\n",
       "      <td>REE</td>\n",
       "      <td>2017</td>\n",
       "      <td>1711671841121</td>\n",
       "      <td>11674003426931</td>\n",
       "      <td>0.146623</td>\n",
       "      <td>0.167790</td>\n",
       "    </tr>\n",
       "    <tr>\n",
       "      <th>6</th>\n",
       "      <td>REE</td>\n",
       "      <td>2018</td>\n",
       "      <td>2105657869033</td>\n",
       "      <td>13109757690307</td>\n",
       "      <td>0.160618</td>\n",
       "      <td>0.191602</td>\n",
       "    </tr>\n",
       "    <tr>\n",
       "      <th>5</th>\n",
       "      <td>REE</td>\n",
       "      <td>2019</td>\n",
       "      <td>1909681072333</td>\n",
       "      <td>16728479197464</td>\n",
       "      <td>0.114157</td>\n",
       "      <td>0.155862</td>\n",
       "    </tr>\n",
       "    <tr>\n",
       "      <th>4</th>\n",
       "      <td>REE</td>\n",
       "      <td>2020</td>\n",
       "      <td>1901472471574</td>\n",
       "      <td>17811997377269</td>\n",
       "      <td>0.106752</td>\n",
       "      <td>0.139663</td>\n",
       "    </tr>\n",
       "    <tr>\n",
       "      <th>3</th>\n",
       "      <td>REE</td>\n",
       "      <td>2021</td>\n",
       "      <td>2387222069978</td>\n",
       "      <td>28331835703693</td>\n",
       "      <td>0.084259</td>\n",
       "      <td>0.129860</td>\n",
       "    </tr>\n",
       "    <tr>\n",
       "      <th>2</th>\n",
       "      <td>REE</td>\n",
       "      <td>2022</td>\n",
       "      <td>3985852232731</td>\n",
       "      <td>30604777639150</td>\n",
       "      <td>0.130236</td>\n",
       "      <td>0.186927</td>\n",
       "    </tr>\n",
       "    <tr>\n",
       "      <th>1</th>\n",
       "      <td>REE</td>\n",
       "      <td>2023</td>\n",
       "      <td>3042127311430</td>\n",
       "      <td>31512920183225</td>\n",
       "      <td>0.096536</td>\n",
       "      <td>0.133335</td>\n",
       "    </tr>\n",
       "    <tr>\n",
       "      <th>0</th>\n",
       "      <td>REE</td>\n",
       "      <td>2024</td>\n",
       "      <td>2672346972019</td>\n",
       "      <td>32851827291499</td>\n",
       "      <td>0.081345</td>\n",
       "      <td>0.110077</td>\n",
       "    </tr>\n",
       "  </tbody>\n",
       "</table>\n",
       "</div>"
      ],
      "text/plain": [
       "   ticker  yearReport  EBIT (Bn. VND)  Capital Employed (Bn. VND)      ROCE  \\\n",
       "11    REE        2013    653760115839               5719506891415  0.114304   \n",
       "10    REE        2014   1209735776640               7049054886482  0.171617   \n",
       "9     REE        2015   1038784287138               7674056085377  0.135363   \n",
       "8     REE        2016   1368547876590               9214832267594  0.148516   \n",
       "7     REE        2017   1711671841121              11674003426931  0.146623   \n",
       "6     REE        2018   2105657869033              13109757690307  0.160618   \n",
       "5     REE        2019   1909681072333              16728479197464  0.114157   \n",
       "4     REE        2020   1901472471574              17811997377269  0.106752   \n",
       "3     REE        2021   2387222069978              28331835703693  0.084259   \n",
       "2     REE        2022   3985852232731              30604777639150  0.130236   \n",
       "1     REE        2023   3042127311430              31512920183225  0.096536   \n",
       "0     REE        2024   2672346972019              32851827291499  0.081345   \n",
       "\n",
       "         ROE  \n",
       "11  0.207349  \n",
       "10  0.184132  \n",
       "9   0.131029  \n",
       "8   0.151795  \n",
       "7   0.167790  \n",
       "6   0.191602  \n",
       "5   0.155862  \n",
       "4   0.139663  \n",
       "3   0.129860  \n",
       "2   0.186927  \n",
       "1   0.133335  \n",
       "0   0.110077  "
      ]
     },
     "execution_count": 32,
     "metadata": {},
     "output_type": "execute_result"
    }
   ],
   "source": [
    "# Calculate ROCE and ROE\n",
    "ROCE_df = calculate_roce_and_include_roe(BalanceSheet, IncomeStatement, Ratio)\n",
    "print(ROCE_df.head())\n",
    "\n",
    "# Visualize ROCE vs ROE comparison\n",
    "visualize_roce_vs_roe(BalanceSheet, IncomeStatement, Ratio)"
   ]
  },
  {
   "cell_type": "markdown",
   "id": "2a3eba5b",
   "metadata": {},
   "source": [
    "# Corporate Finance"
   ]
  },
  {
   "cell_type": "code",
   "execution_count": 33,
   "id": "240eef9d",
   "metadata": {},
   "outputs": [
    {
     "data": {
      "application/vnd.plotly.v1+json": {
       "config": {
        "plotlyServerURL": "https://plot.ly"
       },
       "data": [
        {
         "line": {
          "color": "blue"
         },
         "name": "ROIC (%)",
         "type": "scatter",
         "x": [
          2013,
          2014,
          2015,
          2016,
          2017,
          2018,
          2019,
          2020,
          2021,
          2022,
          2023,
          2024
         ],
         "y": [
          6.77200223,
          8.87871896,
          8.53460995,
          9.46643095,
          9.362511060000001,
          6.97785458,
          5.6565787499999995,
          6.95832428,
          6.545625680000001,
          11.969539730000001,
          9.37495683,
          7.391636699999999
         ]
        },
        {
         "line": {
          "color": "green"
         },
         "name": "WACC (%)",
         "type": "scatter",
         "x": [
          2013,
          2014,
          2015,
          2016,
          2017,
          2018,
          2019,
          2020,
          2021,
          2022,
          2023,
          2024
         ],
         "y": [
          7.142586622359877,
          7.09565725632251,
          7.412192141393678,
          7.502693466914251,
          7.873737646772473,
          7.634969226732171,
          7.998474339337607,
          7.810122325921784,
          8.047078025489448,
          7.660962850001256,
          7.661111836881187,
          7.600944350375931
         ]
        },
        {
         "fill": "toself",
         "fillcolor": "rgba(0, 100, 255, 0.2)",
         "hoverinfo": "skip",
         "legendgroup": "economic_value",
         "line": {
          "width": 0
         },
         "name": "Economic Value",
         "showlegend": true,
         "type": "scatter",
         "x": [
          2013,
          2014,
          2015,
          2016,
          2017,
          2018,
          2019,
          2020,
          2021,
          2022,
          2023,
          2024,
          2024,
          2023,
          2022,
          2021,
          2020,
          2019,
          2018,
          2017,
          2016,
          2015,
          2014,
          2013
         ],
         "y": [
          7.620044174041847,
          8.87871896,
          8.53460995,
          9.46643095,
          9.362511060000001,
          7.620044174041847,
          7.620044174041847,
          7.620044174041847,
          7.620044174041847,
          11.969539730000001,
          9.37495683,
          7.620044174041847,
          7.620044174041847,
          7.620044174041847,
          7.620044174041847,
          7.620044174041847,
          7.620044174041847,
          7.620044174041847,
          7.620044174041847,
          7.620044174041847,
          7.620044174041847,
          7.620044174041847,
          7.620044174041847,
          7.620044174041847
         ]
        }
       ],
       "layout": {
        "annotations": [
         {
          "showarrow": false,
          "text": "WACC Mean: 7.62%",
          "x": 1,
          "xanchor": "right",
          "xref": "x domain",
          "y": 7.620044174041847,
          "yanchor": "top",
          "yref": "y"
         },
         {
          "bgcolor": "rgba(0, 100, 255, 0.2)",
          "bordercolor": "blue",
          "borderpad": 4,
          "borderwidth": 1,
          "font": {
           "color": "blue",
           "size": 12
          },
          "opacity": 0.8,
          "showarrow": false,
          "text": "<b>Economic Value</b>",
          "x": 0.02,
          "xanchor": "left",
          "xref": "paper",
          "y": 0.95,
          "yanchor": "top",
          "yref": "paper"
         }
        ],
        "hovermode": "x unified",
        "legend": {
         "bgcolor": "rgba(255, 255, 255, 0.7)",
         "bordercolor": "rgba(0, 0, 0, 0.2)",
         "borderwidth": 1,
         "orientation": "h",
         "x": 0.5,
         "xanchor": "center",
         "y": -0.3,
         "yanchor": "bottom"
        },
        "margin": {
         "b": 80,
         "l": 50,
         "r": 50,
         "t": 50
        },
        "shapes": [
         {
          "line": {
           "color": "red",
           "dash": "dash"
          },
          "type": "line",
          "x0": 0,
          "x1": 1,
          "xref": "x domain",
          "y0": 7.620044174041847,
          "y1": 7.620044174041847,
          "yref": "y"
         }
        ],
        "showlegend": true,
        "template": {
         "data": {
          "bar": [
           {
            "error_x": {
             "color": "#2a3f5f"
            },
            "error_y": {
             "color": "#2a3f5f"
            },
            "marker": {
             "line": {
              "color": "white",
              "width": 0.5
             },
             "pattern": {
              "fillmode": "overlay",
              "size": 10,
              "solidity": 0.2
             }
            },
            "type": "bar"
           }
          ],
          "barpolar": [
           {
            "marker": {
             "line": {
              "color": "white",
              "width": 0.5
             },
             "pattern": {
              "fillmode": "overlay",
              "size": 10,
              "solidity": 0.2
             }
            },
            "type": "barpolar"
           }
          ],
          "carpet": [
           {
            "aaxis": {
             "endlinecolor": "#2a3f5f",
             "gridcolor": "#C8D4E3",
             "linecolor": "#C8D4E3",
             "minorgridcolor": "#C8D4E3",
             "startlinecolor": "#2a3f5f"
            },
            "baxis": {
             "endlinecolor": "#2a3f5f",
             "gridcolor": "#C8D4E3",
             "linecolor": "#C8D4E3",
             "minorgridcolor": "#C8D4E3",
             "startlinecolor": "#2a3f5f"
            },
            "type": "carpet"
           }
          ],
          "choropleth": [
           {
            "colorbar": {
             "outlinewidth": 0,
             "ticks": ""
            },
            "type": "choropleth"
           }
          ],
          "contour": [
           {
            "colorbar": {
             "outlinewidth": 0,
             "ticks": ""
            },
            "colorscale": [
             [
              0,
              "#0d0887"
             ],
             [
              0.1111111111111111,
              "#46039f"
             ],
             [
              0.2222222222222222,
              "#7201a8"
             ],
             [
              0.3333333333333333,
              "#9c179e"
             ],
             [
              0.4444444444444444,
              "#bd3786"
             ],
             [
              0.5555555555555556,
              "#d8576b"
             ],
             [
              0.6666666666666666,
              "#ed7953"
             ],
             [
              0.7777777777777778,
              "#fb9f3a"
             ],
             [
              0.8888888888888888,
              "#fdca26"
             ],
             [
              1,
              "#f0f921"
             ]
            ],
            "type": "contour"
           }
          ],
          "contourcarpet": [
           {
            "colorbar": {
             "outlinewidth": 0,
             "ticks": ""
            },
            "type": "contourcarpet"
           }
          ],
          "heatmap": [
           {
            "colorbar": {
             "outlinewidth": 0,
             "ticks": ""
            },
            "colorscale": [
             [
              0,
              "#0d0887"
             ],
             [
              0.1111111111111111,
              "#46039f"
             ],
             [
              0.2222222222222222,
              "#7201a8"
             ],
             [
              0.3333333333333333,
              "#9c179e"
             ],
             [
              0.4444444444444444,
              "#bd3786"
             ],
             [
              0.5555555555555556,
              "#d8576b"
             ],
             [
              0.6666666666666666,
              "#ed7953"
             ],
             [
              0.7777777777777778,
              "#fb9f3a"
             ],
             [
              0.8888888888888888,
              "#fdca26"
             ],
             [
              1,
              "#f0f921"
             ]
            ],
            "type": "heatmap"
           }
          ],
          "heatmapgl": [
           {
            "colorbar": {
             "outlinewidth": 0,
             "ticks": ""
            },
            "colorscale": [
             [
              0,
              "#0d0887"
             ],
             [
              0.1111111111111111,
              "#46039f"
             ],
             [
              0.2222222222222222,
              "#7201a8"
             ],
             [
              0.3333333333333333,
              "#9c179e"
             ],
             [
              0.4444444444444444,
              "#bd3786"
             ],
             [
              0.5555555555555556,
              "#d8576b"
             ],
             [
              0.6666666666666666,
              "#ed7953"
             ],
             [
              0.7777777777777778,
              "#fb9f3a"
             ],
             [
              0.8888888888888888,
              "#fdca26"
             ],
             [
              1,
              "#f0f921"
             ]
            ],
            "type": "heatmapgl"
           }
          ],
          "histogram": [
           {
            "marker": {
             "pattern": {
              "fillmode": "overlay",
              "size": 10,
              "solidity": 0.2
             }
            },
            "type": "histogram"
           }
          ],
          "histogram2d": [
           {
            "colorbar": {
             "outlinewidth": 0,
             "ticks": ""
            },
            "colorscale": [
             [
              0,
              "#0d0887"
             ],
             [
              0.1111111111111111,
              "#46039f"
             ],
             [
              0.2222222222222222,
              "#7201a8"
             ],
             [
              0.3333333333333333,
              "#9c179e"
             ],
             [
              0.4444444444444444,
              "#bd3786"
             ],
             [
              0.5555555555555556,
              "#d8576b"
             ],
             [
              0.6666666666666666,
              "#ed7953"
             ],
             [
              0.7777777777777778,
              "#fb9f3a"
             ],
             [
              0.8888888888888888,
              "#fdca26"
             ],
             [
              1,
              "#f0f921"
             ]
            ],
            "type": "histogram2d"
           }
          ],
          "histogram2dcontour": [
           {
            "colorbar": {
             "outlinewidth": 0,
             "ticks": ""
            },
            "colorscale": [
             [
              0,
              "#0d0887"
             ],
             [
              0.1111111111111111,
              "#46039f"
             ],
             [
              0.2222222222222222,
              "#7201a8"
             ],
             [
              0.3333333333333333,
              "#9c179e"
             ],
             [
              0.4444444444444444,
              "#bd3786"
             ],
             [
              0.5555555555555556,
              "#d8576b"
             ],
             [
              0.6666666666666666,
              "#ed7953"
             ],
             [
              0.7777777777777778,
              "#fb9f3a"
             ],
             [
              0.8888888888888888,
              "#fdca26"
             ],
             [
              1,
              "#f0f921"
             ]
            ],
            "type": "histogram2dcontour"
           }
          ],
          "mesh3d": [
           {
            "colorbar": {
             "outlinewidth": 0,
             "ticks": ""
            },
            "type": "mesh3d"
           }
          ],
          "parcoords": [
           {
            "line": {
             "colorbar": {
              "outlinewidth": 0,
              "ticks": ""
             }
            },
            "type": "parcoords"
           }
          ],
          "pie": [
           {
            "automargin": true,
            "type": "pie"
           }
          ],
          "scatter": [
           {
            "fillpattern": {
             "fillmode": "overlay",
             "size": 10,
             "solidity": 0.2
            },
            "type": "scatter"
           }
          ],
          "scatter3d": [
           {
            "line": {
             "colorbar": {
              "outlinewidth": 0,
              "ticks": ""
             }
            },
            "marker": {
             "colorbar": {
              "outlinewidth": 0,
              "ticks": ""
             }
            },
            "type": "scatter3d"
           }
          ],
          "scattercarpet": [
           {
            "marker": {
             "colorbar": {
              "outlinewidth": 0,
              "ticks": ""
             }
            },
            "type": "scattercarpet"
           }
          ],
          "scattergeo": [
           {
            "marker": {
             "colorbar": {
              "outlinewidth": 0,
              "ticks": ""
             }
            },
            "type": "scattergeo"
           }
          ],
          "scattergl": [
           {
            "marker": {
             "colorbar": {
              "outlinewidth": 0,
              "ticks": ""
             }
            },
            "type": "scattergl"
           }
          ],
          "scattermapbox": [
           {
            "marker": {
             "colorbar": {
              "outlinewidth": 0,
              "ticks": ""
             }
            },
            "type": "scattermapbox"
           }
          ],
          "scatterpolar": [
           {
            "marker": {
             "colorbar": {
              "outlinewidth": 0,
              "ticks": ""
             }
            },
            "type": "scatterpolar"
           }
          ],
          "scatterpolargl": [
           {
            "marker": {
             "colorbar": {
              "outlinewidth": 0,
              "ticks": ""
             }
            },
            "type": "scatterpolargl"
           }
          ],
          "scatterternary": [
           {
            "marker": {
             "colorbar": {
              "outlinewidth": 0,
              "ticks": ""
             }
            },
            "type": "scatterternary"
           }
          ],
          "surface": [
           {
            "colorbar": {
             "outlinewidth": 0,
             "ticks": ""
            },
            "colorscale": [
             [
              0,
              "#0d0887"
             ],
             [
              0.1111111111111111,
              "#46039f"
             ],
             [
              0.2222222222222222,
              "#7201a8"
             ],
             [
              0.3333333333333333,
              "#9c179e"
             ],
             [
              0.4444444444444444,
              "#bd3786"
             ],
             [
              0.5555555555555556,
              "#d8576b"
             ],
             [
              0.6666666666666666,
              "#ed7953"
             ],
             [
              0.7777777777777778,
              "#fb9f3a"
             ],
             [
              0.8888888888888888,
              "#fdca26"
             ],
             [
              1,
              "#f0f921"
             ]
            ],
            "type": "surface"
           }
          ],
          "table": [
           {
            "cells": {
             "fill": {
              "color": "#EBF0F8"
             },
             "line": {
              "color": "white"
             }
            },
            "header": {
             "fill": {
              "color": "#C8D4E3"
             },
             "line": {
              "color": "white"
             }
            },
            "type": "table"
           }
          ]
         },
         "layout": {
          "annotationdefaults": {
           "arrowcolor": "#2a3f5f",
           "arrowhead": 0,
           "arrowwidth": 1
          },
          "autotypenumbers": "strict",
          "coloraxis": {
           "colorbar": {
            "outlinewidth": 0,
            "ticks": ""
           }
          },
          "colorscale": {
           "diverging": [
            [
             0,
             "#8e0152"
            ],
            [
             0.1,
             "#c51b7d"
            ],
            [
             0.2,
             "#de77ae"
            ],
            [
             0.3,
             "#f1b6da"
            ],
            [
             0.4,
             "#fde0ef"
            ],
            [
             0.5,
             "#f7f7f7"
            ],
            [
             0.6,
             "#e6f5d0"
            ],
            [
             0.7,
             "#b8e186"
            ],
            [
             0.8,
             "#7fbc41"
            ],
            [
             0.9,
             "#4d9221"
            ],
            [
             1,
             "#276419"
            ]
           ],
           "sequential": [
            [
             0,
             "#0d0887"
            ],
            [
             0.1111111111111111,
             "#46039f"
            ],
            [
             0.2222222222222222,
             "#7201a8"
            ],
            [
             0.3333333333333333,
             "#9c179e"
            ],
            [
             0.4444444444444444,
             "#bd3786"
            ],
            [
             0.5555555555555556,
             "#d8576b"
            ],
            [
             0.6666666666666666,
             "#ed7953"
            ],
            [
             0.7777777777777778,
             "#fb9f3a"
            ],
            [
             0.8888888888888888,
             "#fdca26"
            ],
            [
             1,
             "#f0f921"
            ]
           ],
           "sequentialminus": [
            [
             0,
             "#0d0887"
            ],
            [
             0.1111111111111111,
             "#46039f"
            ],
            [
             0.2222222222222222,
             "#7201a8"
            ],
            [
             0.3333333333333333,
             "#9c179e"
            ],
            [
             0.4444444444444444,
             "#bd3786"
            ],
            [
             0.5555555555555556,
             "#d8576b"
            ],
            [
             0.6666666666666666,
             "#ed7953"
            ],
            [
             0.7777777777777778,
             "#fb9f3a"
            ],
            [
             0.8888888888888888,
             "#fdca26"
            ],
            [
             1,
             "#f0f921"
            ]
           ]
          },
          "colorway": [
           "#636efa",
           "#EF553B",
           "#00cc96",
           "#ab63fa",
           "#FFA15A",
           "#19d3f3",
           "#FF6692",
           "#B6E880",
           "#FF97FF",
           "#FECB52"
          ],
          "font": {
           "color": "#2a3f5f"
          },
          "geo": {
           "bgcolor": "white",
           "lakecolor": "white",
           "landcolor": "white",
           "showlakes": true,
           "showland": true,
           "subunitcolor": "#C8D4E3"
          },
          "hoverlabel": {
           "align": "left"
          },
          "hovermode": "closest",
          "mapbox": {
           "style": "light"
          },
          "paper_bgcolor": "white",
          "plot_bgcolor": "white",
          "polar": {
           "angularaxis": {
            "gridcolor": "#EBF0F8",
            "linecolor": "#EBF0F8",
            "ticks": ""
           },
           "bgcolor": "white",
           "radialaxis": {
            "gridcolor": "#EBF0F8",
            "linecolor": "#EBF0F8",
            "ticks": ""
           }
          },
          "scene": {
           "xaxis": {
            "backgroundcolor": "white",
            "gridcolor": "#DFE8F3",
            "gridwidth": 2,
            "linecolor": "#EBF0F8",
            "showbackground": true,
            "ticks": "",
            "zerolinecolor": "#EBF0F8"
           },
           "yaxis": {
            "backgroundcolor": "white",
            "gridcolor": "#DFE8F3",
            "gridwidth": 2,
            "linecolor": "#EBF0F8",
            "showbackground": true,
            "ticks": "",
            "zerolinecolor": "#EBF0F8"
           },
           "zaxis": {
            "backgroundcolor": "white",
            "gridcolor": "#DFE8F3",
            "gridwidth": 2,
            "linecolor": "#EBF0F8",
            "showbackground": true,
            "ticks": "",
            "zerolinecolor": "#EBF0F8"
           }
          },
          "shapedefaults": {
           "line": {
            "color": "#2a3f5f"
           }
          },
          "ternary": {
           "aaxis": {
            "gridcolor": "#DFE8F3",
            "linecolor": "#A2B1C6",
            "ticks": ""
           },
           "baxis": {
            "gridcolor": "#DFE8F3",
            "linecolor": "#A2B1C6",
            "ticks": ""
           },
           "bgcolor": "white",
           "caxis": {
            "gridcolor": "#DFE8F3",
            "linecolor": "#A2B1C6",
            "ticks": ""
           }
          },
          "title": {
           "x": 0.05
          },
          "xaxis": {
           "automargin": true,
           "gridcolor": "#EBF0F8",
           "linecolor": "#EBF0F8",
           "ticks": "",
           "title": {
            "standoff": 15
           },
           "zerolinecolor": "#EBF0F8",
           "zerolinewidth": 2
          },
          "yaxis": {
           "automargin": true,
           "gridcolor": "#EBF0F8",
           "linecolor": "#EBF0F8",
           "ticks": "",
           "title": {
            "standoff": 15
           },
           "zerolinecolor": "#EBF0F8",
           "zerolinewidth": 2
          }
         }
        },
        "title": {
         "text": "ROIC (%) vs WACC (%) with Economic Value Zone"
        },
        "xaxis": {
         "title": {
          "text": "Year"
         }
        },
        "yaxis": {
         "title": {
          "text": "Percentage (%)"
         }
        }
       }
      }
     },
     "metadata": {},
     "output_type": "display_data"
    }
   ],
   "source": [
    "import plotly.graph_objects as go\n",
    "import numpy as np\n",
    "import pandas as pd\n",
    "\n",
    "# Get the years from both DataFrames\n",
    "ratio_years = Ratio[('Meta', 'Năm')].astype(int).values\n",
    "result_years = result_df['yearReport'].astype(int).values\n",
    "\n",
    "# Find common years\n",
    "common_years = sorted(list(set(ratio_years).intersection(set(result_years))))\n",
    "\n",
    "# Filter and sort both DataFrames by common years\n",
    "ratio_filtered = Ratio[Ratio[('Meta', 'Năm')].astype(int).isin(common_years)]\n",
    "ratio_filtered = ratio_filtered.sort_values(('Meta', 'Năm'))\n",
    "\n",
    "result_filtered = result_df[result_df['yearReport'].astype(int).isin(common_years)]\n",
    "result_filtered = result_filtered.sort_values('yearReport')\n",
    "\n",
    "# Calculate values using the filtered and aligned data\n",
    "wacc_mean = result_filtered['wacc_market_based'].mean() * 100\n",
    "roic_values = ratio_filtered[('Chỉ tiêu khả năng sinh lợi', 'ROIC (%)')] * 100\n",
    "wacc_values = result_filtered['wacc_market_based'] * 100\n",
    "\n",
    "# Create the figure\n",
    "fig = go.Figure()\n",
    "\n",
    "# Add ROIC line\n",
    "fig.add_trace(go.Scatter(\n",
    "    x=ratio_filtered[('Meta', 'Năm')],\n",
    "    y=roic_values,\n",
    "    name='ROIC (%)',\n",
    "    line=dict(color='blue')\n",
    "))\n",
    "\n",
    "# Add WACC line\n",
    "fig.add_trace(go.Scatter(\n",
    "    x=result_filtered['yearReport'],\n",
    "    y=wacc_values,\n",
    "    name='WACC (%)',\n",
    "    line=dict(color='green')\n",
    "))\n",
    "\n",
    "# Add horizontal line at WACC mean\n",
    "fig.add_hline(\n",
    "    y=wacc_mean,\n",
    "    line_dash=\"dash\",\n",
    "    line_color=\"red\",\n",
    "    annotation_text=f\"WACC Mean: {wacc_mean:.2f}%\",\n",
    "    annotation_position=\"bottom right\"\n",
    ")\n",
    "\n",
    "# Only add shaded area if we have data points\n",
    "if len(roic_values) > 0:\n",
    "    # Create x values for the shaded area\n",
    "    x_combined = np.concatenate([ratio_filtered[('Meta', 'Năm')], ratio_filtered[('Meta', 'Năm')][::-1]])\n",
    "    y_upper = np.where(roic_values > wacc_mean, roic_values, wacc_mean)\n",
    "    y_lower = np.full_like(roic_values, wacc_mean)\n",
    "    y_combined = np.concatenate([y_upper, y_lower[::-1]])\n",
    "\n",
    "    # Add the shaded area\n",
    "    fig.add_trace(go.Scatter(\n",
    "        x=x_combined,\n",
    "        y=y_combined,\n",
    "        fill='toself',\n",
    "        fillcolor='rgba(0, 100, 255, 0.2)',\n",
    "        line=dict(width=0),\n",
    "        showlegend=True,\n",
    "        name='Economic Value',\n",
    "        legendgroup='economic_value',\n",
    "        hoverinfo='skip'\n",
    "    ))\n",
    "\n",
    "# Add Economic Value annotation in upper left corner\n",
    "fig.add_annotation(\n",
    "    x=0.02,  # Left side\n",
    "    y=0.95,  # Top side\n",
    "    xref=\"paper\",  # Use paper coordinates (0-1)\n",
    "    yref=\"paper\",  # Use paper coordinates (0-1)\n",
    "    text=\"<b>Economic Value</b>\",\n",
    "    showarrow=False,\n",
    "    font=dict(\n",
    "        size=12,\n",
    "        color=\"blue\"\n",
    "    ),\n",
    "    bgcolor='rgba(0, 100, 255, 0.2)',  # Same as fill color\n",
    "    bordercolor=\"blue\",\n",
    "    borderwidth=1,\n",
    "    borderpad=4,\n",
    "    opacity=0.8,\n",
    "    xanchor=\"left\",  # Left-align the text\n",
    "    yanchor=\"top\"    # Anchor at the top\n",
    ")\n",
    "\n",
    "# Update layout with legend at bottom\n",
    "fig.update_layout(\n",
    "    title='ROIC (%) vs WACC (%) with Economic Value Zone',\n",
    "    xaxis_title='Year',\n",
    "    yaxis_title='Percentage (%)',\n",
    "    showlegend=True,\n",
    "    template='plotly_white',\n",
    "    hovermode='x unified',\n",
    "    margin=dict(t=50, l=50, r=50, b=80),  # Added more bottom margin for legend\n",
    "    legend=dict(\n",
    "        orientation=\"h\",  # Horizontal legend\n",
    "        yanchor=\"bottom\",\n",
    "        y=-0.3,  # Position below the x-axis\n",
    "        xanchor=\"center\",\n",
    "        x=0.5,   # Center the legend\n",
    "        bgcolor='rgba(255, 255, 255, 0.7)',\n",
    "        bordercolor='rgba(0, 0, 0, 0.2)',\n",
    "        borderwidth=1\n",
    "    )\n",
    ")\n",
    "\n",
    "# Show the plot\n",
    "fig.show()"
   ]
  }
 ],
 "metadata": {
  "kernelspec": {
   "display_name": ".venv",
   "language": "python",
   "name": "python3"
  },
  "language_info": {
   "codemirror_mode": {
    "name": "ipython",
    "version": 3
   },
   "file_extension": ".py",
   "mimetype": "text/x-python",
   "name": "python",
   "nbconvert_exporter": "python",
   "pygments_lexer": "ipython3",
   "version": "3.10.11"
  }
 },
 "nbformat": 4,
 "nbformat_minor": 5
}
