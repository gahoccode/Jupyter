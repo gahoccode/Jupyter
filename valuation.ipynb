{
 "cells": [
  {
   "cell_type": "markdown",
   "id": "cd127e40-2d71-4db5-939a-953847b6cb93",
   "metadata": {},
   "source": [
    "# Fundamental Analysis"
   ]
  },
  {
   "cell_type": "code",
   "execution_count": 41,
   "id": "1c195233-c614-4645-b75c-052f45038c7a",
   "metadata": {},
   "outputs": [],
   "source": [
    "import pandas as pd\n",
    "from vnstock import Vnstock\n",
    "# Set date range\n",
    "start_date = '2024-01-01'\n",
    "end_date = '2025-03-19'\n",
    "interval = '1D'\n",
    "symbol='REE'\n",
    "stock = Vnstock().stock(symbol=symbol, source='VCI')\n",
    "candle_df = stock.quote.history(start= start_date, end= end_date)"
   ]
  },
  {
   "cell_type": "code",
   "execution_count": 42,
   "id": "67c75c90-fd3b-421b-8dbd-cdbc543002c2",
   "metadata": {},
   "outputs": [],
   "source": [
    "CashFlow = stock.finance.cash_flow(period='year')\n",
    "#CashFlow.to_csv('./outputs/CashFlow.csv')"
   ]
  },
  {
   "cell_type": "markdown",
   "id": "e5a565ce-abe1-47c7-bedd-7834b6d0cb81",
   "metadata": {},
   "source": [
    "## Transpose the CF dataframe "
   ]
  },
  {
   "cell_type": "code",
   "execution_count": 43,
   "id": "e3833014-82cd-484b-b7ac-ba82e8ee14e7",
   "metadata": {},
   "outputs": [],
   "source": [
    "#CashFlow\n",
    "CashFlow_transposed = CashFlow.T\n",
    "CashFlow_transposed.columns = CashFlow['yearReport']\n",
    "# Drop the duplicate 'yearReport' row\n",
    "CashFlow_transposed = CashFlow_transposed.drop('yearReport')\n"
   ]
  },
  {
   "cell_type": "code",
   "execution_count": 44,
   "id": "a25ffa0d-35b9-4fd3-a35c-58901e0a1d14",
   "metadata": {},
   "outputs": [
    {
     "data": {
      "application/vnd.plotly.v1+json": {
       "config": {
        "plotlyServerURL": "https://plot.ly"
       },
       "data": [
        {
         "marker": {
          "color": "rgb(66, 135, 245)",
          "line": {
           "color": "lightgrey",
           "width": 1.5
          }
         },
         "opacity": 0.8,
         "text": [
          "-40.69",
          "648.78",
          "774.49",
          "680.52",
          "992.25",
          "90.24",
          "319.18",
          "612.82",
          "1524.60",
          "1569.13",
          "2816.77",
          "3783.53"
         ],
         "textposition": "outside",
         "type": "bar",
         "x": [
          2013,
          2014,
          2015,
          2016,
          2017,
          2018,
          2019,
          2020,
          2021,
          2022,
          2023,
          2024
         ],
         "y": [
          -40.692478381,
          648.780704483,
          774.486261423,
          680.524532941,
          992.245414986,
          90.24416029,
          319.175024284,
          612.823527533,
          1524.603475394,
          1569.132786521,
          2816.770167812,
          3783.526238878
         ]
        }
       ],
       "layout": {
        "height": 500,
        "margin": {
         "b": 50,
         "l": 50,
         "r": 50,
         "t": 80
        },
        "plot_bgcolor": "white",
        "template": {
         "data": {
          "bar": [
           {
            "error_x": {
             "color": "#2a3f5f"
            },
            "error_y": {
             "color": "#2a3f5f"
            },
            "marker": {
             "line": {
              "color": "#E5ECF6",
              "width": 0.5
             },
             "pattern": {
              "fillmode": "overlay",
              "size": 10,
              "solidity": 0.2
             }
            },
            "type": "bar"
           }
          ],
          "barpolar": [
           {
            "marker": {
             "line": {
              "color": "#E5ECF6",
              "width": 0.5
             },
             "pattern": {
              "fillmode": "overlay",
              "size": 10,
              "solidity": 0.2
             }
            },
            "type": "barpolar"
           }
          ],
          "carpet": [
           {
            "aaxis": {
             "endlinecolor": "#2a3f5f",
             "gridcolor": "white",
             "linecolor": "white",
             "minorgridcolor": "white",
             "startlinecolor": "#2a3f5f"
            },
            "baxis": {
             "endlinecolor": "#2a3f5f",
             "gridcolor": "white",
             "linecolor": "white",
             "minorgridcolor": "white",
             "startlinecolor": "#2a3f5f"
            },
            "type": "carpet"
           }
          ],
          "choropleth": [
           {
            "colorbar": {
             "outlinewidth": 0,
             "ticks": ""
            },
            "type": "choropleth"
           }
          ],
          "contour": [
           {
            "colorbar": {
             "outlinewidth": 0,
             "ticks": ""
            },
            "colorscale": [
             [
              0,
              "#0d0887"
             ],
             [
              0.1111111111111111,
              "#46039f"
             ],
             [
              0.2222222222222222,
              "#7201a8"
             ],
             [
              0.3333333333333333,
              "#9c179e"
             ],
             [
              0.4444444444444444,
              "#bd3786"
             ],
             [
              0.5555555555555556,
              "#d8576b"
             ],
             [
              0.6666666666666666,
              "#ed7953"
             ],
             [
              0.7777777777777778,
              "#fb9f3a"
             ],
             [
              0.8888888888888888,
              "#fdca26"
             ],
             [
              1,
              "#f0f921"
             ]
            ],
            "type": "contour"
           }
          ],
          "contourcarpet": [
           {
            "colorbar": {
             "outlinewidth": 0,
             "ticks": ""
            },
            "type": "contourcarpet"
           }
          ],
          "heatmap": [
           {
            "colorbar": {
             "outlinewidth": 0,
             "ticks": ""
            },
            "colorscale": [
             [
              0,
              "#0d0887"
             ],
             [
              0.1111111111111111,
              "#46039f"
             ],
             [
              0.2222222222222222,
              "#7201a8"
             ],
             [
              0.3333333333333333,
              "#9c179e"
             ],
             [
              0.4444444444444444,
              "#bd3786"
             ],
             [
              0.5555555555555556,
              "#d8576b"
             ],
             [
              0.6666666666666666,
              "#ed7953"
             ],
             [
              0.7777777777777778,
              "#fb9f3a"
             ],
             [
              0.8888888888888888,
              "#fdca26"
             ],
             [
              1,
              "#f0f921"
             ]
            ],
            "type": "heatmap"
           }
          ],
          "heatmapgl": [
           {
            "colorbar": {
             "outlinewidth": 0,
             "ticks": ""
            },
            "colorscale": [
             [
              0,
              "#0d0887"
             ],
             [
              0.1111111111111111,
              "#46039f"
             ],
             [
              0.2222222222222222,
              "#7201a8"
             ],
             [
              0.3333333333333333,
              "#9c179e"
             ],
             [
              0.4444444444444444,
              "#bd3786"
             ],
             [
              0.5555555555555556,
              "#d8576b"
             ],
             [
              0.6666666666666666,
              "#ed7953"
             ],
             [
              0.7777777777777778,
              "#fb9f3a"
             ],
             [
              0.8888888888888888,
              "#fdca26"
             ],
             [
              1,
              "#f0f921"
             ]
            ],
            "type": "heatmapgl"
           }
          ],
          "histogram": [
           {
            "marker": {
             "pattern": {
              "fillmode": "overlay",
              "size": 10,
              "solidity": 0.2
             }
            },
            "type": "histogram"
           }
          ],
          "histogram2d": [
           {
            "colorbar": {
             "outlinewidth": 0,
             "ticks": ""
            },
            "colorscale": [
             [
              0,
              "#0d0887"
             ],
             [
              0.1111111111111111,
              "#46039f"
             ],
             [
              0.2222222222222222,
              "#7201a8"
             ],
             [
              0.3333333333333333,
              "#9c179e"
             ],
             [
              0.4444444444444444,
              "#bd3786"
             ],
             [
              0.5555555555555556,
              "#d8576b"
             ],
             [
              0.6666666666666666,
              "#ed7953"
             ],
             [
              0.7777777777777778,
              "#fb9f3a"
             ],
             [
              0.8888888888888888,
              "#fdca26"
             ],
             [
              1,
              "#f0f921"
             ]
            ],
            "type": "histogram2d"
           }
          ],
          "histogram2dcontour": [
           {
            "colorbar": {
             "outlinewidth": 0,
             "ticks": ""
            },
            "colorscale": [
             [
              0,
              "#0d0887"
             ],
             [
              0.1111111111111111,
              "#46039f"
             ],
             [
              0.2222222222222222,
              "#7201a8"
             ],
             [
              0.3333333333333333,
              "#9c179e"
             ],
             [
              0.4444444444444444,
              "#bd3786"
             ],
             [
              0.5555555555555556,
              "#d8576b"
             ],
             [
              0.6666666666666666,
              "#ed7953"
             ],
             [
              0.7777777777777778,
              "#fb9f3a"
             ],
             [
              0.8888888888888888,
              "#fdca26"
             ],
             [
              1,
              "#f0f921"
             ]
            ],
            "type": "histogram2dcontour"
           }
          ],
          "mesh3d": [
           {
            "colorbar": {
             "outlinewidth": 0,
             "ticks": ""
            },
            "type": "mesh3d"
           }
          ],
          "parcoords": [
           {
            "line": {
             "colorbar": {
              "outlinewidth": 0,
              "ticks": ""
             }
            },
            "type": "parcoords"
           }
          ],
          "pie": [
           {
            "automargin": true,
            "type": "pie"
           }
          ],
          "scatter": [
           {
            "fillpattern": {
             "fillmode": "overlay",
             "size": 10,
             "solidity": 0.2
            },
            "type": "scatter"
           }
          ],
          "scatter3d": [
           {
            "line": {
             "colorbar": {
              "outlinewidth": 0,
              "ticks": ""
             }
            },
            "marker": {
             "colorbar": {
              "outlinewidth": 0,
              "ticks": ""
             }
            },
            "type": "scatter3d"
           }
          ],
          "scattercarpet": [
           {
            "marker": {
             "colorbar": {
              "outlinewidth": 0,
              "ticks": ""
             }
            },
            "type": "scattercarpet"
           }
          ],
          "scattergeo": [
           {
            "marker": {
             "colorbar": {
              "outlinewidth": 0,
              "ticks": ""
             }
            },
            "type": "scattergeo"
           }
          ],
          "scattergl": [
           {
            "marker": {
             "colorbar": {
              "outlinewidth": 0,
              "ticks": ""
             }
            },
            "type": "scattergl"
           }
          ],
          "scattermapbox": [
           {
            "marker": {
             "colorbar": {
              "outlinewidth": 0,
              "ticks": ""
             }
            },
            "type": "scattermapbox"
           }
          ],
          "scatterpolar": [
           {
            "marker": {
             "colorbar": {
              "outlinewidth": 0,
              "ticks": ""
             }
            },
            "type": "scatterpolar"
           }
          ],
          "scatterpolargl": [
           {
            "marker": {
             "colorbar": {
              "outlinewidth": 0,
              "ticks": ""
             }
            },
            "type": "scatterpolargl"
           }
          ],
          "scatterternary": [
           {
            "marker": {
             "colorbar": {
              "outlinewidth": 0,
              "ticks": ""
             }
            },
            "type": "scatterternary"
           }
          ],
          "surface": [
           {
            "colorbar": {
             "outlinewidth": 0,
             "ticks": ""
            },
            "colorscale": [
             [
              0,
              "#0d0887"
             ],
             [
              0.1111111111111111,
              "#46039f"
             ],
             [
              0.2222222222222222,
              "#7201a8"
             ],
             [
              0.3333333333333333,
              "#9c179e"
             ],
             [
              0.4444444444444444,
              "#bd3786"
             ],
             [
              0.5555555555555556,
              "#d8576b"
             ],
             [
              0.6666666666666666,
              "#ed7953"
             ],
             [
              0.7777777777777778,
              "#fb9f3a"
             ],
             [
              0.8888888888888888,
              "#fdca26"
             ],
             [
              1,
              "#f0f921"
             ]
            ],
            "type": "surface"
           }
          ],
          "table": [
           {
            "cells": {
             "fill": {
              "color": "#EBF0F8"
             },
             "line": {
              "color": "white"
             }
            },
            "header": {
             "fill": {
              "color": "#C8D4E3"
             },
             "line": {
              "color": "white"
             }
            },
            "type": "table"
           }
          ]
         },
         "layout": {
          "annotationdefaults": {
           "arrowcolor": "#2a3f5f",
           "arrowhead": 0,
           "arrowwidth": 1
          },
          "autotypenumbers": "strict",
          "coloraxis": {
           "colorbar": {
            "outlinewidth": 0,
            "ticks": ""
           }
          },
          "colorscale": {
           "diverging": [
            [
             0,
             "#8e0152"
            ],
            [
             0.1,
             "#c51b7d"
            ],
            [
             0.2,
             "#de77ae"
            ],
            [
             0.3,
             "#f1b6da"
            ],
            [
             0.4,
             "#fde0ef"
            ],
            [
             0.5,
             "#f7f7f7"
            ],
            [
             0.6,
             "#e6f5d0"
            ],
            [
             0.7,
             "#b8e186"
            ],
            [
             0.8,
             "#7fbc41"
            ],
            [
             0.9,
             "#4d9221"
            ],
            [
             1,
             "#276419"
            ]
           ],
           "sequential": [
            [
             0,
             "#0d0887"
            ],
            [
             0.1111111111111111,
             "#46039f"
            ],
            [
             0.2222222222222222,
             "#7201a8"
            ],
            [
             0.3333333333333333,
             "#9c179e"
            ],
            [
             0.4444444444444444,
             "#bd3786"
            ],
            [
             0.5555555555555556,
             "#d8576b"
            ],
            [
             0.6666666666666666,
             "#ed7953"
            ],
            [
             0.7777777777777778,
             "#fb9f3a"
            ],
            [
             0.8888888888888888,
             "#fdca26"
            ],
            [
             1,
             "#f0f921"
            ]
           ],
           "sequentialminus": [
            [
             0,
             "#0d0887"
            ],
            [
             0.1111111111111111,
             "#46039f"
            ],
            [
             0.2222222222222222,
             "#7201a8"
            ],
            [
             0.3333333333333333,
             "#9c179e"
            ],
            [
             0.4444444444444444,
             "#bd3786"
            ],
            [
             0.5555555555555556,
             "#d8576b"
            ],
            [
             0.6666666666666666,
             "#ed7953"
            ],
            [
             0.7777777777777778,
             "#fb9f3a"
            ],
            [
             0.8888888888888888,
             "#fdca26"
            ],
            [
             1,
             "#f0f921"
            ]
           ]
          },
          "colorway": [
           "#636efa",
           "#EF553B",
           "#00cc96",
           "#ab63fa",
           "#FFA15A",
           "#19d3f3",
           "#FF6692",
           "#B6E880",
           "#FF97FF",
           "#FECB52"
          ],
          "font": {
           "color": "#2a3f5f"
          },
          "geo": {
           "bgcolor": "white",
           "lakecolor": "white",
           "landcolor": "#E5ECF6",
           "showlakes": true,
           "showland": true,
           "subunitcolor": "white"
          },
          "hoverlabel": {
           "align": "left"
          },
          "hovermode": "closest",
          "mapbox": {
           "style": "light"
          },
          "paper_bgcolor": "white",
          "plot_bgcolor": "#E5ECF6",
          "polar": {
           "angularaxis": {
            "gridcolor": "white",
            "linecolor": "white",
            "ticks": ""
           },
           "bgcolor": "#E5ECF6",
           "radialaxis": {
            "gridcolor": "white",
            "linecolor": "white",
            "ticks": ""
           }
          },
          "scene": {
           "xaxis": {
            "backgroundcolor": "#E5ECF6",
            "gridcolor": "white",
            "gridwidth": 2,
            "linecolor": "white",
            "showbackground": true,
            "ticks": "",
            "zerolinecolor": "white"
           },
           "yaxis": {
            "backgroundcolor": "#E5ECF6",
            "gridcolor": "white",
            "gridwidth": 2,
            "linecolor": "white",
            "showbackground": true,
            "ticks": "",
            "zerolinecolor": "white"
           },
           "zaxis": {
            "backgroundcolor": "#E5ECF6",
            "gridcolor": "white",
            "gridwidth": 2,
            "linecolor": "white",
            "showbackground": true,
            "ticks": "",
            "zerolinecolor": "white"
           }
          },
          "shapedefaults": {
           "line": {
            "color": "#2a3f5f"
           }
          },
          "ternary": {
           "aaxis": {
            "gridcolor": "white",
            "linecolor": "white",
            "ticks": ""
           },
           "baxis": {
            "gridcolor": "white",
            "linecolor": "white",
            "ticks": ""
           },
           "bgcolor": "#E5ECF6",
           "caxis": {
            "gridcolor": "white",
            "linecolor": "white",
            "ticks": ""
           }
          },
          "title": {
           "x": 0.05
          },
          "xaxis": {
           "automargin": true,
           "gridcolor": "white",
           "linecolor": "white",
           "ticks": "",
           "title": {
            "standoff": 15
           },
           "zerolinecolor": "white",
           "zerolinewidth": 2
          },
          "yaxis": {
           "automargin": true,
           "gridcolor": "white",
           "linecolor": "white",
           "ticks": "",
           "title": {
            "standoff": 15
           },
           "zerolinecolor": "white",
           "zerolinewidth": 2
          }
         }
        },
        "title": {
         "text": "Net Operating Cashflow"
        },
        "width": 800,
        "xaxis": {
         "showgrid": false,
         "tickangle": 45,
         "title": {
          "text": "Years"
         }
        },
        "yaxis": {
         "gridcolor": "lightgray",
         "gridwidth": 0.5,
         "showgrid": false,
         "title": {
          "text": "Value (Billions)"
         }
        }
       }
      }
     },
     "metadata": {},
     "output_type": "display_data"
    }
   ],
   "source": [
    "import plotly.graph_objects as go\n",
    "import pandas as pd\n",
    "import numpy as np\n",
    "\n",
    "# Normalize values to billions\n",
    "data = CashFlow['Net cash inflows/outflows from operating activities'] / 1000_000_000\n",
    "\n",
    "# Sort data by year to ensure proper ordering\n",
    "sorted_indices = CashFlow['yearReport'].argsort()\n",
    "years = CashFlow['yearReport'].iloc[sorted_indices].tolist()\n",
    "sorted_data = data.iloc[sorted_indices].tolist()\n",
    "\n",
    "# Create the figure\n",
    "fig = go.Figure()\n",
    "\n",
    "# Add the bar chart\n",
    "fig.add_trace(go.Bar(\n",
    "    x=years,\n",
    "    y=sorted_data,\n",
    "    text=[f'{v:.2f}' for v in sorted_data],\n",
    "    textposition='outside',\n",
    "    marker_color='rgb(66, 135, 245)',\n",
    "    marker_line_color='lightgrey',\n",
    "    marker_line_width=1.5,\n",
    "    opacity=0.8\n",
    "))\n",
    "\n",
    "# Update layout\n",
    "fig.update_layout(\n",
    "    title='Net Operating Cashflow',\n",
    "    xaxis_title='Years',\n",
    "    yaxis_title='Value (Billions)',\n",
    "    plot_bgcolor='white',\n",
    "    margin=dict(l=50, r=50, t=80, b=50),\n",
    "    height=500,\n",
    "    width=800\n",
    ")\n",
    "\n",
    "# Clean up the axes\n",
    "fig.update_xaxes(\n",
    "    tickangle=45,\n",
    "    showgrid=False\n",
    ")\n",
    "\n",
    "fig.update_yaxes(\n",
    "    showgrid=False,\n",
    "    gridcolor='lightgray',\n",
    "    gridwidth=0.5\n",
    ")\n",
    "\n",
    "# Show the plot\n",
    "fig.show()"
   ]
  },
  {
   "cell_type": "code",
   "execution_count": 45,
   "id": "298c3d6b-f113-42e0-b0c6-95eb6c2d3ac1",
   "metadata": {},
   "outputs": [
    {
     "name": "stderr",
     "output_type": "stream",
     "text": [
      "2025-05-17 19:11:25 - vnstock.explorer.vci.financial - ERROR - Error processing financial report data: Failed to fetch data: 405 - Not Allowed\n",
      "2025-05-17 19:11:25 - vnstock.explorer.vci.financial - ERROR - Error retrieving financial ratios: Failed to fetch data: 405 - Not Allowed\n",
      "2025-05-17 19:11:25 - vnstock.common.data.data_explorer - ERROR - Lỗi khi truy xuất dữ liệu ratio: Failed to fetch data: 405 - Not Allowed\n"
     ]
    },
    {
     "ename": "ConnectionError",
     "evalue": "Failed to fetch data: 405 - Not Allowed",
     "output_type": "error",
     "traceback": [
      "\u001b[1;31m---------------------------------------------------------------------------\u001b[0m",
      "\u001b[1;31mConnectionError\u001b[0m                           Traceback (most recent call last)",
      "Cell \u001b[1;32mIn[45], line 1\u001b[0m\n\u001b[1;32m----> 1\u001b[0m Ratio \u001b[38;5;241m=\u001b[39m \u001b[43mstock\u001b[49m\u001b[38;5;241;43m.\u001b[39;49m\u001b[43mfinance\u001b[49m\u001b[38;5;241;43m.\u001b[39;49m\u001b[43mratio\u001b[49m\u001b[43m(\u001b[49m\u001b[43mperiod\u001b[49m\u001b[38;5;241;43m=\u001b[39;49m\u001b[38;5;124;43m'\u001b[39;49m\u001b[38;5;124;43myear\u001b[39;49m\u001b[38;5;124;43m'\u001b[39;49m\u001b[43m,\u001b[49m\u001b[43m \u001b[49m\u001b[43mlang\u001b[49m\u001b[38;5;241;43m=\u001b[39;49m\u001b[38;5;124;43m'\u001b[39;49m\u001b[38;5;124;43mvi\u001b[39;49m\u001b[38;5;124;43m'\u001b[39;49m\u001b[43m,\u001b[49m\u001b[43m \u001b[49m\u001b[43mdropna\u001b[49m\u001b[38;5;241;43m=\u001b[39;49m\u001b[38;5;28;43;01mTrue\u001b[39;49;00m\u001b[43m)\u001b[49m\n",
      "File \u001b[1;32mf:\\Data Science\\Jupyter\\.venv\\lib\\site-packages\\vnstock\\common\\data\\data_explorer.py:321\u001b[0m, in \u001b[0;36mFinance.ratio\u001b[1;34m(self, symbol, **kwargs)\u001b[0m\n\u001b[0;32m    319\u001b[0m \u001b[38;5;129m@lru_cache\u001b[39m(maxsize\u001b[38;5;241m=\u001b[39mConfig\u001b[38;5;241m.\u001b[39mCACHE_SIZE)\n\u001b[0;32m    320\u001b[0m \u001b[38;5;28;01mdef\u001b[39;00m\u001b[38;5;250m \u001b[39m\u001b[38;5;21mratio\u001b[39m(\u001b[38;5;28mself\u001b[39m, symbol: Optional[\u001b[38;5;28mstr\u001b[39m] \u001b[38;5;241m=\u001b[39m \u001b[38;5;28;01mNone\u001b[39;00m, \u001b[38;5;241m*\u001b[39m\u001b[38;5;241m*\u001b[39mkwargs) \u001b[38;5;241m-\u001b[39m\u001b[38;5;241m>\u001b[39m Any:\n\u001b[1;32m--> 321\u001b[0m     \u001b[38;5;28;01mreturn\u001b[39;00m \u001b[38;5;28mself\u001b[39m\u001b[38;5;241m.\u001b[39m_get_financial_data(\u001b[38;5;124m'\u001b[39m\u001b[38;5;124mratio\u001b[39m\u001b[38;5;124m'\u001b[39m, symbol, \u001b[38;5;241m*\u001b[39m\u001b[38;5;241m*\u001b[39mkwargs)\n",
      "File \u001b[1;32mf:\\Data Science\\Jupyter\\.venv\\lib\\site-packages\\vnstock\\common\\data\\data_explorer.py:299\u001b[0m, in \u001b[0;36mFinance._get_financial_data\u001b[1;34m(self, data_type, symbol, **kwargs)\u001b[0m\n\u001b[0;32m    297\u001b[0m \u001b[38;5;28;01mtry\u001b[39;00m:\n\u001b[0;32m    298\u001b[0m     method \u001b[38;5;241m=\u001b[39m \u001b[38;5;28mgetattr\u001b[39m(\u001b[38;5;28mself\u001b[39m\u001b[38;5;241m.\u001b[39mdata_source, data_type)\n\u001b[1;32m--> 299\u001b[0m     \u001b[38;5;28;01mreturn\u001b[39;00m method(\u001b[38;5;241m*\u001b[39m\u001b[38;5;241m*\u001b[39mprocessed_kwargs)\n\u001b[0;32m    300\u001b[0m \u001b[38;5;28;01mexcept\u001b[39;00m \u001b[38;5;167;01mAttributeError\u001b[39;00m:\n\u001b[0;32m    301\u001b[0m     logger\u001b[38;5;241m.\u001b[39merror(\u001b[38;5;124mf\u001b[39m\u001b[38;5;124m\"\u001b[39m\u001b[38;5;124mNguồn dữ liệu \u001b[39m\u001b[38;5;132;01m{\u001b[39;00m\u001b[38;5;28mself\u001b[39m\u001b[38;5;241m.\u001b[39msource\u001b[38;5;132;01m}\u001b[39;00m\u001b[38;5;124m không hỗ trợ dữ liệu \u001b[39m\u001b[38;5;132;01m{\u001b[39;00mdata_type\u001b[38;5;132;01m}\u001b[39;00m\u001b[38;5;124m\"\u001b[39m)\n",
      "File \u001b[1;32mf:\\Data Science\\Jupyter\\.venv\\lib\\site-packages\\vnai\\beam\\quota.py:430\u001b[0m, in \u001b[0;36m_create_wrapper.<locals>.wrapper\u001b[1;34m(*args, **kwargs)\u001b[0m\n\u001b[0;32m    426\u001b[0m error \u001b[38;5;241m=\u001b[39m \u001b[38;5;28;01mNone\u001b[39;00m\n\u001b[0;32m    428\u001b[0m \u001b[38;5;28;01mtry\u001b[39;00m:\n\u001b[0;32m    429\u001b[0m     \u001b[38;5;66;03m# Execute the original function\u001b[39;00m\n\u001b[1;32m--> 430\u001b[0m     result \u001b[38;5;241m=\u001b[39m func(\u001b[38;5;241m*\u001b[39margs, \u001b[38;5;241m*\u001b[39m\u001b[38;5;241m*\u001b[39mkwargs)\n\u001b[0;32m    431\u001b[0m     success \u001b[38;5;241m=\u001b[39m \u001b[38;5;28;01mTrue\u001b[39;00m\n\u001b[0;32m    432\u001b[0m     \u001b[38;5;28;01mreturn\u001b[39;00m result\n",
      "File \u001b[1;32mf:\\Data Science\\Jupyter\\.venv\\lib\\site-packages\\vnstock\\explorer\\vci\\financial.py:461\u001b[0m, in \u001b[0;36mFinance.ratio\u001b[1;34m(self, period, lang, dropna, show_log, flatten_columns, separator, drop_levels)\u001b[0m\n\u001b[0;32m    458\u001b[0m effective_period \u001b[38;5;241m=\u001b[39m _FINANCIAL_REPORT_PERIOD_MAP\u001b[38;5;241m.\u001b[39mget(period, period) \u001b[38;5;28;01mif\u001b[39;00m period \u001b[38;5;28;01melse\u001b[39;00m \u001b[38;5;28mself\u001b[39m\u001b[38;5;241m.\u001b[39mperiod\n\u001b[0;32m    460\u001b[0m \u001b[38;5;28;01mtry\u001b[39;00m:\n\u001b[1;32m--> 461\u001b[0m     financial_report \u001b[38;5;241m=\u001b[39m \u001b[38;5;28;43mself\u001b[39;49m\u001b[38;5;241;43m.\u001b[39;49m\u001b[43m_get_report\u001b[49m\u001b[43m(\u001b[49m\u001b[43mperiod\u001b[49m\u001b[38;5;241;43m=\u001b[39;49m\u001b[43meffective_period\u001b[49m\u001b[43m,\u001b[49m\u001b[43m \u001b[49m\u001b[43mlang\u001b[49m\u001b[38;5;241;43m=\u001b[39;49m\u001b[43mlang\u001b[49m\u001b[43m,\u001b[49m\u001b[43m \u001b[49m\u001b[43mshow_log\u001b[49m\u001b[38;5;241;43m=\u001b[39;49m\u001b[43mshow_log\u001b[49m\u001b[43m)\u001b[49m[\u001b[38;5;241m1\u001b[39m]\n\u001b[0;32m    463\u001b[0m     \u001b[38;5;28;01mif\u001b[39;00m dropna:\n\u001b[0;32m    464\u001b[0m         \u001b[38;5;66;03m# Fill NaN values with 0\u001b[39;00m\n\u001b[0;32m    465\u001b[0m         financial_report \u001b[38;5;241m=\u001b[39m financial_report\u001b[38;5;241m.\u001b[39mfillna(\u001b[38;5;241m0\u001b[39m)\n",
      "File \u001b[1;32mf:\\Data Science\\Jupyter\\.venv\\lib\\site-packages\\vnstock\\explorer\\vci\\financial.py:186\u001b[0m, in \u001b[0;36mFinance._get_report\u001b[1;34m(self, period, lang, show_log, mode)\u001b[0m\n\u001b[0;32m    183\u001b[0m ratio_df \u001b[38;5;241m=\u001b[39m pd\u001b[38;5;241m.\u001b[39mDataFrame(selected_data)\n\u001b[0;32m    185\u001b[0m \u001b[38;5;28;01mif\u001b[39;00m mode \u001b[38;5;241m==\u001b[39m \u001b[38;5;124m'\u001b[39m\u001b[38;5;124mfinal\u001b[39m\u001b[38;5;124m'\u001b[39m:\n\u001b[1;32m--> 186\u001b[0m     primary_dfs, other_reports \u001b[38;5;241m=\u001b[39m \u001b[38;5;28;43mself\u001b[39;49m\u001b[38;5;241;43m.\u001b[39;49m\u001b[43m_ratio_mapping\u001b[49m\u001b[43m(\u001b[49m\u001b[43mratio_df\u001b[49m\u001b[43m,\u001b[49m\u001b[43m \u001b[49m\u001b[43mlang\u001b[49m\u001b[38;5;241;43m=\u001b[39;49m\u001b[43mlang\u001b[49m\u001b[43m,\u001b[49m\u001b[43m \u001b[49m\u001b[43mshow_log\u001b[49m\u001b[38;5;241;43m=\u001b[39;49m\u001b[43mshow_log\u001b[49m\u001b[43m)\u001b[49m\n\u001b[0;32m    187\u001b[0m     \u001b[38;5;28;01mreturn\u001b[39;00m primary_dfs, other_reports\n\u001b[0;32m    188\u001b[0m \u001b[38;5;28;01melif\u001b[39;00m mode \u001b[38;5;241m==\u001b[39m \u001b[38;5;124m'\u001b[39m\u001b[38;5;124mraw\u001b[39m\u001b[38;5;124m'\u001b[39m:\n",
      "File \u001b[1;32mf:\\Data Science\\Jupyter\\.venv\\lib\\site-packages\\vnai\\beam\\quota.py:430\u001b[0m, in \u001b[0;36m_create_wrapper.<locals>.wrapper\u001b[1;34m(*args, **kwargs)\u001b[0m\n\u001b[0;32m    426\u001b[0m error \u001b[38;5;241m=\u001b[39m \u001b[38;5;28;01mNone\u001b[39;00m\n\u001b[0;32m    428\u001b[0m \u001b[38;5;28;01mtry\u001b[39;00m:\n\u001b[0;32m    429\u001b[0m     \u001b[38;5;66;03m# Execute the original function\u001b[39;00m\n\u001b[1;32m--> 430\u001b[0m     result \u001b[38;5;241m=\u001b[39m func(\u001b[38;5;241m*\u001b[39margs, \u001b[38;5;241m*\u001b[39m\u001b[38;5;241m*\u001b[39mkwargs)\n\u001b[0;32m    431\u001b[0m     success \u001b[38;5;241m=\u001b[39m \u001b[38;5;28;01mTrue\u001b[39;00m\n\u001b[0;32m    432\u001b[0m     \u001b[38;5;28;01mreturn\u001b[39;00m result\n",
      "File \u001b[1;32mf:\\Data Science\\Jupyter\\.venv\\lib\\site-packages\\vnstock\\explorer\\vci\\financial.py:225\u001b[0m, in \u001b[0;36mFinance._ratio_mapping\u001b[1;34m(self, ratio_df, lang, mode, show_log)\u001b[0m\n\u001b[0;32m    222\u001b[0m     target_col_name \u001b[38;5;241m=\u001b[39m \u001b[38;5;124m'\u001b[39m\u001b[38;5;124men_name\u001b[39m\u001b[38;5;124m'\u001b[39m\n\u001b[0;32m    224\u001b[0m \u001b[38;5;66;03m# Create a dictionary to map field_name to report type\u001b[39;00m\n\u001b[1;32m--> 225\u001b[0m mapping_df \u001b[38;5;241m=\u001b[39m \u001b[38;5;28;43mself\u001b[39;49m\u001b[38;5;241;43m.\u001b[39;49m\u001b[43m_get_ratio_dict\u001b[49m\u001b[43m(\u001b[49m\u001b[43mget_all\u001b[49m\u001b[38;5;241;43m=\u001b[39;49m\u001b[38;5;28;43;01mFalse\u001b[39;49;00m\u001b[43m)\u001b[49m\n\u001b[0;32m    226\u001b[0m \u001b[38;5;66;03m# Filter the mapping DataFrame based on company type code. Split mapping into two parts: 'CT' and company-specific mapping\u001b[39;00m\n\u001b[0;32m    227\u001b[0m \u001b[38;5;28;01mif\u001b[39;00m \u001b[38;5;28mself\u001b[39m\u001b[38;5;241m.\u001b[39mcom_type_code \u001b[38;5;241m!=\u001b[39m \u001b[38;5;124m'\u001b[39m\u001b[38;5;124mCT\u001b[39m\u001b[38;5;124m'\u001b[39m:\n",
      "File \u001b[1;32mf:\\Data Science\\Jupyter\\.venv\\lib\\site-packages\\vnstock\\explorer\\vci\\financial.py:115\u001b[0m, in \u001b[0;36mFinance._get_ratio_dict\u001b[1;34m(self, show_log, get_all)\u001b[0m\n\u001b[0;32m    112\u001b[0m     logger\u001b[38;5;241m.\u001b[39mdebug(\u001b[38;5;124mf\u001b[39m\u001b[38;5;124m\"\u001b[39m\u001b[38;5;124mRequesting financial ratio data from \u001b[39m\u001b[38;5;132;01m{\u001b[39;00m_GRAPHQL_URL\u001b[38;5;132;01m}\u001b[39;00m\u001b[38;5;124m. payload: \u001b[39m\u001b[38;5;132;01m{\u001b[39;00mpayload\u001b[38;5;132;01m}\u001b[39;00m\u001b[38;5;124m\"\u001b[39m)\n\u001b[0;32m    114\u001b[0m \u001b[38;5;66;03m# Use api_client.send_request instead of direct requests\u001b[39;00m\n\u001b[1;32m--> 115\u001b[0m response_data \u001b[38;5;241m=\u001b[39m \u001b[43mclient\u001b[49m\u001b[38;5;241;43m.\u001b[39;49m\u001b[43msend_request\u001b[49m\u001b[43m(\u001b[49m\n\u001b[0;32m    116\u001b[0m \u001b[43m    \u001b[49m\u001b[43murl\u001b[49m\u001b[38;5;241;43m=\u001b[39;49m\u001b[43m_GRAPHQL_URL\u001b[49m\u001b[43m,\u001b[49m\n\u001b[0;32m    117\u001b[0m \u001b[43m    \u001b[49m\u001b[43mheaders\u001b[49m\u001b[38;5;241;43m=\u001b[39;49m\u001b[38;5;28;43mself\u001b[39;49m\u001b[38;5;241;43m.\u001b[39;49m\u001b[43mheaders\u001b[49m\u001b[43m,\u001b[49m\n\u001b[0;32m    118\u001b[0m \u001b[43m    \u001b[49m\u001b[43mmethod\u001b[49m\u001b[38;5;241;43m=\u001b[39;49m\u001b[38;5;124;43m\"\u001b[39;49m\u001b[38;5;124;43mPOST\u001b[39;49m\u001b[38;5;124;43m\"\u001b[39;49m\u001b[43m,\u001b[49m\n\u001b[0;32m    119\u001b[0m \u001b[43m    \u001b[49m\u001b[43mpayload\u001b[49m\u001b[38;5;241;43m=\u001b[39;49m\u001b[43mpayload_json\u001b[49m\u001b[43m,\u001b[49m\n\u001b[0;32m    120\u001b[0m \u001b[43m    \u001b[49m\u001b[43mshow_log\u001b[49m\u001b[38;5;241;43m=\u001b[39;49m\u001b[43mshow_log\u001b[49m\n\u001b[0;32m    121\u001b[0m \u001b[43m\u001b[49m\u001b[43m)\u001b[49m\n\u001b[0;32m    123\u001b[0m data \u001b[38;5;241m=\u001b[39m response_data[\u001b[38;5;124m'\u001b[39m\u001b[38;5;124mdata\u001b[39m\u001b[38;5;124m'\u001b[39m][\u001b[38;5;124m'\u001b[39m\u001b[38;5;124mListFinancialRatio\u001b[39m\u001b[38;5;124m'\u001b[39m]\n\u001b[0;32m    124\u001b[0m df \u001b[38;5;241m=\u001b[39m pd\u001b[38;5;241m.\u001b[39mDataFrame(data)\n",
      "File \u001b[1;32mf:\\Data Science\\Jupyter\\.venv\\lib\\site-packages\\vnstock\\core\\utils\\client.py:33\u001b[0m, in \u001b[0;36msend_request\u001b[1;34m(url, headers, method, params, payload, show_log, timeout)\u001b[0m\n\u001b[0;32m     25\u001b[0m     response \u001b[38;5;241m=\u001b[39m requests\u001b[38;5;241m.\u001b[39mpost(\n\u001b[0;32m     26\u001b[0m         url, \n\u001b[0;32m     27\u001b[0m         headers\u001b[38;5;241m=\u001b[39mheaders, \n\u001b[0;32m     28\u001b[0m         data\u001b[38;5;241m=\u001b[39mjson\u001b[38;5;241m.\u001b[39mdumps(payload) \u001b[38;5;28;01mif\u001b[39;00m payload \u001b[38;5;28;01melse\u001b[39;00m \u001b[38;5;28;01mNone\u001b[39;00m,\n\u001b[0;32m     29\u001b[0m         timeout\u001b[38;5;241m=\u001b[39mtimeout\n\u001b[0;32m     30\u001b[0m     )\n\u001b[0;32m     32\u001b[0m \u001b[38;5;28;01mif\u001b[39;00m response\u001b[38;5;241m.\u001b[39mstatus_code \u001b[38;5;241m!=\u001b[39m \u001b[38;5;241m200\u001b[39m:\n\u001b[1;32m---> 33\u001b[0m     \u001b[38;5;28;01mraise\u001b[39;00m \u001b[38;5;167;01mConnectionError\u001b[39;00m(\u001b[38;5;124mf\u001b[39m\u001b[38;5;124m\"\u001b[39m\u001b[38;5;124mFailed to fetch data: \u001b[39m\u001b[38;5;132;01m{\u001b[39;00mresponse\u001b[38;5;241m.\u001b[39mstatus_code\u001b[38;5;132;01m}\u001b[39;00m\u001b[38;5;124m - \u001b[39m\u001b[38;5;132;01m{\u001b[39;00mresponse\u001b[38;5;241m.\u001b[39mreason\u001b[38;5;132;01m}\u001b[39;00m\u001b[38;5;124m\"\u001b[39m)\n\u001b[0;32m     35\u001b[0m data \u001b[38;5;241m=\u001b[39m response\u001b[38;5;241m.\u001b[39mjson()\n\u001b[0;32m     37\u001b[0m \u001b[38;5;28;01mif\u001b[39;00m show_log:\n",
      "\u001b[1;31mConnectionError\u001b[0m: Failed to fetch data: 405 - Not Allowed"
     ]
    }
   ],
   "source": [
    "Ratio = stock.finance.ratio(period='year', lang='vi', dropna=True)"
   ]
  },
  {
   "cell_type": "markdown",
   "id": "182c0a03-f27c-4178-9fdd-be3290e0e92f",
   "metadata": {},
   "source": [
    "### Transpose the data frame to display on the web."
   ]
  },
  {
   "cell_type": "code",
   "execution_count": null,
   "id": "2e2e3524-7d39-48e6-895e-efeead4fa027",
   "metadata": {},
   "outputs": [],
   "source": [
    "Ratio_transposed = Ratio.T\n",
    "Ratio_transposed.columns=Ratio_transposed.iloc[1]\n",
    "Ratio_transposed = Ratio_transposed.iloc[3:]"
   ]
  },
  {
   "cell_type": "code",
   "execution_count": null,
   "id": "8c64d7d4-ee62-4a14-b923-42382561a910",
   "metadata": {},
   "outputs": [],
   "source": [
    "# Example: Select the 'ROE (%)' column under 'Chỉ tiêu khả năng sinh lợi'\n",
    "dividend_yield = Ratio[('Chỉ tiêu khả năng sinh lợi', 'Tỷ suất cổ tức (%)')]\n",
    "Outstanding_Shares = Ratio[('Chỉ tiêu định giá', 'Số CP lưu hành (Triệu CP)')]\n"
   ]
  },
  {
   "cell_type": "code",
   "execution_count": null,
   "id": "35ccb588-cc7e-434f-a84b-2792edbba842",
   "metadata": {},
   "outputs": [],
   "source": [
    "import seaborn as sns\n",
    "import matplotlib.pyplot as plt\n",
    "\n",
    "# Define the five most meaningful metrics (six columns for all pairwise relationships)\n",
    "selected_cols = [\n",
    "    ('Chỉ tiêu khả năng sinh lợi', 'ROE (%)'),\n",
    "    ('Chỉ tiêu cơ cấu nguồn vốn', 'Nợ/VCSH'),\n",
    "    ('Chỉ tiêu hiệu quả hoạt động', 'Vòng quay tài sản'),\n",
    "    ('Chỉ tiêu khả năng sinh lợi', 'Biên lợi nhuận ròng (%)'),\n",
    "    ('Chỉ tiêu thanh khoản', 'Chỉ số thanh toán hiện thời'),\n",
    "    ('Chỉ tiêu định giá', 'P/S'),\n",
    "]\n",
    "\n",
    "# Subset the DataFrame\n",
    "df_pair = Ratio[selected_cols].copy()\n",
    "\n",
    "# Use only the second part of each column tuple (the metric name)\n",
    "df_pair.columns = [col[1] for col in df_pair.columns]\n",
    "\n",
    "# Optional: Remove rows with missing values for these columns\n",
    "#df_pair = df_pair.dropna()\n",
    "\n",
    "# Create the pairplot\n",
    "sns.pairplot(df_pair, diag_kind='kde', corner=True)\n",
    "plt.suptitle('Pairplot of Key Financial Metrics', y=1.02)\n",
    "plt.tight_layout()\n",
    "plt.show()"
   ]
  },
  {
   "cell_type": "markdown",
   "id": "58def4c9-c6cc-427a-8328-8d06b431991b",
   "metadata": {},
   "source": [
    "### Transform the balance sheet from long format to wide format. "
   ]
  },
  {
   "cell_type": "code",
   "execution_count": null,
   "id": "ae5877c5-c76e-4165-be7b-dd247488f726",
   "metadata": {},
   "outputs": [],
   "source": [
    "def BS_wide(stock=None):\n",
    "    \"\"\"\n",
    "    Transform balance sheet data into a wide format with years as columns and metrics as rows.\n",
    "    \n",
    "    Parameters:\n",
    "    -----------\n",
    "    stock : object, default=None\n",
    "        The stock ticker object containing financial data.\n",
    "        If None, will create a default stock object for REE from VCI source.\n",
    "    \n",
    "    Returns:\n",
    "    --------\n",
    "    pandas.DataFrame\n",
    "        Transformed balance sheet with years as columns and financial metrics as rows\n",
    "    \"\"\"\n",
    "    \n",
    "    # Create default stock object if not provided\n",
    "    if stock is None:\n",
    "        stock = Vnstock().stock(symbol= symbol, source='VCI')\n",
    "    \n",
    "    # Get the balance sheet data\n",
    "    BS = stock.finance.balance_sheet(period='year', lang='en', dropna=True)\n",
    "    \n",
    "    # Transpose the DataFrame\n",
    "    BS_wide = BS.T\n",
    "    \n",
    "    # Promote header by setting column names using the second row (index 1)\n",
    "    BS_wide.columns = BS_wide.iloc[1]\n",
    "    \n",
    "    # Keep only the data rows (skip the first 3 rows)\n",
    "    BS_wide = BS_wide.iloc[3:]\n",
    "    \n",
    "    return BS_wide"
   ]
  },
  {
   "cell_type": "code",
   "execution_count": null,
   "id": "5c75999d-271f-4882-9985-ba6dddaada4d",
   "metadata": {},
   "outputs": [],
   "source": [
    "# BS_wide(stock)"
   ]
  },
  {
   "cell_type": "code",
   "execution_count": null,
   "id": "e1e76c39-5962-428b-9d2e-36f522923d30",
   "metadata": {},
   "outputs": [],
   "source": [
    "BalanceSheet = stock.finance.balance_sheet(period='year', lang='en', dropna=True)\n",
    "BalanceSheet_Transposed = BalanceSheet.T\n",
    "BalanceSheet_Transposed.columns = BalanceSheet_Transposed.iloc[1]\n",
    "BalanceSheet_Transposed = BalanceSheet_Transposed.iloc[3:]\n"
   ]
  },
  {
   "cell_type": "markdown",
   "id": "e4aeeace-b3d9-4895-ad30-6b3e0f470af6",
   "metadata": {},
   "source": [
    "### Transform Income statement from long format to wide format. "
   ]
  },
  {
   "cell_type": "code",
   "execution_count": null,
   "id": "9ce33326-5577-4946-94ce-8ffa2eaa7c91",
   "metadata": {},
   "outputs": [],
   "source": [
    "IncomeStatement = stock.finance.income_statement(period='year', lang='en', dropna=True)\n",
    "IncomeStatement_Transpose= IncomeStatement.T\n",
    "IncomeStatement_Transpose.columns = IncomeStatement_Transpose.iloc[1]\n",
    "IncomeStatement_Transpose = IncomeStatement_Transpose.iloc[3:]\n"
   ]
  },
  {
   "cell_type": "code",
   "execution_count": null,
   "id": "066f7e8d-1241-42d9-bee8-3bc1cc582616",
   "metadata": {},
   "outputs": [],
   "source": [
    "from vnstock import Vnstock\n",
    "import warnings\n",
    "warnings.filterwarnings(\"ignore\")\n",
    "company = Vnstock().stock(symbol=symbol, source='TCBS').company\n"
   ]
  },
  {
   "cell_type": "code",
   "execution_count": null,
   "id": "69fea5c2-d98e-41da-abb0-0ef0e53c602c",
   "metadata": {},
   "outputs": [],
   "source": [
    "# Levered Free Cash Flow (accounts for debt repayments/receipts)\n",
    "CashFlow['Levered Free Cash Flow'] = (\n",
    "    CashFlow['Net cash inflows/outflows from operating activities'] \n",
    "    - CashFlow['Purchase of fixed assets']\n",
    "    + CashFlow['Proceeds from disposal of fixed assets']\n",
    "    - (CashFlow['Repayment of borrowings'] - CashFlow['Proceeds from borrowings'])\n",
    ")"
   ]
  },
  {
   "cell_type": "code",
   "execution_count": null,
   "id": "b2f8d0d8-181c-418d-9dd1-445bc8aa30af",
   "metadata": {},
   "outputs": [],
   "source": [
    "dividend_coverage_ratio = CashFlow['Levered Free Cash Flow'] / CashFlow['Dividends paid'].abs()"
   ]
  },
  {
   "cell_type": "markdown",
   "id": "2f20a3d7-bd45-4cdd-aa60-13c7a64985e1",
   "metadata": {},
   "source": [
    "# Using Market value cost of debt"
   ]
  },
  {
   "cell_type": "code",
   "execution_count": null,
   "id": "e26fdeb0-a756-400a-a9b2-8ca37e34c48f",
   "metadata": {},
   "outputs": [],
   "source": [
    "# Step 1: Get book values from Balance Sheet\n",
    "short_term_debt = BalanceSheet['Short-term borrowings (Bn. VND)']\n",
    "long_term_debt = BalanceSheet['Long-term borrowings (Bn. VND)']\n",
    "total_debt = short_term_debt + long_term_debt\n",
    "book_equity = BalanceSheet[\"OWNER'S EQUITY(Bn.VND)\"]\n",
    "\n",
    "# Step 2: Get market values\n",
    "# Market capitalization for equity\n",
    "market_value_of_equity = Ratio[('Chỉ tiêu định giá', 'Vốn hóa (Tỷ đồng)')]  # Market capitalization\n",
    "\n",
    "# Use book value of debt as a proxy for market value of debt\n",
    "# (In practice, we'd prefer bond prices or yield-based valuation if available)\n",
    "market_value_of_debt = total_debt\n",
    "\n",
    "# Calculate total market capital and weights\n",
    "total_market_capital = market_value_of_equity + market_value_of_debt\n",
    "market_weight_of_debt = market_value_of_debt.div(total_market_capital).fillna(0)\n",
    "market_weight_of_equity = market_value_of_equity.div(total_market_capital).fillna(0)\n",
    "\n",
    "# Step 3: Market-based cost of debt\n",
    "# Option 1: If you have specific bond yield data (example values)\n",
    "# In reality, this would vary by company or be derived from external data sources\n",
    "base_interest_rate = 0.04  # e.g., Vietnamese government bond rate\n",
    "credit_spread = 0.03       # Credit spread based on company rating\n",
    "company_bond_yield = base_interest_rate + credit_spread  # = 0.05 (5%)\n",
    "\n",
    "# Option 2: Use credit rating to determine yield (if available)\n",
    "# This would be a mapping from credit ratings to yields\n",
    "# rating_to_yield = {'AAA': 0.035, 'AA': 0.04, 'A': 0.045, 'BBB': 0.05, 'BB': 0.06, 'B': 0.07}\n",
    "# company_bond_yield = rating_to_yield.get(company_rating, 0.05)  # Default to 5% if rating unknown\n",
    "\n",
    "# Use fixed rate for simplicity (you would replace this with company-specific data)\n",
    "market_cost_of_debt = 0.07  # 7% bond yield\n",
    "\n",
    "# Apply tax shield\n",
    "statutory_tax_rate = 0.12  # Vietnamese corporate tax rate\n",
    "after_tax_market_cost_of_debt = market_cost_of_debt * (1 - statutory_tax_rate)\n",
    "\n",
    "# Step 4: Cost of Equity using CAPM\n",
    "risk_free_rate = 0.03  # Vietnamese government bond yield\n",
    "\n",
    "# Option 1: If you have beta data from external sources\n",
    "# estimated_beta = external_beta_data  # This would be company-specific\n",
    "\n",
    "# Option 2: Estimate beta using financial leverage\n",
    "financial_leverage = Ratio[('Chỉ tiêu thanh khoản', 'Đòn bẩy tài chính')]\n",
    "leverage_mean = financial_leverage.mean()\n",
    "estimated_beta = 1.0 * financial_leverage.div(leverage_mean).fillna(1.0)  # Default to 1.0 if issues\n",
    "\n",
    "# Market risk premium\n",
    "market_risk_premium = 0.05  # Estimated risk premium for Vietnamese market\n",
    "\n",
    "# Calculate cost of equity using CAPM\n",
    "cost_of_equity = risk_free_rate + (estimated_beta * market_risk_premium)\n",
    "\n",
    "# Step 5: Calculate market-based WACC\n",
    "wacc_market_based = (market_weight_of_debt * after_tax_market_cost_of_debt) + (market_weight_of_equity * cost_of_equity)\n",
    "\n",
    "# Create a DataFrame with the results\n",
    "result_df = pd.DataFrame({\n",
    "    'ticker': BalanceSheet['ticker'],\n",
    "    'yearReport': BalanceSheet['yearReport'],\n",
    "    'market_cap': market_value_of_equity,\n",
    "    'market_debt': market_value_of_debt,\n",
    "    'market_weight_of_debt': market_weight_of_debt,\n",
    "    'market_weight_of_equity': market_weight_of_equity,\n",
    "    'market_cost_of_debt': after_tax_market_cost_of_debt,\n",
    "    'beta': estimated_beta,\n",
    "    'cost_of_equity': cost_of_equity,\n",
    "    'wacc_market_based': wacc_market_based\n",
    "})\n",
    "\n",
    "# Display first few rows to check the results\n",
    "print(\"Market-Based WACC Calculation Results:\")\n",
    "print(result_df[['ticker', 'yearReport', 'wacc_market_based']].head())\n",
    "\n",
    "\n",
    "# Calculate average\n",
    "avg_wacc_by_year = result_df['wacc_market_based'].mean()\n",
    "print(\"\\nAverage Market-Based WACC by Year:\")\n",
    "print(avg_wacc_by_year)\n"
   ]
  },
  {
   "cell_type": "code",
   "execution_count": null,
   "id": "be083905",
   "metadata": {},
   "outputs": [],
   "source": [
    "\n",
    "# Optional: Visualize the distribution of market-based WACC\n",
    "import matplotlib.pyplot as plt\n",
    "import seaborn as sns\n",
    "\n",
    "plt.figure(figsize=(10, 6))\n",
    "sns.histplot(result_df['wacc_market_based'].dropna(), kde=True)\n",
    "plt.title('Distribution of Market-Based WACC')\n",
    "plt.xlabel('WACC')\n",
    "plt.ylabel('Frequency')\n",
    "plt.axvline(result_df['wacc_market_based'].mean(), color='red', linestyle='--', \n",
    "            label=f'Mean WACC: {result_df[\"wacc_market_based\"].mean():.2%}')\n",
    "plt.legend()\n",
    "plt.show()\n",
    "\n"
   ]
  },
  {
   "cell_type": "code",
   "execution_count": null,
   "id": "b2a47081",
   "metadata": {},
   "outputs": [],
   "source": [
    "import plotly.graph_objects as go\n",
    "import numpy as np\n",
    "from scipy import stats\n",
    "\n",
    "# Calculate statistics for annotations\n",
    "wacc_data = result_df['wacc_market_based'].dropna()\n",
    "wacc_mean = wacc_data.mean()\n",
    "wacc_median = wacc_data.median()\n",
    "\n",
    "# Create a figure\n",
    "fig = go.Figure()\n",
    "\n",
    "# Add the histogram with custom styling\n",
    "fig.add_trace(go.Histogram(\n",
    "    x=wacc_data,\n",
    "    nbinsx=15,\n",
    "    name='WACC Distribution',\n",
    "    histnorm='probability density',\n",
    "    marker=dict(\n",
    "        color='rgba(66, 135, 245, 0.7)',\n",
    "        line=dict(color='rgba(33, 69, 123, 1)', width=1)\n",
    "    ),\n",
    "    opacity=0.8\n",
    "))\n",
    "\n",
    "# Generate KDE curve manually\n",
    "kde = stats.gaussian_kde(wacc_data)\n",
    "x_range = np.linspace(wacc_data.min(), wacc_data.max(), 100)\n",
    "y_kde = kde(x_range)\n",
    "\n",
    "# Add the KDE curve\n",
    "fig.add_trace(go.Scatter(\n",
    "    x=x_range,\n",
    "    y=y_kde,\n",
    "    mode='lines',\n",
    "    name='Density',\n",
    "    line=dict(color='rgba(236, 72, 72, 1)', width=3),\n",
    "))\n",
    "\n",
    "# Add vertical line for mean\n",
    "fig.add_vline(\n",
    "    x=wacc_mean,\n",
    "    line_width=2,\n",
    "    line_dash=\"dash\",\n",
    "    line_color=\"rgba(236, 72, 72, 1)\",\n",
    "    annotation_text=f\"Mean: {wacc_mean:.2%}\",\n",
    "    annotation_position=\"top right\",\n",
    "    annotation_font_color=\"rgba(236, 72, 72, 1)\",\n",
    "    annotation_font_size=14\n",
    ")\n",
    "\n",
    "# Add vertical line for median\n",
    "fig.add_vline(\n",
    "    x=wacc_median,\n",
    "    line_width=2,\n",
    "    line_dash=\"dot\",\n",
    "    line_color=\"rgba(46, 167, 76, 1)\",\n",
    "    annotation_text=f\"Median: {wacc_median:.2%}\",\n",
    "    annotation_position=\"top left\",\n",
    "    annotation_font_color=\"rgba(46, 167, 76, 1)\",\n",
    "    annotation_font_size=14\n",
    ")\n",
    "\n",
    "# Update layout with modern styling\n",
    "fig.update_layout(\n",
    "    title={\n",
    "        'text': '<b>Distribution of Market-Based WACC</b>',\n",
    "        'y':0.95,\n",
    "        'x':0.5,\n",
    "        'xanchor': 'center',\n",
    "        'yanchor': 'top',\n",
    "        'font': dict(size=24, color='#303030')\n",
    "    },\n",
    "    xaxis_title={\n",
    "        'text': '<b>WACC</b>',\n",
    "        'font': dict(size=16)\n",
    "    },\n",
    "    yaxis_title={\n",
    "        'text': '<b>Density</b>',\n",
    "        'font': dict(size=16)\n",
    "    },\n",
    "    template='plotly_white',\n",
    "    hovermode='x unified',\n",
    "    hoverlabel=dict(\n",
    "        bgcolor=\"white\",\n",
    "        font_size=12,\n",
    "        font_family=\"Arial\"\n",
    "    ),\n",
    "    legend=dict(\n",
    "        x=0.02,\n",
    "        y=0.98,\n",
    "        bgcolor='rgba(255, 255, 255, 0.7)',\n",
    "        bordercolor='rgba(0, 0, 0, 0.1)',\n",
    "        borderwidth=1\n",
    "    ),\n",
    "    margin=dict(l=80, r=80, t=100, b=80),\n",
    "    plot_bgcolor='rgba(248, 249, 250, 1)',\n",
    "    paper_bgcolor='rgba(248, 249, 250, 1)',\n",
    "    xaxis=dict(\n",
    "        tickformat='.1%',\n",
    "        showgrid=True,\n",
    "        gridwidth=1,\n",
    "        gridcolor='rgba(211, 211, 211, 0.4)',\n",
    "        zeroline=False\n",
    "    ),\n",
    "    yaxis=dict(\n",
    "        showgrid=True,\n",
    "        gridwidth=1,\n",
    "        gridcolor='rgba(211, 211, 211, 0.4)',\n",
    "        zeroline=False\n",
    "    ),\n",
    "    width=900,\n",
    "    height=600\n",
    ")\n",
    "\n",
    "# Add annotations for statistical insights\n",
    "fig.add_annotation(\n",
    "    x=0.02,\n",
    "    y=-0.17,\n",
    "    xref=\"paper\",\n",
    "    yref=\"paper\",\n",
    "    text=f\"<b>WACC Statistics:</b> Mean: {wacc_mean:.2%} | Median: {wacc_median:.2%} | Min: {wacc_data.min():.2%} | Max: {wacc_data.max():.2%} | StdDev: {wacc_data.std():.2%}\",\n",
    "    showarrow=False,\n",
    "    font=dict(size=12, color=\"#505050\"),\n",
    "    align=\"left\",\n",
    "    bordercolor=\"#d3d3d3\",\n",
    "    borderwidth=1,\n",
    "    borderpad=8,\n",
    "    bgcolor=\"rgba(250, 250, 250, 0.9)\",\n",
    "    opacity=0.9\n",
    ")\n",
    "\n",
    "# Show the figure\n",
    "fig.show()"
   ]
  },
  {
   "cell_type": "code",
   "execution_count": null,
   "id": "25dae33c-7a47-4fce-aa53-a17d129730a8",
   "metadata": {},
   "outputs": [],
   "source": [
    "import pandas as pd\n",
    "import numpy as np\n",
    "\n",
    "def dcf_time_series(df, cash_flow_col, date_col, discount_rate, base_date=None):\n",
    "    \"\"\"\n",
    "    Calculate DCF using a pandas DataFrame with dates.\n",
    "    \n",
    "    Parameters:\n",
    "    df (DataFrame): DataFrame containing cash flows and dates\n",
    "    cash_flow_col (str): Column name for cash flows\n",
    "    date_col (str): Column name for dates\n",
    "    discount_rate (float): Annual discount rate\n",
    "    base_date (datetime, optional): Base date for discounting, defaults to min date\n",
    "    \n",
    "    Returns:\n",
    "    float: Present value of cash flows\n",
    "    \"\"\"\n",
    "    # Ensure dates are datetime objects\n",
    "    df[date_col] = pd.to_datetime(df[date_col])\n",
    "    \n",
    "    if base_date is None:\n",
    "        base_date = df[date_col].min()\n",
    "    \n",
    "    # Calculate years from base date\n",
    "    df['years'] = (df[date_col] - base_date).dt.days / 365.25\n",
    "    \n",
    "    # Calculate discount factors\n",
    "    df['discount_factor'] = 1 / (1 + discount_rate) ** df['years']\n",
    "    \n",
    "    # Calculate present values\n",
    "    df['present_value'] = df[cash_flow_col] * df['discount_factor']\n",
    "    \n",
    "    return df['present_value'].sum()"
   ]
  },
  {
   "cell_type": "code",
   "execution_count": null,
   "id": "e671be69-8f9f-4e5c-a9f8-f12237182c63",
   "metadata": {},
   "outputs": [],
   "source": [
    "import pandas as pd\n",
    "\n",
    "def full_dcf_model(projected_fcf, terminal_growth_rate, wacc, terminal_year):\n",
    "    \"\"\"\n",
    "    Simple DCF model to calculate enterprise value.\n",
    "\n",
    "    :param projected_fcf: List of projected free cash flows for each forecast year.\n",
    "    :param terminal_growth_rate: Growth rate applied after the forecast period.\n",
    "    :param wacc: Weighted Average Cost of Capital used as the discount rate.\n",
    "    :param terminal_year: Number of years in the forecast period.\n",
    "    :return: Calculated enterprise value.\n",
    "    \"\"\"\n",
    "    # Calculate the PV of projected cash flows\n",
    "    present_value_fcf = sum(fcf / ((1 + wacc) ** (i + 1)) for i, fcf in enumerate(projected_fcf))\n",
    "    \n",
    "    # Calculate the terminal value\n",
    "    last_year_fcf = projected_fcf[-1]\n",
    "    terminal_value = last_year_fcf * (1 + terminal_growth_rate) / (wacc - terminal_growth_rate)\n",
    "    \n",
    "    # Present value of the terminal value\n",
    "    present_value_terminal = terminal_value / ((1 + wacc) ** terminal_year)\n",
    "    \n",
    "    # Total enterprise value is the sum of the PV of FCF and PV of terminal value\n",
    "    enterprise_value = present_value_fcf + present_value_terminal\n",
    "    \n",
    "    return enterprise_value\n",
    "\n",
    "# Ensure CashFlow is a properly defined DataFrame with 'Levered Free Cash Flow'\n",
    "# Example setup, ensure that 'CashFlow' exists with your data\n",
    "# CashFlow = pd.DataFrame({'Levered Free Cash Flow': [...]})\n",
    "\n",
    "# Extract the free cash flow for the stock\n",
    "free_cash_flow = CashFlow['Levered Free Cash Flow']\n",
    "\n",
    "# Determine whether to use the mean or a specific value of FCF\n",
    "# Calculate the mean directly if there are multiple entries for the stock\n",
    "ticker_fcf = free_cash_flow.mean() if len(free_cash_flow) > 1 else free_cash_flow.iloc[0]\n",
    "\n",
    "# Define your parameters\n",
    "forecast_years = 5\n",
    "terminal_growth_rate = 0.03  # Long-term growth rate\n",
    "growth_rates = [0.05, 0.06, 0.07, 0.05, 0.04]  # Growth rates for next 5 years\n",
    "\n",
    "# Retrieve WACC for this single stock from a relevant DataFrame\n",
    "# Ensure result_df is properly defined\n",
    "# result_df = pd.DataFrame({'wacc_market_based': [...]})\n",
    "ticker_wacc = result_df['wacc_market_based'].mean()  # Ensure result_df is defined and contains 'wacc_market_based'\n",
    "\n",
    "# Project future cash flows\n",
    "projected_fcf = []\n",
    "for i, growth in enumerate(growth_rates):\n",
    "    if i == 0:\n",
    "        projected_fcf.append(ticker_fcf * (1 + growth))\n",
    "    else:\n",
    "        projected_fcf.append(projected_fcf[i-1] * (1 + growth))\n",
    "\n",
    "# Calculate enterprise value for the single stock\n",
    "ev = full_dcf_model(projected_fcf, terminal_growth_rate, ticker_wacc, terminal_year=forecast_years)\n",
    "\n",
    "# Store the results\n",
    "enterprise_values = {\n",
    "    'ticker': symbol,  # Replace 'YOUR_TICKER' with the actual stock ticker\n",
    "    'wacc': ticker_wacc,\n",
    "    'last_fcf': ticker_fcf,\n",
    "    'enterprise_value': ev\n",
    "}\n",
    "\n",
    "# Convert to DataFrame if desired for structured display\n",
    "enterprise_values_df = pd.DataFrame([enterprise_values])\n",
    "\n",
    "# Display the result\n",
    "print(enterprise_values_df)"
   ]
  },
  {
   "cell_type": "code",
   "execution_count": null,
   "id": "7ba43d4d-2b5d-4976-ab94-01b207407a57",
   "metadata": {},
   "outputs": [],
   "source": [
    "#intrinsic_value = ev - net_debt / Outstanding_Shares\n",
    "intrinsic_value = ev / Outstanding_Shares\n",
    "print(intrinsic_value)"
   ]
  },
  {
   "cell_type": "code",
   "execution_count": null,
   "id": "32aee211-e0da-4205-8f1b-41ea262e4e61",
   "metadata": {},
   "outputs": [],
   "source": [
    "import plotly.graph_objects as go\n",
    "import pandas as pd\n",
    "import numpy as np\n",
    "\n",
    "def create_cashflow_waterfall(df, ticker, year):\n",
    "    # Filter dataframe for specific ticker and year\n",
    "    data = df[(df['ticker'] == ticker) & (df['yearReport'] == year)].iloc[0]\n",
    "    \n",
    "    # Select components for the waterfall chart\n",
    "    measures = [\n",
    "        'Operating profit before changes in working capital',\n",
    "        'Increase/Decrease in receivables',\n",
    "        'Increase/Decrease in inventories',\n",
    "        'Increase/Decrease in payables',\n",
    "        'Increase/Decrease in prepaid expenses',\n",
    "        'Interest paid',\n",
    "        'Business Income Tax paid',\n",
    "        'Other receipts from operating activities',\n",
    "        'Other payments on operating activities',\n",
    "        'Purchase of fixed assets',\n",
    "        'Proceeds from disposal of fixed assets',\n",
    "        'Investment in other entities',\n",
    "        'Proceeds from divestment in other entities',\n",
    "        'Gain on Dividend',\n",
    "        'Increase in charter captial',\n",
    "        'Payments for share repurchases',\n",
    "        'Proceeds from borrowings',\n",
    "        'Repayment of borrowings',\n",
    "        'Dividends paid'\n",
    "    ]\n",
    "    \n",
    "    # Extract values for these measures\n",
    "    values = [data[measure] for measure in measures]\n",
    "    \n",
    "    # Create labels for the chart (shortened for better display)\n",
    "    labels = [m.split('/')[-1].replace(' activities', '') if '/' in m else m for m in measures]\n",
    "    labels = [label[:20] + '...' if len(label) > 20 else label for label in labels]\n",
    "    \n",
    "    # Set up measure types (relative vs total)\n",
    "    measure_types = ['relative'] * len(measures)\n",
    "    \n",
    "    # Add initial and final cash positions\n",
    "    labels = ['Initial Balance'] + labels + ['Ending Balance']\n",
    "    values = [data['Cash and cash equivalents']] + values + [data['Cash and Cash Equivalents at the end of period']]\n",
    "    measure_types = ['absolute'] + measure_types + ['total']\n",
    "    \n",
    "    # Create the waterfall chart with comma-separated numbers\n",
    "    fig = go.Figure(go.Waterfall(\n",
    "        name = f\"Cashflow Waterfall for {ticker} ({year})\",\n",
    "        orientation = \"v\",\n",
    "        measure = measure_types,\n",
    "        x = labels,\n",
    "        textposition = \"outside\",\n",
    "        # Format numbers with commas as thousands separators\n",
    "        text = [f\"{x:,.1f}\" for x in values],\n",
    "        y = values,\n",
    "        connector = {\"line\":{\"color\":\"rgb(63, 63, 63)\"}},\n",
    "    ))\n",
    "    \n",
    "    # Update layout\n",
    "    fig.update_layout(\n",
    "        title = f\"Cashflow Waterfall Chart for {ticker} ({year})\",\n",
    "        showlegend = False,\n",
    "        height = 600,\n",
    "        width = 1000,\n",
    "        xaxis = dict(\n",
    "            title = \"Cash inflows/outflows\",\n",
    "            tickangle = 45\n",
    "        ),\n",
    "        yaxis = dict(\n",
    "            title = \"Amount\",\n",
    "            # Add comma separator to y-axis labels as well\n",
    "            tickformat = \",.0f\"\n",
    "        )\n",
    "    )\n",
    "    \n",
    "    return fig\n",
    "\n",
    "# Example usage\n",
    "# Replace 'REE' and 2024 with your desired ticker and year\n",
    "cf_year = 2024\n",
    "\n",
    "fig = create_cashflow_waterfall(CashFlow, 'REE', cf_year)\n",
    "fig.show()\n",
    "\n",
    "# If you prefer to save the figure\n",
    "# fig.write_html(\"cashflow_waterfall.html\")"
   ]
  },
  {
   "cell_type": "code",
   "execution_count": null,
   "id": "7ec1b207-f812-405d-947a-a6345a0e5421",
   "metadata": {},
   "outputs": [],
   "source": [
    "import pandas as pd\n",
    "import numpy as np\n",
    "import plotly.graph_objects as go\n",
    "from plotly.subplots import make_subplots\n",
    "\n",
    "def calculate_roce_and_include_roe(BalanceSheet, IncomeStatement, Ratio):\n",
    "    \"\"\"\n",
    "    Calculate ROCE and include ROE from Ratio dataframe with MultiIndex columns.\n",
    "    \n",
    "    Parameters:\n",
    "    -----------\n",
    "    BalanceSheet : pandas DataFrame\n",
    "        Balance Sheet data with columns: ticker, yearReport, 'TOTAL ASSETS (Bn. VND)', 'Current liabilities (Bn. VND)'\n",
    "    IncomeStatement : pandas DataFrame\n",
    "        Income Statement data with columns: ticker, yearReport, 'Operating Profit/Loss'\n",
    "    Ratio : pandas DataFrame\n",
    "        Ratio data with MultiIndex columns including ('Chỉ tiêu khả năng sinh lợi', 'ROE (%)')\n",
    "        \n",
    "    Returns:\n",
    "    --------\n",
    "    pandas DataFrame\n",
    "        DataFrame with ROCE and ROE calculations\n",
    "    \"\"\"\n",
    "    # Create a copy to avoid modifying the original dataframe\n",
    "    BalanceSheet_copy = BalanceSheet.copy()\n",
    "    \n",
    "    # Step 1: Calculate Capital Employed\n",
    "    BalanceSheet_copy['Capital Employed (Bn. VND)'] = (\n",
    "        BalanceSheet_copy['Long-term borrowings (Bn. VND)'] + \n",
    "        BalanceSheet_copy['Short-term borrowings (Bn. VND)'] + \n",
    "        BalanceSheet_copy[\"OWNER'S EQUITY(Bn.VND)\"]\n",
    "    )\n",
    "    \n",
    "    # Step 2: Merge Balance Sheet and Income Statement\n",
    "    merged_df = pd.merge(\n",
    "        BalanceSheet_copy[['ticker', 'yearReport', 'Capital Employed (Bn. VND)']],\n",
    "        IncomeStatement[['ticker', 'yearReport', 'Operating Profit/Loss']],\n",
    "        on=['ticker', 'yearReport'],\n",
    "        how='inner'\n",
    "    )\n",
    "    \n",
    "    # Step 3: Calculate ROCE\n",
    "    merged_df['ROCE'] = merged_df['Operating Profit/Loss'] / merged_df['Capital Employed (Bn. VND)']\n",
    "    \n",
    "    # Select columns for ROCE calculation\n",
    "    ROCE_df = merged_df[['ticker', 'yearReport', 'Operating Profit/Loss', \n",
    "                         'Capital Employed (Bn. VND)', 'ROCE']]\n",
    "    ROCE_df = ROCE_df.rename(columns={'Operating Profit/Loss': 'EBIT (Bn. VND)'})\n",
    "    \n",
    "    # Step 4: Create a simplified version of Ratio DataFrame for merging\n",
    "    # Extract the ticker, year, and ROE columns\n",
    "    ratio_simple = pd.DataFrame({\n",
    "        'ticker': Ratio[('Meta', 'CP')],\n",
    "        'yearReport': Ratio[('Meta', 'Năm')],\n",
    "        'ROE': Ratio[('Chỉ tiêu khả năng sinh lợi', 'ROE (%)')]\n",
    "    })\n",
    "    \n",
    "    # Step 5: Merge with simplified Ratio dataframe to include ROE\n",
    "    ROCE_df = pd.merge(\n",
    "        ROCE_df,\n",
    "        ratio_simple[['ticker', 'yearReport', 'ROE']],\n",
    "        on=['ticker', 'yearReport'],\n",
    "        how='left'\n",
    "    )\n",
    "    \n",
    "    return ROCE_df\n"
   ]
  },
  {
   "cell_type": "code",
   "execution_count": null,
   "id": "6b5bdd71",
   "metadata": {},
   "outputs": [],
   "source": [
    "def visualize_roce_vs_roe(BalanceSheet, IncomeStatement, Ratio):\n",
    "    \"\"\"\n",
    "    Calculate and visualize the ROCE vs ROE comparison using Plotly.\n",
    "    \n",
    "    Parameters:\n",
    "    -----------\n",
    "    BalanceSheet : pandas DataFrame\n",
    "        Balance Sheet data\n",
    "    IncomeStatement : pandas DataFrame\n",
    "        Income Statement data\n",
    "    Ratio : pandas DataFrame\n",
    "        Ratio data containing ROE with MultiIndex columns\n",
    "        \n",
    "    Returns:\n",
    "    --------\n",
    "    pandas DataFrame\n",
    "        DataFrame containing the calculated ROCE and ROE values\n",
    "    \"\"\"\n",
    "    # Calculate ROCE and include ROE\n",
    "    ROCE_df = calculate_roce_and_include_roe(BalanceSheet, IncomeStatement, Ratio)\n",
    "    \n",
    "    # Sort by ticker and year\n",
    "    ROCE_df = ROCE_df.sort_values(['ticker', 'yearReport'])\n",
    "    \n",
    "    # Create a comparison chart for each ticker\n",
    "    for ticker in ROCE_df['ticker'].unique():\n",
    "        ticker_data = ROCE_df[ROCE_df['ticker'] == ticker]\n",
    "        \n",
    "        # Create figure with secondary y-axis\n",
    "        fig = make_subplots(specs=[[{\"secondary_y\": True}]])\n",
    "        \n",
    "        # Add ROCE trace\n",
    "        fig.add_trace(\n",
    "            go.Scatter(\n",
    "                x=ticker_data['yearReport'],\n",
    "                y=ticker_data['ROCE'],\n",
    "                name='ROCE',\n",
    "                mode='lines+markers+text',\n",
    "                text=[f\"{x:.2f}\" for x in ticker_data['ROCE']], \n",
    "                textposition=\"top center\",\n",
    "                line=dict(color='rgba(0, 117, 210, 0.9)', width=3),\n",
    "                marker=dict(\n",
    "                    size=12, \n",
    "                    color='rgba(0, 117, 210, 0.9)',\n",
    "                    line=dict(color='white', width=2)\n",
    "                ),\n",
    "                textfont=dict(color='rgba(0, 117, 210, 1)', size=11, family=\"Arial Black\")\n",
    "            ),\n",
    "            secondary_y=False,\n",
    "        )\n",
    "        \n",
    "        # Add shaded area under ROCE for emphasis\n",
    "        fig.add_trace(\n",
    "            go.Scatter(\n",
    "                x=ticker_data['yearReport'],\n",
    "                y=ticker_data['ROCE'],\n",
    "                name='ROCE Area',\n",
    "                mode='none',\n",
    "                fill='tozeroy',\n",
    "                fillcolor='rgba(0, 117, 210, 0.1)',\n",
    "                showlegend=False,\n",
    "                hoverinfo='skip'\n",
    "            ),\n",
    "            secondary_y=False,\n",
    "        )\n",
    "        \n",
    "        # Add ROE trace\n",
    "        fig.add_trace(\n",
    "            go.Scatter(\n",
    "                x=ticker_data['yearReport'],\n",
    "                y=ticker_data['ROE'],\n",
    "                name='ROE (%)',\n",
    "                mode='lines+markers+text',\n",
    "                text=[f\"{x:.1f}%\" for x in ticker_data['ROE']],\n",
    "                textposition=\"bottom center\",\n",
    "                line=dict(color='rgba(220, 20, 60, 0.9)', width=3),\n",
    "                marker=dict(\n",
    "                    size=12, \n",
    "                    symbol='diamond',\n",
    "                    color='rgba(220, 20, 60, 0.9)',\n",
    "                    line=dict(color='white', width=2)\n",
    "                ),\n",
    "                textfont=dict(color='rgba(220, 20, 60, 1)', size=11, family=\"Arial Black\")\n",
    "            ),\n",
    "            secondary_y=True,\n",
    "        )\n",
    "        \n",
    "        # Add shaded area under ROE for emphasis\n",
    "        fig.add_trace(\n",
    "            go.Scatter(\n",
    "                x=ticker_data['yearReport'],\n",
    "                y=ticker_data['ROE'],\n",
    "                name='ROE Area',\n",
    "                mode='none',\n",
    "                fill='tozeroy',\n",
    "                fillcolor='rgba(220, 20, 60, 0.1)',\n",
    "                showlegend=False,\n",
    "                hoverinfo='skip'\n",
    "            ),\n",
    "            secondary_y=True,\n",
    "        )\n",
    "        \n",
    "        # Add crossover points as a special marker\n",
    "        for i in range(1, len(ticker_data)):\n",
    "            if ((ticker_data['ROCE'].iloc[i-1] > ticker_data['ROE'].iloc[i-1] and \n",
    "                 ticker_data['ROCE'].iloc[i] < ticker_data['ROE'].iloc[i]) or\n",
    "                (ticker_data['ROCE'].iloc[i-1] < ticker_data['ROE'].iloc[i-1] and \n",
    "                 ticker_data['ROCE'].iloc[i] > ticker_data['ROE'].iloc[i])):\n",
    "                \n",
    "                # This is a crossover point - highlight it\n",
    "                fig.add_annotation(\n",
    "                    x=ticker_data['yearReport'].iloc[i],\n",
    "                    y=ticker_data['ROCE'].iloc[i],\n",
    "                    text=\"Crossover Point\",\n",
    "                    showarrow=True,\n",
    "                    arrowhead=2,\n",
    "                    arrowsize=1,\n",
    "                    arrowwidth=2,\n",
    "                    arrowcolor=\"#636363\",\n",
    "                    ax=0,\n",
    "                    ay=-40,\n",
    "                    bordercolor=\"#c7c7c7\",\n",
    "                    borderwidth=2,\n",
    "                    borderpad=4,\n",
    "                    bgcolor=\"white\",\n",
    "                    opacity=0.8\n",
    "                )\n",
    "        \n",
    "        # Add figure title with ticker emphasis\n",
    "        fig.update_layout(\n",
    "            title={\n",
    "                'text': f'<b>ROCE vs ROE Comparison</b><br><span style=\"font-size:16px;\">{ticker}</span>',\n",
    "                'y':0.95,\n",
    "                'x':0.5,\n",
    "                'xanchor': 'center',\n",
    "                'yanchor': 'top'\n",
    "            },\n",
    "            template='plotly_white',\n",
    "            hovermode='x unified',\n",
    "            margin=dict(t=100, b=120, l=80, r=80),\n",
    "            hoverlabel=dict(\n",
    "                bgcolor=\"white\",\n",
    "                font_size=12,\n",
    "                font_family=\"Arial\"\n",
    "            ),\n",
    "            legend=dict(\n",
    "                orientation=\"h\",\n",
    "                yanchor=\"bottom\",\n",
    "                y=1.02,\n",
    "                xanchor=\"right\",\n",
    "                x=1,\n",
    "                bgcolor='rgba(255, 255, 255, 0.7)',\n",
    "                bordercolor='rgba(0, 0, 0, 0.1)',\n",
    "                borderwidth=1\n",
    "            ),\n",
    "            annotations=[\n",
    "                dict(\n",
    "                    x=0.5,\n",
    "                    y=-0.18,\n",
    "                    xref='paper',\n",
    "                    yref='paper',\n",
    "                    text=\"<b>Financial Leverage Interpretation</b><br>ROE > ROCE: Effective use of financial leverage | ROCE > ROE: Potential underutilization of debt\",\n",
    "                    showarrow=False,\n",
    "                    font=dict(size=11, color=\"#505050\"),\n",
    "                    align=\"center\",\n",
    "                    bordercolor=\"#d3d3d3\",\n",
    "                    borderwidth=1,\n",
    "                    borderpad=8,\n",
    "                    bgcolor=\"rgba(250, 250, 250, 0.9)\",\n",
    "                    opacity=0.9\n",
    "                )\n",
    "            ]\n",
    "        )\n",
    "        \n",
    "        # Set x-axis title and style\n",
    "        fig.update_xaxes(\n",
    "            title_text=\"<b>Year</b>\",\n",
    "            title_font=dict(size=14),\n",
    "            showgrid=True,\n",
    "            gridwidth=1,\n",
    "            gridcolor='rgba(211, 211, 211, 0.4)',\n",
    "            showline=True,\n",
    "            linewidth=2,\n",
    "            linecolor='rgba(0, 0, 0, 0.3)',\n",
    "            tickangle=45,\n",
    "            tickfont=dict(size=12)\n",
    "        )\n",
    "        \n",
    "        # Set y-axes titles and styles\n",
    "        fig.update_yaxes(\n",
    "            title_text=\"<b>ROCE</b>\",\n",
    "            title_font=dict(size=14, color='rgba(0, 117, 210, 1)'),\n",
    "            showgrid=True,\n",
    "            gridwidth=1, \n",
    "            gridcolor='rgba(211, 211, 211, 0.4)',\n",
    "            showline=True,\n",
    "            linewidth=2, \n",
    "            linecolor='rgba(0, 117, 210, 0.7)',\n",
    "            tickformat='.3f',\n",
    "            tickfont=dict(size=12),\n",
    "            secondary_y=False\n",
    "        )\n",
    "        \n",
    "        fig.update_yaxes(\n",
    "            title_text=\"<b>ROE (%)</b>\",\n",
    "            title_font=dict(size=14, color='rgba(220, 20, 60, 1)'),\n",
    "            showgrid=False,\n",
    "            showline=True, \n",
    "            linewidth=2, \n",
    "            linecolor='rgba(220, 20, 60, 0.7)',\n",
    "            tickformat='.1f',\n",
    "            ticksuffix='%',\n",
    "            tickfont=dict(size=12),\n",
    "            secondary_y=True\n",
    "        )\n",
    "        \n",
    "        # Add background color gradients\n",
    "        fig.update_layout(\n",
    "            plot_bgcolor='rgba(248, 249, 250, 1)',\n",
    "            paper_bgcolor='rgba(248, 249, 250, 1)',\n",
    "            width=1000,\n",
    "            height=650\n",
    "        )\n",
    "        \n",
    "        # Add a watermark or logo in the corner (optional)\n",
    "        fig.add_annotation(\n",
    "            x=1.0,\n",
    "            y=-0.12,\n",
    "            xref='paper',\n",
    "            yref='paper',\n",
    "            text=\"Financial Analysis\",\n",
    "            showarrow=False,\n",
    "            font=dict(size=10, color=\"rgba(150, 150, 150, 0.5)\"),\n",
    "            align=\"right\",\n",
    "        )\n",
    "        \n",
    "        fig.show()\n",
    "    \n",
    "    return ROCE_df"
   ]
  },
  {
   "cell_type": "code",
   "execution_count": null,
   "id": "9ad2850a-097a-4791-a4de-390bc6a7623a",
   "metadata": {},
   "outputs": [],
   "source": [
    "# Calculate ROCE and ROE\n",
    "ROCE_df = calculate_roce_and_include_roe(BalanceSheet, IncomeStatement, Ratio)\n",
    "print(ROCE_df.head())\n",
    "\n",
    "# Visualize ROCE vs ROE comparison\n",
    "visualize_roce_vs_roe(BalanceSheet, IncomeStatement, Ratio)"
   ]
  },
  {
   "cell_type": "markdown",
   "id": "2a3eba5b",
   "metadata": {},
   "source": [
    "# Corporate Finance"
   ]
  },
  {
   "cell_type": "code",
   "execution_count": null,
   "id": "240eef9d",
   "metadata": {},
   "outputs": [],
   "source": [
    "import plotly.graph_objects as go\n",
    "import numpy as np\n",
    "import pandas as pd\n",
    "\n",
    "# Get the years from both DataFrames\n",
    "ratio_years = Ratio[('Meta', 'Năm')].astype(int).values\n",
    "result_years = result_df['yearReport'].astype(int).values\n",
    "\n",
    "# Find common years\n",
    "common_years = sorted(list(set(ratio_years).intersection(set(result_years))))\n",
    "\n",
    "# Filter and sort both DataFrames by common years\n",
    "ratio_filtered = Ratio[Ratio[('Meta', 'Năm')].astype(int).isin(common_years)]\n",
    "ratio_filtered = ratio_filtered.sort_values(('Meta', 'Năm'))\n",
    "\n",
    "result_filtered = result_df[result_df['yearReport'].astype(int).isin(common_years)]\n",
    "result_filtered = result_filtered.sort_values('yearReport')\n",
    "\n",
    "# Calculate values using the filtered and aligned data\n",
    "wacc_mean = result_filtered['wacc_market_based'].mean() * 100\n",
    "roic_values = ratio_filtered[('Chỉ tiêu khả năng sinh lợi', 'ROIC (%)')] * 100\n",
    "wacc_values = result_filtered['wacc_market_based'] * 100\n",
    "\n",
    "# Create the figure\n",
    "fig = go.Figure()\n",
    "\n",
    "# Add ROIC line\n",
    "fig.add_trace(go.Scatter(\n",
    "    x=ratio_filtered[('Meta', 'Năm')],\n",
    "    y=roic_values,\n",
    "    name='ROIC (%)',\n",
    "    line=dict(color='blue')\n",
    "))\n",
    "\n",
    "# Add WACC line\n",
    "fig.add_trace(go.Scatter(\n",
    "    x=result_filtered['yearReport'],\n",
    "    y=wacc_values,\n",
    "    name='WACC (%)',\n",
    "    line=dict(color='green')\n",
    "))\n",
    "\n",
    "# Add horizontal line at WACC mean\n",
    "fig.add_hline(\n",
    "    y=wacc_mean,\n",
    "    line_dash=\"dash\",\n",
    "    line_color=\"red\",\n",
    "    annotation_text=f\"WACC Mean: {wacc_mean:.2f}%\",\n",
    "    annotation_position=\"bottom right\"\n",
    ")\n",
    "\n",
    "# Only add shaded area if we have data points\n",
    "if len(roic_values) > 0:\n",
    "    # Create x values for the shaded area\n",
    "    x_combined = np.concatenate([ratio_filtered[('Meta', 'Năm')], ratio_filtered[('Meta', 'Năm')][::-1]])\n",
    "    y_upper = np.where(roic_values > wacc_mean, roic_values, wacc_mean)\n",
    "    y_lower = np.full_like(roic_values, wacc_mean)\n",
    "    y_combined = np.concatenate([y_upper, y_lower[::-1]])\n",
    "\n",
    "    # Add the shaded area\n",
    "    fig.add_trace(go.Scatter(\n",
    "        x=x_combined,\n",
    "        y=y_combined,\n",
    "        fill='toself',\n",
    "        fillcolor='rgba(0, 100, 255, 0.2)',\n",
    "        line=dict(width=0),\n",
    "        showlegend=True,\n",
    "        name='Economic Value',\n",
    "        legendgroup='economic_value',\n",
    "        hoverinfo='skip'\n",
    "    ))\n",
    "\n",
    "# Add Economic Value annotation in upper left corner\n",
    "fig.add_annotation(\n",
    "    x=0.02,  # Left side\n",
    "    y=0.95,  # Top side\n",
    "    xref=\"paper\",  # Use paper coordinates (0-1)\n",
    "    yref=\"paper\",  # Use paper coordinates (0-1)\n",
    "    text=\"<b>Economic Value</b>\",\n",
    "    showarrow=False,\n",
    "    font=dict(\n",
    "        size=12,\n",
    "        color=\"blue\"\n",
    "    ),\n",
    "    bgcolor='rgba(0, 100, 255, 0.2)',  # Same as fill color\n",
    "    bordercolor=\"blue\",\n",
    "    borderwidth=1,\n",
    "    borderpad=4,\n",
    "    opacity=0.8,\n",
    "    xanchor=\"left\",  # Left-align the text\n",
    "    yanchor=\"top\"    # Anchor at the top\n",
    ")\n",
    "\n",
    "# Update layout with legend at bottom\n",
    "fig.update_layout(\n",
    "    title='ROIC (%) vs WACC (%) with Economic Value Zone',\n",
    "    xaxis_title='Year',\n",
    "    yaxis_title='Percentage (%)',\n",
    "    showlegend=True,\n",
    "    template='plotly_white',\n",
    "    hovermode='x unified',\n",
    "    margin=dict(t=50, l=50, r=50, b=80),  # Added more bottom margin for legend\n",
    "    legend=dict(\n",
    "        orientation=\"h\",  # Horizontal legend\n",
    "        yanchor=\"bottom\",\n",
    "        y=-0.3,  # Position below the x-axis\n",
    "        xanchor=\"center\",\n",
    "        x=0.5,   # Center the legend\n",
    "        bgcolor='rgba(255, 255, 255, 0.7)',\n",
    "        bordercolor='rgba(0, 0, 0, 0.2)',\n",
    "        borderwidth=1\n",
    "    )\n",
    ")\n",
    "\n",
    "# Show the plot\n",
    "fig.show()"
   ]
  },
  {
   "cell_type": "markdown",
   "id": "fe439d1c",
   "metadata": {},
   "source": [
    "# Create a combined layout with subplots. "
   ]
  },
  {
   "cell_type": "code",
   "execution_count": null,
   "id": "b98a596f",
   "metadata": {},
   "outputs": [],
   "source": [
    "import plotly.graph_objects as go\n",
    "from plotly.subplots import make_subplots\n",
    "import pandas as pd\n",
    "import numpy as np\n",
    "import os\n",
    "\n",
    "# Create a simplified subplot layout with 1 row and 2 columns\n",
    "fig = make_subplots(\n",
    "    rows=1, \n",
    "    cols=2,\n",
    "    subplot_titles=(\n",
    "        'Net Operating Cashflow', \n",
    "        'Cashflow Waterfall'\n",
    "    ),\n",
    "    specs=[\n",
    "        [{\"type\": \"bar\"}, {\"type\": \"waterfall\"}]\n",
    "    ],\n",
    "    horizontal_spacing=0.12\n",
    ")\n",
    "\n",
    "# Get unique years from CashFlow\n",
    "years = sorted(CashFlow['yearReport'].unique())\n",
    "\n",
    "# 1. Net Operating Cashflow (Bar Chart) - Left\n",
    "# For each year, calculate the average Net cash inflows/outflows from operating activities\n",
    "ocf_data = CashFlow.groupby('yearReport')['Net cash inflows/outflows from operating activities'].mean() / 1000  # Convert to billions\n",
    "ocf_years = ocf_data.index.tolist()\n",
    "ocf_values = ocf_data.values.tolist()\n",
    "\n",
    "# Add bar chart\n",
    "fig.add_trace(\n",
    "    go.Bar(\n",
    "        x=ocf_years,\n",
    "        y=ocf_values,\n",
    "        text=[f'{v:.2f}B' for v in ocf_values],\n",
    "        textposition='outside',\n",
    "        marker_color='rgb(66, 135, 245)',\n",
    "        marker_line_color='lightgrey',\n",
    "        marker_line_width=1.5,\n",
    "        opacity=0.8,\n",
    "        name='Net Operating Cash Flow'\n",
    "    ),\n",
    "    row=1, col=1\n",
    ")\n",
    "\n",
    "# 2. Cashflow Waterfall - Right\n",
    "# Get a representative ticker (or use one specified)\n",
    "ticker = CashFlow['ticker'].iloc[0]\n",
    "# Get the latest year\n",
    "latest_year = max(years)\n",
    "\n",
    "# Filter data for the specific ticker and latest year\n",
    "waterfall_data = CashFlow[(CashFlow['ticker'] == ticker) & \n",
    "                          (CashFlow['yearReport'] == latest_year)]\n",
    "\n",
    "if len(waterfall_data) > 0:\n",
    "    data = waterfall_data.iloc[0]\n",
    "    \n",
    "    # Key cashflow components\n",
    "    measures = [\n",
    "        'Initial Cash',\n",
    "        'Operating CF',\n",
    "        'Investing CF',\n",
    "        'Financing CF',\n",
    "        'Final Cash'\n",
    "    ]\n",
    "    \n",
    "    values = [\n",
    "        data['Cash and cash equivalents'],\n",
    "        data['Net cash inflows/outflows from operating activities'],\n",
    "        data['Net Cash Flows from Investing Activities'],\n",
    "        data['Cash flows from financial activities'],\n",
    "        data['Cash and Cash Equivalents at the end of period']\n",
    "    ]\n",
    "    \n",
    "    measure_types = ['absolute', 'relative', 'relative', 'relative', 'total']\n",
    "    \n",
    "    # Add waterfall chart\n",
    "    fig.add_trace(\n",
    "        go.Waterfall(\n",
    "            name=f\"Cashflow {latest_year}\",\n",
    "            orientation=\"v\",\n",
    "            measure=measure_types,\n",
    "            x=measures,\n",
    "            textposition=\"outside\",\n",
    "            text=[f\"{x:,.1f}\" for x in values],\n",
    "            y=values,\n",
    "            connector={\"line\": {\"color\": \"rgb(63, 63, 63)\"}},\n",
    "        ),\n",
    "        row=1, col=2\n",
    "    )\n",
    "\n",
    "# Update layout for better appearance\n",
    "fig.update_layout(\n",
    "    title={\n",
    "        'text': f'Cash Flow Analysis for {ticker}',\n",
    "        'y':0.98,\n",
    "        'x':0.5,\n",
    "        'xanchor': 'center',\n",
    "        'yanchor': 'top'\n",
    "    },\n",
    "    template='plotly_white',\n",
    "    height=500,  # Reduced height for simplified layout\n",
    "    width=1200,\n",
    "    showlegend=True,\n",
    "    legend=dict(\n",
    "        orientation=\"h\",\n",
    "        yanchor=\"bottom\",\n",
    "        y=-0.25,\n",
    "        xanchor=\"center\",\n",
    "        x=0.5\n",
    "    )\n",
    ")\n",
    "\n",
    "# Update axes labels and settings\n",
    "fig.update_xaxes(\n",
    "    title_text=\"Year\",\n",
    "    tickangle=45,\n",
    "    tickmode='array',\n",
    "    tickvals=years,\n",
    "    row=1, \n",
    "    col=1\n",
    ")\n",
    "\n",
    "fig.update_yaxes(title_text=\"Value (Billions VND)\", row=1, col=1)\n",
    "\n",
    "fig.update_xaxes(title_text=\"Cash Flow Components\", tickangle=0, row=1, col=2)\n",
    "fig.update_yaxes(title_text=\"Amount (Bn. VND)\", row=1, col=2)\n",
    "\n",
    "# Add waterfall year to subtitle\n",
    "fig.update_annotations(\n",
    "    text=f\"Cashflow Waterfall ({latest_year})\",\n",
    "    selector={\"index\": 1}\n",
    ")\n",
    "\n",
    "# Create outputs directory if it doesn't exist\n",
    "output_dir = './outputs'\n",
    "if not os.path.exists(output_dir):\n",
    "    os.makedirs(output_dir)\n",
    "\n",
    "# Save the figure as an HTML file\n",
    "output_path = os.path.join(output_dir, 'index.html')\n",
    "fig.write_html(output_path)\n",
    "\n",
    "print(f\"Cash Flow dashboard saved to {output_path}\")"
   ]
  },
  {
   "cell_type": "code",
   "execution_count": 46,
   "id": "f47b3866",
   "metadata": {},
   "outputs": [
    {
     "name": "stdout",
     "output_type": "stream",
     "text": [
      "Financial dashboard saved to ./dist\\index.html\n"
     ]
    }
   ],
   "source": [
    "import plotly.graph_objects as go\n",
    "from plotly.subplots import make_subplots\n",
    "import pandas as pd\n",
    "import numpy as np\n",
    "import os\n",
    "\n",
    "# Define the function to calculate ROCE and include ROE from Ratio dataframe\n",
    "def calculate_roce_and_include_roe(BalanceSheet, IncomeStatement, Ratio):\n",
    "    \"\"\"\n",
    "    Calculate ROCE and include ROE from Ratio dataframe with MultiIndex columns.\n",
    "    \"\"\"\n",
    "    # Create a copy to avoid modifying the original dataframe\n",
    "    BalanceSheet_copy = BalanceSheet.copy()\n",
    "    \n",
    "    # Step 1: Calculate Capital Employed\n",
    "    BalanceSheet_copy['Capital Employed (Bn. VND)'] = (\n",
    "        BalanceSheet_copy['Long-term borrowings (Bn. VND)'] + \n",
    "        BalanceSheet_copy['Short-term borrowings (Bn. VND)'] + \n",
    "        BalanceSheet_copy[\"OWNER'S EQUITY(Bn.VND)\"]\n",
    "    )\n",
    "    \n",
    "    # Step 2: Merge Balance Sheet and Income Statement\n",
    "    merged_df = pd.merge(\n",
    "        BalanceSheet_copy[['ticker', 'yearReport', 'Capital Employed (Bn. VND)']],\n",
    "        IncomeStatement[['ticker', 'yearReport', 'Operating Profit/Loss']],\n",
    "        on=['ticker', 'yearReport'],\n",
    "        how='inner'\n",
    "    )\n",
    "    \n",
    "    # Step 3: Calculate ROCE\n",
    "    merged_df['ROCE'] = merged_df['Operating Profit/Loss'] / merged_df['Capital Employed (Bn. VND)']\n",
    "    \n",
    "    # Select columns for ROCE calculation\n",
    "    ROCE_df = merged_df[['ticker', 'yearReport', 'Operating Profit/Loss', \n",
    "                         'Capital Employed (Bn. VND)', 'ROCE']]\n",
    "    ROCE_df = ROCE_df.rename(columns={'Operating Profit/Loss': 'EBIT (Bn. VND)'})\n",
    "    \n",
    "    # Step 4: Create a simplified version of Ratio DataFrame for merging\n",
    "    # Extract the ticker, year, and ROE columns\n",
    "    ratio_simple = pd.DataFrame({\n",
    "        'ticker': Ratio[('Meta', 'CP')],\n",
    "        'yearReport': Ratio[('Meta', 'Năm')],\n",
    "        'ROE': Ratio[('Chỉ tiêu khả năng sinh lợi', 'ROE (%)')]\n",
    "    })\n",
    "    \n",
    "    # Step 5: Merge with simplified Ratio dataframe to include ROE\n",
    "    ROCE_df = pd.merge(\n",
    "        ROCE_df,\n",
    "        ratio_simple[['ticker', 'yearReport', 'ROE']],\n",
    "        on=['ticker', 'yearReport'],\n",
    "        how='left'\n",
    "    )\n",
    "    \n",
    "    return ROCE_df\n",
    "\n",
    "# Create a subplot layout with 2 rows and 2 columns with increased vertical spacing\n",
    "fig = make_subplots(\n",
    "    rows=2, \n",
    "    cols=2,\n",
    "    subplot_titles=(\n",
    "        'Net Operating Cashflow', \n",
    "        'ROIC (%) vs WACC (%) with Economic Value Zone',\n",
    "        'Cashflow Waterfall',\n",
    "        'ROCE vs ROE Comparison'\n",
    "    ),\n",
    "    specs=[\n",
    "        [{\"type\": \"xy\"}, {\"type\": \"xy\"}],\n",
    "        [{\"type\": \"waterfall\"}, {\"type\": \"xy\", \"secondary_y\": True}]\n",
    "    ],\n",
    "    vertical_spacing=0.15,  # Increased vertical spacing\n",
    "    horizontal_spacing=0.08\n",
    ")\n",
    "\n",
    "# Get unique years from CashFlow\n",
    "years = sorted(CashFlow['yearReport'].unique())\n",
    "\n",
    "# 1. Net Operating Cashflow (Bar Chart) - Top Left\n",
    "# For each year, calculate the average Net cash inflows/outflows from operating activities\n",
    "ocf_data = CashFlow.groupby('yearReport')['Net cash inflows/outflows from operating activities'].mean() / 1000  # Convert to billions\n",
    "ocf_years = ocf_data.index.tolist()\n",
    "ocf_values = ocf_data.values.tolist()\n",
    "\n",
    "# Add bar chart\n",
    "fig.add_trace(\n",
    "    go.Bar(\n",
    "        x=ocf_years,\n",
    "        y=ocf_values,\n",
    "        text=[f'{v:.2f}B' for v in ocf_values],\n",
    "        textposition='outside',\n",
    "        marker_color='rgb(66, 135, 245)',\n",
    "        marker_line_color='lightgrey',\n",
    "        marker_line_width=1.5,\n",
    "        opacity=0.8,\n",
    "        name='Net Operating Cash Flow'\n",
    "    ),\n",
    "    row=1, col=1\n",
    ")\n",
    "\n",
    "# 2. ROIC vs WACC Chart with Economic Value Zone - Top Right\n",
    "# Get the years from both DataFrames\n",
    "ratio_years = Ratio[('Meta', 'Năm')].astype(int).values\n",
    "result_years = result_df['yearReport'].astype(int).values\n",
    "\n",
    "# Find common years\n",
    "common_years = sorted(list(set(ratio_years).intersection(set(result_years))))\n",
    "\n",
    "# Filter and sort both DataFrames by common years\n",
    "ratio_filtered = Ratio[Ratio[('Meta', 'Năm')].astype(int).isin(common_years)]\n",
    "ratio_filtered = ratio_filtered.sort_values(('Meta', 'Năm'))\n",
    "\n",
    "result_filtered = result_df[result_df['yearReport'].astype(int).isin(common_years)]\n",
    "result_filtered = result_filtered.sort_values('yearReport')\n",
    "\n",
    "# Calculate values using the filtered and aligned data\n",
    "wacc_mean = result_filtered['wacc_market_based'].mean() * 100\n",
    "roic_values = ratio_filtered[('Chỉ tiêu khả năng sinh lợi', 'ROIC (%)')] * 100\n",
    "wacc_values = result_filtered['wacc_market_based'] * 100\n",
    "\n",
    "# Add ROIC line\n",
    "fig.add_trace(\n",
    "    go.Scatter(\n",
    "        x=ratio_filtered[('Meta', 'Năm')],\n",
    "        y=roic_values,\n",
    "        name='ROIC (%)',\n",
    "        line=dict(color='blue')\n",
    "    ),\n",
    "    row=1, col=2\n",
    ")\n",
    "\n",
    "# Add WACC line\n",
    "fig.add_trace(\n",
    "    go.Scatter(\n",
    "        x=result_filtered['yearReport'],\n",
    "        y=wacc_values,\n",
    "        name='WACC (%)',\n",
    "        line=dict(color='green')\n",
    "    ),\n",
    "    row=1, col=2\n",
    ")\n",
    "\n",
    "# Add horizontal line at WACC mean\n",
    "fig.add_shape(\n",
    "    type=\"line\",\n",
    "    x0=min(common_years),\n",
    "    x1=max(common_years),\n",
    "    y0=wacc_mean,\n",
    "    y1=wacc_mean,\n",
    "    line=dict(color=\"red\", dash=\"dash\"),\n",
    "    row=1, col=2\n",
    ")\n",
    "\n",
    "# Add WACC mean annotation\n",
    "fig.add_annotation(\n",
    "    x=max(common_years),\n",
    "    y=wacc_mean,\n",
    "    text=f\"WACC Mean: {wacc_mean:.2f}%\",\n",
    "    showarrow=False,\n",
    "    xanchor=\"right\",\n",
    "    font=dict(color=\"red\"),\n",
    "    row=1, col=2\n",
    ")\n",
    "\n",
    "# Only add shaded area if we have data points\n",
    "if len(roic_values) > 0:\n",
    "    # Create x values for the shaded area\n",
    "    x_combined = np.concatenate([ratio_filtered[('Meta', 'Năm')], ratio_filtered[('Meta', 'Năm')][::-1]])\n",
    "    y_upper = np.where(roic_values > wacc_mean, roic_values, wacc_mean)\n",
    "    y_lower = np.full_like(roic_values, wacc_mean)\n",
    "    y_combined = np.concatenate([y_upper, y_lower[::-1]])\n",
    "\n",
    "    # Add the shaded area\n",
    "    fig.add_trace(\n",
    "        go.Scatter(\n",
    "            x=x_combined,\n",
    "            y=y_combined,\n",
    "            fill='toself',\n",
    "            fillcolor='rgba(0, 100, 255, 0.2)',\n",
    "            line=dict(width=0),\n",
    "            showlegend=True,\n",
    "            name='Economic Value',\n",
    "            legendgroup='economic_value',\n",
    "            hoverinfo='skip'\n",
    "        ),\n",
    "        row=1, col=2\n",
    "    )\n",
    "\n",
    "# Add Economic Value annotation in upper left corner of the ROIC vs WACC plot\n",
    "fig.add_annotation(\n",
    "    x=0.52,  # Adjusted for subplot positioning\n",
    "    y=0.95,  # Top side\n",
    "    xref=\"paper\",  # Use paper coordinates (0-1)\n",
    "    yref=\"paper\",  # Use paper coordinates (0-1)\n",
    "    text=\"<b>Economic Value</b>\",\n",
    "    showarrow=False,\n",
    "    font=dict(\n",
    "        size=12,\n",
    "        color=\"blue\"\n",
    "    ),\n",
    "    bgcolor='rgba(0, 100, 255, 0.2)',  # Same as fill color\n",
    "    bordercolor=\"blue\",\n",
    "    borderwidth=1,\n",
    "    borderpad=4,\n",
    "    opacity=0.8,\n",
    "    xanchor=\"left\",  # Left-align the text\n",
    "    yanchor=\"top\"    # Anchor at the top\n",
    ")\n",
    "\n",
    "# 3. Cashflow Waterfall - Bottom Left\n",
    "# Get a representative ticker (or use one specified)\n",
    "ticker = CashFlow['ticker'].iloc[0]\n",
    "# Get the latest year\n",
    "latest_year = max(years)\n",
    "\n",
    "# Filter data for the specific ticker and latest year\n",
    "waterfall_data = CashFlow[(CashFlow['ticker'] == ticker) & \n",
    "                          (CashFlow['yearReport'] == latest_year)]\n",
    "\n",
    "if len(waterfall_data) > 0:\n",
    "    data = waterfall_data.iloc[0]\n",
    "    \n",
    "    # Key cashflow components\n",
    "    measures = [\n",
    "        'Initial Cash',\n",
    "        'Operating CF',\n",
    "        'Investing CF',\n",
    "        'Financing CF',\n",
    "        'Final Cash'\n",
    "    ]\n",
    "    \n",
    "    values = [\n",
    "        data['Cash and cash equivalents'],\n",
    "        data['Net cash inflows/outflows from operating activities'],\n",
    "        data['Net Cash Flows from Investing Activities'],\n",
    "        data['Cash flows from financial activities'],\n",
    "        data['Cash and Cash Equivalents at the end of period']\n",
    "    ]\n",
    "    \n",
    "    measure_types = ['absolute', 'relative', 'relative', 'relative', 'total']\n",
    "    \n",
    "    # Add waterfall chart\n",
    "    fig.add_trace(\n",
    "        go.Waterfall(\n",
    "            name=f\"Cashflow {latest_year}\",\n",
    "            orientation=\"v\",\n",
    "            measure=measure_types,\n",
    "            x=measures,\n",
    "            textposition=\"outside\",\n",
    "            text=[f\"{x:,.1f}\" for x in values],\n",
    "            y=values,\n",
    "            connector={\"line\": {\"color\": \"rgb(63, 63, 63)\"}},\n",
    "        ),\n",
    "        row=2, col=1\n",
    "    )\n",
    "\n",
    "# 4. ROCE vs ROE Comparison - Bottom Right\n",
    "# Calculate ROCE and ROE using the provided function\n",
    "ROCE_df = calculate_roce_and_include_roe(BalanceSheet, IncomeStatement, Ratio)\n",
    "\n",
    "# Filter for the specific ticker\n",
    "ticker_data = ROCE_df[ROCE_df['ticker'] == ticker].sort_values('yearReport')\n",
    "\n",
    "# Convert ROCE to percentage\n",
    "ticker_data['ROCE_PCT'] = ticker_data['ROCE'] * 100\n",
    "\n",
    "# Convert ROE to percentage if it's not already\n",
    "# Check if ROE values are already in percentage (typically >1 if in %)\n",
    "if ticker_data['ROE'].max() < 1:  # If ROE is in decimal form (e.g., 0.15 for 15%)\n",
    "    ticker_data['ROE_PCT'] = ticker_data['ROE'] * 100\n",
    "else:\n",
    "    ticker_data['ROE_PCT'] = ticker_data['ROE']  # If already in percentage form\n",
    "\n",
    "# Add ROCE trace (using percentage values) - REMOVED text labels\n",
    "fig.add_trace(\n",
    "    go.Scatter(\n",
    "        x=ticker_data['yearReport'],\n",
    "        y=ticker_data['ROCE_PCT'],\n",
    "        name='ROCE (%)',\n",
    "        mode='lines+markers',  # Removed 'text' from mode\n",
    "        line=dict(color='rgba(0, 117, 210, 0.9)', width=3),\n",
    "        marker=dict(\n",
    "            size=10, \n",
    "            color='rgba(0, 117, 210, 0.9)',\n",
    "            line=dict(color='white', width=2)\n",
    "        )\n",
    "    ),\n",
    "    row=2, col=2,\n",
    "    secondary_y=False\n",
    ")\n",
    "\n",
    "# Add shaded area under ROCE for emphasis\n",
    "fig.add_trace(\n",
    "    go.Scatter(\n",
    "        x=ticker_data['yearReport'],\n",
    "        y=ticker_data['ROCE_PCT'],\n",
    "        name='ROCE Area',\n",
    "        mode='none',\n",
    "        fill='tozeroy',\n",
    "        fillcolor='rgba(0, 117, 210, 0.1)',\n",
    "        showlegend=False,\n",
    "        hoverinfo='skip'\n",
    "    ),\n",
    "    row=2, col=2,\n",
    "    secondary_y=False\n",
    ")\n",
    "\n",
    "# Add ROE trace using percentage values - REMOVED text labels\n",
    "fig.add_trace(\n",
    "    go.Scatter(\n",
    "        x=ticker_data['yearReport'],\n",
    "        y=ticker_data['ROE_PCT'],\n",
    "        name='ROE (%)',\n",
    "        mode='lines+markers',  # Removed 'text' from mode\n",
    "        line=dict(color='rgba(220, 20, 60, 0.9)', width=3),\n",
    "        marker=dict(\n",
    "            size=10, \n",
    "            symbol='diamond',\n",
    "            color='rgba(220, 20, 60, 0.9)',\n",
    "            line=dict(color='white', width=2)\n",
    "        )\n",
    "    ),\n",
    "    row=2, col=2,\n",
    "    secondary_y=True\n",
    ")\n",
    "\n",
    "# Add shaded area under ROE for emphasis\n",
    "fig.add_trace(\n",
    "    go.Scatter(\n",
    "        x=ticker_data['yearReport'],\n",
    "        y=ticker_data['ROE_PCT'],\n",
    "        name='ROE Area',\n",
    "        mode='none',\n",
    "        fill='tozeroy',\n",
    "        fillcolor='rgba(220, 20, 60, 0.1)',\n",
    "        showlegend=False,\n",
    "        hoverinfo='skip'\n",
    "    ),\n",
    "    row=2, col=2,\n",
    "    secondary_y=True\n",
    ")\n",
    "\n",
    "# Financial Leverage Interpretation annotation has been removed\n",
    "\n",
    "# Update layout for better appearance\n",
    "fig.update_layout(\n",
    "    title={\n",
    "        'text': f'Financial Analysis Dashboard for {ticker}',\n",
    "        'y':0.98,\n",
    "        'x':0.5,\n",
    "        'xanchor': 'center',\n",
    "        'yanchor': 'top'\n",
    "    },\n",
    "    template='plotly_white',\n",
    "    height=1000,  # Increased height to accommodate annotations and avoid overlap\n",
    "    width=1200,\n",
    "    showlegend=True,\n",
    "    legend=dict(\n",
    "        orientation=\"h\",\n",
    "        yanchor=\"bottom\",\n",
    "        y=-0.17,  # Lowered legend position to avoid overlap\n",
    "        xanchor=\"center\",\n",
    "        x=0.5,\n",
    "        bgcolor='rgba(255, 255, 255, 0.7)',\n",
    "        bordercolor='rgba(0, 0, 0, 0.2)',\n",
    "        borderwidth=1\n",
    "    ),\n",
    "    hovermode='x unified',\n",
    "    margin=dict(t=100, b=180, l=80, r=80),  # Increased bottom margin\n",
    ")\n",
    "\n",
    "# Update axes labels and settings\n",
    "fig.update_xaxes(\n",
    "    title_text=\"Year\",\n",
    "    tickangle=45,\n",
    "    tickmode='array',\n",
    "    tickvals=years,\n",
    "    row=1, \n",
    "    col=1\n",
    ")\n",
    "\n",
    "fig.update_yaxes(title_text=\"Value (Billions VND)\", row=1, col=1)\n",
    "\n",
    "fig.update_xaxes(\n",
    "    title_text=\"Year\",\n",
    "    tickangle=45,\n",
    "    tickmode='array',\n",
    "    tickvals=common_years,\n",
    "    row=1, \n",
    "    col=2\n",
    ")\n",
    "\n",
    "fig.update_yaxes(title_text=\"Percentage (%)\", row=1, col=2)\n",
    "\n",
    "fig.update_xaxes(title_text=\"Cash Flow Components\", tickangle=0, row=2, col=1)\n",
    "fig.update_yaxes(title_text=\"Amount (Bn. VND)\", row=2, col=1)\n",
    "\n",
    "# Update ROCE vs ROE axes\n",
    "fig.update_xaxes(\n",
    "    title_text=\"Year\",\n",
    "    tickangle=45,\n",
    "    tickmode='array',\n",
    "    tickvals=ticker_data['yearReport'],\n",
    "    showgrid=True,\n",
    "    gridwidth=1,\n",
    "    gridcolor='rgba(211, 211, 211, 0.4)',\n",
    "    showline=True,\n",
    "    linewidth=2,\n",
    "    linecolor='rgba(0, 0, 0, 0.3)',\n",
    "    row=2, \n",
    "    col=2\n",
    ")\n",
    "\n",
    "fig.update_yaxes(\n",
    "    title_text=\"ROCE (%)\",\n",
    "    title_font=dict(color='rgba(0, 117, 210, 1)'),\n",
    "    showgrid=True,\n",
    "    gridwidth=1, \n",
    "    gridcolor='rgba(211, 211, 211, 0.4)',\n",
    "    showline=True,\n",
    "    linewidth=2, \n",
    "    linecolor='rgba(0, 117, 210, 0.7)',\n",
    "    tickformat='.1f',\n",
    "    ticksuffix='%',\n",
    "    row=2, \n",
    "    col=2,\n",
    "    secondary_y=False\n",
    ")\n",
    "\n",
    "fig.update_yaxes(\n",
    "    title_text=\"ROE (%)\",\n",
    "    title_font=dict(color='rgba(220, 20, 60, 1)'),\n",
    "    showgrid=False,\n",
    "    showline=True, \n",
    "    linewidth=2, \n",
    "    linecolor='rgba(220, 20, 60, 0.7)',\n",
    "    tickformat='.1f',\n",
    "    ticksuffix='%',\n",
    "    row=2, \n",
    "    col=2,\n",
    "    secondary_y=True\n",
    ")\n",
    "\n",
    "# Add waterfall year to subtitle\n",
    "fig.update_annotations(\n",
    "    text=f\"Cashflow Waterfall ({latest_year})\",\n",
    "    selector={\"index\": 2}\n",
    ")\n",
    "\n",
    "# Create outputs directory if it doesn't exist\n",
    "output_dir = './dist'\n",
    "if not os.path.exists(output_dir):\n",
    "    os.makedirs(output_dir)\n",
    "\n",
    "# Save the figure as an HTML file\n",
    "output_path = os.path.join(output_dir, 'index.html')\n",
    "fig.write_html(output_path)\n",
    "\n",
    "print(f\"Financial dashboard saved to {output_path}\")"
   ]
  }
 ],
 "metadata": {
  "kernelspec": {
   "display_name": ".venv",
   "language": "python",
   "name": "python3"
  },
  "language_info": {
   "codemirror_mode": {
    "name": "ipython",
    "version": 3
   },
   "file_extension": ".py",
   "mimetype": "text/x-python",
   "name": "python",
   "nbconvert_exporter": "python",
   "pygments_lexer": "ipython3",
   "version": "3.10.11"
  }
 },
 "nbformat": 4,
 "nbformat_minor": 5
}
