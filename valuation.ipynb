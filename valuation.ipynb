{
 "cells": [
  {
   "cell_type": "markdown",
   "id": "cd127e40-2d71-4db5-939a-953847b6cb93",
   "metadata": {},
   "source": [
    "# Fundamental Analysis"
   ]
  },
  {
   "cell_type": "code",
   "execution_count": 2,
   "id": "1c195233-c614-4645-b75c-052f45038c7a",
   "metadata": {},
   "outputs": [
    {
     "data": {
      "text/html": [
       "<!DOCTYPE html>\n",
       "<html lang=\"vi\">\n",
       "<head>\n",
       "  <meta charset=\"UTF-8\">\n",
       "  <meta name=\"viewport\" content=\"width=device-width, initial-scale=1\">\n",
       "  <title>Vnstock – Còn <span id=\"starsLeft\">160</span> ⭐ nữa!</title>\n",
       "  <style>\n",
       "    /* Isolate ad container with theme-adaptive styling */\n",
       "    #vnstock-ad-container {\n",
       "      /* Use CSS variables for theming */\n",
       "      --vnstock-primary: #4CAF50;\n",
       "      --vnstock-hover: #8C52FF;\n",
       "      /* Theme-adaptive colors that inherit from parent */\n",
       "      --vnstock-bg: inherit;\n",
       "      --vnstock-border: rgba(125,125,125,0.3);\n",
       "      --vnstock-text: inherit;\n",
       "      --vnstock-secondary-text: inherit;\n",
       "      \n",
       "      /* Isolate container styles */\n",
       "      display: flex;\n",
       "      justify-content: center;\n",
       "      align-items: center;\n",
       "      padding: 16px;\n",
       "      box-sizing: border-box;\n",
       "      width: 100%;\n",
       "      max-width: 400px;\n",
       "      margin: 0 auto;\n",
       "    }\n",
       "    \n",
       "    /* Theme detection and adaptation */\n",
       "    @media (prefers-color-scheme: dark) {\n",
       "      #vnstock-ad-container {\n",
       "        --vnstock-border: rgba(125,125,125,0.3);\n",
       "      }\n",
       "    }\n",
       "    \n",
       "    /* Ad content styling */\n",
       "    #vnstock-ad-container .vnstock-ad {\n",
       "      width: 100%;\n",
       "      color: var(--vnstock-text);\n",
       "      background-color: var(--vnstock-bg);\n",
       "      border: 1px solid var(--vnstock-border);\n",
       "      border-radius: 8px;\n",
       "      box-shadow: 0 2px 8px rgba(0,0,0,0.08);\n",
       "      padding: 16px;\n",
       "      text-align: center;\n",
       "      font-family: -apple-system, BlinkMacSystemFont, 'Segoe UI', system-ui, sans-serif;\n",
       "    }\n",
       "    \n",
       "    #vnstock-ad-container .vnstock-ad h1 {\n",
       "      font-size: 18px;\n",
       "      margin-top: 0;\n",
       "      margin-bottom: 16px;\n",
       "      line-height: 1.3;\n",
       "    }\n",
       "    \n",
       "    #vnstock-ad-container .vnstock-progress {\n",
       "      background: rgba(125,125,125,0.2);\n",
       "      border-radius: 10px;\n",
       "      overflow: hidden;\n",
       "      height: 10px;\n",
       "      margin-bottom: 8px;\n",
       "    }\n",
       "    \n",
       "    #vnstock-ad-container .vnstock-progress .vnstock-fill {\n",
       "      width: 80%; /* default 80% */\n",
       "      height: 100%;\n",
       "      background: var(--vnstock-primary);\n",
       "      transition: width 1s ease-out;\n",
       "    }\n",
       "    \n",
       "    #vnstock-ad-container .vnstock-progress-text {\n",
       "      font-size: 12px;\n",
       "      opacity: 0.7;\n",
       "      margin-bottom: 16px;\n",
       "    }\n",
       "    \n",
       "    #vnstock-ad-container .vnstock-description {\n",
       "      font-size: 14px;\n",
       "      line-height: 1.5;\n",
       "      margin-bottom: 20px;\n",
       "      text-align: left;\n",
       "    }\n",
       "    \n",
       "    #vnstock-ad-container .vnstock-btn {\n",
       "      display: inline-block;\n",
       "      padding: 8px 18px;\n",
       "      background: var(--vnstock-primary);\n",
       "      color: white;\n",
       "      text-decoration: none;\n",
       "      font-weight: bold;\n",
       "      border-radius: 20px;\n",
       "      transition: background 0.3s;\n",
       "    }\n",
       "    \n",
       "    #vnstock-ad-container .vnstock-btn:hover {\n",
       "      background: var(--vnstock-hover);\n",
       "    }\n",
       "  </style>\n",
       "</head>\n",
       "<body>\n",
       "  <!-- Isolated container with theme-adaptive styling -->\n",
       "  <div id=\"vnstock-ad-container\">\n",
       "    <div class=\"vnstock-ad\">\n",
       "      <h1 id=\"vnstock-ad-title\">\n",
       "        Còn <span id=\"vnstock-stars-left\">160</span> ⭐ nữa để chạm mốc 1.000!\n",
       "      </h1>\n",
       "\n",
       "      <div class=\"vnstock-progress\">\n",
       "        <div class=\"vnstock-fill\"></div>\n",
       "      </div>\n",
       "      <div class=\"vnstock-progress-text\" id=\"vnstock-progress-text\">840 / 1000 ⭐</div>\n",
       "\n",
       "      <p class=\"vnstock-description\">\n",
       "        Mỗi ⭐ của bạn tiếp sức cho Vnstock phát triển nhanh hơn, mạnh mẽ hơn và duy trì nguồn mở.\n",
       "      </p>\n",
       "\n",
       "      <a href=\"https://github.com/thinh-vu/vnstock\" target=\"_blank\" class=\"vnstock-btn\">\n",
       "        ⭐ Thả Star Ngay!\n",
       "      </a>\n",
       "    </div>\n",
       "  </div>\n",
       "\n",
       "  <script>\n",
       "    // Use immediately invoked function to avoid global scope pollution\n",
       "    (function() {\n",
       "      // Wait for DOM to be ready\n",
       "      document.addEventListener('DOMContentLoaded', () => {\n",
       "        // Fetch star count from GitHub API\n",
       "        fetch('https://api.github.com/repos/thinh-vu/vnstock')\n",
       "          .then(res => res.json())\n",
       "          .then(data => {\n",
       "            const count = data.stargazers_count || 0;\n",
       "            const left = Math.max(1000 - count, 0);\n",
       "            const pct = Math.min((count / 1000) * 100, 100);\n",
       "\n",
       "            // Update UI elements\n",
       "            document.querySelector('#vnstock-ad-container .vnstock-fill')\n",
       "                   .style.width = pct + '%';\n",
       "            document.getElementById('vnstock-progress-text')\n",
       "                   .textContent = `${count} / 1000 ⭐`;\n",
       "            document.getElementById('vnstock-stars-left')\n",
       "                   .textContent = left;\n",
       "          })\n",
       "          .catch(() => {\n",
       "            // Keep defaults if fetch fails\n",
       "          });\n",
       "      });\n",
       "    })();\n",
       "  </script>\n",
       "</body>\n",
       "</html>"
      ],
      "text/plain": [
       "<IPython.core.display.HTML object>"
      ]
     },
     "metadata": {},
     "output_type": "display_data"
    },
    {
     "data": {
      "text/markdown": [
       "Phiên bản Vnstock 3.2.5 đã có mặt, vui lòng cập nhật với câu lệnh : `pip install vnstock --upgrade`.\n",
       "Lịch sử phiên bản: https://vnstocks.com/docs/tai-lieu/lich-su-phien-ban\n",
       "Phiên bản hiện tại 3.2.2"
      ],
      "text/plain": [
       "<IPython.core.display.Markdown object>"
      ]
     },
     "metadata": {},
     "output_type": "display_data"
    }
   ],
   "source": [
    "import pandas as pd\n",
    "from vnstock import Vnstock\n",
    "# Set date range\n",
    "start_date = '2024-01-01'\n",
    "end_date = '2025-03-19'\n",
    "interval = '1D'\n",
    "symbol='REE'\n",
    "stock = Vnstock().stock(symbol=symbol, source='VCI')\n",
    "candle_df = stock.quote.history(start= start_date, end= end_date)"
   ]
  },
  {
   "cell_type": "code",
   "execution_count": 3,
   "id": "67c75c90-fd3b-421b-8dbd-cdbc543002c2",
   "metadata": {},
   "outputs": [],
   "source": [
    "CashFlow = stock.finance.cash_flow(period='year')\n",
    "#CashFlow.to_csv('./outputs/CashFlow.csv')"
   ]
  },
  {
   "cell_type": "code",
   "execution_count": 4,
   "id": "689f4a11-7508-4726-976c-ed1465eba561",
   "metadata": {},
   "outputs": [
    {
     "data": {
      "text/plain": [
       "['ticker',\n",
       " 'yearReport',\n",
       " 'Net Profit/Loss before tax',\n",
       " 'Depreciation and Amortisation',\n",
       " 'Provision for credit losses',\n",
       " 'Unrealized foreign exchange gain/loss',\n",
       " 'Profit/Loss from investing activities',\n",
       " 'Interest Expense',\n",
       " 'Operating profit before changes in working capital',\n",
       " 'Increase/Decrease in receivables',\n",
       " 'Increase/Decrease in inventories',\n",
       " 'Increase/Decrease in payables',\n",
       " 'Increase/Decrease in prepaid expenses',\n",
       " 'Interest paid',\n",
       " 'Business Income Tax paid',\n",
       " 'Other receipts from operating activities',\n",
       " 'Other payments on operating activities',\n",
       " 'Net cash inflows/outflows from operating activities',\n",
       " 'Purchase of fixed assets',\n",
       " 'Proceeds from disposal of fixed assets',\n",
       " 'Loans granted, purchases of debt instruments (Bn. VND)',\n",
       " 'Collection of loans, proceeds from sales of debts instruments (Bn. VND)',\n",
       " 'Investment in other entities',\n",
       " 'Proceeds from divestment in other entities',\n",
       " 'Gain on Dividend',\n",
       " 'Net Cash Flows from Investing Activities',\n",
       " 'Increase in charter captial',\n",
       " 'Payments for share repurchases',\n",
       " 'Proceeds from borrowings',\n",
       " 'Repayment of borrowings',\n",
       " 'Dividends paid',\n",
       " 'Cash flows from financial activities',\n",
       " 'Net increase/decrease in cash and cash equivalents',\n",
       " 'Cash and cash equivalents',\n",
       " 'Foreign exchange differences Adjustment',\n",
       " 'Cash and Cash Equivalents at the end of period']"
      ]
     },
     "execution_count": 4,
     "metadata": {},
     "output_type": "execute_result"
    }
   ],
   "source": [
    "# List the columns headers \n",
    "CashFlow.columns.tolist()"
   ]
  },
  {
   "cell_type": "markdown",
   "id": "e5a565ce-abe1-47c7-bedd-7834b6d0cb81",
   "metadata": {},
   "source": [
    "## Transpose the CF dataframe "
   ]
  },
  {
   "cell_type": "code",
   "execution_count": 5,
   "id": "e3833014-82cd-484b-b7ac-ba82e8ee14e7",
   "metadata": {},
   "outputs": [
    {
     "data": {
      "text/html": [
       "<div>\n",
       "<style scoped>\n",
       "    .dataframe tbody tr th:only-of-type {\n",
       "        vertical-align: middle;\n",
       "    }\n",
       "\n",
       "    .dataframe tbody tr th {\n",
       "        vertical-align: top;\n",
       "    }\n",
       "\n",
       "    .dataframe thead th {\n",
       "        text-align: right;\n",
       "    }\n",
       "</style>\n",
       "<table border=\"1\" class=\"dataframe\">\n",
       "  <thead>\n",
       "    <tr style=\"text-align: right;\">\n",
       "      <th>yearReport</th>\n",
       "      <th>2024</th>\n",
       "      <th>2023</th>\n",
       "      <th>2022</th>\n",
       "      <th>2021</th>\n",
       "      <th>2020</th>\n",
       "      <th>2019</th>\n",
       "      <th>2018</th>\n",
       "      <th>2017</th>\n",
       "      <th>2016</th>\n",
       "      <th>2015</th>\n",
       "      <th>2014</th>\n",
       "      <th>2013</th>\n",
       "    </tr>\n",
       "  </thead>\n",
       "  <tbody>\n",
       "    <tr>\n",
       "      <th>ticker</th>\n",
       "      <td>REE</td>\n",
       "      <td>REE</td>\n",
       "      <td>REE</td>\n",
       "      <td>REE</td>\n",
       "      <td>REE</td>\n",
       "      <td>REE</td>\n",
       "      <td>REE</td>\n",
       "      <td>REE</td>\n",
       "      <td>REE</td>\n",
       "      <td>REE</td>\n",
       "      <td>REE</td>\n",
       "      <td>REE</td>\n",
       "    </tr>\n",
       "    <tr>\n",
       "      <th>Net Profit/Loss before tax</th>\n",
       "      <td>2687606595302</td>\n",
       "      <td>3056093471161</td>\n",
       "      <td>3878561080509</td>\n",
       "      <td>2399829028939</td>\n",
       "      <td>1923585472508</td>\n",
       "      <td>1920209997754</td>\n",
       "      <td>2118013069944</td>\n",
       "      <td>1721146987668</td>\n",
       "      <td>1375753903562</td>\n",
       "      <td>1045676170298</td>\n",
       "      <td>1262427405945</td>\n",
       "      <td>1087556959984</td>\n",
       "    </tr>\n",
       "    <tr>\n",
       "      <th>Depreciation and Amortisation</th>\n",
       "      <td>1298493472359</td>\n",
       "      <td>1263900546872</td>\n",
       "      <td>1225256688185</td>\n",
       "      <td>892746007729</td>\n",
       "      <td>321516852418</td>\n",
       "      <td>182619094137</td>\n",
       "      <td>161304336971</td>\n",
       "      <td>130117592892</td>\n",
       "      <td>139556922833</td>\n",
       "      <td>132711178140</td>\n",
       "      <td>57142979454</td>\n",
       "      <td>61183861575</td>\n",
       "    </tr>\n",
       "    <tr>\n",
       "      <th>Provision for credit losses</th>\n",
       "      <td>94886966817</td>\n",
       "      <td>267350820613</td>\n",
       "      <td>98981408043</td>\n",
       "      <td>18405779937</td>\n",
       "      <td>23057787014</td>\n",
       "      <td>-37003997619</td>\n",
       "      <td>-181821279821</td>\n",
       "      <td>63225518370</td>\n",
       "      <td>-7712055856</td>\n",
       "      <td>8470325013</td>\n",
       "      <td>-26958372500</td>\n",
       "      <td>36502068928</td>\n",
       "    </tr>\n",
       "    <tr>\n",
       "      <th>Unrealized foreign exchange gain/loss</th>\n",
       "      <td>13364760</td>\n",
       "      <td>34472956246</td>\n",
       "      <td>42356802295</td>\n",
       "      <td>-54068058823</td>\n",
       "      <td>51724431455</td>\n",
       "      <td>141521813</td>\n",
       "      <td>180374946</td>\n",
       "      <td>283085334</td>\n",
       "      <td>279701943</td>\n",
       "      <td>-29384453</td>\n",
       "      <td>1641418011</td>\n",
       "      <td>4239193028</td>\n",
       "    </tr>\n",
       "  </tbody>\n",
       "</table>\n",
       "</div>"
      ],
      "text/plain": [
       "yearReport                                      2024           2023  \\\n",
       "ticker                                           REE            REE   \n",
       "Net Profit/Loss before tax             2687606595302  3056093471161   \n",
       "Depreciation and Amortisation          1298493472359  1263900546872   \n",
       "Provision for credit losses              94886966817   267350820613   \n",
       "Unrealized foreign exchange gain/loss       13364760    34472956246   \n",
       "\n",
       "yearReport                                      2022           2021  \\\n",
       "ticker                                           REE            REE   \n",
       "Net Profit/Loss before tax             3878561080509  2399829028939   \n",
       "Depreciation and Amortisation          1225256688185   892746007729   \n",
       "Provision for credit losses              98981408043    18405779937   \n",
       "Unrealized foreign exchange gain/loss    42356802295   -54068058823   \n",
       "\n",
       "yearReport                                      2020           2019  \\\n",
       "ticker                                           REE            REE   \n",
       "Net Profit/Loss before tax             1923585472508  1920209997754   \n",
       "Depreciation and Amortisation           321516852418   182619094137   \n",
       "Provision for credit losses              23057787014   -37003997619   \n",
       "Unrealized foreign exchange gain/loss    51724431455      141521813   \n",
       "\n",
       "yearReport                                      2018           2017  \\\n",
       "ticker                                           REE            REE   \n",
       "Net Profit/Loss before tax             2118013069944  1721146987668   \n",
       "Depreciation and Amortisation           161304336971   130117592892   \n",
       "Provision for credit losses            -181821279821    63225518370   \n",
       "Unrealized foreign exchange gain/loss      180374946      283085334   \n",
       "\n",
       "yearReport                                      2016           2015  \\\n",
       "ticker                                           REE            REE   \n",
       "Net Profit/Loss before tax             1375753903562  1045676170298   \n",
       "Depreciation and Amortisation           139556922833   132711178140   \n",
       "Provision for credit losses              -7712055856     8470325013   \n",
       "Unrealized foreign exchange gain/loss      279701943      -29384453   \n",
       "\n",
       "yearReport                                      2014           2013  \n",
       "ticker                                           REE            REE  \n",
       "Net Profit/Loss before tax             1262427405945  1087556959984  \n",
       "Depreciation and Amortisation            57142979454    61183861575  \n",
       "Provision for credit losses             -26958372500    36502068928  \n",
       "Unrealized foreign exchange gain/loss     1641418011     4239193028  "
      ]
     },
     "execution_count": 5,
     "metadata": {},
     "output_type": "execute_result"
    }
   ],
   "source": [
    "#CashFlow\n",
    "CashFlow_transposed = CashFlow.T\n",
    "CashFlow_transposed.columns = CashFlow['yearReport']\n",
    "# Drop the duplicate 'yearReport' row\n",
    "CashFlow_transposed = CashFlow_transposed.drop('yearReport')\n",
    "CashFlow_transposed.head()"
   ]
  },
  {
   "cell_type": "markdown",
   "id": "1171ea66-1e7e-40f5-ae55-39adeb523c9c",
   "metadata": {},
   "source": [
    "# Convert the built-in visulization method to seaborn for a more polished look"
   ]
  },
  {
   "cell_type": "code",
   "execution_count": 6,
   "id": "a25ffa0d-35b9-4fd3-a35c-58901e0a1d14",
   "metadata": {},
   "outputs": [
    {
     "data": {
      "image/png": "[encoded data removed]",
      "text/plain": [
       "<Figure size 1200x600 with 1 Axes>"
      ]
     },
     "metadata": {},
     "output_type": "display_data"
    }
   ],
   "source": [
    "import seaborn as sns\n",
    "import matplotlib.pyplot as plt\n",
    "import pandas as pd\n",
    "import numpy as np\n",
    "\n",
    "# Assuming CashFlow is a DataFrame you already have\n",
    "# Normalize values to billions\n",
    "data = CashFlow['Net cash inflows/outflows from operating activities'] / 1000_000_000\n",
    "\n",
    "# Create figure with specified size\n",
    "plt.figure(figsize=(12, 6))\n",
    "\n",
    "# Sort data by year to ensure proper ordering\n",
    "sorted_indices = CashFlow['yearReport'].argsort()\n",
    "years = CashFlow['yearReport'].iloc[sorted_indices]\n",
    "sorted_data = data.iloc[sorted_indices]\n",
    "\n",
    "# Create the vertical bar plot with sorted data\n",
    "ax = sns.barplot(\n",
    "    x=years,                # Sorted years on x-axis\n",
    "    y=sorted_data,          # Sorted data values on y-axis\n",
    "    edgecolor='lightgrey',\n",
    "    width=0.7\n",
    ")\n",
    "\n",
    "# Set title and labels with specified font sizes\n",
    "plt.title('Net Operating Cashflow', fontsize=15)\n",
    "plt.xlabel('Years', fontsize=10)\n",
    "plt.ylabel('Value', fontsize=10)\n",
    "\n",
    "# Turn off grid\n",
    "plt.grid(False)\n",
    "\n",
    "# Add data labels with minimal gap above bars\n",
    "for i, v in enumerate(sorted_data):\n",
    "    # Much smaller offset - adjust the multiplier as needed\n",
    "    offset = 0.01 * max(sorted_data)\n",
    "    \n",
    "    ax.text(\n",
    "        i,                       # x position (bar index)\n",
    "        v + offset,              # Position with minimal gap\n",
    "        f'{v:.2f}',              # formatted value \n",
    "        ha='center',             # horizontal alignment\n",
    "        va='bottom',             # vertical alignment\n",
    "        fontsize=10\n",
    "    )\n",
    "\n",
    "# Adjust y-axis limit to make room for labels\n",
    "ymax = max(sorted_data) * 1.05  # Add just 5% padding to y-axis\n",
    "plt.ylim(0, ymax)\n",
    "\n",
    "# Rotate x-axis labels for better readability\n",
    "plt.xticks(rotation=45)\n",
    "\n",
    "# Adjust layout\n",
    "plt.tight_layout()\n",
    "\n",
    "# Save the seaborn figure\n",
    "#plt.savefig('./outputs/Net OCF.png', dpi=300, bbox_inches='tight')\n",
    "\n",
    "# Display the plot\n",
    "plt.show()"
   ]
  },
  {
   "cell_type": "code",
   "execution_count": 7,
   "id": "298c3d6b-f113-42e0-b0c6-95eb6c2d3ac1",
   "metadata": {},
   "outputs": [
    {
     "data": {
      "text/plain": [
       "[('Meta', 'CP'),\n",
       " ('Meta', 'Năm'),\n",
       " ('Meta', 'Kỳ'),\n",
       " ('Chỉ tiêu cơ cấu nguồn vốn', '(Vay NH+DH)/VCSH'),\n",
       " ('Chỉ tiêu cơ cấu nguồn vốn', 'Nợ/VCSH'),\n",
       " ('Chỉ tiêu cơ cấu nguồn vốn', 'TSCĐ / Vốn CSH'),\n",
       " ('Chỉ tiêu cơ cấu nguồn vốn', 'Vốn CSH/Vốn điều lệ'),\n",
       " ('Chỉ tiêu hiệu quả hoạt động', 'Vòng quay tài sản'),\n",
       " ('Chỉ tiêu hiệu quả hoạt động', 'Vòng quay TSCĐ'),\n",
       " ('Chỉ tiêu hiệu quả hoạt động', 'Số ngày thu tiền bình quân'),\n",
       " ('Chỉ tiêu hiệu quả hoạt động', 'Số ngày tồn kho bình quân'),\n",
       " ('Chỉ tiêu hiệu quả hoạt động', 'Số ngày thanh toán bình quân'),\n",
       " ('Chỉ tiêu hiệu quả hoạt động', 'Chu kỳ tiền'),\n",
       " ('Chỉ tiêu hiệu quả hoạt động', 'Vòng quay hàng tồn kho'),\n",
       " ('Chỉ tiêu khả năng sinh lợi', 'Biên EBIT (%)'),\n",
       " ('Chỉ tiêu khả năng sinh lợi', 'Biên lợi nhuận gộp (%)'),\n",
       " ('Chỉ tiêu khả năng sinh lợi', 'Biên lợi nhuận ròng (%)'),\n",
       " ('Chỉ tiêu khả năng sinh lợi', 'ROE (%)'),\n",
       " ('Chỉ tiêu khả năng sinh lợi', 'ROIC (%)'),\n",
       " ('Chỉ tiêu khả năng sinh lợi', 'ROA (%)'),\n",
       " ('Chỉ tiêu khả năng sinh lợi', 'EBITDA (Tỷ đồng)'),\n",
       " ('Chỉ tiêu khả năng sinh lợi', 'EBIT (Tỷ đồng)'),\n",
       " ('Chỉ tiêu khả năng sinh lợi', 'Tỷ suất cổ tức (%)'),\n",
       " ('Chỉ tiêu thanh khoản', 'Chỉ số thanh toán hiện thời'),\n",
       " ('Chỉ tiêu thanh khoản', 'Chỉ số thanh toán tiền mặt'),\n",
       " ('Chỉ tiêu thanh khoản', 'Chỉ số thanh toán nhanh'),\n",
       " ('Chỉ tiêu thanh khoản', 'Khả năng chi trả lãi vay'),\n",
       " ('Chỉ tiêu thanh khoản', 'Đòn bẩy tài chính'),\n",
       " ('Chỉ tiêu định giá', 'Vốn hóa (Tỷ đồng)'),\n",
       " ('Chỉ tiêu định giá', 'Số CP lưu hành (Triệu CP)'),\n",
       " ('Chỉ tiêu định giá', 'P/E'),\n",
       " ('Chỉ tiêu định giá', 'P/B'),\n",
       " ('Chỉ tiêu định giá', 'P/S'),\n",
       " ('Chỉ tiêu định giá', 'P/Cash Flow'),\n",
       " ('Chỉ tiêu định giá', 'EPS (VND)'),\n",
       " ('Chỉ tiêu định giá', 'BVPS (VND)'),\n",
       " ('Chỉ tiêu định giá', 'EV/EBITDA')]"
      ]
     },
     "execution_count": 7,
     "metadata": {},
     "output_type": "execute_result"
    }
   ],
   "source": [
    "Ratio = stock.finance.ratio(period='year', lang='vi', dropna=True)\n",
    "#Ratio.to_csv('./outputs/ratios.csv')\n",
    "Ratio.columns.to_list()"
   ]
  },
  {
   "cell_type": "markdown",
   "id": "182c0a03-f27c-4178-9fdd-be3290e0e92f",
   "metadata": {},
   "source": [
    "### Transpose the data frame to display on the web."
   ]
  },
  {
   "cell_type": "code",
   "execution_count": 8,
   "id": "2e2e3524-7d39-48e6-895e-efeead4fa027",
   "metadata": {},
   "outputs": [],
   "source": [
    "Ratio_transposed = Ratio.T\n",
    "Ratio_transposed.columns=Ratio_transposed.iloc[1]\n",
    "Ratio_transposed = Ratio_transposed.iloc[3:]"
   ]
  },
  {
   "cell_type": "code",
   "execution_count": 9,
   "id": "8c64d7d4-ee62-4a14-b923-42382561a910",
   "metadata": {},
   "outputs": [],
   "source": [
    "# Example: Select the 'ROE (%)' column under 'Chỉ tiêu khả năng sinh lợi'\n",
    "dividend_yield = Ratio[('Chỉ tiêu khả năng sinh lợi', 'Tỷ suất cổ tức (%)')]\n",
    "Outstanding_Shares = Ratio[('Chỉ tiêu định giá', 'Số CP lưu hành (Triệu CP)')]\n"
   ]
  },
  {
   "cell_type": "code",
   "execution_count": 10,
   "id": "ca74a62e-22f6-4c45-9732-c1348e5109ac",
   "metadata": {},
   "outputs": [
    {
     "data": {
      "image/png": "[encoded data removed]",
      "text/plain": [
       "<Figure size 1000x600 with 1 Axes>"
      ]
     },
     "metadata": {},
     "output_type": "display_data"
    }
   ],
   "source": [
    "import matplotlib.pyplot as plt\n",
    "Ratio_plot = Ratio.copy()\n",
    "# Select the two columns\n",
    "col1 = ('Chỉ tiêu khả năng sinh lợi', 'Biên lợi nhuận gộp (%)')\n",
    "col2 = ('Chỉ tiêu cơ cấu nguồn vốn', 'Nợ/VCSH')\n",
    "\n",
    "# Plot\n",
    "plt.figure(figsize=(10, 6))\n",
    "plt.plot(Ratio_plot.index, Ratio_plot[col1], marker='o', label='Biên lợi nhuận gộp (%)')\n",
    "plt.plot(Ratio_plot.index, Ratio_plot[col2], marker='s', label='Nợ/VCSH')\n",
    "plt.xlabel('Năm')\n",
    "plt.ylabel('Giá trị (%)')\n",
    "plt.title('So sánh Biên lợi nhuận gộp và Nợ/VCSH theo năm')\n",
    "plt.legend()\n",
    "plt.grid(True)\n",
    "plt.tight_layout()\n",
    "plt.show()"
   ]
  },
  {
   "cell_type": "code",
   "execution_count": 11,
   "id": "4e50d390-cd96-41a9-936d-7f020658f601",
   "metadata": {},
   "outputs": [
    {
     "data": {
      "image/png": "[encoded data removed]",
      "text/plain": [
       "<Figure size 800x600 with 1 Axes>"
      ]
     },
     "metadata": {},
     "output_type": "display_data"
    }
   ],
   "source": [
    "import matplotlib.pyplot as plt\n",
    "import seaborn as sns\n",
    "\n",
    "# Select the columns\n",
    "col_roe = ('Chỉ tiêu khả năng sinh lợi', 'ROE (%)')\n",
    "col_debt_equity = ('Chỉ tiêu cơ cấu nguồn vốn', 'Nợ/VCSH')\n",
    "\n",
    "# Prepare the DataFrame for plotting\n",
    "df_plot = Ratio[[col_roe, col_debt_equity]].copy()\n",
    "df_plot.columns = ['ROE (%)', 'Nợ/VCSH']\n",
    "\n",
    "# Optional: add company or year info for further analysis\n",
    "if ('Meta', 'CP') in Ratio.columns:\n",
    "    df_plot['CP'] = Ratio[('Meta', 'CP')]\n",
    "if ('Meta', 'Năm') in Ratio.columns:\n",
    "    df_plot['Năm'] = Ratio[('Meta', 'Năm')]\n",
    "\n",
    "# Scatter plot with regression line\n",
    "plt.figure(figsize=(8, 6))\n",
    "sns.regplot(data=df_plot, x='Nợ/VCSH', y='ROE (%)', scatter_kws={'alpha':0.7})\n",
    "plt.title('Mối quan hệ giữa Đòn bẩy tài chính (Nợ/VCSH) và ROE (%)')\n",
    "plt.xlabel('Nợ/VCSH')\n",
    "plt.ylabel('ROE (%)')\n",
    "plt.grid(True)\n",
    "plt.tight_layout()\n",
    "plt.show()"
   ]
  },
  {
   "cell_type": "code",
   "execution_count": 12,
   "id": "35ccb588-cc7e-434f-a84b-2792edbba842",
   "metadata": {},
   "outputs": [
    {
     "data": {
      "image/png": "[encoded data removed]",
      "text/plain": [
       "<Figure size 1500x1500 with 27 Axes>"
      ]
     },
     "metadata": {},
     "output_type": "display_data"
    }
   ],
   "source": [
    "import seaborn as sns\n",
    "import matplotlib.pyplot as plt\n",
    "\n",
    "# Define the five most meaningful metrics (six columns for all pairwise relationships)\n",
    "selected_cols = [\n",
    "    ('Chỉ tiêu khả năng sinh lợi', 'ROE (%)'),\n",
    "    ('Chỉ tiêu cơ cấu nguồn vốn', 'Nợ/VCSH'),\n",
    "    ('Chỉ tiêu hiệu quả hoạt động', 'Vòng quay tài sản'),\n",
    "    ('Chỉ tiêu khả năng sinh lợi', 'Biên lợi nhuận ròng (%)'),\n",
    "    ('Chỉ tiêu thanh khoản', 'Chỉ số thanh toán hiện thời'),\n",
    "    ('Chỉ tiêu định giá', 'P/S'),\n",
    "]\n",
    "\n",
    "# Subset the DataFrame\n",
    "df_pair = Ratio[selected_cols].copy()\n",
    "\n",
    "# Use only the second part of each column tuple (the metric name)\n",
    "df_pair.columns = [col[1] for col in df_pair.columns]\n",
    "\n",
    "# Optional: Remove rows with missing values for these columns\n",
    "#df_pair = df_pair.dropna()\n",
    "\n",
    "# Create the pairplot\n",
    "sns.pairplot(df_pair, diag_kind='kde', corner=True)\n",
    "plt.suptitle('Pairplot of Key Financial Metrics', y=1.02)\n",
    "plt.tight_layout()\n",
    "plt.show()"
   ]
  },
  {
   "cell_type": "code",
   "execution_count": 13,
   "id": "6580bef6-c709-4236-bf0e-7314c9ec9ec8",
   "metadata": {},
   "outputs": [],
   "source": [
    "# import plotly.express as px\n",
    "# import plotly.graph_objects as go\n",
    "# from plotly.subplots import make_subplots\n",
    "# import numpy as np\n",
    "# import pandas as pd\n",
    "\n",
    "# # Define the five most meaningful metrics (six columns for all pairwise relationships)\n",
    "# selected_cols = [\n",
    "#     ('Chỉ tiêu khả năng sinh lợi', 'ROE (%)'),\n",
    "#     ('Chỉ tiêu cơ cấu nguồn vốn', 'Nợ/VCSH'),\n",
    "#     ('Chỉ tiêu hiệu quả hoạt động', 'Vòng quay tài sản'),\n",
    "#     ('Chỉ tiêu khả năng sinh lợi', 'Biên lợi nhuận ròng (%)'),\n",
    "#     ('Chỉ tiêu thanh khoản', 'Chỉ số thanh toán hiện thời'),\n",
    "#     ('Chỉ tiêu định giá', 'P/S'),\n",
    "# ]\n",
    "\n",
    "# # Subset the DataFrame\n",
    "# df_pair = Ratio[selected_cols].copy()\n",
    "\n",
    "# # Use only the second part of each column tuple (the metric name)\n",
    "# df_pair.columns = [col[1] for col in df_pair.columns]\n",
    "\n",
    "# # Optional: Remove rows with missing values for these columns\n",
    "# #df_pair = df_pair.dropna()\n",
    "\n",
    "# # Create a plotly figure using px.scatter_matrix for the pairplot\n",
    "# fig = px.scatter_matrix(\n",
    "#     df_pair,\n",
    "#     dimensions=df_pair.columns,\n",
    "#     title=\"Pairplot of Key Financial Metrics\",\n",
    "#     labels={col: col for col in df_pair.columns},  # Use original column names as labels\n",
    "#     color_discrete_sequence=['blue'],\n",
    "#     opacity=0.6\n",
    "# )\n",
    "\n",
    "# # Update layout for better appearance\n",
    "# fig.update_layout(\n",
    "#     title={\n",
    "#         'y':0.95,\n",
    "#         'x':0.5,\n",
    "#         'xanchor': 'center',\n",
    "#         'yanchor': 'top'\n",
    "#     },\n",
    "#     dragmode='select',\n",
    "#     width=1000,\n",
    "#     height=900,\n",
    "# )\n",
    "\n",
    "# # Update traces for diagonal plots to show distributions\n",
    "# for i, col in enumerate(df_pair.columns):\n",
    "#     fig.update_traces(\n",
    "#         diagonal_visible=True, \n",
    "#         showupperhalf=False,  # Only show lower half (like corner=True in seaborn)\n",
    "#         selector=dict(dimensions=[col])\n",
    "#     )\n",
    "\n",
    "# # Update axes to include zero when appropriate\n",
    "# fig.update_xaxes(showline=True, linewidth=1, linecolor='gray', mirror=True)\n",
    "# fig.update_yaxes(showline=True, linewidth=1, linecolor='gray', mirror=True)\n",
    "\n",
    "# # Show the plot\n",
    "# fig.show()\n",
    "\n",
    "# # Save to HTML for sharing\n",
    "# fig.write_html(\"./outputs/financial_metrics_pairplot.html\")\n",
    "# print(\"Interactive pairplot saved to financial_metrics_pairplot.html\")"
   ]
  },
  {
   "cell_type": "markdown",
   "id": "58def4c9-c6cc-427a-8328-8d06b431991b",
   "metadata": {},
   "source": [
    "### Transform the balance sheet from long format to wide format. "
   ]
  },
  {
   "cell_type": "code",
   "execution_count": 14,
   "id": "ae5877c5-c76e-4165-be7b-dd247488f726",
   "metadata": {},
   "outputs": [],
   "source": [
    "def BS_wide(stock=None):\n",
    "    \"\"\"\n",
    "    Transform balance sheet data into a wide format with years as columns and metrics as rows.\n",
    "    \n",
    "    Parameters:\n",
    "    -----------\n",
    "    stock : object, default=None\n",
    "        The stock ticker object containing financial data.\n",
    "        If None, will create a default stock object for REE from VCI source.\n",
    "    \n",
    "    Returns:\n",
    "    --------\n",
    "    pandas.DataFrame\n",
    "        Transformed balance sheet with years as columns and financial metrics as rows\n",
    "    \"\"\"\n",
    "    \n",
    "    # Create default stock object if not provided\n",
    "    if stock is None:\n",
    "        stock = Vnstock().stock(symbol= symbol, source='VCI')\n",
    "    \n",
    "    # Get the balance sheet data\n",
    "    BS = stock.finance.balance_sheet(period='year', lang='en', dropna=True)\n",
    "    \n",
    "    # Transpose the DataFrame\n",
    "    BS_wide = BS.T\n",
    "    \n",
    "    # Promote header by setting column names using the second row (index 1)\n",
    "    BS_wide.columns = BS_wide.iloc[1]\n",
    "    \n",
    "    # Keep only the data rows (skip the first 3 rows)\n",
    "    BS_wide = BS_wide.iloc[3:]\n",
    "    \n",
    "    return BS_wide"
   ]
  },
  {
   "cell_type": "code",
   "execution_count": 15,
   "id": "5c75999d-271f-4882-9985-ba6dddaada4d",
   "metadata": {},
   "outputs": [],
   "source": [
    "# BS_wide(stock)"
   ]
  },
  {
   "cell_type": "code",
   "execution_count": 16,
   "id": "e1e76c39-5962-428b-9d2e-36f522923d30",
   "metadata": {},
   "outputs": [
    {
     "data": {
      "text/html": [
       "<div>\n",
       "<style scoped>\n",
       "    .dataframe tbody tr th:only-of-type {\n",
       "        vertical-align: middle;\n",
       "    }\n",
       "\n",
       "    .dataframe tbody tr th {\n",
       "        vertical-align: top;\n",
       "    }\n",
       "\n",
       "    .dataframe thead th {\n",
       "        text-align: right;\n",
       "    }\n",
       "</style>\n",
       "<table border=\"1\" class=\"dataframe\">\n",
       "  <thead>\n",
       "    <tr style=\"text-align: right;\">\n",
       "      <th>yearReport</th>\n",
       "      <th>2024</th>\n",
       "      <th>2023</th>\n",
       "      <th>2022</th>\n",
       "      <th>2021</th>\n",
       "      <th>2020</th>\n",
       "      <th>2019</th>\n",
       "      <th>2018</th>\n",
       "      <th>2017</th>\n",
       "      <th>2016</th>\n",
       "      <th>2015</th>\n",
       "      <th>2014</th>\n",
       "      <th>2013</th>\n",
       "    </tr>\n",
       "  </thead>\n",
       "  <tbody>\n",
       "    <tr>\n",
       "      <th>Cash and cash equivalents (Bn. VND)</th>\n",
       "      <td>5635908856765</td>\n",
       "      <td>3022796235406</td>\n",
       "      <td>1151270686145</td>\n",
       "      <td>1830901134902</td>\n",
       "      <td>651668665185</td>\n",
       "      <td>1539577051904</td>\n",
       "      <td>1865096744967</td>\n",
       "      <td>2397186656336</td>\n",
       "      <td>960027120496</td>\n",
       "      <td>1419715236964</td>\n",
       "      <td>1036655683725</td>\n",
       "      <td>535795614565</td>\n",
       "    </tr>\n",
       "    <tr>\n",
       "      <th>Short-term investments (Bn. VND)</th>\n",
       "      <td>1060073372989</td>\n",
       "      <td>1132366903888</td>\n",
       "      <td>1749361611727</td>\n",
       "      <td>913528242575</td>\n",
       "      <td>1328559221660</td>\n",
       "      <td>1221295628590</td>\n",
       "      <td>1138925962847</td>\n",
       "      <td>516561743653</td>\n",
       "      <td>749169998917</td>\n",
       "      <td>381491325362</td>\n",
       "      <td>249589701655</td>\n",
       "      <td>416693781070</td>\n",
       "    </tr>\n",
       "    <tr>\n",
       "      <th>Accounts receivable (Bn. VND)</th>\n",
       "      <td>3129681988376</td>\n",
       "      <td>3780066002722</td>\n",
       "      <td>4013295895776</td>\n",
       "      <td>2986542167652</td>\n",
       "      <td>3082281525922</td>\n",
       "      <td>2137973891941</td>\n",
       "      <td>1965707145074</td>\n",
       "      <td>1130676903999</td>\n",
       "      <td>1148403790279</td>\n",
       "      <td>1368936569867</td>\n",
       "      <td>1029983840576</td>\n",
       "      <td>1002628925985</td>\n",
       "    </tr>\n",
       "    <tr>\n",
       "      <th>Net Inventories</th>\n",
       "      <td>1276815964044</td>\n",
       "      <td>1353834235393</td>\n",
       "      <td>1408572015872</td>\n",
       "      <td>799900814968</td>\n",
       "      <td>807507044477</td>\n",
       "      <td>987203880889</td>\n",
       "      <td>969073762968</td>\n",
       "      <td>1555629874625</td>\n",
       "      <td>1230323799872</td>\n",
       "      <td>547093860649</td>\n",
       "      <td>598432151160</td>\n",
       "      <td>544225294953</td>\n",
       "    </tr>\n",
       "    <tr>\n",
       "      <th>Other current assets</th>\n",
       "      <td>183295042421</td>\n",
       "      <td>235115020118</td>\n",
       "      <td>250979175707</td>\n",
       "      <td>275099902031</td>\n",
       "      <td>138617308711</td>\n",
       "      <td>112997235133</td>\n",
       "      <td>48880854277</td>\n",
       "      <td>51296869224</td>\n",
       "      <td>17305145779</td>\n",
       "      <td>30168992774</td>\n",
       "      <td>13932647991</td>\n",
       "      <td>62597867219</td>\n",
       "    </tr>\n",
       "  </tbody>\n",
       "</table>\n",
       "</div>"
      ],
      "text/plain": [
       "yearReport                                    2024           2023  \\\n",
       "Cash and cash equivalents (Bn. VND)  5635908856765  3022796235406   \n",
       "Short-term investments (Bn. VND)     1060073372989  1132366903888   \n",
       "Accounts receivable (Bn. VND)        3129681988376  3780066002722   \n",
       "Net Inventories                      1276815964044  1353834235393   \n",
       "Other current assets                  183295042421   235115020118   \n",
       "\n",
       "yearReport                                    2022           2021  \\\n",
       "Cash and cash equivalents (Bn. VND)  1151270686145  1830901134902   \n",
       "Short-term investments (Bn. VND)     1749361611727   913528242575   \n",
       "Accounts receivable (Bn. VND)        4013295895776  2986542167652   \n",
       "Net Inventories                      1408572015872   799900814968   \n",
       "Other current assets                  250979175707   275099902031   \n",
       "\n",
       "yearReport                                    2020           2019  \\\n",
       "Cash and cash equivalents (Bn. VND)   651668665185  1539577051904   \n",
       "Short-term investments (Bn. VND)     1328559221660  1221295628590   \n",
       "Accounts receivable (Bn. VND)        3082281525922  2137973891941   \n",
       "Net Inventories                       807507044477   987203880889   \n",
       "Other current assets                  138617308711   112997235133   \n",
       "\n",
       "yearReport                                    2018           2017  \\\n",
       "Cash and cash equivalents (Bn. VND)  1865096744967  2397186656336   \n",
       "Short-term investments (Bn. VND)     1138925962847   516561743653   \n",
       "Accounts receivable (Bn. VND)        1965707145074  1130676903999   \n",
       "Net Inventories                       969073762968  1555629874625   \n",
       "Other current assets                   48880854277    51296869224   \n",
       "\n",
       "yearReport                                    2016           2015  \\\n",
       "Cash and cash equivalents (Bn. VND)   960027120496  1419715236964   \n",
       "Short-term investments (Bn. VND)      749169998917   381491325362   \n",
       "Accounts receivable (Bn. VND)        1148403790279  1368936569867   \n",
       "Net Inventories                      1230323799872   547093860649   \n",
       "Other current assets                   17305145779    30168992774   \n",
       "\n",
       "yearReport                                    2014           2013  \n",
       "Cash and cash equivalents (Bn. VND)  1036655683725   535795614565  \n",
       "Short-term investments (Bn. VND)      249589701655   416693781070  \n",
       "Accounts receivable (Bn. VND)        1029983840576  1002628925985  \n",
       "Net Inventories                       598432151160   544225294953  \n",
       "Other current assets                   13932647991    62597867219  "
      ]
     },
     "execution_count": 16,
     "metadata": {},
     "output_type": "execute_result"
    }
   ],
   "source": [
    "BalanceSheet = stock.finance.balance_sheet(period='year', lang='en', dropna=True)\n",
    "BalanceSheet_Transposed = BalanceSheet.T\n",
    "BalanceSheet_Transposed.columns = BalanceSheet_Transposed.iloc[1]\n",
    "BalanceSheet_Transposed = BalanceSheet_Transposed.iloc[3:]\n",
    "BalanceSheet_Transposed.head()"
   ]
  },
  {
   "cell_type": "markdown",
   "id": "e4aeeace-b3d9-4895-ad30-6b3e0f470af6",
   "metadata": {},
   "source": [
    "### Transform Income statement from long format to wide format. "
   ]
  },
  {
   "cell_type": "code",
   "execution_count": 17,
   "id": "9ce33326-5577-4946-94ce-8ffa2eaa7c91",
   "metadata": {},
   "outputs": [
    {
     "data": {
      "text/html": [
       "<div>\n",
       "<style scoped>\n",
       "    .dataframe tbody tr th:only-of-type {\n",
       "        vertical-align: middle;\n",
       "    }\n",
       "\n",
       "    .dataframe tbody tr th {\n",
       "        vertical-align: top;\n",
       "    }\n",
       "\n",
       "    .dataframe thead th {\n",
       "        text-align: right;\n",
       "    }\n",
       "</style>\n",
       "<table border=\"1\" class=\"dataframe\">\n",
       "  <thead>\n",
       "    <tr style=\"text-align: right;\">\n",
       "      <th>yearReport</th>\n",
       "      <th>2024</th>\n",
       "      <th>2023</th>\n",
       "      <th>2022</th>\n",
       "      <th>2021</th>\n",
       "      <th>2020</th>\n",
       "      <th>2019</th>\n",
       "      <th>2018</th>\n",
       "      <th>2017</th>\n",
       "      <th>2016</th>\n",
       "      <th>2015</th>\n",
       "      <th>2014</th>\n",
       "      <th>2013</th>\n",
       "    </tr>\n",
       "  </thead>\n",
       "  <tbody>\n",
       "    <tr>\n",
       "      <th>Revenue (Bn. VND)</th>\n",
       "      <td>8394604176003</td>\n",
       "      <td>8579347840237</td>\n",
       "      <td>9377949892489</td>\n",
       "      <td>5815207697974</td>\n",
       "      <td>5644088890450</td>\n",
       "      <td>4896700913533</td>\n",
       "      <td>5104605853407</td>\n",
       "      <td>4999235436523</td>\n",
       "      <td>3663193468551</td>\n",
       "      <td>2645193904607</td>\n",
       "      <td>2630675383788</td>\n",
       "      <td>2414569501626</td>\n",
       "    </tr>\n",
       "    <tr>\n",
       "      <th>Attribute to parent company (Bn. VND)</th>\n",
       "      <td>1993385852649</td>\n",
       "      <td>2188316658468</td>\n",
       "      <td>2692516590418</td>\n",
       "      <td>1855079628131</td>\n",
       "      <td>1628076208584</td>\n",
       "      <td>1638893522530</td>\n",
       "      <td>1783971852557</td>\n",
       "      <td>1377087391977</td>\n",
       "      <td>1093237014487</td>\n",
       "      <td>853082411270</td>\n",
       "      <td>1061971178941</td>\n",
       "      <td>975819282949</td>\n",
       "    </tr>\n",
       "    <tr>\n",
       "      <th>Attribute to parent company YoY (%)</th>\n",
       "      <td>-0.089078</td>\n",
       "      <td>-0.18726</td>\n",
       "      <td>0.451429</td>\n",
       "      <td>0.13943</td>\n",
       "      <td>-0.0066</td>\n",
       "      <td>-0.081323</td>\n",
       "      <td>0.295467</td>\n",
       "      <td>0.259642</td>\n",
       "      <td>0.281514</td>\n",
       "      <td>-0.196699</td>\n",
       "      <td>0.088287</td>\n",
       "      <td>0.0</td>\n",
       "    </tr>\n",
       "    <tr>\n",
       "      <th>Financial Income</th>\n",
       "      <td>317755694465</td>\n",
       "      <td>227055551430</td>\n",
       "      <td>186791709886</td>\n",
       "      <td>466044378716</td>\n",
       "      <td>221805860261</td>\n",
       "      <td>441971991367</td>\n",
       "      <td>303525295129</td>\n",
       "      <td>174539941233</td>\n",
       "      <td>176056435309</td>\n",
       "      <td>427537034206</td>\n",
       "      <td>459521649291</td>\n",
       "      <td>352660891530</td>\n",
       "    </tr>\n",
       "    <tr>\n",
       "      <th>Interest Expenses</th>\n",
       "      <td>-737977126660</td>\n",
       "      <td>-938879965835</td>\n",
       "      <td>-882746948990</td>\n",
       "      <td>-663213132564</td>\n",
       "      <td>-416425845956</td>\n",
       "      <td>-409016686932</td>\n",
       "      <td>-224927404624</td>\n",
       "      <td>-104642480959</td>\n",
       "      <td>-60159491918</td>\n",
       "      <td>-73966770226</td>\n",
       "      <td>-37413873577</td>\n",
       "      <td>-57146113236</td>\n",
       "    </tr>\n",
       "  </tbody>\n",
       "</table>\n",
       "</div>"
      ],
      "text/plain": [
       "yearReport                                      2024           2023  \\\n",
       "Revenue (Bn. VND)                      8394604176003  8579347840237   \n",
       "Attribute to parent company (Bn. VND)  1993385852649  2188316658468   \n",
       "Attribute to parent company YoY (%)        -0.089078       -0.18726   \n",
       "Financial Income                        317755694465   227055551430   \n",
       "Interest Expenses                      -737977126660  -938879965835   \n",
       "\n",
       "yearReport                                      2022           2021  \\\n",
       "Revenue (Bn. VND)                      9377949892489  5815207697974   \n",
       "Attribute to parent company (Bn. VND)  2692516590418  1855079628131   \n",
       "Attribute to parent company YoY (%)         0.451429        0.13943   \n",
       "Financial Income                        186791709886   466044378716   \n",
       "Interest Expenses                      -882746948990  -663213132564   \n",
       "\n",
       "yearReport                                      2020           2019  \\\n",
       "Revenue (Bn. VND)                      5644088890450  4896700913533   \n",
       "Attribute to parent company (Bn. VND)  1628076208584  1638893522530   \n",
       "Attribute to parent company YoY (%)          -0.0066      -0.081323   \n",
       "Financial Income                        221805860261   441971991367   \n",
       "Interest Expenses                      -416425845956  -409016686932   \n",
       "\n",
       "yearReport                                      2018           2017  \\\n",
       "Revenue (Bn. VND)                      5104605853407  4999235436523   \n",
       "Attribute to parent company (Bn. VND)  1783971852557  1377087391977   \n",
       "Attribute to parent company YoY (%)         0.295467       0.259642   \n",
       "Financial Income                        303525295129   174539941233   \n",
       "Interest Expenses                      -224927404624  -104642480959   \n",
       "\n",
       "yearReport                                      2016           2015  \\\n",
       "Revenue (Bn. VND)                      3663193468551  2645193904607   \n",
       "Attribute to parent company (Bn. VND)  1093237014487   853082411270   \n",
       "Attribute to parent company YoY (%)         0.281514      -0.196699   \n",
       "Financial Income                        176056435309   427537034206   \n",
       "Interest Expenses                       -60159491918   -73966770226   \n",
       "\n",
       "yearReport                                      2014           2013  \n",
       "Revenue (Bn. VND)                      2630675383788  2414569501626  \n",
       "Attribute to parent company (Bn. VND)  1061971178941   975819282949  \n",
       "Attribute to parent company YoY (%)         0.088287            0.0  \n",
       "Financial Income                        459521649291   352660891530  \n",
       "Interest Expenses                       -37413873577   -57146113236  "
      ]
     },
     "execution_count": 17,
     "metadata": {},
     "output_type": "execute_result"
    }
   ],
   "source": [
    "IncomeStatement = stock.finance.income_statement(period='year', lang='en', dropna=True)\n",
    "IncomeStatement_Transpose= IncomeStatement.T\n",
    "IncomeStatement_Transpose.columns = IncomeStatement_Transpose.iloc[1]\n",
    "IncomeStatement_Transpose = IncomeStatement_Transpose.iloc[3:]\n",
    "IncomeStatement_Transpose.head()"
   ]
  },
  {
   "cell_type": "code",
   "execution_count": 18,
   "id": "b2596e4e-ddac-4b3f-9ac0-c21d6a8f838c",
   "metadata": {},
   "outputs": [],
   "source": [
    "# import os\n",
    "# import pandas as pd\n",
    "\n",
    "# def save_financial_statements_to_csv(balance_sheet_df, income_statement_df, cashflow_df, output_dir='./outputs'):\n",
    "#     \"\"\"\n",
    "#     Save financial statements DataFrames to CSV files in the specified output directory.\n",
    "    \n",
    "#     Parameters:\n",
    "#     -----------\n",
    "#     balance_sheet_df : pandas.DataFrame\n",
    "#         Balance Sheet DataFrame\n",
    "#     income_statement_df : pandas.DataFrame\n",
    "#         Income Statement DataFrame\n",
    "#     cashflow_df : pandas.DataFrame\n",
    "#         Cash Flow Statement DataFrame\n",
    "#     output_dir : str\n",
    "#         Directory path where CSV files will be saved (default: './outputs')\n",
    "#     \"\"\"\n",
    "    \n",
    "#     # Create output directory if it doesn't exist\n",
    "#     try:\n",
    "#         os.makedirs(output_dir, exist_ok=True)\n",
    "#         print(f\"Output directory '{output_dir}' is ready.\")\n",
    "#     except Exception as e:\n",
    "#         print(f\"Error creating directory: {e}\")\n",
    "#         return\n",
    "    \n",
    "#     # Dictionary of DataFrames and their corresponding filenames\n",
    "#     statements = {\n",
    "#         'REE_BalanceSheet_Transposed.csv': balance_sheet_df,\n",
    "#         'REE_IncomeStatement_Transpose.csv': income_statement_df,\n",
    "#         'REE_CashFlow_transposed.csv': cashflow_df\n",
    "#     }\n",
    "    \n",
    "#     # Save each DataFrame to CSV\n",
    "#     for filename, df in statements.items():\n",
    "#         try:\n",
    "#             file_path = os.path.join(output_dir, filename)\n",
    "#             df.to_csv(file_path)\n",
    "#             print(f\"Successfully saved {filename}\")\n",
    "#         except Exception as e:\n",
    "#             print(f\"Error saving {filename}: {e}\")\n",
    "\n",
    "# # Example usage:\n",
    "# # save_financial_statements_to_csv(\n",
    "# #     BalanceSheet_Transposed,\n",
    "# #     IncomeStatement_Transpose,\n",
    "# #     CashFlow_transposed\n",
    "# # )"
   ]
  },
  {
   "cell_type": "code",
   "execution_count": 19,
   "id": "066f7e8d-1241-42d9-bee8-3bc1cc582616",
   "metadata": {},
   "outputs": [
    {
     "name": "stderr",
     "output_type": "stream",
     "text": [
      "2025-05-17 14:47:07 - vnstock.common.data.data_explorer - INFO - TCBS không cung cấp thông tin danh sách. Dữ liệu tự động trả về từ VCI.\n"
     ]
    }
   ],
   "source": [
    "from vnstock import Vnstock\n",
    "import warnings\n",
    "warnings.filterwarnings(\"ignore\")\n",
    "symbol='REE'\n",
    "company = Vnstock().stock(symbol=symbol, source='TCBS').company\n"
   ]
  },
  {
   "cell_type": "code",
   "execution_count": 20,
   "id": "5a78bcf3-d68e-4984-b594-b79f1d79e95b",
   "metadata": {},
   "outputs": [],
   "source": [
    "# overview.columns.to_list()"
   ]
  },
  {
   "cell_type": "markdown",
   "id": "9a83ee14-3aae-4eff-a277-38233aa589c6",
   "metadata": {},
   "source": [
    "# Event Impact Analysis"
   ]
  },
  {
   "cell_type": "code",
   "execution_count": 21,
   "id": "a29e6f17-2e2e-47a6-9212-366e95c68f38",
   "metadata": {},
   "outputs": [],
   "source": [
    "events = stock.company.events()\n",
    "dividend_events = events[events['event_list_name'] == 'Trả cổ tức bằng tiền mặt']\n",
    "dividend_events = dividend_events.dropna()\n",
    "\n"
   ]
  },
  {
   "cell_type": "code",
   "execution_count": 22,
   "id": "c0fbdd62-ca3c-47d9-a74f-d0930483b992",
   "metadata": {},
   "outputs": [],
   "source": [
    "# Convert from object to datetime\n",
    "dividend_events['exright_date'] = pd.to_datetime(dividend_events['exright_date'])\n",
    "dividend_events = dividend_events.set_index('exright_date')"
   ]
  },
  {
   "cell_type": "code",
   "execution_count": 23,
   "id": "d17680d1-0d33-4d61-962b-63c582327a36",
   "metadata": {},
   "outputs": [],
   "source": [
    "# Loop through each dividend event\n",
    "for index, event in dividend_events.iterrows():\n",
    "    # Since exright_date is now the index, we use the index directly\n",
    "    exright_date = index\n",
    "    \n",
    "    # Calculate the time window (30 days before and after the ex-dividend date)\n",
    "    exercise_start_date = exright_date - pd.Timedelta(days=30)\n",
    "    exercise_end_date = exright_date + pd.Timedelta(days=30)\n",
    "    \n",
    "    # Convert dates to the required string format 'YYYY-MM-DD'\n",
    "    exercise_start_str = exercise_start_date.strftime('%Y-%m-%d')\n",
    "    exercise_end_str = exercise_end_date.strftime('%Y-%m-%d')\n",
    "    \n",
    "    # Get price history around the event\n",
    "    event_prices = stock.quote.history(start=exercise_start_str, end=exercise_end_str, interval='1D')"
   ]
  },
  {
   "cell_type": "code",
   "execution_count": 24,
   "id": "357e95b6-7c3e-464a-80c4-e91c7fda3dc8",
   "metadata": {},
   "outputs": [],
   "source": [
    "# Add mplfinance for quick visualization\n",
    "#event_prices"
   ]
  },
  {
   "cell_type": "code",
   "execution_count": 25,
   "id": "0be8674e-68dd-4488-b988-32d497e33024",
   "metadata": {},
   "outputs": [
    {
     "data": {
      "application/vnd.plotly.v1+json": {
       "config": {
        "plotlyServerURL": "https://plot.ly"
       },
       "data": [
        {
         "close": [
          64.41,
          65.1,
          65.6,
          65.1,
          65.89,
          65.89,
          66.58,
          67.08,
          66.98,
          66.58,
          65.79,
          66.58,
          71.22,
          71.12,
          71.02,
          73.98,
          73.29,
          72.6,
          74,
          72.4,
          72.6,
          73.1,
          73.1,
          73.7,
          73.3,
          75,
          74.6,
          73.8,
          72.2,
          70.9,
          70.8,
          71.3,
          70.1,
          71.5,
          71.5,
          72,
          72.5,
          72.6,
          73.1,
          70.9
         ],
         "high": [
          64.41,
          65.5,
          65.79,
          65.89,
          66.48,
          65.99,
          66.58,
          67.47,
          67.47,
          67.27,
          66.88,
          66.68,
          71.22,
          72.5,
          71.81,
          74.97,
          74.28,
          73.98,
          74.7,
          74.2,
          72.9,
          73.6,
          74.4,
          74.8,
          73.9,
          75.7,
          74.9,
          75,
          74.2,
          72.5,
          71.9,
          72.1,
          71.3,
          71.7,
          72.5,
          72,
          73,
          73.5,
          73.5,
          73.4
         ],
         "low": [
          63.72,
          64.51,
          65.1,
          65.1,
          65.3,
          65.5,
          65.79,
          66.58,
          66.58,
          66.48,
          65.79,
          65.69,
          66.58,
          71.12,
          69.94,
          70.43,
          72.89,
          72.3,
          72.5,
          72,
          71.9,
          71.6,
          72.3,
          73.1,
          73,
          72.7,
          73.8,
          73.6,
          72.1,
          70.6,
          70.4,
          70.5,
          69.6,
          70.2,
          71.1,
          70.5,
          71.5,
          72.1,
          72,
          70.9
         ],
         "open": [
          64.31,
          64.81,
          65.2,
          65.89,
          65.3,
          65.99,
          66.09,
          66.88,
          67.08,
          66.98,
          66.48,
          65.69,
          66.78,
          72.5,
          71.12,
          70.82,
          73.98,
          73.29,
          73,
          74,
          72.9,
          72,
          73.2,
          73.5,
          73.9,
          73.6,
          73.8,
          74.6,
          74.2,
          72,
          70.9,
          70.5,
          71,
          71,
          71.9,
          71.5,
          72.4,
          72.6,
          72,
          73.4
         ],
         "type": "candlestick",
         "x": [
          0,
          1,
          2,
          3,
          4,
          5,
          6,
          7,
          8,
          9,
          10,
          11,
          12,
          13,
          14,
          15,
          16,
          17,
          18,
          19,
          20,
          21,
          22,
          23,
          24,
          25,
          26,
          27,
          28,
          29,
          30,
          31,
          32,
          33,
          34,
          35,
          36,
          37,
          38,
          39
         ]
        }
       ],
       "layout": {
        "template": {
         "data": {
          "bar": [
           {
            "error_x": {
             "color": "#2a3f5f"
            },
            "error_y": {
             "color": "#2a3f5f"
            },
            "marker": {
             "line": {
              "color": "#E5ECF6",
              "width": 0.5
             },
             "pattern": {
              "fillmode": "overlay",
              "size": 10,
              "solidity": 0.2
             }
            },
            "type": "bar"
           }
          ],
          "barpolar": [
           {
            "marker": {
             "line": {
              "color": "#E5ECF6",
              "width": 0.5
             },
             "pattern": {
              "fillmode": "overlay",
              "size": 10,
              "solidity": 0.2
             }
            },
            "type": "barpolar"
           }
          ],
          "carpet": [
           {
            "aaxis": {
             "endlinecolor": "#2a3f5f",
             "gridcolor": "white",
             "linecolor": "white",
             "minorgridcolor": "white",
             "startlinecolor": "#2a3f5f"
            },
            "baxis": {
             "endlinecolor": "#2a3f5f",
             "gridcolor": "white",
             "linecolor": "white",
             "minorgridcolor": "white",
             "startlinecolor": "#2a3f5f"
            },
            "type": "carpet"
           }
          ],
          "choropleth": [
           {
            "colorbar": {
             "outlinewidth": 0,
             "ticks": ""
            },
            "type": "choropleth"
           }
          ],
          "contour": [
           {
            "colorbar": {
             "outlinewidth": 0,
             "ticks": ""
            },
            "colorscale": [
             [
              0,
              "#0d0887"
             ],
             [
              0.1111111111111111,
              "#46039f"
             ],
             [
              0.2222222222222222,
              "#7201a8"
             ],
             [
              0.3333333333333333,
              "#9c179e"
             ],
             [
              0.4444444444444444,
              "#bd3786"
             ],
             [
              0.5555555555555556,
              "#d8576b"
             ],
             [
              0.6666666666666666,
              "#ed7953"
             ],
             [
              0.7777777777777778,
              "#fb9f3a"
             ],
             [
              0.8888888888888888,
              "#fdca26"
             ],
             [
              1,
              "#f0f921"
             ]
            ],
            "type": "contour"
           }
          ],
          "contourcarpet": [
           {
            "colorbar": {
             "outlinewidth": 0,
             "ticks": ""
            },
            "type": "contourcarpet"
           }
          ],
          "heatmap": [
           {
            "colorbar": {
             "outlinewidth": 0,
             "ticks": ""
            },
            "colorscale": [
             [
              0,
              "#0d0887"
             ],
             [
              0.1111111111111111,
              "#46039f"
             ],
             [
              0.2222222222222222,
              "#7201a8"
             ],
             [
              0.3333333333333333,
              "#9c179e"
             ],
             [
              0.4444444444444444,
              "#bd3786"
             ],
             [
              0.5555555555555556,
              "#d8576b"
             ],
             [
              0.6666666666666666,
              "#ed7953"
             ],
             [
              0.7777777777777778,
              "#fb9f3a"
             ],
             [
              0.8888888888888888,
              "#fdca26"
             ],
             [
              1,
              "#f0f921"
             ]
            ],
            "type": "heatmap"
           }
          ],
          "heatmapgl": [
           {
            "colorbar": {
             "outlinewidth": 0,
             "ticks": ""
            },
            "colorscale": [
             [
              0,
              "#0d0887"
             ],
             [
              0.1111111111111111,
              "#46039f"
             ],
             [
              0.2222222222222222,
              "#7201a8"
             ],
             [
              0.3333333333333333,
              "#9c179e"
             ],
             [
              0.4444444444444444,
              "#bd3786"
             ],
             [
              0.5555555555555556,
              "#d8576b"
             ],
             [
              0.6666666666666666,
              "#ed7953"
             ],
             [
              0.7777777777777778,
              "#fb9f3a"
             ],
             [
              0.8888888888888888,
              "#fdca26"
             ],
             [
              1,
              "#f0f921"
             ]
            ],
            "type": "heatmapgl"
           }
          ],
          "histogram": [
           {
            "marker": {
             "pattern": {
              "fillmode": "overlay",
              "size": 10,
              "solidity": 0.2
             }
            },
            "type": "histogram"
           }
          ],
          "histogram2d": [
           {
            "colorbar": {
             "outlinewidth": 0,
             "ticks": ""
            },
            "colorscale": [
             [
              0,
              "#0d0887"
             ],
             [
              0.1111111111111111,
              "#46039f"
             ],
             [
              0.2222222222222222,
              "#7201a8"
             ],
             [
              0.3333333333333333,
              "#9c179e"
             ],
             [
              0.4444444444444444,
              "#bd3786"
             ],
             [
              0.5555555555555556,
              "#d8576b"
             ],
             [
              0.6666666666666666,
              "#ed7953"
             ],
             [
              0.7777777777777778,
              "#fb9f3a"
             ],
             [
              0.8888888888888888,
              "#fdca26"
             ],
             [
              1,
              "#f0f921"
             ]
            ],
            "type": "histogram2d"
           }
          ],
          "histogram2dcontour": [
           {
            "colorbar": {
             "outlinewidth": 0,
             "ticks": ""
            },
            "colorscale": [
             [
              0,
              "#0d0887"
             ],
             [
              0.1111111111111111,
              "#46039f"
             ],
             [
              0.2222222222222222,
              "#7201a8"
             ],
             [
              0.3333333333333333,
              "#9c179e"
             ],
             [
              0.4444444444444444,
              "#bd3786"
             ],
             [
              0.5555555555555556,
              "#d8576b"
             ],
             [
              0.6666666666666666,
              "#ed7953"
             ],
             [
              0.7777777777777778,
              "#fb9f3a"
             ],
             [
              0.8888888888888888,
              "#fdca26"
             ],
             [
              1,
              "#f0f921"
             ]
            ],
            "type": "histogram2dcontour"
           }
          ],
          "mesh3d": [
           {
            "colorbar": {
             "outlinewidth": 0,
             "ticks": ""
            },
            "type": "mesh3d"
           }
          ],
          "parcoords": [
           {
            "line": {
             "colorbar": {
              "outlinewidth": 0,
              "ticks": ""
             }
            },
            "type": "parcoords"
           }
          ],
          "pie": [
           {
            "automargin": true,
            "type": "pie"
           }
          ],
          "scatter": [
           {
            "fillpattern": {
             "fillmode": "overlay",
             "size": 10,
             "solidity": 0.2
            },
            "type": "scatter"
           }
          ],
          "scatter3d": [
           {
            "line": {
             "colorbar": {
              "outlinewidth": 0,
              "ticks": ""
             }
            },
            "marker": {
             "colorbar": {
              "outlinewidth": 0,
              "ticks": ""
             }
            },
            "type": "scatter3d"
           }
          ],
          "scattercarpet": [
           {
            "marker": {
             "colorbar": {
              "outlinewidth": 0,
              "ticks": ""
             }
            },
            "type": "scattercarpet"
           }
          ],
          "scattergeo": [
           {
            "marker": {
             "colorbar": {
              "outlinewidth": 0,
              "ticks": ""
             }
            },
            "type": "scattergeo"
           }
          ],
          "scattergl": [
           {
            "marker": {
             "colorbar": {
              "outlinewidth": 0,
              "ticks": ""
             }
            },
            "type": "scattergl"
           }
          ],
          "scattermapbox": [
           {
            "marker": {
             "colorbar": {
              "outlinewidth": 0,
              "ticks": ""
             }
            },
            "type": "scattermapbox"
           }
          ],
          "scatterpolar": [
           {
            "marker": {
             "colorbar": {
              "outlinewidth": 0,
              "ticks": ""
             }
            },
            "type": "scatterpolar"
           }
          ],
          "scatterpolargl": [
           {
            "marker": {
             "colorbar": {
              "outlinewidth": 0,
              "ticks": ""
             }
            },
            "type": "scatterpolargl"
           }
          ],
          "scatterternary": [
           {
            "marker": {
             "colorbar": {
              "outlinewidth": 0,
              "ticks": ""
             }
            },
            "type": "scatterternary"
           }
          ],
          "surface": [
           {
            "colorbar": {
             "outlinewidth": 0,
             "ticks": ""
            },
            "colorscale": [
             [
              0,
              "#0d0887"
             ],
             [
              0.1111111111111111,
              "#46039f"
             ],
             [
              0.2222222222222222,
              "#7201a8"
             ],
             [
              0.3333333333333333,
              "#9c179e"
             ],
             [
              0.4444444444444444,
              "#bd3786"
             ],
             [
              0.5555555555555556,
              "#d8576b"
             ],
             [
              0.6666666666666666,
              "#ed7953"
             ],
             [
              0.7777777777777778,
              "#fb9f3a"
             ],
             [
              0.8888888888888888,
              "#fdca26"
             ],
             [
              1,
              "#f0f921"
             ]
            ],
            "type": "surface"
           }
          ],
          "table": [
           {
            "cells": {
             "fill": {
              "color": "#EBF0F8"
             },
             "line": {
              "color": "white"
             }
            },
            "header": {
             "fill": {
              "color": "#C8D4E3"
             },
             "line": {
              "color": "white"
             }
            },
            "type": "table"
           }
          ]
         },
         "layout": {
          "annotationdefaults": {
           "arrowcolor": "#2a3f5f",
           "arrowhead": 0,
           "arrowwidth": 1
          },
          "autotypenumbers": "strict",
          "coloraxis": {
           "colorbar": {
            "outlinewidth": 0,
            "ticks": ""
           }
          },
          "colorscale": {
           "diverging": [
            [
             0,
             "#8e0152"
            ],
            [
             0.1,
             "#c51b7d"
            ],
            [
             0.2,
             "#de77ae"
            ],
            [
             0.3,
             "#f1b6da"
            ],
            [
             0.4,
             "#fde0ef"
            ],
            [
             0.5,
             "#f7f7f7"
            ],
            [
             0.6,
             "#e6f5d0"
            ],
            [
             0.7,
             "#b8e186"
            ],
            [
             0.8,
             "#7fbc41"
            ],
            [
             0.9,
             "#4d9221"
            ],
            [
             1,
             "#276419"
            ]
           ],
           "sequential": [
            [
             0,
             "#0d0887"
            ],
            [
             0.1111111111111111,
             "#46039f"
            ],
            [
             0.2222222222222222,
             "#7201a8"
            ],
            [
             0.3333333333333333,
             "#9c179e"
            ],
            [
             0.4444444444444444,
             "#bd3786"
            ],
            [
             0.5555555555555556,
             "#d8576b"
            ],
            [
             0.6666666666666666,
             "#ed7953"
            ],
            [
             0.7777777777777778,
             "#fb9f3a"
            ],
            [
             0.8888888888888888,
             "#fdca26"
            ],
            [
             1,
             "#f0f921"
            ]
           ],
           "sequentialminus": [
            [
             0,
             "#0d0887"
            ],
            [
             0.1111111111111111,
             "#46039f"
            ],
            [
             0.2222222222222222,
             "#7201a8"
            ],
            [
             0.3333333333333333,
             "#9c179e"
            ],
            [
             0.4444444444444444,
             "#bd3786"
            ],
            [
             0.5555555555555556,
             "#d8576b"
            ],
            [
             0.6666666666666666,
             "#ed7953"
            ],
            [
             0.7777777777777778,
             "#fb9f3a"
            ],
            [
             0.8888888888888888,
             "#fdca26"
            ],
            [
             1,
             "#f0f921"
            ]
           ]
          },
          "colorway": [
           "#636efa",
           "#EF553B",
           "#00cc96",
           "#ab63fa",
           "#FFA15A",
           "#19d3f3",
           "#FF6692",
           "#B6E880",
           "#FF97FF",
           "#FECB52"
          ],
          "font": {
           "color": "#2a3f5f"
          },
          "geo": {
           "bgcolor": "white",
           "lakecolor": "white",
           "landcolor": "#E5ECF6",
           "showlakes": true,
           "showland": true,
           "subunitcolor": "white"
          },
          "hoverlabel": {
           "align": "left"
          },
          "hovermode": "closest",
          "mapbox": {
           "style": "light"
          },
          "paper_bgcolor": "white",
          "plot_bgcolor": "#E5ECF6",
          "polar": {
           "angularaxis": {
            "gridcolor": "white",
            "linecolor": "white",
            "ticks": ""
           },
           "bgcolor": "#E5ECF6",
           "radialaxis": {
            "gridcolor": "white",
            "linecolor": "white",
            "ticks": ""
           }
          },
          "scene": {
           "xaxis": {
            "backgroundcolor": "#E5ECF6",
            "gridcolor": "white",
            "gridwidth": 2,
            "linecolor": "white",
            "showbackground": true,
            "ticks": "",
            "zerolinecolor": "white"
           },
           "yaxis": {
            "backgroundcolor": "#E5ECF6",
            "gridcolor": "white",
            "gridwidth": 2,
            "linecolor": "white",
            "showbackground": true,
            "ticks": "",
            "zerolinecolor": "white"
           },
           "zaxis": {
            "backgroundcolor": "#E5ECF6",
            "gridcolor": "white",
            "gridwidth": 2,
            "linecolor": "white",
            "showbackground": true,
            "ticks": "",
            "zerolinecolor": "white"
           }
          },
          "shapedefaults": {
           "line": {
            "color": "#2a3f5f"
           }
          },
          "ternary": {
           "aaxis": {
            "gridcolor": "white",
            "linecolor": "white",
            "ticks": ""
           },
           "baxis": {
            "gridcolor": "white",
            "linecolor": "white",
            "ticks": ""
           },
           "bgcolor": "#E5ECF6",
           "caxis": {
            "gridcolor": "white",
            "linecolor": "white",
            "ticks": ""
           }
          },
          "title": {
           "x": 0.05
          },
          "xaxis": {
           "automargin": true,
           "gridcolor": "white",
           "linecolor": "white",
           "ticks": "",
           "title": {
            "standoff": 15
           },
           "zerolinecolor": "white",
           "zerolinewidth": 2
          },
          "yaxis": {
           "automargin": true,
           "gridcolor": "white",
           "linecolor": "white",
           "ticks": "",
           "title": {
            "standoff": 15
           },
           "zerolinecolor": "white",
           "zerolinewidth": 2
          }
         }
        },
        "title": {
         "text": "Candlestick Chart"
        },
        "xaxis": {
         "title": {
          "text": "Date"
         }
        },
        "yaxis": {
         "title": {
          "text": "Price"
         }
        }
       }
      }
     },
     "metadata": {},
     "output_type": "display_data"
    }
   ],
   "source": [
    "import plotly.graph_objects as go\n",
    "\n",
    "# Create a candlestick chart\n",
    "fig = go.Figure(data=[go.Candlestick(\n",
    "    x=event_prices.index,\n",
    "    open=event_prices['open'],\n",
    "    high=event_prices['high'],\n",
    "    low=event_prices['low'],\n",
    "    close=event_prices['close']\n",
    ")])\n",
    "\n",
    "# Update layout\n",
    "fig.update_layout(\n",
    "    title='Candlestick Chart',\n",
    "    yaxis_title='Price',\n",
    "    xaxis_title='Date'\n",
    ")\n",
    "\n",
    "fig.show()"
   ]
  },
  {
   "cell_type": "code",
   "execution_count": 26,
   "id": "e554e025-b49a-4641-b5c0-4c9494b25c53",
   "metadata": {},
   "outputs": [
    {
     "data": {
      "image/png": "[encoded data removed]",
      "text/plain": [
       "<Figure size 1400x800 with 1 Axes>"
      ]
     },
     "metadata": {},
     "output_type": "display_data"
    }
   ],
   "source": [
    "# Import required libraries\n",
    "import matplotlib.pyplot as plt\n",
    "import seaborn as sns\n",
    "import numpy as np\n",
    "\n",
    "# Set the style for seaborn\n",
    "sns.set_style(\"darkgrid\")\n",
    "plt.figure(figsize=(14, 8))\n",
    "\n",
    "# Create a line chart with seaborn for the price data\n",
    "sns.lineplot(data=event_prices['close'], linewidth=2, label='Close Price')\n",
    "\n",
    "# Annotate the exright dates\n",
    "for date in dividend_events.index:\n",
    "    if date in event_prices.index or np.datetime64(date) in event_prices.index:\n",
    "        # Find the corresponding price on that date\n",
    "        if date in event_prices.index:\n",
    "            price = event_prices.loc[date, 'close']\n",
    "        else:\n",
    "            # Find the closest date if exact match not found\n",
    "            closest_date = event_prices.index[event_prices.index.get_indexer([date], method='nearest')[0]]\n",
    "            price = event_prices.loc[closest_date, 'close']\n",
    "        \n",
    "        # Annotate the exright date with a vertical line\n",
    "        plt.axvline(x=date, color='red', linestyle='--', alpha=0.7)\n",
    "        plt.annotate('Ex-Right Date', \n",
    "                     xy=(date, price),\n",
    "                     xytext=(date, price*1.05),  # Slightly above the price\n",
    "                     arrowprops=dict(facecolor='red', shrink=0.05),\n",
    "                     fontsize=10,\n",
    "                     ha='center')\n",
    "        \n",
    "        # Add markers for exercise start and end dates\n",
    "        start_date = date - pd.Timedelta(days=30)\n",
    "        end_date = date + pd.Timedelta(days=30)\n",
    "        \n",
    "        # Find prices for start and end dates\n",
    "        if start_date in event_prices.index:\n",
    "            start_price = event_prices.loc[start_date, 'close']\n",
    "        else:\n",
    "            closest_start = event_prices.index[event_prices.index.get_indexer([start_date], method='nearest')[0]]\n",
    "            start_price = event_prices.loc[closest_start, 'close']\n",
    "            \n",
    "        if end_date in event_prices.index:\n",
    "            end_price = event_prices.loc[end_date, 'close']\n",
    "        else:\n",
    "            closest_end = event_prices.index[event_prices.index.get_indexer([end_date], method='nearest')[0]]\n",
    "            end_price = event_prices.loc[closest_end, 'close']\n",
    "        \n",
    "        # Annotate exercise start and end dates\n",
    "        plt.axvline(x=start_date, color='green', linestyle=':', alpha=0.5)\n",
    "        plt.annotate('Exercise Start', \n",
    "                     xy=(start_date, start_price),\n",
    "                     xytext=(start_date, start_price*0.95),\n",
    "                     arrowprops=dict(facecolor='green', shrink=0.05),\n",
    "                     fontsize=9,\n",
    "                     ha='center')\n",
    "        \n",
    "        plt.axvline(x=end_date, color='blue', linestyle=':', alpha=0.5)\n",
    "        plt.annotate('Exercise End', \n",
    "                     xy=(end_date, end_price),\n",
    "                     xytext=(end_date, end_price*0.95),\n",
    "                     arrowprops=dict(facecolor='blue', shrink=0.05),\n",
    "                     fontsize=9,\n",
    "                     ha='center')\n",
    "\n",
    "# Customize the plot\n",
    "plt.title('Stock Price with Ex-Right Date Annotations', fontsize=16)\n",
    "plt.xlabel('Date', fontsize=12)\n",
    "plt.ylabel('Price', fontsize=12)\n",
    "plt.xticks(rotation=45)\n",
    "plt.tight_layout()\n",
    "plt.legend()\n",
    "\n",
    "# Display the plot\n",
    "plt.show()"
   ]
  },
  {
   "cell_type": "code",
   "execution_count": 27,
   "id": "69fea5c2-d98e-41da-abb0-0ef0e53c602c",
   "metadata": {},
   "outputs": [],
   "source": [
    "# Levered Free Cash Flow (accounts for debt repayments/receipts)\n",
    "CashFlow['Levered Free Cash Flow'] = (\n",
    "    CashFlow['Net cash inflows/outflows from operating activities'] \n",
    "    - CashFlow['Purchase of fixed assets']\n",
    "    + CashFlow['Proceeds from disposal of fixed assets']\n",
    "    - (CashFlow['Repayment of borrowings'] - CashFlow['Proceeds from borrowings'])\n",
    ")"
   ]
  },
  {
   "cell_type": "code",
   "execution_count": 28,
   "id": "b2f8d0d8-181c-418d-9dd1-445bc8aa30af",
   "metadata": {},
   "outputs": [],
   "source": [
    "dividend_coverage_ratio = CashFlow['Levered Free Cash Flow'] / CashFlow['Dividends paid'].abs()"
   ]
  },
  {
   "cell_type": "code",
   "execution_count": 29,
   "id": "8150e311-b28b-4a2f-9a8f-f728304c0d42",
   "metadata": {},
   "outputs": [
    {
     "name": "stderr",
     "output_type": "stream",
     "text": [
      "2025-05-17 14:47:09 - vnstock.common.data.data_explorer - INFO - TCBS không cung cấp thông tin danh sách. Dữ liệu tự động trả về từ VCI.\n"
     ]
    },
    {
     "data": {
      "text/html": [
       "<div>\n",
       "<style scoped>\n",
       "    .dataframe tbody tr th:only-of-type {\n",
       "        vertical-align: middle;\n",
       "    }\n",
       "\n",
       "    .dataframe tbody tr th {\n",
       "        vertical-align: top;\n",
       "    }\n",
       "\n",
       "    .dataframe thead th {\n",
       "        text-align: right;\n",
       "    }\n",
       "</style>\n",
       "<table border=\"1\" class=\"dataframe\">\n",
       "  <thead>\n",
       "    <tr style=\"text-align: right;\">\n",
       "      <th></th>\n",
       "      <th>exercise_date</th>\n",
       "      <th>cash_year</th>\n",
       "      <th>cash_dividend_percentage</th>\n",
       "      <th>issue_method</th>\n",
       "    </tr>\n",
       "  </thead>\n",
       "  <tbody>\n",
       "    <tr>\n",
       "      <th>0</th>\n",
       "      <td>2025-02-27</td>\n",
       "      <td>2024</td>\n",
       "      <td>0.10</td>\n",
       "      <td>cash</td>\n",
       "    </tr>\n",
       "    <tr>\n",
       "      <th>1</th>\n",
       "      <td>2024-05-21</td>\n",
       "      <td>2024</td>\n",
       "      <td>0.15</td>\n",
       "      <td>share</td>\n",
       "    </tr>\n",
       "    <tr>\n",
       "      <th>2</th>\n",
       "      <td>2024-04-12</td>\n",
       "      <td>2023</td>\n",
       "      <td>0.10</td>\n",
       "      <td>cash</td>\n",
       "    </tr>\n",
       "    <tr>\n",
       "      <th>3</th>\n",
       "      <td>2023-05-19</td>\n",
       "      <td>2023</td>\n",
       "      <td>0.15</td>\n",
       "      <td>share</td>\n",
       "    </tr>\n",
       "    <tr>\n",
       "      <th>4</th>\n",
       "      <td>2023-02-28</td>\n",
       "      <td>2022</td>\n",
       "      <td>0.10</td>\n",
       "      <td>cash</td>\n",
       "    </tr>\n",
       "    <tr>\n",
       "      <th>5</th>\n",
       "      <td>2022-05-17</td>\n",
       "      <td>2022</td>\n",
       "      <td>0.15</td>\n",
       "      <td>share</td>\n",
       "    </tr>\n",
       "    <tr>\n",
       "      <th>6</th>\n",
       "      <td>2022-04-19</td>\n",
       "      <td>2021</td>\n",
       "      <td>0.10</td>\n",
       "      <td>cash</td>\n",
       "    </tr>\n",
       "    <tr>\n",
       "      <th>7</th>\n",
       "      <td>2020-03-02</td>\n",
       "      <td>2019</td>\n",
       "      <td>0.16</td>\n",
       "      <td>cash</td>\n",
       "    </tr>\n",
       "    <tr>\n",
       "      <th>8</th>\n",
       "      <td>2019-02-26</td>\n",
       "      <td>2018</td>\n",
       "      <td>0.18</td>\n",
       "      <td>cash</td>\n",
       "    </tr>\n",
       "    <tr>\n",
       "      <th>9</th>\n",
       "      <td>2018-02-28</td>\n",
       "      <td>2017</td>\n",
       "      <td>0.16</td>\n",
       "      <td>cash</td>\n",
       "    </tr>\n",
       "    <tr>\n",
       "      <th>10</th>\n",
       "      <td>2017-02-28</td>\n",
       "      <td>2016</td>\n",
       "      <td>0.16</td>\n",
       "      <td>cash</td>\n",
       "    </tr>\n",
       "    <tr>\n",
       "      <th>11</th>\n",
       "      <td>2016-05-11</td>\n",
       "      <td>2016</td>\n",
       "      <td>0.15</td>\n",
       "      <td>share</td>\n",
       "    </tr>\n",
       "    <tr>\n",
       "      <th>12</th>\n",
       "      <td>2016-02-26</td>\n",
       "      <td>2015</td>\n",
       "      <td>0.10</td>\n",
       "      <td>cash</td>\n",
       "    </tr>\n",
       "    <tr>\n",
       "      <th>13</th>\n",
       "      <td>2015-02-25</td>\n",
       "      <td>2014</td>\n",
       "      <td>0.16</td>\n",
       "      <td>cash</td>\n",
       "    </tr>\n",
       "    <tr>\n",
       "      <th>14</th>\n",
       "      <td>2014-02-19</td>\n",
       "      <td>2013</td>\n",
       "      <td>0.16</td>\n",
       "      <td>cash</td>\n",
       "    </tr>\n",
       "  </tbody>\n",
       "</table>\n",
       "</div>"
      ],
      "text/plain": [
       "   exercise_date  cash_year  cash_dividend_percentage issue_method\n",
       "0     2025-02-27       2024                      0.10         cash\n",
       "1     2024-05-21       2024                      0.15        share\n",
       "2     2024-04-12       2023                      0.10         cash\n",
       "3     2023-05-19       2023                      0.15        share\n",
       "4     2023-02-28       2022                      0.10         cash\n",
       "5     2022-05-17       2022                      0.15        share\n",
       "6     2022-04-19       2021                      0.10         cash\n",
       "7     2020-03-02       2019                      0.16         cash\n",
       "8     2019-02-26       2018                      0.18         cash\n",
       "9     2018-02-28       2017                      0.16         cash\n",
       "10    2017-02-28       2016                      0.16         cash\n",
       "11    2016-05-11       2016                      0.15        share\n",
       "12    2016-02-26       2015                      0.10         cash\n",
       "13    2015-02-25       2014                      0.16         cash\n",
       "14    2014-02-19       2013                      0.16         cash"
      ]
     },
     "execution_count": 29,
     "metadata": {},
     "output_type": "execute_result"
    }
   ],
   "source": [
    "from vnstock import Vnstock\n",
    "company = Vnstock().stock(symbol= symbol,source=\"TCBS\").company\n",
    "company.dividends()"
   ]
  },
  {
   "cell_type": "code",
   "execution_count": 30,
   "id": "053d8d48-a025-4a12-b1bb-32ad5e3926b3",
   "metadata": {},
   "outputs": [],
   "source": [
    "reciprocal_tariffs_date = '2025-04-02'\n",
    "baseline_tariffs_date = '2025-04-09'\n",
    "china_negotiation_date = '2025-05-12'\n",
    "deal_achieved_date = '2025-05-15'"
   ]
  },
  {
   "cell_type": "markdown",
   "id": "2f20a3d7-bd45-4cdd-aa60-13c7a64985e1",
   "metadata": {},
   "source": [
    "# Using Market value cost of debt"
   ]
  },
  {
   "cell_type": "code",
   "execution_count": 31,
   "id": "e26fdeb0-a756-400a-a9b2-8ca37e34c48f",
   "metadata": {},
   "outputs": [
    {
     "name": "stdout",
     "output_type": "stream",
     "text": [
      "Market-Based WACC Calculation Results:\n",
      "  ticker  yearReport  wacc_market_based\n",
      "0    REE        2024           0.074681\n",
      "1    REE        2023           0.075051\n",
      "2    REE        2022           0.074592\n",
      "3    REE        2021           0.078507\n",
      "4    REE        2020           0.076941\n",
      "\n",
      "Average Market-Based WACC by Year:\n",
      "0.07521687522252475\n"
     ]
    },
    {
     "data": {
      "image/png": "[encoded data removed]",
      "text/plain": [
       "<Figure size 1000x600 with 1 Axes>"
      ]
     },
     "metadata": {},
     "output_type": "display_data"
    }
   ],
   "source": [
    "# Step 1: Get book values from Balance Sheet\n",
    "short_term_debt = BalanceSheet['Short-term borrowings (Bn. VND)']\n",
    "long_term_debt = BalanceSheet['Long-term borrowings (Bn. VND)']\n",
    "total_debt = short_term_debt + long_term_debt\n",
    "book_equity = BalanceSheet[\"OWNER'S EQUITY(Bn.VND)\"]\n",
    "\n",
    "# Step 2: Get market values\n",
    "# Market capitalization for equity\n",
    "market_value_of_equity = Ratio[('Chỉ tiêu định giá', 'Vốn hóa (Tỷ đồng)')]  # Market capitalization\n",
    "\n",
    "# Use book value of debt as a proxy for market value of debt\n",
    "# (In practice, we'd prefer bond prices or yield-based valuation if available)\n",
    "market_value_of_debt = total_debt\n",
    "\n",
    "# Calculate total market capital and weights\n",
    "total_market_capital = market_value_of_equity + market_value_of_debt\n",
    "market_weight_of_debt = market_value_of_debt.div(total_market_capital).fillna(0)\n",
    "market_weight_of_equity = market_value_of_equity.div(total_market_capital).fillna(0)\n",
    "\n",
    "# Step 3: Market-based cost of debt\n",
    "# Option 1: If you have specific bond yield data (example values)\n",
    "# In reality, this would vary by company or be derived from external data sources\n",
    "base_interest_rate = 0.04  # e.g., Vietnamese government bond rate\n",
    "credit_spread = 0.03       # Credit spread based on company rating\n",
    "company_bond_yield = base_interest_rate + credit_spread  # = 0.05 (5%)\n",
    "\n",
    "# Option 2: Use credit rating to determine yield (if available)\n",
    "# This would be a mapping from credit ratings to yields\n",
    "# rating_to_yield = {'AAA': 0.035, 'AA': 0.04, 'A': 0.045, 'BBB': 0.05, 'BB': 0.06, 'B': 0.07}\n",
    "# company_bond_yield = rating_to_yield.get(company_rating, 0.05)  # Default to 5% if rating unknown\n",
    "\n",
    "# Use fixed rate for simplicity (you would replace this with company-specific data)\n",
    "market_cost_of_debt = 0.07  # 7% bond yield\n",
    "\n",
    "# Apply tax shield\n",
    "statutory_tax_rate = 0.20  # Vietnamese corporate tax rate\n",
    "after_tax_market_cost_of_debt = market_cost_of_debt * (1 - statutory_tax_rate)\n",
    "\n",
    "# Step 4: Cost of Equity using CAPM\n",
    "risk_free_rate = 0.03  # Vietnamese government bond yield\n",
    "\n",
    "# Option 1: If you have beta data from external sources\n",
    "# estimated_beta = external_beta_data  # This would be company-specific\n",
    "\n",
    "# Option 2: Estimate beta using financial leverage\n",
    "financial_leverage = Ratio[('Chỉ tiêu thanh khoản', 'Đòn bẩy tài chính')]\n",
    "leverage_mean = financial_leverage.mean()\n",
    "estimated_beta = 1.0 * financial_leverage.div(leverage_mean).fillna(1.0)  # Default to 1.0 if issues\n",
    "\n",
    "# Market risk premium\n",
    "market_risk_premium = 0.05  # Estimated risk premium for Vietnamese market\n",
    "\n",
    "# Calculate cost of equity using CAPM\n",
    "cost_of_equity = risk_free_rate + (estimated_beta * market_risk_premium)\n",
    "\n",
    "# Step 5: Calculate market-based WACC\n",
    "wacc_market_based = (market_weight_of_debt * after_tax_market_cost_of_debt) + (market_weight_of_equity * cost_of_equity)\n",
    "\n",
    "# Create a DataFrame with the results\n",
    "result_df = pd.DataFrame({\n",
    "    'ticker': BalanceSheet['ticker'],\n",
    "    'yearReport': BalanceSheet['yearReport'],\n",
    "    'market_cap': market_value_of_equity,\n",
    "    'market_debt': market_value_of_debt,\n",
    "    'market_weight_of_debt': market_weight_of_debt,\n",
    "    'market_weight_of_equity': market_weight_of_equity,\n",
    "    'market_cost_of_debt': after_tax_market_cost_of_debt,\n",
    "    'beta': estimated_beta,\n",
    "    'cost_of_equity': cost_of_equity,\n",
    "    'wacc_market_based': wacc_market_based\n",
    "})\n",
    "\n",
    "# Display first few rows to check the results\n",
    "print(\"Market-Based WACC Calculation Results:\")\n",
    "print(result_df[['ticker', 'yearReport', 'wacc_market_based']].head())\n",
    "\n",
    "\n",
    "# Calculate average\n",
    "avg_wacc_by_year = result_df['wacc_market_based'].mean()\n",
    "print(\"\\nAverage Market-Based WACC by Year:\")\n",
    "print(avg_wacc_by_year)\n",
    "\n",
    "# Optional: Visualize the distribution of market-based WACC\n",
    "import matplotlib.pyplot as plt\n",
    "import seaborn as sns\n",
    "\n",
    "plt.figure(figsize=(10, 6))\n",
    "sns.histplot(result_df['wacc_market_based'].dropna(), kde=True)\n",
    "plt.title('Distribution of Market-Based WACC')\n",
    "plt.xlabel('WACC')\n",
    "plt.ylabel('Frequency')\n",
    "plt.axvline(result_df['wacc_market_based'].mean(), color='red', linestyle='--', \n",
    "            label=f'Mean WACC: {result_df[\"wacc_market_based\"].mean():.2%}')\n",
    "plt.legend()\n",
    "plt.show()\n",
    "\n"
   ]
  },
  {
   "cell_type": "code",
   "execution_count": 32,
   "id": "25dae33c-7a47-4fce-aa53-a17d129730a8",
   "metadata": {},
   "outputs": [],
   "source": [
    "import pandas as pd\n",
    "import numpy as np\n",
    "\n",
    "def dcf_time_series(df, cash_flow_col, date_col, discount_rate, base_date=None):\n",
    "    \"\"\"\n",
    "    Calculate DCF using a pandas DataFrame with dates.\n",
    "    \n",
    "    Parameters:\n",
    "    df (DataFrame): DataFrame containing cash flows and dates\n",
    "    cash_flow_col (str): Column name for cash flows\n",
    "    date_col (str): Column name for dates\n",
    "    discount_rate (float): Annual discount rate\n",
    "    base_date (datetime, optional): Base date for discounting, defaults to min date\n",
    "    \n",
    "    Returns:\n",
    "    float: Present value of cash flows\n",
    "    \"\"\"\n",
    "    # Ensure dates are datetime objects\n",
    "    df[date_col] = pd.to_datetime(df[date_col])\n",
    "    \n",
    "    if base_date is None:\n",
    "        base_date = df[date_col].min()\n",
    "    \n",
    "    # Calculate years from base date\n",
    "    df['years'] = (df[date_col] - base_date).dt.days / 365.25\n",
    "    \n",
    "    # Calculate discount factors\n",
    "    df['discount_factor'] = 1 / (1 + discount_rate) ** df['years']\n",
    "    \n",
    "    # Calculate present values\n",
    "    df['present_value'] = df[cash_flow_col] * df['discount_factor']\n",
    "    \n",
    "    return df['present_value'].sum()"
   ]
  },
  {
   "cell_type": "code",
   "execution_count": 33,
   "id": "e671be69-8f9f-4e5c-a9f8-f12237182c63",
   "metadata": {},
   "outputs": [
    {
     "name": "stdout",
     "output_type": "stream",
     "text": [
      "  ticker      wacc      last_fcf  enterprise_value\n",
      "0    REE  0.075217  6.620514e+12      1.678410e+14\n"
     ]
    }
   ],
   "source": [
    "import pandas as pd\n",
    "\n",
    "def full_dcf_model(projected_fcf, terminal_growth_rate, wacc, terminal_year):\n",
    "    \"\"\"\n",
    "    Simple DCF model to calculate enterprise value.\n",
    "\n",
    "    :param projected_fcf: List of projected free cash flows for each forecast year.\n",
    "    :param terminal_growth_rate: Growth rate applied after the forecast period.\n",
    "    :param wacc: Weighted Average Cost of Capital used as the discount rate.\n",
    "    :param terminal_year: Number of years in the forecast period.\n",
    "    :return: Calculated enterprise value.\n",
    "    \"\"\"\n",
    "    # Calculate the PV of projected cash flows\n",
    "    present_value_fcf = sum(fcf / ((1 + wacc) ** (i + 1)) for i, fcf in enumerate(projected_fcf))\n",
    "    \n",
    "    # Calculate the terminal value\n",
    "    last_year_fcf = projected_fcf[-1]\n",
    "    terminal_value = last_year_fcf * (1 + terminal_growth_rate) / (wacc - terminal_growth_rate)\n",
    "    \n",
    "    # Present value of the terminal value\n",
    "    present_value_terminal = terminal_value / ((1 + wacc) ** terminal_year)\n",
    "    \n",
    "    # Total enterprise value is the sum of the PV of FCF and PV of terminal value\n",
    "    enterprise_value = present_value_fcf + present_value_terminal\n",
    "    \n",
    "    return enterprise_value\n",
    "\n",
    "# Ensure CashFlow is a properly defined DataFrame with 'Levered Free Cash Flow'\n",
    "# Example setup, ensure that 'CashFlow' exists with your data\n",
    "# CashFlow = pd.DataFrame({'Levered Free Cash Flow': [...]})\n",
    "\n",
    "# Extract the free cash flow for the stock\n",
    "free_cash_flow = CashFlow['Levered Free Cash Flow']\n",
    "\n",
    "# Determine whether to use the mean or a specific value of FCF\n",
    "# Calculate the mean directly if there are multiple entries for the stock\n",
    "ticker_fcf = free_cash_flow.mean() if len(free_cash_flow) > 1 else free_cash_flow.iloc[0]\n",
    "\n",
    "# Define your parameters\n",
    "forecast_years = 5\n",
    "terminal_growth_rate = 0.03  # Long-term growth rate\n",
    "growth_rates = [0.05, 0.06, 0.07, 0.05, 0.04]  # Growth rates for next 5 years\n",
    "\n",
    "# Retrieve WACC for this single stock from a relevant DataFrame\n",
    "# Ensure result_df is properly defined\n",
    "# result_df = pd.DataFrame({'wacc_market_based': [...]})\n",
    "ticker_wacc = result_df['wacc_market_based'].mean()  # Ensure result_df is defined and contains 'wacc_market_based'\n",
    "\n",
    "# Project future cash flows\n",
    "projected_fcf = []\n",
    "for i, growth in enumerate(growth_rates):\n",
    "    if i == 0:\n",
    "        projected_fcf.append(ticker_fcf * (1 + growth))\n",
    "    else:\n",
    "        projected_fcf.append(projected_fcf[i-1] * (1 + growth))\n",
    "\n",
    "# Calculate enterprise value for the single stock\n",
    "ev = full_dcf_model(projected_fcf, terminal_growth_rate, ticker_wacc, terminal_year=forecast_years)\n",
    "\n",
    "# Store the results\n",
    "enterprise_values = {\n",
    "    'ticker': 'REE',  # Replace 'YOUR_TICKER' with the actual stock ticker\n",
    "    'wacc': ticker_wacc,\n",
    "    'last_fcf': ticker_fcf,\n",
    "    'enterprise_value': ev\n",
    "}\n",
    "\n",
    "# Convert to DataFrame if desired for structured display\n",
    "enterprise_values_df = pd.DataFrame([enterprise_values])\n",
    "\n",
    "# Display the result\n",
    "print(enterprise_values_df)"
   ]
  },
  {
   "cell_type": "code",
   "execution_count": 34,
   "id": "7ba43d4d-2b5d-4976-ab94-01b207407a57",
   "metadata": {},
   "outputs": [
    {
     "name": "stdout",
     "output_type": "stream",
     "text": [
      "0     356340.086378\n",
      "1     409653.683133\n",
      "2     470920.366195\n",
      "3     541319.689836\n",
      "4     541319.689836\n",
      "5     541319.689836\n",
      "6     541319.689836\n",
      "7     541319.689836\n",
      "8     541319.689836\n",
      "9     622516.658516\n",
      "10    623780.501072\n",
      "11    636517.337219\n",
      "Name: (Chỉ tiêu định giá, Số CP lưu hành (Triệu CP)), dtype: float64\n"
     ]
    }
   ],
   "source": [
    "#intrinsic_value = ev - net_debt / Outstanding_Shares\n",
    "intrinsic_value = ev / Outstanding_Shares\n",
    "print(intrinsic_value)"
   ]
  },
  {
   "cell_type": "code",
   "execution_count": 35,
   "id": "32aee211-e0da-4205-8f1b-41ea262e4e61",
   "metadata": {},
   "outputs": [
    {
     "data": {
      "application/vnd.plotly.v1+json": {
       "config": {
        "plotlyServerURL": "https://plot.ly"
       },
       "data": [
        {
         "connector": {
          "line": {
           "color": "rgb(63, 63, 63)"
          }
         },
         "measure": [
          "absolute",
          "relative",
          "relative",
          "relative",
          "relative",
          "relative",
          "relative",
          "relative",
          "relative",
          "relative",
          "relative",
          "relative",
          "relative",
          "relative",
          "relative",
          "relative",
          "relative",
          "relative",
          "relative",
          "relative",
          "total"
         ],
         "name": "Cashflow Waterfall for REE (2024)",
         "orientation": "v",
         "text": [
          "3,022,796,235,406.0",
          "3,819,192,785,268.0",
          "704,235,820,854.0",
          "29,619,952,766.0",
          "263,174,380,566.0",
          "-5,371,378,459.0",
          "-737,213,140,244.0",
          "-279,896,384,824.0",
          "0.0",
          "-10,215,797,049.0",
          "-1,035,028,113,142.0",
          "5,175,257,443.0",
          "-303,795,229,453.0",
          "173,730,186,148.0",
          "1,278,528,100,055.0",
          "27,719,600,000.0",
          "0.0",
          "3,451,719,075,110.0",
          "-3,827,973,059,400.0",
          "-1,026,622,785,445.0",
          "5,635,908,856,765.0"
         ],
         "textposition": "outside",
         "type": "waterfall",
         "x": [
          "Initial Balance",
          "Operating profit bef...",
          "Decrease in receivab...",
          "Decrease in inventor...",
          "Decrease in payables",
          "Decrease in prepaid ...",
          "Interest paid",
          "Business Income Tax ...",
          "Other receipts from ...",
          "Other payments on op...",
          "Purchase of fixed as...",
          "Proceeds from dispos...",
          "Investment in other ...",
          "Proceeds from divest...",
          "Gain on Dividend",
          "Increase in charter ...",
          "Payments for share r...",
          "Proceeds from borrow...",
          "Repayment of borrowi...",
          "Dividends paid",
          "Ending Balance"
         ],
         "y": [
          3022796235406,
          3819192785268,
          704235820854,
          29619952766,
          263174380566,
          -5371378459,
          -737213140244,
          -279896384824,
          0,
          -10215797049,
          -1035028113142,
          5175257443,
          -303795229453,
          173730186148,
          1278528100055,
          27719600000,
          0,
          3451719075110,
          -3827973059400,
          -1026622785445,
          5635908856765
         ]
        }
       ],
       "layout": {
        "height": 600,
        "showlegend": false,
        "template": {
         "data": {
          "bar": [
           {
            "error_x": {
             "color": "#2a3f5f"
            },
            "error_y": {
             "color": "#2a3f5f"
            },
            "marker": {
             "line": {
              "color": "#E5ECF6",
              "width": 0.5
             },
             "pattern": {
              "fillmode": "overlay",
              "size": 10,
              "solidity": 0.2
             }
            },
            "type": "bar"
           }
          ],
          "barpolar": [
           {
            "marker": {
             "line": {
              "color": "#E5ECF6",
              "width": 0.5
             },
             "pattern": {
              "fillmode": "overlay",
              "size": 10,
              "solidity": 0.2
             }
            },
            "type": "barpolar"
           }
          ],
          "carpet": [
           {
            "aaxis": {
             "endlinecolor": "#2a3f5f",
             "gridcolor": "white",
             "linecolor": "white",
             "minorgridcolor": "white",
             "startlinecolor": "#2a3f5f"
            },
            "baxis": {
             "endlinecolor": "#2a3f5f",
             "gridcolor": "white",
             "linecolor": "white",
             "minorgridcolor": "white",
             "startlinecolor": "#2a3f5f"
            },
            "type": "carpet"
           }
          ],
          "choropleth": [
           {
            "colorbar": {
             "outlinewidth": 0,
             "ticks": ""
            },
            "type": "choropleth"
           }
          ],
          "contour": [
           {
            "colorbar": {
             "outlinewidth": 0,
             "ticks": ""
            },
            "colorscale": [
             [
              0,
              "#0d0887"
             ],
             [
              0.1111111111111111,
              "#46039f"
             ],
             [
              0.2222222222222222,
              "#7201a8"
             ],
             [
              0.3333333333333333,
              "#9c179e"
             ],
             [
              0.4444444444444444,
              "#bd3786"
             ],
             [
              0.5555555555555556,
              "#d8576b"
             ],
             [
              0.6666666666666666,
              "#ed7953"
             ],
             [
              0.7777777777777778,
              "#fb9f3a"
             ],
             [
              0.8888888888888888,
              "#fdca26"
             ],
             [
              1,
              "#f0f921"
             ]
            ],
            "type": "contour"
           }
          ],
          "contourcarpet": [
           {
            "colorbar": {
             "outlinewidth": 0,
             "ticks": ""
            },
            "type": "contourcarpet"
           }
          ],
          "heatmap": [
           {
            "colorbar": {
             "outlinewidth": 0,
             "ticks": ""
            },
            "colorscale": [
             [
              0,
              "#0d0887"
             ],
             [
              0.1111111111111111,
              "#46039f"
             ],
             [
              0.2222222222222222,
              "#7201a8"
             ],
             [
              0.3333333333333333,
              "#9c179e"
             ],
             [
              0.4444444444444444,
              "#bd3786"
             ],
             [
              0.5555555555555556,
              "#d8576b"
             ],
             [
              0.6666666666666666,
              "#ed7953"
             ],
             [
              0.7777777777777778,
              "#fb9f3a"
             ],
             [
              0.8888888888888888,
              "#fdca26"
             ],
             [
              1,
              "#f0f921"
             ]
            ],
            "type": "heatmap"
           }
          ],
          "heatmapgl": [
           {
            "colorbar": {
             "outlinewidth": 0,
             "ticks": ""
            },
            "colorscale": [
             [
              0,
              "#0d0887"
             ],
             [
              0.1111111111111111,
              "#46039f"
             ],
             [
              0.2222222222222222,
              "#7201a8"
             ],
             [
              0.3333333333333333,
              "#9c179e"
             ],
             [
              0.4444444444444444,
              "#bd3786"
             ],
             [
              0.5555555555555556,
              "#d8576b"
             ],
             [
              0.6666666666666666,
              "#ed7953"
             ],
             [
              0.7777777777777778,
              "#fb9f3a"
             ],
             [
              0.8888888888888888,
              "#fdca26"
             ],
             [
              1,
              "#f0f921"
             ]
            ],
            "type": "heatmapgl"
           }
          ],
          "histogram": [
           {
            "marker": {
             "pattern": {
              "fillmode": "overlay",
              "size": 10,
              "solidity": 0.2
             }
            },
            "type": "histogram"
           }
          ],
          "histogram2d": [
           {
            "colorbar": {
             "outlinewidth": 0,
             "ticks": ""
            },
            "colorscale": [
             [
              0,
              "#0d0887"
             ],
             [
              0.1111111111111111,
              "#46039f"
             ],
             [
              0.2222222222222222,
              "#7201a8"
             ],
             [
              0.3333333333333333,
              "#9c179e"
             ],
             [
              0.4444444444444444,
              "#bd3786"
             ],
             [
              0.5555555555555556,
              "#d8576b"
             ],
             [
              0.6666666666666666,
              "#ed7953"
             ],
             [
              0.7777777777777778,
              "#fb9f3a"
             ],
             [
              0.8888888888888888,
              "#fdca26"
             ],
             [
              1,
              "#f0f921"
             ]
            ],
            "type": "histogram2d"
           }
          ],
          "histogram2dcontour": [
           {
            "colorbar": {
             "outlinewidth": 0,
             "ticks": ""
            },
            "colorscale": [
             [
              0,
              "#0d0887"
             ],
             [
              0.1111111111111111,
              "#46039f"
             ],
             [
              0.2222222222222222,
              "#7201a8"
             ],
             [
              0.3333333333333333,
              "#9c179e"
             ],
             [
              0.4444444444444444,
              "#bd3786"
             ],
             [
              0.5555555555555556,
              "#d8576b"
             ],
             [
              0.6666666666666666,
              "#ed7953"
             ],
             [
              0.7777777777777778,
              "#fb9f3a"
             ],
             [
              0.8888888888888888,
              "#fdca26"
             ],
             [
              1,
              "#f0f921"
             ]
            ],
            "type": "histogram2dcontour"
           }
          ],
          "mesh3d": [
           {
            "colorbar": {
             "outlinewidth": 0,
             "ticks": ""
            },
            "type": "mesh3d"
           }
          ],
          "parcoords": [
           {
            "line": {
             "colorbar": {
              "outlinewidth": 0,
              "ticks": ""
             }
            },
            "type": "parcoords"
           }
          ],
          "pie": [
           {
            "automargin": true,
            "type": "pie"
           }
          ],
          "scatter": [
           {
            "fillpattern": {
             "fillmode": "overlay",
             "size": 10,
             "solidity": 0.2
            },
            "type": "scatter"
           }
          ],
          "scatter3d": [
           {
            "line": {
             "colorbar": {
              "outlinewidth": 0,
              "ticks": ""
             }
            },
            "marker": {
             "colorbar": {
              "outlinewidth": 0,
              "ticks": ""
             }
            },
            "type": "scatter3d"
           }
          ],
          "scattercarpet": [
           {
            "marker": {
             "colorbar": {
              "outlinewidth": 0,
              "ticks": ""
             }
            },
            "type": "scattercarpet"
           }
          ],
          "scattergeo": [
           {
            "marker": {
             "colorbar": {
              "outlinewidth": 0,
              "ticks": ""
             }
            },
            "type": "scattergeo"
           }
          ],
          "scattergl": [
           {
            "marker": {
             "colorbar": {
              "outlinewidth": 0,
              "ticks": ""
             }
            },
            "type": "scattergl"
           }
          ],
          "scattermapbox": [
           {
            "marker": {
             "colorbar": {
              "outlinewidth": 0,
              "ticks": ""
             }
            },
            "type": "scattermapbox"
           }
          ],
          "scatterpolar": [
           {
            "marker": {
             "colorbar": {
              "outlinewidth": 0,
              "ticks": ""
             }
            },
            "type": "scatterpolar"
           }
          ],
          "scatterpolargl": [
           {
            "marker": {
             "colorbar": {
              "outlinewidth": 0,
              "ticks": ""
             }
            },
            "type": "scatterpolargl"
           }
          ],
          "scatterternary": [
           {
            "marker": {
             "colorbar": {
              "outlinewidth": 0,
              "ticks": ""
             }
            },
            "type": "scatterternary"
           }
          ],
          "surface": [
           {
            "colorbar": {
             "outlinewidth": 0,
             "ticks": ""
            },
            "colorscale": [
             [
              0,
              "#0d0887"
             ],
             [
              0.1111111111111111,
              "#46039f"
             ],
             [
              0.2222222222222222,
              "#7201a8"
             ],
             [
              0.3333333333333333,
              "#9c179e"
             ],
             [
              0.4444444444444444,
              "#bd3786"
             ],
             [
              0.5555555555555556,
              "#d8576b"
             ],
             [
              0.6666666666666666,
              "#ed7953"
             ],
             [
              0.7777777777777778,
              "#fb9f3a"
             ],
             [
              0.8888888888888888,
              "#fdca26"
             ],
             [
              1,
              "#f0f921"
             ]
            ],
            "type": "surface"
           }
          ],
          "table": [
           {
            "cells": {
             "fill": {
              "color": "#EBF0F8"
             },
             "line": {
              "color": "white"
             }
            },
            "header": {
             "fill": {
              "color": "#C8D4E3"
             },
             "line": {
              "color": "white"
             }
            },
            "type": "table"
           }
          ]
         },
         "layout": {
          "annotationdefaults": {
           "arrowcolor": "#2a3f5f",
           "arrowhead": 0,
           "arrowwidth": 1
          },
          "autotypenumbers": "strict",
          "coloraxis": {
           "colorbar": {
            "outlinewidth": 0,
            "ticks": ""
           }
          },
          "colorscale": {
           "diverging": [
            [
             0,
             "#8e0152"
            ],
            [
             0.1,
             "#c51b7d"
            ],
            [
             0.2,
             "#de77ae"
            ],
            [
             0.3,
             "#f1b6da"
            ],
            [
             0.4,
             "#fde0ef"
            ],
            [
             0.5,
             "#f7f7f7"
            ],
            [
             0.6,
             "#e6f5d0"
            ],
            [
             0.7,
             "#b8e186"
            ],
            [
             0.8,
             "#7fbc41"
            ],
            [
             0.9,
             "#4d9221"
            ],
            [
             1,
             "#276419"
            ]
           ],
           "sequential": [
            [
             0,
             "#0d0887"
            ],
            [
             0.1111111111111111,
             "#46039f"
            ],
            [
             0.2222222222222222,
             "#7201a8"
            ],
            [
             0.3333333333333333,
             "#9c179e"
            ],
            [
             0.4444444444444444,
             "#bd3786"
            ],
            [
             0.5555555555555556,
             "#d8576b"
            ],
            [
             0.6666666666666666,
             "#ed7953"
            ],
            [
             0.7777777777777778,
             "#fb9f3a"
            ],
            [
             0.8888888888888888,
             "#fdca26"
            ],
            [
             1,
             "#f0f921"
            ]
           ],
           "sequentialminus": [
            [
             0,
             "#0d0887"
            ],
            [
             0.1111111111111111,
             "#46039f"
            ],
            [
             0.2222222222222222,
             "#7201a8"
            ],
            [
             0.3333333333333333,
             "#9c179e"
            ],
            [
             0.4444444444444444,
             "#bd3786"
            ],
            [
             0.5555555555555556,
             "#d8576b"
            ],
            [
             0.6666666666666666,
             "#ed7953"
            ],
            [
             0.7777777777777778,
             "#fb9f3a"
            ],
            [
             0.8888888888888888,
             "#fdca26"
            ],
            [
             1,
             "#f0f921"
            ]
           ]
          },
          "colorway": [
           "#636efa",
           "#EF553B",
           "#00cc96",
           "#ab63fa",
           "#FFA15A",
           "#19d3f3",
           "#FF6692",
           "#B6E880",
           "#FF97FF",
           "#FECB52"
          ],
          "font": {
           "color": "#2a3f5f"
          },
          "geo": {
           "bgcolor": "white",
           "lakecolor": "white",
           "landcolor": "#E5ECF6",
           "showlakes": true,
           "showland": true,
           "subunitcolor": "white"
          },
          "hoverlabel": {
           "align": "left"
          },
          "hovermode": "closest",
          "mapbox": {
           "style": "light"
          },
          "paper_bgcolor": "white",
          "plot_bgcolor": "#E5ECF6",
          "polar": {
           "angularaxis": {
            "gridcolor": "white",
            "linecolor": "white",
            "ticks": ""
           },
           "bgcolor": "#E5ECF6",
           "radialaxis": {
            "gridcolor": "white",
            "linecolor": "white",
            "ticks": ""
           }
          },
          "scene": {
           "xaxis": {
            "backgroundcolor": "#E5ECF6",
            "gridcolor": "white",
            "gridwidth": 2,
            "linecolor": "white",
            "showbackground": true,
            "ticks": "",
            "zerolinecolor": "white"
           },
           "yaxis": {
            "backgroundcolor": "#E5ECF6",
            "gridcolor": "white",
            "gridwidth": 2,
            "linecolor": "white",
            "showbackground": true,
            "ticks": "",
            "zerolinecolor": "white"
           },
           "zaxis": {
            "backgroundcolor": "#E5ECF6",
            "gridcolor": "white",
            "gridwidth": 2,
            "linecolor": "white",
            "showbackground": true,
            "ticks": "",
            "zerolinecolor": "white"
           }
          },
          "shapedefaults": {
           "line": {
            "color": "#2a3f5f"
           }
          },
          "ternary": {
           "aaxis": {
            "gridcolor": "white",
            "linecolor": "white",
            "ticks": ""
           },
           "baxis": {
            "gridcolor": "white",
            "linecolor": "white",
            "ticks": ""
           },
           "bgcolor": "#E5ECF6",
           "caxis": {
            "gridcolor": "white",
            "linecolor": "white",
            "ticks": ""
           }
          },
          "title": {
           "x": 0.05
          },
          "xaxis": {
           "automargin": true,
           "gridcolor": "white",
           "linecolor": "white",
           "ticks": "",
           "title": {
            "standoff": 15
           },
           "zerolinecolor": "white",
           "zerolinewidth": 2
          },
          "yaxis": {
           "automargin": true,
           "gridcolor": "white",
           "linecolor": "white",
           "ticks": "",
           "title": {
            "standoff": 15
           },
           "zerolinecolor": "white",
           "zerolinewidth": 2
          }
         }
        },
        "title": {
         "text": "Cashflow Waterfall Chart for REE (2024)"
        },
        "width": 1000,
        "xaxis": {
         "tickangle": 45,
         "title": {
          "text": "Cash inflows/outflows"
         }
        },
        "yaxis": {
         "tickformat": ",.0f",
         "title": {
          "text": "Amount"
         }
        }
       }
      }
     },
     "metadata": {},
     "output_type": "display_data"
    }
   ],
   "source": [
    "import plotly.graph_objects as go\n",
    "import pandas as pd\n",
    "import numpy as np\n",
    "\n",
    "def create_cashflow_waterfall(df, ticker, year):\n",
    "    # Filter dataframe for specific ticker and year\n",
    "    data = df[(df['ticker'] == ticker) & (df['yearReport'] == year)].iloc[0]\n",
    "    \n",
    "    # Select components for the waterfall chart\n",
    "    measures = [\n",
    "        'Operating profit before changes in working capital',\n",
    "        'Increase/Decrease in receivables',\n",
    "        'Increase/Decrease in inventories',\n",
    "        'Increase/Decrease in payables',\n",
    "        'Increase/Decrease in prepaid expenses',\n",
    "        'Interest paid',\n",
    "        'Business Income Tax paid',\n",
    "        'Other receipts from operating activities',\n",
    "        'Other payments on operating activities',\n",
    "        'Purchase of fixed assets',\n",
    "        'Proceeds from disposal of fixed assets',\n",
    "        'Investment in other entities',\n",
    "        'Proceeds from divestment in other entities',\n",
    "        'Gain on Dividend',\n",
    "        'Increase in charter captial',\n",
    "        'Payments for share repurchases',\n",
    "        'Proceeds from borrowings',\n",
    "        'Repayment of borrowings',\n",
    "        'Dividends paid'\n",
    "    ]\n",
    "    \n",
    "    # Extract values for these measures\n",
    "    values = [data[measure] for measure in measures]\n",
    "    \n",
    "    # Create labels for the chart (shortened for better display)\n",
    "    labels = [m.split('/')[-1].replace(' activities', '') if '/' in m else m for m in measures]\n",
    "    labels = [label[:20] + '...' if len(label) > 20 else label for label in labels]\n",
    "    \n",
    "    # Set up measure types (relative vs total)\n",
    "    measure_types = ['relative'] * len(measures)\n",
    "    \n",
    "    # Add initial and final cash positions\n",
    "    labels = ['Initial Balance'] + labels + ['Ending Balance']\n",
    "    values = [data['Cash and cash equivalents']] + values + [data['Cash and Cash Equivalents at the end of period']]\n",
    "    measure_types = ['absolute'] + measure_types + ['total']\n",
    "    \n",
    "    # Create the waterfall chart with comma-separated numbers\n",
    "    fig = go.Figure(go.Waterfall(\n",
    "        name = f\"Cashflow Waterfall for {ticker} ({year})\",\n",
    "        orientation = \"v\",\n",
    "        measure = measure_types,\n",
    "        x = labels,\n",
    "        textposition = \"outside\",\n",
    "        # Format numbers with commas as thousands separators\n",
    "        text = [f\"{x:,.1f}\" for x in values],\n",
    "        y = values,\n",
    "        connector = {\"line\":{\"color\":\"rgb(63, 63, 63)\"}},\n",
    "    ))\n",
    "    \n",
    "    # Update layout\n",
    "    fig.update_layout(\n",
    "        title = f\"Cashflow Waterfall Chart for {ticker} ({year})\",\n",
    "        showlegend = False,\n",
    "        height = 600,\n",
    "        width = 1000,\n",
    "        xaxis = dict(\n",
    "            title = \"Cash inflows/outflows\",\n",
    "            tickangle = 45\n",
    "        ),\n",
    "        yaxis = dict(\n",
    "            title = \"Amount\",\n",
    "            # Add comma separator to y-axis labels as well\n",
    "            tickformat = \",.0f\"\n",
    "        )\n",
    "    )\n",
    "    \n",
    "    return fig\n",
    "\n",
    "# Example usage\n",
    "# Replace 'REE' and 2024 with your desired ticker and year\n",
    "cf_year = 2024\n",
    "\n",
    "fig = create_cashflow_waterfall(CashFlow, 'REE', cf_year)\n",
    "fig.show()\n",
    "\n",
    "# If you prefer to save the figure\n",
    "# fig.write_html(\"cashflow_waterfall.html\")"
   ]
  },
  {
   "cell_type": "code",
   "execution_count": 36,
   "id": "7ec1b207-f812-405d-947a-a6345a0e5421",
   "metadata": {},
   "outputs": [],
   "source": [
    "import pandas as pd\n",
    "import matplotlib.pyplot as plt\n",
    "import seaborn as sns\n",
    "\n",
    "def calculate_roce_and_include_roe(BalanceSheet, IncomeStatement, Ratio):\n",
    "    \"\"\"\n",
    "    Calculate ROCE and include ROE from Ratio dataframe with MultiIndex columns.\n",
    "    \n",
    "    Parameters:\n",
    "    -----------\n",
    "    BalanceSheet : pandas DataFrame\n",
    "        Balance Sheet data with columns: ticker, yearReport, 'TOTAL ASSETS (Bn. VND)', 'Current liabilities (Bn. VND)'\n",
    "    IncomeStatement : pandas DataFrame\n",
    "        Income Statement data with columns: ticker, yearReport, 'Operating Profit/Loss'\n",
    "    Ratio : pandas DataFrame\n",
    "        Ratio data with MultiIndex columns including ('Chỉ tiêu khả năng sinh lợi', 'ROE (%)')\n",
    "        \n",
    "    Returns:\n",
    "    --------\n",
    "    pandas DataFrame\n",
    "        DataFrame with ROCE and ROE calculations\n",
    "    \"\"\"\n",
    "    # Create a copy to avoid modifying the original dataframe\n",
    "    BalanceSheet_copy = BalanceSheet.copy()\n",
    "    \n",
    "    # Step 1: Calculate Capital Employed\n",
    "    BalanceSheet_copy['Capital Employed (Bn. VND)'] = (\n",
    "        BalanceSheet_copy['Long-term borrowings (Bn. VND)'] + \n",
    "        BalanceSheet_copy['Short-term borrowings (Bn. VND)'] + \n",
    "        BalanceSheet_copy[\"OWNER'S EQUITY(Bn.VND)\"]\n",
    "    )\n",
    "    \n",
    "    # Step 2: Merge Balance Sheet and Income Statement\n",
    "    merged_df = pd.merge(\n",
    "        BalanceSheet_copy[['ticker', 'yearReport', 'Capital Employed (Bn. VND)']],\n",
    "        IncomeStatement[['ticker', 'yearReport', 'Operating Profit/Loss']],\n",
    "        on=['ticker', 'yearReport'],\n",
    "        how='inner'\n",
    "    )\n",
    "    \n",
    "    # Step 3: Calculate ROCE\n",
    "    merged_df['ROCE'] = merged_df['Operating Profit/Loss'] / merged_df['Capital Employed (Bn. VND)']\n",
    "    \n",
    "    # Select columns for ROCE calculation\n",
    "    ROCE_df = merged_df[['ticker', 'yearReport', 'Operating Profit/Loss', \n",
    "                         'Capital Employed (Bn. VND)', 'ROCE']]\n",
    "    ROCE_df = ROCE_df.rename(columns={'Operating Profit/Loss': 'EBIT (Bn. VND)'})\n",
    "    \n",
    "    # Step 4: Create a simplified version of Ratio DataFrame for merging\n",
    "    # Extract the ticker, year, and ROE columns\n",
    "    ratio_simple = pd.DataFrame({\n",
    "        'ticker': Ratio[('Meta', 'CP')],\n",
    "        'yearReport': Ratio[('Meta', 'Năm')],\n",
    "        'ROE': Ratio[('Chỉ tiêu khả năng sinh lợi', 'ROE (%)')]\n",
    "    })\n",
    "    \n",
    "    # Step 5: Merge with simplified Ratio dataframe to include ROE\n",
    "    ROCE_df = pd.merge(\n",
    "        ROCE_df,\n",
    "        ratio_simple[['ticker', 'yearReport', 'ROE']],\n",
    "        on=['ticker', 'yearReport'],\n",
    "        how='left'\n",
    "    )\n",
    "    \n",
    "    return ROCE_df\n",
    "\n",
    "def visualize_roce_vs_roe(BalanceSheet, IncomeStatement, Ratio):\n",
    "    \"\"\"\n",
    "    Calculate and visualize only the ROCE vs ROE comparison.\n",
    "    \n",
    "    Parameters:\n",
    "    -----------\n",
    "    BalanceSheet : pandas DataFrame\n",
    "        Balance Sheet data\n",
    "    IncomeStatement : pandas DataFrame\n",
    "        Income Statement data\n",
    "    Ratio : pandas DataFrame\n",
    "        Ratio data containing ROE with MultiIndex columns\n",
    "    \"\"\"\n",
    "    # Calculate ROCE and include ROE\n",
    "    ROCE_df = calculate_roce_and_include_roe(BalanceSheet, IncomeStatement, Ratio)\n",
    "    \n",
    "    # Sort by ticker and year\n",
    "    ROCE_df = ROCE_df.sort_values(['ticker', 'yearReport'])\n",
    "    \n",
    "    # Create a comparison chart for each ticker\n",
    "    for ticker in ROCE_df['ticker'].unique():\n",
    "        ticker_data = ROCE_df[ROCE_df['ticker'] == ticker]\n",
    "        \n",
    "        fig, ax1 = plt.subplots(figsize=(12, 6))\n",
    "        \n",
    "        # Create plot for ROCE\n",
    "        color = 'tab:blue'\n",
    "        ax1.set_xlabel('Year', fontsize=12)\n",
    "        ax1.set_ylabel('ROCE', color=color, fontsize=12)\n",
    "        ax1.plot(ticker_data['yearReport'], ticker_data['ROCE'], 'o-', color=color, linewidth=2, label='ROCE')\n",
    "        ax1.tick_params(axis='y', labelcolor=color)\n",
    "        \n",
    "        # Add data labels for ROCE\n",
    "        for i, row in ticker_data.iterrows():\n",
    "            ax1.annotate(f\"{row['ROCE']:.3f}\", \n",
    "                        (row['yearReport'], row['ROCE']),\n",
    "                        textcoords=\"offset points\", \n",
    "                        xytext=(0,10), \n",
    "                        ha='center', \n",
    "                        color=color,\n",
    "                        fontsize=9)\n",
    "        \n",
    "        # Create second y-axis for ROE (%)\n",
    "        ax2 = ax1.twinx()\n",
    "        color = 'tab:red'\n",
    "        ax2.set_ylabel('ROE (%)', color=color, fontsize=12)\n",
    "        ax2.plot(ticker_data['yearReport'], ticker_data['ROE'], 's-', color=color, linewidth=2, label='ROE')\n",
    "        ax2.tick_params(axis='y', labelcolor=color)\n",
    "        \n",
    "        # Add data labels for ROE\n",
    "        for i, row in ticker_data.iterrows():\n",
    "            ax2.annotate(f\"{row['ROE']:.1f}%\", \n",
    "                        (row['yearReport'], row['ROE']),\n",
    "                        textcoords=\"offset points\", \n",
    "                        xytext=(0,-15), \n",
    "                        ha='center', \n",
    "                        color=color,\n",
    "                        fontsize=9)\n",
    "        \n",
    "        # Add legends for both lines\n",
    "        lines1, labels1 = ax1.get_legend_handles_labels()\n",
    "        lines2, labels2 = ax2.get_legend_handles_labels()\n",
    "        ax1.legend(lines1 + lines2, labels1 + labels2, loc='best')\n",
    "        \n",
    "        plt.title(f'ROCE vs ROE (%) Comparison for {ticker}', fontsize=14)\n",
    "        plt.grid(True)\n",
    "        plt.xticks(rotation=45)\n",
    "        \n",
    "        # Add annotation explaining the relationship\n",
    "        plt.figtext(0.5, 0.01, \n",
    "                   \"ROE > ROCE: Effective use of financial leverage | ROCE > ROE: Potential underutilization of debt\", \n",
    "                   ha=\"center\", fontsize=10, bbox={\"facecolor\":\"lightgray\", \"alpha\":0.5, \"pad\":5})\n",
    "        \n",
    "        plt.tight_layout(rect=[0, 0.05, 1, 0.95])\n",
    "        plt.show()\n",
    "    \n",
    "    return ROCE_df\n",
    "\n"
   ]
  },
  {
   "cell_type": "code",
   "execution_count": 37,
   "id": "9ad2850a-097a-4791-a4de-390bc6a7623a",
   "metadata": {},
   "outputs": [
    {
     "name": "stdout",
     "output_type": "stream",
     "text": [
      "  ticker  yearReport  EBIT (Bn. VND)  Capital Employed (Bn. VND)      ROCE  \\\n",
      "0    REE        2024   2672346972019              32851827291499  0.081345   \n",
      "1    REE        2023   3042127311430              31512920183225  0.096536   \n",
      "2    REE        2022   3985852232731              30604777639150  0.130236   \n",
      "3    REE        2021   2387222069978              28331835703693  0.084259   \n",
      "4    REE        2020   1901472471574              17811997377269  0.106752   \n",
      "\n",
      "        ROE  \n",
      "0  0.110077  \n",
      "1  0.133335  \n",
      "2  0.186927  \n",
      "3  0.129860  \n",
      "4  0.139663  \n"
     ]
    },
    {
     "data": {
      "image/png": "[encoded data removed]",
      "text/plain": [
       "<Figure size 1200x600 with 2 Axes>"
      ]
     },
     "metadata": {},
     "output_type": "display_data"
    },
    {
     "data": {
      "text/html": [
       "<div>\n",
       "<style scoped>\n",
       "    .dataframe tbody tr th:only-of-type {\n",
       "        vertical-align: middle;\n",
       "    }\n",
       "\n",
       "    .dataframe tbody tr th {\n",
       "        vertical-align: top;\n",
       "    }\n",
       "\n",
       "    .dataframe thead th {\n",
       "        text-align: right;\n",
       "    }\n",
       "</style>\n",
       "<table border=\"1\" class=\"dataframe\">\n",
       "  <thead>\n",
       "    <tr style=\"text-align: right;\">\n",
       "      <th></th>\n",
       "      <th>ticker</th>\n",
       "      <th>yearReport</th>\n",
       "      <th>EBIT (Bn. VND)</th>\n",
       "      <th>Capital Employed (Bn. VND)</th>\n",
       "      <th>ROCE</th>\n",
       "      <th>ROE</th>\n",
       "    </tr>\n",
       "  </thead>\n",
       "  <tbody>\n",
       "    <tr>\n",
       "      <th>11</th>\n",
       "      <td>REE</td>\n",
       "      <td>2013</td>\n",
       "      <td>653760115839</td>\n",
       "      <td>5719506891415</td>\n",
       "      <td>0.114304</td>\n",
       "      <td>0.207349</td>\n",
       "    </tr>\n",
       "    <tr>\n",
       "      <th>10</th>\n",
       "      <td>REE</td>\n",
       "      <td>2014</td>\n",
       "      <td>1209735776640</td>\n",
       "      <td>7049054886482</td>\n",
       "      <td>0.171617</td>\n",
       "      <td>0.184132</td>\n",
       "    </tr>\n",
       "    <tr>\n",
       "      <th>9</th>\n",
       "      <td>REE</td>\n",
       "      <td>2015</td>\n",
       "      <td>1038784287138</td>\n",
       "      <td>7674056085377</td>\n",
       "      <td>0.135363</td>\n",
       "      <td>0.131029</td>\n",
       "    </tr>\n",
       "    <tr>\n",
       "      <th>8</th>\n",
       "      <td>REE</td>\n",
       "      <td>2016</td>\n",
       "      <td>1368547876590</td>\n",
       "      <td>9214832267594</td>\n",
       "      <td>0.148516</td>\n",
       "      <td>0.151795</td>\n",
       "    </tr>\n",
       "    <tr>\n",
       "      <th>7</th>\n",
       "      <td>REE</td>\n",
       "      <td>2017</td>\n",
       "      <td>1711671841121</td>\n",
       "      <td>11674003426931</td>\n",
       "      <td>0.146623</td>\n",
       "      <td>0.167790</td>\n",
       "    </tr>\n",
       "    <tr>\n",
       "      <th>6</th>\n",
       "      <td>REE</td>\n",
       "      <td>2018</td>\n",
       "      <td>2105657869033</td>\n",
       "      <td>13109757690307</td>\n",
       "      <td>0.160618</td>\n",
       "      <td>0.191602</td>\n",
       "    </tr>\n",
       "    <tr>\n",
       "      <th>5</th>\n",
       "      <td>REE</td>\n",
       "      <td>2019</td>\n",
       "      <td>1909681072333</td>\n",
       "      <td>16728479197464</td>\n",
       "      <td>0.114157</td>\n",
       "      <td>0.155862</td>\n",
       "    </tr>\n",
       "    <tr>\n",
       "      <th>4</th>\n",
       "      <td>REE</td>\n",
       "      <td>2020</td>\n",
       "      <td>1901472471574</td>\n",
       "      <td>17811997377269</td>\n",
       "      <td>0.106752</td>\n",
       "      <td>0.139663</td>\n",
       "    </tr>\n",
       "    <tr>\n",
       "      <th>3</th>\n",
       "      <td>REE</td>\n",
       "      <td>2021</td>\n",
       "      <td>2387222069978</td>\n",
       "      <td>28331835703693</td>\n",
       "      <td>0.084259</td>\n",
       "      <td>0.129860</td>\n",
       "    </tr>\n",
       "    <tr>\n",
       "      <th>2</th>\n",
       "      <td>REE</td>\n",
       "      <td>2022</td>\n",
       "      <td>3985852232731</td>\n",
       "      <td>30604777639150</td>\n",
       "      <td>0.130236</td>\n",
       "      <td>0.186927</td>\n",
       "    </tr>\n",
       "    <tr>\n",
       "      <th>1</th>\n",
       "      <td>REE</td>\n",
       "      <td>2023</td>\n",
       "      <td>3042127311430</td>\n",
       "      <td>31512920183225</td>\n",
       "      <td>0.096536</td>\n",
       "      <td>0.133335</td>\n",
       "    </tr>\n",
       "    <tr>\n",
       "      <th>0</th>\n",
       "      <td>REE</td>\n",
       "      <td>2024</td>\n",
       "      <td>2672346972019</td>\n",
       "      <td>32851827291499</td>\n",
       "      <td>0.081345</td>\n",
       "      <td>0.110077</td>\n",
       "    </tr>\n",
       "  </tbody>\n",
       "</table>\n",
       "</div>"
      ],
      "text/plain": [
       "   ticker  yearReport  EBIT (Bn. VND)  Capital Employed (Bn. VND)      ROCE  \\\n",
       "11    REE        2013    653760115839               5719506891415  0.114304   \n",
       "10    REE        2014   1209735776640               7049054886482  0.171617   \n",
       "9     REE        2015   1038784287138               7674056085377  0.135363   \n",
       "8     REE        2016   1368547876590               9214832267594  0.148516   \n",
       "7     REE        2017   1711671841121              11674003426931  0.146623   \n",
       "6     REE        2018   2105657869033              13109757690307  0.160618   \n",
       "5     REE        2019   1909681072333              16728479197464  0.114157   \n",
       "4     REE        2020   1901472471574              17811997377269  0.106752   \n",
       "3     REE        2021   2387222069978              28331835703693  0.084259   \n",
       "2     REE        2022   3985852232731              30604777639150  0.130236   \n",
       "1     REE        2023   3042127311430              31512920183225  0.096536   \n",
       "0     REE        2024   2672346972019              32851827291499  0.081345   \n",
       "\n",
       "         ROE  \n",
       "11  0.207349  \n",
       "10  0.184132  \n",
       "9   0.131029  \n",
       "8   0.151795  \n",
       "7   0.167790  \n",
       "6   0.191602  \n",
       "5   0.155862  \n",
       "4   0.139663  \n",
       "3   0.129860  \n",
       "2   0.186927  \n",
       "1   0.133335  \n",
       "0   0.110077  "
      ]
     },
     "execution_count": 37,
     "metadata": {},
     "output_type": "execute_result"
    }
   ],
   "source": [
    "# Calculate ROCE and ROE\n",
    "ROCE_df = calculate_roce_and_include_roe(BalanceSheet, IncomeStatement, Ratio)\n",
    "print(ROCE_df.head())\n",
    "\n",
    "# Visualize ROCE vs ROE comparison\n",
    "visualize_roce_vs_roe(BalanceSheet, IncomeStatement, Ratio)"
   ]
  },
  {
   "cell_type": "markdown",
   "id": "2a3eba5b",
   "metadata": {},
   "source": [
    "# Corporate Finance"
   ]
  },
  {
   "cell_type": "code",
   "execution_count": 47,
   "id": "912c9a62",
   "metadata": {},
   "outputs": [
    {
     "data": {
      "application/vnd.plotly.v1+json": {
       "config": {
        "plotlyServerURL": "https://plot.ly"
       },
       "data": [
        {
         "line": {
          "color": "blue"
         },
         "name": "ROIC (%)",
         "type": "scatter",
         "x": [
          0,
          1,
          2,
          3,
          4,
          5,
          6,
          7,
          8,
          9,
          10,
          11
         ],
         "y": [
          7.391636699999999,
          9.37495683,
          11.969539730000001,
          6.545625680000001,
          6.95832428,
          5.6565787499999995,
          6.97785458,
          9.362511060000001,
          9.46643095,
          8.53460995,
          8.87871896,
          6.77200223
         ]
        },
        {
         "line": {
          "color": "green"
         },
         "name": "WACC (%)",
         "type": "scatter",
         "x": [
          0,
          1,
          2,
          3,
          4,
          5,
          6,
          7,
          8,
          9,
          10,
          11
         ],
         "y": [
          7.468132358586274,
          7.505105573626201,
          7.459206896164358,
          7.8506868388333375,
          7.694092609486063,
          7.87639709739871,
          7.558723344988547,
          7.801682107483382,
          7.46410841008736,
          7.382262926406071,
          7.073819108228106,
          7.126032995741297
         ]
        }
       ],
       "layout": {
        "annotations": [
         {
          "showarrow": false,
          "text": "WACC Mean: 7.52%",
          "x": 1,
          "xanchor": "right",
          "xref": "x domain",
          "y": 7.521687522252475,
          "yanchor": "top",
          "yref": "y"
         }
        ],
        "shapes": [
         {
          "line": {
           "color": "red",
           "dash": "dash"
          },
          "type": "line",
          "x0": 0,
          "x1": 1,
          "xref": "x domain",
          "y0": 7.521687522252475,
          "y1": 7.521687522252475,
          "yref": "y"
         }
        ],
        "showlegend": true,
        "template": {
         "data": {
          "bar": [
           {
            "error_x": {
             "color": "#2a3f5f"
            },
            "error_y": {
             "color": "#2a3f5f"
            },
            "marker": {
             "line": {
              "color": "white",
              "width": 0.5
             },
             "pattern": {
              "fillmode": "overlay",
              "size": 10,
              "solidity": 0.2
             }
            },
            "type": "bar"
           }
          ],
          "barpolar": [
           {
            "marker": {
             "line": {
              "color": "white",
              "width": 0.5
             },
             "pattern": {
              "fillmode": "overlay",
              "size": 10,
              "solidity": 0.2
             }
            },
            "type": "barpolar"
           }
          ],
          "carpet": [
           {
            "aaxis": {
             "endlinecolor": "#2a3f5f",
             "gridcolor": "#C8D4E3",
             "linecolor": "#C8D4E3",
             "minorgridcolor": "#C8D4E3",
             "startlinecolor": "#2a3f5f"
            },
            "baxis": {
             "endlinecolor": "#2a3f5f",
             "gridcolor": "#C8D4E3",
             "linecolor": "#C8D4E3",
             "minorgridcolor": "#C8D4E3",
             "startlinecolor": "#2a3f5f"
            },
            "type": "carpet"
           }
          ],
          "choropleth": [
           {
            "colorbar": {
             "outlinewidth": 0,
             "ticks": ""
            },
            "type": "choropleth"
           }
          ],
          "contour": [
           {
            "colorbar": {
             "outlinewidth": 0,
             "ticks": ""
            },
            "colorscale": [
             [
              0,
              "#0d0887"
             ],
             [
              0.1111111111111111,
              "#46039f"
             ],
             [
              0.2222222222222222,
              "#7201a8"
             ],
             [
              0.3333333333333333,
              "#9c179e"
             ],
             [
              0.4444444444444444,
              "#bd3786"
             ],
             [
              0.5555555555555556,
              "#d8576b"
             ],
             [
              0.6666666666666666,
              "#ed7953"
             ],
             [
              0.7777777777777778,
              "#fb9f3a"
             ],
             [
              0.8888888888888888,
              "#fdca26"
             ],
             [
              1,
              "#f0f921"
             ]
            ],
            "type": "contour"
           }
          ],
          "contourcarpet": [
           {
            "colorbar": {
             "outlinewidth": 0,
             "ticks": ""
            },
            "type": "contourcarpet"
           }
          ],
          "heatmap": [
           {
            "colorbar": {
             "outlinewidth": 0,
             "ticks": ""
            },
            "colorscale": [
             [
              0,
              "#0d0887"
             ],
             [
              0.1111111111111111,
              "#46039f"
             ],
             [
              0.2222222222222222,
              "#7201a8"
             ],
             [
              0.3333333333333333,
              "#9c179e"
             ],
             [
              0.4444444444444444,
              "#bd3786"
             ],
             [
              0.5555555555555556,
              "#d8576b"
             ],
             [
              0.6666666666666666,
              "#ed7953"
             ],
             [
              0.7777777777777778,
              "#fb9f3a"
             ],
             [
              0.8888888888888888,
              "#fdca26"
             ],
             [
              1,
              "#f0f921"
             ]
            ],
            "type": "heatmap"
           }
          ],
          "heatmapgl": [
           {
            "colorbar": {
             "outlinewidth": 0,
             "ticks": ""
            },
            "colorscale": [
             [
              0,
              "#0d0887"
             ],
             [
              0.1111111111111111,
              "#46039f"
             ],
             [
              0.2222222222222222,
              "#7201a8"
             ],
             [
              0.3333333333333333,
              "#9c179e"
             ],
             [
              0.4444444444444444,
              "#bd3786"
             ],
             [
              0.5555555555555556,
              "#d8576b"
             ],
             [
              0.6666666666666666,
              "#ed7953"
             ],
             [
              0.7777777777777778,
              "#fb9f3a"
             ],
             [
              0.8888888888888888,
              "#fdca26"
             ],
             [
              1,
              "#f0f921"
             ]
            ],
            "type": "heatmapgl"
           }
          ],
          "histogram": [
           {
            "marker": {
             "pattern": {
              "fillmode": "overlay",
              "size": 10,
              "solidity": 0.2
             }
            },
            "type": "histogram"
           }
          ],
          "histogram2d": [
           {
            "colorbar": {
             "outlinewidth": 0,
             "ticks": ""
            },
            "colorscale": [
             [
              0,
              "#0d0887"
             ],
             [
              0.1111111111111111,
              "#46039f"
             ],
             [
              0.2222222222222222,
              "#7201a8"
             ],
             [
              0.3333333333333333,
              "#9c179e"
             ],
             [
              0.4444444444444444,
              "#bd3786"
             ],
             [
              0.5555555555555556,
              "#d8576b"
             ],
             [
              0.6666666666666666,
              "#ed7953"
             ],
             [
              0.7777777777777778,
              "#fb9f3a"
             ],
             [
              0.8888888888888888,
              "#fdca26"
             ],
             [
              1,
              "#f0f921"
             ]
            ],
            "type": "histogram2d"
           }
          ],
          "histogram2dcontour": [
           {
            "colorbar": {
             "outlinewidth": 0,
             "ticks": ""
            },
            "colorscale": [
             [
              0,
              "#0d0887"
             ],
             [
              0.1111111111111111,
              "#46039f"
             ],
             [
              0.2222222222222222,
              "#7201a8"
             ],
             [
              0.3333333333333333,
              "#9c179e"
             ],
             [
              0.4444444444444444,
              "#bd3786"
             ],
             [
              0.5555555555555556,
              "#d8576b"
             ],
             [
              0.6666666666666666,
              "#ed7953"
             ],
             [
              0.7777777777777778,
              "#fb9f3a"
             ],
             [
              0.8888888888888888,
              "#fdca26"
             ],
             [
              1,
              "#f0f921"
             ]
            ],
            "type": "histogram2dcontour"
           }
          ],
          "mesh3d": [
           {
            "colorbar": {
             "outlinewidth": 0,
             "ticks": ""
            },
            "type": "mesh3d"
           }
          ],
          "parcoords": [
           {
            "line": {
             "colorbar": {
              "outlinewidth": 0,
              "ticks": ""
             }
            },
            "type": "parcoords"
           }
          ],
          "pie": [
           {
            "automargin": true,
            "type": "pie"
           }
          ],
          "scatter": [
           {
            "fillpattern": {
             "fillmode": "overlay",
             "size": 10,
             "solidity": 0.2
            },
            "type": "scatter"
           }
          ],
          "scatter3d": [
           {
            "line": {
             "colorbar": {
              "outlinewidth": 0,
              "ticks": ""
             }
            },
            "marker": {
             "colorbar": {
              "outlinewidth": 0,
              "ticks": ""
             }
            },
            "type": "scatter3d"
           }
          ],
          "scattercarpet": [
           {
            "marker": {
             "colorbar": {
              "outlinewidth": 0,
              "ticks": ""
             }
            },
            "type": "scattercarpet"
           }
          ],
          "scattergeo": [
           {
            "marker": {
             "colorbar": {
              "outlinewidth": 0,
              "ticks": ""
             }
            },
            "type": "scattergeo"
           }
          ],
          "scattergl": [
           {
            "marker": {
             "colorbar": {
              "outlinewidth": 0,
              "ticks": ""
             }
            },
            "type": "scattergl"
           }
          ],
          "scattermapbox": [
           {
            "marker": {
             "colorbar": {
              "outlinewidth": 0,
              "ticks": ""
             }
            },
            "type": "scattermapbox"
           }
          ],
          "scatterpolar": [
           {
            "marker": {
             "colorbar": {
              "outlinewidth": 0,
              "ticks": ""
             }
            },
            "type": "scatterpolar"
           }
          ],
          "scatterpolargl": [
           {
            "marker": {
             "colorbar": {
              "outlinewidth": 0,
              "ticks": ""
             }
            },
            "type": "scatterpolargl"
           }
          ],
          "scatterternary": [
           {
            "marker": {
             "colorbar": {
              "outlinewidth": 0,
              "ticks": ""
             }
            },
            "type": "scatterternary"
           }
          ],
          "surface": [
           {
            "colorbar": {
             "outlinewidth": 0,
             "ticks": ""
            },
            "colorscale": [
             [
              0,
              "#0d0887"
             ],
             [
              0.1111111111111111,
              "#46039f"
             ],
             [
              0.2222222222222222,
              "#7201a8"
             ],
             [
              0.3333333333333333,
              "#9c179e"
             ],
             [
              0.4444444444444444,
              "#bd3786"
             ],
             [
              0.5555555555555556,
              "#d8576b"
             ],
             [
              0.6666666666666666,
              "#ed7953"
             ],
             [
              0.7777777777777778,
              "#fb9f3a"
             ],
             [
              0.8888888888888888,
              "#fdca26"
             ],
             [
              1,
              "#f0f921"
             ]
            ],
            "type": "surface"
           }
          ],
          "table": [
           {
            "cells": {
             "fill": {
              "color": "#EBF0F8"
             },
             "line": {
              "color": "white"
             }
            },
            "header": {
             "fill": {
              "color": "#C8D4E3"
             },
             "line": {
              "color": "white"
             }
            },
            "type": "table"
           }
          ]
         },
         "layout": {
          "annotationdefaults": {
           "arrowcolor": "#2a3f5f",
           "arrowhead": 0,
           "arrowwidth": 1
          },
          "autotypenumbers": "strict",
          "coloraxis": {
           "colorbar": {
            "outlinewidth": 0,
            "ticks": ""
           }
          },
          "colorscale": {
           "diverging": [
            [
             0,
             "#8e0152"
            ],
            [
             0.1,
             "#c51b7d"
            ],
            [
             0.2,
             "#de77ae"
            ],
            [
             0.3,
             "#f1b6da"
            ],
            [
             0.4,
             "#fde0ef"
            ],
            [
             0.5,
             "#f7f7f7"
            ],
            [
             0.6,
             "#e6f5d0"
            ],
            [
             0.7,
             "#b8e186"
            ],
            [
             0.8,
             "#7fbc41"
            ],
            [
             0.9,
             "#4d9221"
            ],
            [
             1,
             "#276419"
            ]
           ],
           "sequential": [
            [
             0,
             "#0d0887"
            ],
            [
             0.1111111111111111,
             "#46039f"
            ],
            [
             0.2222222222222222,
             "#7201a8"
            ],
            [
             0.3333333333333333,
             "#9c179e"
            ],
            [
             0.4444444444444444,
             "#bd3786"
            ],
            [
             0.5555555555555556,
             "#d8576b"
            ],
            [
             0.6666666666666666,
             "#ed7953"
            ],
            [
             0.7777777777777778,
             "#fb9f3a"
            ],
            [
             0.8888888888888888,
             "#fdca26"
            ],
            [
             1,
             "#f0f921"
            ]
           ],
           "sequentialminus": [
            [
             0,
             "#0d0887"
            ],
            [
             0.1111111111111111,
             "#46039f"
            ],
            [
             0.2222222222222222,
             "#7201a8"
            ],
            [
             0.3333333333333333,
             "#9c179e"
            ],
            [
             0.4444444444444444,
             "#bd3786"
            ],
            [
             0.5555555555555556,
             "#d8576b"
            ],
            [
             0.6666666666666666,
             "#ed7953"
            ],
            [
             0.7777777777777778,
             "#fb9f3a"
            ],
            [
             0.8888888888888888,
             "#fdca26"
            ],
            [
             1,
             "#f0f921"
            ]
           ]
          },
          "colorway": [
           "#636efa",
           "#EF553B",
           "#00cc96",
           "#ab63fa",
           "#FFA15A",
           "#19d3f3",
           "#FF6692",
           "#B6E880",
           "#FF97FF",
           "#FECB52"
          ],
          "font": {
           "color": "#2a3f5f"
          },
          "geo": {
           "bgcolor": "white",
           "lakecolor": "white",
           "landcolor": "white",
           "showlakes": true,
           "showland": true,
           "subunitcolor": "#C8D4E3"
          },
          "hoverlabel": {
           "align": "left"
          },
          "hovermode": "closest",
          "mapbox": {
           "style": "light"
          },
          "paper_bgcolor": "white",
          "plot_bgcolor": "white",
          "polar": {
           "angularaxis": {
            "gridcolor": "#EBF0F8",
            "linecolor": "#EBF0F8",
            "ticks": ""
           },
           "bgcolor": "white",
           "radialaxis": {
            "gridcolor": "#EBF0F8",
            "linecolor": "#EBF0F8",
            "ticks": ""
           }
          },
          "scene": {
           "xaxis": {
            "backgroundcolor": "white",
            "gridcolor": "#DFE8F3",
            "gridwidth": 2,
            "linecolor": "#EBF0F8",
            "showbackground": true,
            "ticks": "",
            "zerolinecolor": "#EBF0F8"
           },
           "yaxis": {
            "backgroundcolor": "white",
            "gridcolor": "#DFE8F3",
            "gridwidth": 2,
            "linecolor": "#EBF0F8",
            "showbackground": true,
            "ticks": "",
            "zerolinecolor": "#EBF0F8"
           },
           "zaxis": {
            "backgroundcolor": "white",
            "gridcolor": "#DFE8F3",
            "gridwidth": 2,
            "linecolor": "#EBF0F8",
            "showbackground": true,
            "ticks": "",
            "zerolinecolor": "#EBF0F8"
           }
          },
          "shapedefaults": {
           "line": {
            "color": "#2a3f5f"
           }
          },
          "ternary": {
           "aaxis": {
            "gridcolor": "#DFE8F3",
            "linecolor": "#A2B1C6",
            "ticks": ""
           },
           "baxis": {
            "gridcolor": "#DFE8F3",
            "linecolor": "#A2B1C6",
            "ticks": ""
           },
           "bgcolor": "white",
           "caxis": {
            "gridcolor": "#DFE8F3",
            "linecolor": "#A2B1C6",
            "ticks": ""
           }
          },
          "title": {
           "x": 0.05
          },
          "xaxis": {
           "automargin": true,
           "gridcolor": "#EBF0F8",
           "linecolor": "#EBF0F8",
           "ticks": "",
           "title": {
            "standoff": 15
           },
           "zerolinecolor": "#EBF0F8",
           "zerolinewidth": 2
          },
          "yaxis": {
           "automargin": true,
           "gridcolor": "#EBF0F8",
           "linecolor": "#EBF0F8",
           "ticks": "",
           "title": {
            "standoff": 15
           },
           "zerolinecolor": "#EBF0F8",
           "zerolinewidth": 2
          }
         }
        },
        "title": {
         "text": "ROIC (%) vs WACC (%)"
        },
        "xaxis": {
         "title": {
          "text": "Period"
         }
        },
        "yaxis": {
         "title": {
          "text": "Percentage (%)"
         }
        }
       }
      }
     },
     "metadata": {},
     "output_type": "display_data"
    }
   ],
   "source": [
    "import plotly.graph_objects as go\n",
    "\n",
    "# Create the figure\n",
    "fig = go.Figure()\n",
    "\n",
    "# Add ROIC line (converted to percentage)\n",
    "fig.add_trace(go.Scatter(\n",
    "    x=Ratio.index,\n",
    "    y=Ratio['Chỉ tiêu khả năng sinh lợi', 'ROIC (%)'] * 100,\n",
    "    name='ROIC (%)',\n",
    "    line=dict(color='blue')\n",
    "))\n",
    "\n",
    "# Add WACC line (converted to percentage)\n",
    "fig.add_trace(go.Scatter(\n",
    "    x=result_df.index,\n",
    "    y=result_df['wacc_market_based'] * 100,\n",
    "    name='WACC (%)',\n",
    "    line=dict(color='green')\n",
    "))\n",
    "\n",
    "# Add horizontal line at WACC mean (converted to percentage)\n",
    "wacc_mean = result_df['wacc_market_based'].mean() * 100\n",
    "fig.add_hline(\n",
    "    y=wacc_mean,\n",
    "    line_dash=\"dash\",\n",
    "    line_color=\"red\",\n",
    "    annotation_text=f\"WACC Mean: {wacc_mean:.2f}%\",\n",
    "    annotation_position=\"bottom right\"\n",
    ")\n",
    "\n",
    "# Update layout\n",
    "fig.update_layout(\n",
    "    title='ROIC (%) vs WACC (%)',\n",
    "    xaxis_title='Period',\n",
    "    yaxis_title='Percentage (%)',\n",
    "    showlegend=True,\n",
    "    template='plotly_white'\n",
    ")\n",
    "\n",
    "# Show the plot\n",
    "fig.show()"
   ]
  },
  {
   "cell_type": "code",
   "execution_count": 61,
   "id": "240eef9d",
   "metadata": {},
   "outputs": [
    {
     "data": {
      "application/vnd.plotly.v1+json": {
       "config": {
        "plotlyServerURL": "https://plot.ly"
       },
       "data": [
        {
         "line": {
          "color": "blue"
         },
         "name": "ROIC (%)",
         "type": "scatter",
         "x": [
          2013,
          2014,
          2015,
          2016,
          2017,
          2018,
          2019,
          2020,
          2021,
          2022,
          2023,
          2024
         ],
         "y": [
          6.77200223,
          8.87871896,
          8.53460995,
          9.46643095,
          9.362511060000001,
          6.97785458,
          5.6565787499999995,
          6.95832428,
          6.545625680000001,
          11.969539730000001,
          9.37495683,
          7.391636699999999
         ]
        },
        {
         "line": {
          "color": "green"
         },
         "name": "WACC (%)",
         "type": "scatter",
         "x": [
          2013,
          2014,
          2015,
          2016,
          2017,
          2018,
          2019,
          2020,
          2021,
          2022,
          2023,
          2024
         ],
         "y": [
          7.126032995741297,
          7.073819108228106,
          7.382262926406071,
          7.46410841008736,
          7.801682107483382,
          7.558723344988547,
          7.87639709739871,
          7.694092609486063,
          7.8506868388333375,
          7.459206896164358,
          7.505105573626201,
          7.468132358586274
         ]
        },
        {
         "fill": "toself",
         "fillcolor": "rgba(0, 100, 255, 0.2)",
         "hoverinfo": "skip",
         "legendgroup": "economic_value",
         "line": {
          "width": 0
         },
         "name": "Economic Value",
         "showlegend": true,
         "type": "scatter",
         "x": [
          2013,
          2014,
          2015,
          2016,
          2017,
          2018,
          2019,
          2020,
          2021,
          2022,
          2023,
          2024,
          2024,
          2023,
          2022,
          2021,
          2020,
          2019,
          2018,
          2017,
          2016,
          2015,
          2014,
          2013
         ],
         "y": [
          7.521687522252477,
          8.87871896,
          8.53460995,
          9.46643095,
          9.362511060000001,
          7.521687522252477,
          7.521687522252477,
          7.521687522252477,
          7.521687522252477,
          11.969539730000001,
          9.37495683,
          7.521687522252477,
          7.521687522252477,
          7.521687522252477,
          7.521687522252477,
          7.521687522252477,
          7.521687522252477,
          7.521687522252477,
          7.521687522252477,
          7.521687522252477,
          7.521687522252477,
          7.521687522252477,
          7.521687522252477,
          7.521687522252477
         ]
        }
       ],
       "layout": {
        "annotations": [
         {
          "showarrow": false,
          "text": "WACC Mean: 7.52%",
          "x": 1,
          "xanchor": "right",
          "xref": "x domain",
          "y": 7.521687522252477,
          "yanchor": "top",
          "yref": "y"
         },
         {
          "bgcolor": "rgba(0, 100, 255, 0.2)",
          "bordercolor": "blue",
          "borderpad": 4,
          "borderwidth": 1,
          "font": {
           "color": "blue",
           "size": 12
          },
          "opacity": 0.8,
          "showarrow": false,
          "text": "<b>Economic Value</b>",
          "x": 0.02,
          "xanchor": "left",
          "xref": "paper",
          "y": 0.95,
          "yanchor": "top",
          "yref": "paper"
         }
        ],
        "hovermode": "x unified",
        "legend": {
         "bgcolor": "rgba(255, 255, 255, 0.7)",
         "bordercolor": "rgba(0, 0, 0, 0.2)",
         "borderwidth": 1,
         "orientation": "h",
         "x": 0.5,
         "xanchor": "center",
         "y": -0.3,
         "yanchor": "bottom"
        },
        "margin": {
         "b": 80,
         "l": 50,
         "r": 50,
         "t": 50
        },
        "shapes": [
         {
          "line": {
           "color": "red",
           "dash": "dash"
          },
          "type": "line",
          "x0": 0,
          "x1": 1,
          "xref": "x domain",
          "y0": 7.521687522252477,
          "y1": 7.521687522252477,
          "yref": "y"
         }
        ],
        "showlegend": true,
        "template": {
         "data": {
          "bar": [
           {
            "error_x": {
             "color": "#2a3f5f"
            },
            "error_y": {
             "color": "#2a3f5f"
            },
            "marker": {
             "line": {
              "color": "white",
              "width": 0.5
             },
             "pattern": {
              "fillmode": "overlay",
              "size": 10,
              "solidity": 0.2
             }
            },
            "type": "bar"
           }
          ],
          "barpolar": [
           {
            "marker": {
             "line": {
              "color": "white",
              "width": 0.5
             },
             "pattern": {
              "fillmode": "overlay",
              "size": 10,
              "solidity": 0.2
             }
            },
            "type": "barpolar"
           }
          ],
          "carpet": [
           {
            "aaxis": {
             "endlinecolor": "#2a3f5f",
             "gridcolor": "#C8D4E3",
             "linecolor": "#C8D4E3",
             "minorgridcolor": "#C8D4E3",
             "startlinecolor": "#2a3f5f"
            },
            "baxis": {
             "endlinecolor": "#2a3f5f",
             "gridcolor": "#C8D4E3",
             "linecolor": "#C8D4E3",
             "minorgridcolor": "#C8D4E3",
             "startlinecolor": "#2a3f5f"
            },
            "type": "carpet"
           }
          ],
          "choropleth": [
           {
            "colorbar": {
             "outlinewidth": 0,
             "ticks": ""
            },
            "type": "choropleth"
           }
          ],
          "contour": [
           {
            "colorbar": {
             "outlinewidth": 0,
             "ticks": ""
            },
            "colorscale": [
             [
              0,
              "#0d0887"
             ],
             [
              0.1111111111111111,
              "#46039f"
             ],
             [
              0.2222222222222222,
              "#7201a8"
             ],
             [
              0.3333333333333333,
              "#9c179e"
             ],
             [
              0.4444444444444444,
              "#bd3786"
             ],
             [
              0.5555555555555556,
              "#d8576b"
             ],
             [
              0.6666666666666666,
              "#ed7953"
             ],
             [
              0.7777777777777778,
              "#fb9f3a"
             ],
             [
              0.8888888888888888,
              "#fdca26"
             ],
             [
              1,
              "#f0f921"
             ]
            ],
            "type": "contour"
           }
          ],
          "contourcarpet": [
           {
            "colorbar": {
             "outlinewidth": 0,
             "ticks": ""
            },
            "type": "contourcarpet"
           }
          ],
          "heatmap": [
           {
            "colorbar": {
             "outlinewidth": 0,
             "ticks": ""
            },
            "colorscale": [
             [
              0,
              "#0d0887"
             ],
             [
              0.1111111111111111,
              "#46039f"
             ],
             [
              0.2222222222222222,
              "#7201a8"
             ],
             [
              0.3333333333333333,
              "#9c179e"
             ],
             [
              0.4444444444444444,
              "#bd3786"
             ],
             [
              0.5555555555555556,
              "#d8576b"
             ],
             [
              0.6666666666666666,
              "#ed7953"
             ],
             [
              0.7777777777777778,
              "#fb9f3a"
             ],
             [
              0.8888888888888888,
              "#fdca26"
             ],
             [
              1,
              "#f0f921"
             ]
            ],
            "type": "heatmap"
           }
          ],
          "heatmapgl": [
           {
            "colorbar": {
             "outlinewidth": 0,
             "ticks": ""
            },
            "colorscale": [
             [
              0,
              "#0d0887"
             ],
             [
              0.1111111111111111,
              "#46039f"
             ],
             [
              0.2222222222222222,
              "#7201a8"
             ],
             [
              0.3333333333333333,
              "#9c179e"
             ],
             [
              0.4444444444444444,
              "#bd3786"
             ],
             [
              0.5555555555555556,
              "#d8576b"
             ],
             [
              0.6666666666666666,
              "#ed7953"
             ],
             [
              0.7777777777777778,
              "#fb9f3a"
             ],
             [
              0.8888888888888888,
              "#fdca26"
             ],
             [
              1,
              "#f0f921"
             ]
            ],
            "type": "heatmapgl"
           }
          ],
          "histogram": [
           {
            "marker": {
             "pattern": {
              "fillmode": "overlay",
              "size": 10,
              "solidity": 0.2
             }
            },
            "type": "histogram"
           }
          ],
          "histogram2d": [
           {
            "colorbar": {
             "outlinewidth": 0,
             "ticks": ""
            },
            "colorscale": [
             [
              0,
              "#0d0887"
             ],
             [
              0.1111111111111111,
              "#46039f"
             ],
             [
              0.2222222222222222,
              "#7201a8"
             ],
             [
              0.3333333333333333,
              "#9c179e"
             ],
             [
              0.4444444444444444,
              "#bd3786"
             ],
             [
              0.5555555555555556,
              "#d8576b"
             ],
             [
              0.6666666666666666,
              "#ed7953"
             ],
             [
              0.7777777777777778,
              "#fb9f3a"
             ],
             [
              0.8888888888888888,
              "#fdca26"
             ],
             [
              1,
              "#f0f921"
             ]
            ],
            "type": "histogram2d"
           }
          ],
          "histogram2dcontour": [
           {
            "colorbar": {
             "outlinewidth": 0,
             "ticks": ""
            },
            "colorscale": [
             [
              0,
              "#0d0887"
             ],
             [
              0.1111111111111111,
              "#46039f"
             ],
             [
              0.2222222222222222,
              "#7201a8"
             ],
             [
              0.3333333333333333,
              "#9c179e"
             ],
             [
              0.4444444444444444,
              "#bd3786"
             ],
             [
              0.5555555555555556,
              "#d8576b"
             ],
             [
              0.6666666666666666,
              "#ed7953"
             ],
             [
              0.7777777777777778,
              "#fb9f3a"
             ],
             [
              0.8888888888888888,
              "#fdca26"
             ],
             [
              1,
              "#f0f921"
             ]
            ],
            "type": "histogram2dcontour"
           }
          ],
          "mesh3d": [
           {
            "colorbar": {
             "outlinewidth": 0,
             "ticks": ""
            },
            "type": "mesh3d"
           }
          ],
          "parcoords": [
           {
            "line": {
             "colorbar": {
              "outlinewidth": 0,
              "ticks": ""
             }
            },
            "type": "parcoords"
           }
          ],
          "pie": [
           {
            "automargin": true,
            "type": "pie"
           }
          ],
          "scatter": [
           {
            "fillpattern": {
             "fillmode": "overlay",
             "size": 10,
             "solidity": 0.2
            },
            "type": "scatter"
           }
          ],
          "scatter3d": [
           {
            "line": {
             "colorbar": {
              "outlinewidth": 0,
              "ticks": ""
             }
            },
            "marker": {
             "colorbar": {
              "outlinewidth": 0,
              "ticks": ""
             }
            },
            "type": "scatter3d"
           }
          ],
          "scattercarpet": [
           {
            "marker": {
             "colorbar": {
              "outlinewidth": 0,
              "ticks": ""
             }
            },
            "type": "scattercarpet"
           }
          ],
          "scattergeo": [
           {
            "marker": {
             "colorbar": {
              "outlinewidth": 0,
              "ticks": ""
             }
            },
            "type": "scattergeo"
           }
          ],
          "scattergl": [
           {
            "marker": {
             "colorbar": {
              "outlinewidth": 0,
              "ticks": ""
             }
            },
            "type": "scattergl"
           }
          ],
          "scattermapbox": [
           {
            "marker": {
             "colorbar": {
              "outlinewidth": 0,
              "ticks": ""
             }
            },
            "type": "scattermapbox"
           }
          ],
          "scatterpolar": [
           {
            "marker": {
             "colorbar": {
              "outlinewidth": 0,
              "ticks": ""
             }
            },
            "type": "scatterpolar"
           }
          ],
          "scatterpolargl": [
           {
            "marker": {
             "colorbar": {
              "outlinewidth": 0,
              "ticks": ""
             }
            },
            "type": "scatterpolargl"
           }
          ],
          "scatterternary": [
           {
            "marker": {
             "colorbar": {
              "outlinewidth": 0,
              "ticks": ""
             }
            },
            "type": "scatterternary"
           }
          ],
          "surface": [
           {
            "colorbar": {
             "outlinewidth": 0,
             "ticks": ""
            },
            "colorscale": [
             [
              0,
              "#0d0887"
             ],
             [
              0.1111111111111111,
              "#46039f"
             ],
             [
              0.2222222222222222,
              "#7201a8"
             ],
             [
              0.3333333333333333,
              "#9c179e"
             ],
             [
              0.4444444444444444,
              "#bd3786"
             ],
             [
              0.5555555555555556,
              "#d8576b"
             ],
             [
              0.6666666666666666,
              "#ed7953"
             ],
             [
              0.7777777777777778,
              "#fb9f3a"
             ],
             [
              0.8888888888888888,
              "#fdca26"
             ],
             [
              1,
              "#f0f921"
             ]
            ],
            "type": "surface"
           }
          ],
          "table": [
           {
            "cells": {
             "fill": {
              "color": "#EBF0F8"
             },
             "line": {
              "color": "white"
             }
            },
            "header": {
             "fill": {
              "color": "#C8D4E3"
             },
             "line": {
              "color": "white"
             }
            },
            "type": "table"
           }
          ]
         },
         "layout": {
          "annotationdefaults": {
           "arrowcolor": "#2a3f5f",
           "arrowhead": 0,
           "arrowwidth": 1
          },
          "autotypenumbers": "strict",
          "coloraxis": {
           "colorbar": {
            "outlinewidth": 0,
            "ticks": ""
           }
          },
          "colorscale": {
           "diverging": [
            [
             0,
             "#8e0152"
            ],
            [
             0.1,
             "#c51b7d"
            ],
            [
             0.2,
             "#de77ae"
            ],
            [
             0.3,
             "#f1b6da"
            ],
            [
             0.4,
             "#fde0ef"
            ],
            [
             0.5,
             "#f7f7f7"
            ],
            [
             0.6,
             "#e6f5d0"
            ],
            [
             0.7,
             "#b8e186"
            ],
            [
             0.8,
             "#7fbc41"
            ],
            [
             0.9,
             "#4d9221"
            ],
            [
             1,
             "#276419"
            ]
           ],
           "sequential": [
            [
             0,
             "#0d0887"
            ],
            [
             0.1111111111111111,
             "#46039f"
            ],
            [
             0.2222222222222222,
             "#7201a8"
            ],
            [
             0.3333333333333333,
             "#9c179e"
            ],
            [
             0.4444444444444444,
             "#bd3786"
            ],
            [
             0.5555555555555556,
             "#d8576b"
            ],
            [
             0.6666666666666666,
             "#ed7953"
            ],
            [
             0.7777777777777778,
             "#fb9f3a"
            ],
            [
             0.8888888888888888,
             "#fdca26"
            ],
            [
             1,
             "#f0f921"
            ]
           ],
           "sequentialminus": [
            [
             0,
             "#0d0887"
            ],
            [
             0.1111111111111111,
             "#46039f"
            ],
            [
             0.2222222222222222,
             "#7201a8"
            ],
            [
             0.3333333333333333,
             "#9c179e"
            ],
            [
             0.4444444444444444,
             "#bd3786"
            ],
            [
             0.5555555555555556,
             "#d8576b"
            ],
            [
             0.6666666666666666,
             "#ed7953"
            ],
            [
             0.7777777777777778,
             "#fb9f3a"
            ],
            [
             0.8888888888888888,
             "#fdca26"
            ],
            [
             1,
             "#f0f921"
            ]
           ]
          },
          "colorway": [
           "#636efa",
           "#EF553B",
           "#00cc96",
           "#ab63fa",
           "#FFA15A",
           "#19d3f3",
           "#FF6692",
           "#B6E880",
           "#FF97FF",
           "#FECB52"
          ],
          "font": {
           "color": "#2a3f5f"
          },
          "geo": {
           "bgcolor": "white",
           "lakecolor": "white",
           "landcolor": "white",
           "showlakes": true,
           "showland": true,
           "subunitcolor": "#C8D4E3"
          },
          "hoverlabel": {
           "align": "left"
          },
          "hovermode": "closest",
          "mapbox": {
           "style": "light"
          },
          "paper_bgcolor": "white",
          "plot_bgcolor": "white",
          "polar": {
           "angularaxis": {
            "gridcolor": "#EBF0F8",
            "linecolor": "#EBF0F8",
            "ticks": ""
           },
           "bgcolor": "white",
           "radialaxis": {
            "gridcolor": "#EBF0F8",
            "linecolor": "#EBF0F8",
            "ticks": ""
           }
          },
          "scene": {
           "xaxis": {
            "backgroundcolor": "white",
            "gridcolor": "#DFE8F3",
            "gridwidth": 2,
            "linecolor": "#EBF0F8",
            "showbackground": true,
            "ticks": "",
            "zerolinecolor": "#EBF0F8"
           },
           "yaxis": {
            "backgroundcolor": "white",
            "gridcolor": "#DFE8F3",
            "gridwidth": 2,
            "linecolor": "#EBF0F8",
            "showbackground": true,
            "ticks": "",
            "zerolinecolor": "#EBF0F8"
           },
           "zaxis": {
            "backgroundcolor": "white",
            "gridcolor": "#DFE8F3",
            "gridwidth": 2,
            "linecolor": "#EBF0F8",
            "showbackground": true,
            "ticks": "",
            "zerolinecolor": "#EBF0F8"
           }
          },
          "shapedefaults": {
           "line": {
            "color": "#2a3f5f"
           }
          },
          "ternary": {
           "aaxis": {
            "gridcolor": "#DFE8F3",
            "linecolor": "#A2B1C6",
            "ticks": ""
           },
           "baxis": {
            "gridcolor": "#DFE8F3",
            "linecolor": "#A2B1C6",
            "ticks": ""
           },
           "bgcolor": "white",
           "caxis": {
            "gridcolor": "#DFE8F3",
            "linecolor": "#A2B1C6",
            "ticks": ""
           }
          },
          "title": {
           "x": 0.05
          },
          "xaxis": {
           "automargin": true,
           "gridcolor": "#EBF0F8",
           "linecolor": "#EBF0F8",
           "ticks": "",
           "title": {
            "standoff": 15
           },
           "zerolinecolor": "#EBF0F8",
           "zerolinewidth": 2
          },
          "yaxis": {
           "automargin": true,
           "gridcolor": "#EBF0F8",
           "linecolor": "#EBF0F8",
           "ticks": "",
           "title": {
            "standoff": 15
           },
           "zerolinecolor": "#EBF0F8",
           "zerolinewidth": 2
          }
         }
        },
        "title": {
         "text": "ROIC (%) vs WACC (%) with Economic Value Zone"
        },
        "xaxis": {
         "title": {
          "text": "Year"
         }
        },
        "yaxis": {
         "title": {
          "text": "Percentage (%)"
         }
        }
       }
      }
     },
     "metadata": {},
     "output_type": "display_data"
    }
   ],
   "source": [
    "import plotly.graph_objects as go\n",
    "import numpy as np\n",
    "import pandas as pd\n",
    "\n",
    "# Get the years from both DataFrames\n",
    "ratio_years = Ratio[('Meta', 'Năm')].astype(int).values\n",
    "result_years = result_df['yearReport'].astype(int).values\n",
    "\n",
    "# Find common years\n",
    "common_years = sorted(list(set(ratio_years).intersection(set(result_years))))\n",
    "\n",
    "# Filter and sort both DataFrames by common years\n",
    "ratio_filtered = Ratio[Ratio[('Meta', 'Năm')].astype(int).isin(common_years)]\n",
    "ratio_filtered = ratio_filtered.sort_values(('Meta', 'Năm'))\n",
    "\n",
    "result_filtered = result_df[result_df['yearReport'].astype(int).isin(common_years)]\n",
    "result_filtered = result_filtered.sort_values('yearReport')\n",
    "\n",
    "# Calculate values using the filtered and aligned data\n",
    "wacc_mean = result_filtered['wacc_market_based'].mean() * 100\n",
    "roic_values = ratio_filtered[('Chỉ tiêu khả năng sinh lợi', 'ROIC (%)')] * 100\n",
    "wacc_values = result_filtered['wacc_market_based'] * 100\n",
    "\n",
    "# Create the figure\n",
    "fig = go.Figure()\n",
    "\n",
    "# Add ROIC line\n",
    "fig.add_trace(go.Scatter(\n",
    "    x=ratio_filtered[('Meta', 'Năm')],\n",
    "    y=roic_values,\n",
    "    name='ROIC (%)',\n",
    "    line=dict(color='blue')\n",
    "))\n",
    "\n",
    "# Add WACC line\n",
    "fig.add_trace(go.Scatter(\n",
    "    x=result_filtered['yearReport'],\n",
    "    y=wacc_values,\n",
    "    name='WACC (%)',\n",
    "    line=dict(color='green')\n",
    "))\n",
    "\n",
    "# Add horizontal line at WACC mean\n",
    "fig.add_hline(\n",
    "    y=wacc_mean,\n",
    "    line_dash=\"dash\",\n",
    "    line_color=\"red\",\n",
    "    annotation_text=f\"WACC Mean: {wacc_mean:.2f}%\",\n",
    "    annotation_position=\"bottom right\"\n",
    ")\n",
    "\n",
    "# Only add shaded area if we have data points\n",
    "if len(roic_values) > 0:\n",
    "    # Create x values for the shaded area\n",
    "    x_combined = np.concatenate([ratio_filtered[('Meta', 'Năm')], ratio_filtered[('Meta', 'Năm')][::-1]])\n",
    "    y_upper = np.where(roic_values > wacc_mean, roic_values, wacc_mean)\n",
    "    y_lower = np.full_like(roic_values, wacc_mean)\n",
    "    y_combined = np.concatenate([y_upper, y_lower[::-1]])\n",
    "\n",
    "    # Add the shaded area\n",
    "    fig.add_trace(go.Scatter(\n",
    "        x=x_combined,\n",
    "        y=y_combined,\n",
    "        fill='toself',\n",
    "        fillcolor='rgba(0, 100, 255, 0.2)',\n",
    "        line=dict(width=0),\n",
    "        showlegend=True,\n",
    "        name='Economic Value',\n",
    "        legendgroup='economic_value',\n",
    "        hoverinfo='skip'\n",
    "    ))\n",
    "\n",
    "# Add Economic Value annotation in upper left corner\n",
    "fig.add_annotation(\n",
    "    x=0.02,  # Left side\n",
    "    y=0.95,  # Top side\n",
    "    xref=\"paper\",  # Use paper coordinates (0-1)\n",
    "    yref=\"paper\",  # Use paper coordinates (0-1)\n",
    "    text=\"<b>Economic Value</b>\",\n",
    "    showarrow=False,\n",
    "    font=dict(\n",
    "        size=12,\n",
    "        color=\"blue\"\n",
    "    ),\n",
    "    bgcolor='rgba(0, 100, 255, 0.2)',  # Same as fill color\n",
    "    bordercolor=\"blue\",\n",
    "    borderwidth=1,\n",
    "    borderpad=4,\n",
    "    opacity=0.8,\n",
    "    xanchor=\"left\",  # Left-align the text\n",
    "    yanchor=\"top\"    # Anchor at the top\n",
    ")\n",
    "\n",
    "# Update layout with legend at bottom\n",
    "fig.update_layout(\n",
    "    title='ROIC (%) vs WACC (%) with Economic Value Zone',\n",
    "    xaxis_title='Year',\n",
    "    yaxis_title='Percentage (%)',\n",
    "    showlegend=True,\n",
    "    template='plotly_white',\n",
    "    hovermode='x unified',\n",
    "    margin=dict(t=50, l=50, r=50, b=80),  # Added more bottom margin for legend\n",
    "    legend=dict(\n",
    "        orientation=\"h\",  # Horizontal legend\n",
    "        yanchor=\"bottom\",\n",
    "        y=-0.3,  # Position below the x-axis\n",
    "        xanchor=\"center\",\n",
    "        x=0.5,   # Center the legend\n",
    "        bgcolor='rgba(255, 255, 255, 0.7)',\n",
    "        bordercolor='rgba(0, 0, 0, 0.2)',\n",
    "        borderwidth=1\n",
    "    )\n",
    ")\n",
    "\n",
    "# Show the plot\n",
    "fig.show()"
   ]
  }
 ],
 "metadata": {
  "kernelspec": {
   "display_name": ".venv",
   "language": "python",
   "name": "python3"
  },
  "language_info": {
   "codemirror_mode": {
    "name": "ipython",
    "version": 3
   },
   "file_extension": ".py",
   "mimetype": "text/x-python",
   "name": "python",
   "nbconvert_exporter": "python",
   "pygments_lexer": "ipython3",
   "version": "3.10.11"
  }
 },
 "nbformat": 4,
 "nbformat_minor": 5
}
