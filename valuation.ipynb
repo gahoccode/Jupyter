{
 "cells": [
  {
   "cell_type": "markdown",
   "id": "cd127e40-2d71-4db5-939a-953847b6cb93",
   "metadata": {},
   "source": [
    "# Fundamental Analysis"
   ]
  },
  {
   "cell_type": "code",
   "execution_count": 3,
   "id": "1c195233-c614-4645-b75c-052f45038c7a",
   "metadata": {},
   "outputs": [
    {
     "data": {
      "text/markdown": [
       "\n",
       "## 👋 Chào mừng bạn đến với Vnstock!\n",
       "\n",
       "Cảm ơn bạn đã sử dụng package phân tích chứng khoán #1 tại Việt Nam\n",
       "\n",
       "* Tài liệu: [Sổ tay hướng dẫn](https://vnstocks.com/docs/category/s%E1%BB%95-tay-h%C6%B0%E1%BB%9Bng-d%E1%BA%ABn)\n",
       "* Cộng đồng: [Nhóm Facebook](https://www.facebook.com/groups/vnstock.official)\n",
       "\n",
       "Khám phá các tính năng mới nhất và tham gia cộng đồng để nhận hỗ trợ.\n",
       "                "
      ],
      "text/plain": [
       "<IPython.core.display.Markdown object>"
      ]
     },
     "metadata": {},
     "output_type": "display_data"
    }
   ],
   "source": [
    "import pandas as pd\n",
    "from vnstock import Vnstock\n",
    "# Set date range\n",
    "start_date = '2024-01-01'\n",
    "end_date = '2025-03-19'\n",
    "interval = '1D'\n",
    "symbol='REE'\n",
    "stock = Vnstock().stock(symbol=symbol, source='VCI')\n",
    "candle_df = stock.quote.history(start= start_date, end= end_date)"
   ]
  },
  {
   "cell_type": "code",
   "execution_count": 4,
   "id": "67c75c90-fd3b-421b-8dbd-cdbc543002c2",
   "metadata": {},
   "outputs": [],
   "source": [
    "CashFlow = stock.finance.cash_flow(period='year')\n",
    "#CashFlow.to_csv('./outputs/CashFlow.csv')"
   ]
  },
  {
   "cell_type": "markdown",
   "id": "e5a565ce-abe1-47c7-bedd-7834b6d0cb81",
   "metadata": {},
   "source": [
    "## Transpose the CF dataframe "
   ]
  },
  {
   "cell_type": "code",
   "execution_count": 5,
   "id": "e3833014-82cd-484b-b7ac-ba82e8ee14e7",
   "metadata": {},
   "outputs": [],
   "source": [
    "#CashFlow\n",
    "CashFlow_transposed = CashFlow.T\n",
    "CashFlow_transposed.columns = CashFlow['yearReport']\n",
    "# Drop the duplicate 'yearReport' row\n",
    "CashFlow_transposed = CashFlow_transposed.drop('yearReport')\n"
   ]
  },
  {
   "cell_type": "code",
   "execution_count": 6,
   "id": "a25ffa0d-35b9-4fd3-a35c-58901e0a1d14",
   "metadata": {},
   "outputs": [
    {
     "data": {
      "application/vnd.plotly.v1+json": {
       "config": {
        "plotlyServerURL": "https://plot.ly"
       },
       "data": [
        {
         "marker": {
          "color": "rgb(66, 135, 245)",
          "line": {
           "color": "lightgrey",
           "width": 1.5
          }
         },
         "opacity": 0.8,
         "text": [
          "-40.69",
          "648.78",
          "774.49",
          "680.52",
          "992.25",
          "90.24",
          "319.18",
          "612.82",
          "1524.60",
          "1569.13",
          "2816.77",
          "3783.53"
         ],
         "textposition": "outside",
         "type": "bar",
         "x": [
          2013,
          2014,
          2015,
          2016,
          2017,
          2018,
          2019,
          2020,
          2021,
          2022,
          2023,
          2024
         ],
         "y": [
          -40.692478381,
          648.780704483,
          774.486261423,
          680.524532941,
          992.245414986,
          90.24416029,
          319.175024284,
          612.823527533,
          1524.603475394,
          1569.132786521,
          2816.770167812,
          3783.526238878
         ]
        }
       ],
       "layout": {
        "height": 500,
        "margin": {
         "b": 50,
         "l": 50,
         "r": 50,
         "t": 80
        },
        "plot_bgcolor": "white",
        "template": {
         "data": {
          "bar": [
           {
            "error_x": {
             "color": "#2a3f5f"
            },
            "error_y": {
             "color": "#2a3f5f"
            },
            "marker": {
             "line": {
              "color": "#E5ECF6",
              "width": 0.5
             },
             "pattern": {
              "fillmode": "overlay",
              "size": 10,
              "solidity": 0.2
             }
            },
            "type": "bar"
           }
          ],
          "barpolar": [
           {
            "marker": {
             "line": {
              "color": "#E5ECF6",
              "width": 0.5
             },
             "pattern": {
              "fillmode": "overlay",
              "size": 10,
              "solidity": 0.2
             }
            },
            "type": "barpolar"
           }
          ],
          "carpet": [
           {
            "aaxis": {
             "endlinecolor": "#2a3f5f",
             "gridcolor": "white",
             "linecolor": "white",
             "minorgridcolor": "white",
             "startlinecolor": "#2a3f5f"
            },
            "baxis": {
             "endlinecolor": "#2a3f5f",
             "gridcolor": "white",
             "linecolor": "white",
             "minorgridcolor": "white",
             "startlinecolor": "#2a3f5f"
            },
            "type": "carpet"
           }
          ],
          "choropleth": [
           {
            "colorbar": {
             "outlinewidth": 0,
             "ticks": ""
            },
            "type": "choropleth"
           }
          ],
          "contour": [
           {
            "colorbar": {
             "outlinewidth": 0,
             "ticks": ""
            },
            "colorscale": [
             [
              0,
              "#0d0887"
             ],
             [
              0.1111111111111111,
              "#46039f"
             ],
             [
              0.2222222222222222,
              "#7201a8"
             ],
             [
              0.3333333333333333,
              "#9c179e"
             ],
             [
              0.4444444444444444,
              "#bd3786"
             ],
             [
              0.5555555555555556,
              "#d8576b"
             ],
             [
              0.6666666666666666,
              "#ed7953"
             ],
             [
              0.7777777777777778,
              "#fb9f3a"
             ],
             [
              0.8888888888888888,
              "#fdca26"
             ],
             [
              1,
              "#f0f921"
             ]
            ],
            "type": "contour"
           }
          ],
          "contourcarpet": [
           {
            "colorbar": {
             "outlinewidth": 0,
             "ticks": ""
            },
            "type": "contourcarpet"
           }
          ],
          "heatmap": [
           {
            "colorbar": {
             "outlinewidth": 0,
             "ticks": ""
            },
            "colorscale": [
             [
              0,
              "#0d0887"
             ],
             [
              0.1111111111111111,
              "#46039f"
             ],
             [
              0.2222222222222222,
              "#7201a8"
             ],
             [
              0.3333333333333333,
              "#9c179e"
             ],
             [
              0.4444444444444444,
              "#bd3786"
             ],
             [
              0.5555555555555556,
              "#d8576b"
             ],
             [
              0.6666666666666666,
              "#ed7953"
             ],
             [
              0.7777777777777778,
              "#fb9f3a"
             ],
             [
              0.8888888888888888,
              "#fdca26"
             ],
             [
              1,
              "#f0f921"
             ]
            ],
            "type": "heatmap"
           }
          ],
          "histogram": [
           {
            "marker": {
             "pattern": {
              "fillmode": "overlay",
              "size": 10,
              "solidity": 0.2
             }
            },
            "type": "histogram"
           }
          ],
          "histogram2d": [
           {
            "colorbar": {
             "outlinewidth": 0,
             "ticks": ""
            },
            "colorscale": [
             [
              0,
              "#0d0887"
             ],
             [
              0.1111111111111111,
              "#46039f"
             ],
             [
              0.2222222222222222,
              "#7201a8"
             ],
             [
              0.3333333333333333,
              "#9c179e"
             ],
             [
              0.4444444444444444,
              "#bd3786"
             ],
             [
              0.5555555555555556,
              "#d8576b"
             ],
             [
              0.6666666666666666,
              "#ed7953"
             ],
             [
              0.7777777777777778,
              "#fb9f3a"
             ],
             [
              0.8888888888888888,
              "#fdca26"
             ],
             [
              1,
              "#f0f921"
             ]
            ],
            "type": "histogram2d"
           }
          ],
          "histogram2dcontour": [
           {
            "colorbar": {
             "outlinewidth": 0,
             "ticks": ""
            },
            "colorscale": [
             [
              0,
              "#0d0887"
             ],
             [
              0.1111111111111111,
              "#46039f"
             ],
             [
              0.2222222222222222,
              "#7201a8"
             ],
             [
              0.3333333333333333,
              "#9c179e"
             ],
             [
              0.4444444444444444,
              "#bd3786"
             ],
             [
              0.5555555555555556,
              "#d8576b"
             ],
             [
              0.6666666666666666,
              "#ed7953"
             ],
             [
              0.7777777777777778,
              "#fb9f3a"
             ],
             [
              0.8888888888888888,
              "#fdca26"
             ],
             [
              1,
              "#f0f921"
             ]
            ],
            "type": "histogram2dcontour"
           }
          ],
          "mesh3d": [
           {
            "colorbar": {
             "outlinewidth": 0,
             "ticks": ""
            },
            "type": "mesh3d"
           }
          ],
          "parcoords": [
           {
            "line": {
             "colorbar": {
              "outlinewidth": 0,
              "ticks": ""
             }
            },
            "type": "parcoords"
           }
          ],
          "pie": [
           {
            "automargin": true,
            "type": "pie"
           }
          ],
          "scatter": [
           {
            "fillpattern": {
             "fillmode": "overlay",
             "size": 10,
             "solidity": 0.2
            },
            "type": "scatter"
           }
          ],
          "scatter3d": [
           {
            "line": {
             "colorbar": {
              "outlinewidth": 0,
              "ticks": ""
             }
            },
            "marker": {
             "colorbar": {
              "outlinewidth": 0,
              "ticks": ""
             }
            },
            "type": "scatter3d"
           }
          ],
          "scattercarpet": [
           {
            "marker": {
             "colorbar": {
              "outlinewidth": 0,
              "ticks": ""
             }
            },
            "type": "scattercarpet"
           }
          ],
          "scattergeo": [
           {
            "marker": {
             "colorbar": {
              "outlinewidth": 0,
              "ticks": ""
             }
            },
            "type": "scattergeo"
           }
          ],
          "scattergl": [
           {
            "marker": {
             "colorbar": {
              "outlinewidth": 0,
              "ticks": ""
             }
            },
            "type": "scattergl"
           }
          ],
          "scattermap": [
           {
            "marker": {
             "colorbar": {
              "outlinewidth": 0,
              "ticks": ""
             }
            },
            "type": "scattermap"
           }
          ],
          "scattermapbox": [
           {
            "marker": {
             "colorbar": {
              "outlinewidth": 0,
              "ticks": ""
             }
            },
            "type": "scattermapbox"
           }
          ],
          "scatterpolar": [
           {
            "marker": {
             "colorbar": {
              "outlinewidth": 0,
              "ticks": ""
             }
            },
            "type": "scatterpolar"
           }
          ],
          "scatterpolargl": [
           {
            "marker": {
             "colorbar": {
              "outlinewidth": 0,
              "ticks": ""
             }
            },
            "type": "scatterpolargl"
           }
          ],
          "scatterternary": [
           {
            "marker": {
             "colorbar": {
              "outlinewidth": 0,
              "ticks": ""
             }
            },
            "type": "scatterternary"
           }
          ],
          "surface": [
           {
            "colorbar": {
             "outlinewidth": 0,
             "ticks": ""
            },
            "colorscale": [
             [
              0,
              "#0d0887"
             ],
             [
              0.1111111111111111,
              "#46039f"
             ],
             [
              0.2222222222222222,
              "#7201a8"
             ],
             [
              0.3333333333333333,
              "#9c179e"
             ],
             [
              0.4444444444444444,
              "#bd3786"
             ],
             [
              0.5555555555555556,
              "#d8576b"
             ],
             [
              0.6666666666666666,
              "#ed7953"
             ],
             [
              0.7777777777777778,
              "#fb9f3a"
             ],
             [
              0.8888888888888888,
              "#fdca26"
             ],
             [
              1,
              "#f0f921"
             ]
            ],
            "type": "surface"
           }
          ],
          "table": [
           {
            "cells": {
             "fill": {
              "color": "#EBF0F8"
             },
             "line": {
              "color": "white"
             }
            },
            "header": {
             "fill": {
              "color": "#C8D4E3"
             },
             "line": {
              "color": "white"
             }
            },
            "type": "table"
           }
          ]
         },
         "layout": {
          "annotationdefaults": {
           "arrowcolor": "#2a3f5f",
           "arrowhead": 0,
           "arrowwidth": 1
          },
          "autotypenumbers": "strict",
          "coloraxis": {
           "colorbar": {
            "outlinewidth": 0,
            "ticks": ""
           }
          },
          "colorscale": {
           "diverging": [
            [
             0,
             "#8e0152"
            ],
            [
             0.1,
             "#c51b7d"
            ],
            [
             0.2,
             "#de77ae"
            ],
            [
             0.3,
             "#f1b6da"
            ],
            [
             0.4,
             "#fde0ef"
            ],
            [
             0.5,
             "#f7f7f7"
            ],
            [
             0.6,
             "#e6f5d0"
            ],
            [
             0.7,
             "#b8e186"
            ],
            [
             0.8,
             "#7fbc41"
            ],
            [
             0.9,
             "#4d9221"
            ],
            [
             1,
             "#276419"
            ]
           ],
           "sequential": [
            [
             0,
             "#0d0887"
            ],
            [
             0.1111111111111111,
             "#46039f"
            ],
            [
             0.2222222222222222,
             "#7201a8"
            ],
            [
             0.3333333333333333,
             "#9c179e"
            ],
            [
             0.4444444444444444,
             "#bd3786"
            ],
            [
             0.5555555555555556,
             "#d8576b"
            ],
            [
             0.6666666666666666,
             "#ed7953"
            ],
            [
             0.7777777777777778,
             "#fb9f3a"
            ],
            [
             0.8888888888888888,
             "#fdca26"
            ],
            [
             1,
             "#f0f921"
            ]
           ],
           "sequentialminus": [
            [
             0,
             "#0d0887"
            ],
            [
             0.1111111111111111,
             "#46039f"
            ],
            [
             0.2222222222222222,
             "#7201a8"
            ],
            [
             0.3333333333333333,
             "#9c179e"
            ],
            [
             0.4444444444444444,
             "#bd3786"
            ],
            [
             0.5555555555555556,
             "#d8576b"
            ],
            [
             0.6666666666666666,
             "#ed7953"
            ],
            [
             0.7777777777777778,
             "#fb9f3a"
            ],
            [
             0.8888888888888888,
             "#fdca26"
            ],
            [
             1,
             "#f0f921"
            ]
           ]
          },
          "colorway": [
           "#636efa",
           "#EF553B",
           "#00cc96",
           "#ab63fa",
           "#FFA15A",
           "#19d3f3",
           "#FF6692",
           "#B6E880",
           "#FF97FF",
           "#FECB52"
          ],
          "font": {
           "color": "#2a3f5f"
          },
          "geo": {
           "bgcolor": "white",
           "lakecolor": "white",
           "landcolor": "#E5ECF6",
           "showlakes": true,
           "showland": true,
           "subunitcolor": "white"
          },
          "hoverlabel": {
           "align": "left"
          },
          "hovermode": "closest",
          "mapbox": {
           "style": "light"
          },
          "paper_bgcolor": "white",
          "plot_bgcolor": "#E5ECF6",
          "polar": {
           "angularaxis": {
            "gridcolor": "white",
            "linecolor": "white",
            "ticks": ""
           },
           "bgcolor": "#E5ECF6",
           "radialaxis": {
            "gridcolor": "white",
            "linecolor": "white",
            "ticks": ""
           }
          },
          "scene": {
           "xaxis": {
            "backgroundcolor": "#E5ECF6",
            "gridcolor": "white",
            "gridwidth": 2,
            "linecolor": "white",
            "showbackground": true,
            "ticks": "",
            "zerolinecolor": "white"
           },
           "yaxis": {
            "backgroundcolor": "#E5ECF6",
            "gridcolor": "white",
            "gridwidth": 2,
            "linecolor": "white",
            "showbackground": true,
            "ticks": "",
            "zerolinecolor": "white"
           },
           "zaxis": {
            "backgroundcolor": "#E5ECF6",
            "gridcolor": "white",
            "gridwidth": 2,
            "linecolor": "white",
            "showbackground": true,
            "ticks": "",
            "zerolinecolor": "white"
           }
          },
          "shapedefaults": {
           "line": {
            "color": "#2a3f5f"
           }
          },
          "ternary": {
           "aaxis": {
            "gridcolor": "white",
            "linecolor": "white",
            "ticks": ""
           },
           "baxis": {
            "gridcolor": "white",
            "linecolor": "white",
            "ticks": ""
           },
           "bgcolor": "#E5ECF6",
           "caxis": {
            "gridcolor": "white",
            "linecolor": "white",
            "ticks": ""
           }
          },
          "title": {
           "x": 0.05
          },
          "xaxis": {
           "automargin": true,
           "gridcolor": "white",
           "linecolor": "white",
           "ticks": "",
           "title": {
            "standoff": 15
           },
           "zerolinecolor": "white",
           "zerolinewidth": 2
          },
          "yaxis": {
           "automargin": true,
           "gridcolor": "white",
           "linecolor": "white",
           "ticks": "",
           "title": {
            "standoff": 15
           },
           "zerolinecolor": "white",
           "zerolinewidth": 2
          }
         }
        },
        "title": {
         "text": "Net Operating Cashflow"
        },
        "width": 800,
        "xaxis": {
         "showgrid": false,
         "tickangle": 45,
         "title": {
          "text": "Years"
         }
        },
        "yaxis": {
         "gridcolor": "lightgray",
         "gridwidth": 0.5,
         "showgrid": false,
         "title": {
          "text": "Value (Billions)"
         }
        }
       }
      }
     },
     "metadata": {},
     "output_type": "display_data"
    }
   ],
   "source": [
    "import plotly.graph_objects as go\n",
    "import pandas as pd\n",
    "import numpy as np\n",
    "\n",
    "# Normalize values to billions\n",
    "data = CashFlow['Net cash inflows/outflows from operating activities'] / 1000_000_000\n",
    "\n",
    "# Sort data by year to ensure proper ordering\n",
    "sorted_indices = CashFlow['yearReport'].argsort()\n",
    "years = CashFlow['yearReport'].iloc[sorted_indices].tolist()\n",
    "sorted_data = data.iloc[sorted_indices].tolist()\n",
    "\n",
    "# Create the figure\n",
    "fig = go.Figure()\n",
    "\n",
    "# Add the bar chart\n",
    "fig.add_trace(go.Bar(\n",
    "    x=years,\n",
    "    y=sorted_data,\n",
    "    text=[f'{v:.2f}' for v in sorted_data],\n",
    "    textposition='outside',\n",
    "    marker_color='rgb(66, 135, 245)',\n",
    "    marker_line_color='lightgrey',\n",
    "    marker_line_width=1.5,\n",
    "    opacity=0.8\n",
    "))\n",
    "\n",
    "# Update layout\n",
    "fig.update_layout(\n",
    "    title='Net Operating Cashflow',\n",
    "    xaxis_title='Years',\n",
    "    yaxis_title='Value (Billions)',\n",
    "    plot_bgcolor='white',\n",
    "    margin=dict(l=50, r=50, t=80, b=50),\n",
    "    height=500,\n",
    "    width=800\n",
    ")\n",
    "\n",
    "# Clean up the axes\n",
    "fig.update_xaxes(\n",
    "    tickangle=45,\n",
    "    showgrid=False\n",
    ")\n",
    "\n",
    "fig.update_yaxes(\n",
    "    showgrid=False,\n",
    "    gridcolor='lightgray',\n",
    "    gridwidth=0.5\n",
    ")\n",
    "\n",
    "# Show the plot\n",
    "fig.show()"
   ]
  },
  {
   "cell_type": "code",
   "execution_count": 7,
   "id": "298c3d6b-f113-42e0-b0c6-95eb6c2d3ac1",
   "metadata": {},
   "outputs": [],
   "source": [
    "Ratio = stock.finance.ratio(period='year', lang='vi', dropna=True)"
   ]
  },
  {
   "cell_type": "markdown",
   "id": "182c0a03-f27c-4178-9fdd-be3290e0e92f",
   "metadata": {},
   "source": [
    "### Transpose the data frame to display on the web."
   ]
  },
  {
   "cell_type": "code",
   "execution_count": 8,
   "id": "2e2e3524-7d39-48e6-895e-efeead4fa027",
   "metadata": {},
   "outputs": [],
   "source": [
    "Ratio_transposed = Ratio.T\n",
    "Ratio_transposed.columns=Ratio_transposed.iloc[1]\n",
    "Ratio_transposed = Ratio_transposed.iloc[3:]"
   ]
  },
  {
   "cell_type": "code",
   "execution_count": 9,
   "id": "8c64d7d4-ee62-4a14-b923-42382561a910",
   "metadata": {},
   "outputs": [],
   "source": [
    "# Example: Select the 'ROE (%)' column under 'Chỉ tiêu khả năng sinh lợi'\n",
    "dividend_yield = Ratio[('Chỉ tiêu khả năng sinh lợi', 'Tỷ suất cổ tức (%)')]\n",
    "Outstanding_Shares = Ratio[('Chỉ tiêu định giá', 'Số CP lưu hành (Triệu CP)')]\n"
   ]
  },
  {
   "cell_type": "code",
   "execution_count": 10,
   "id": "35ccb588-cc7e-434f-a84b-2792edbba842",
   "metadata": {},
   "outputs": [
    {
     "data": {
      "image/png": "[encoded data removed]",
      "text/plain": [
       "<Figure size 1500x1500 with 27 Axes>"
      ]
     },
     "metadata": {},
     "output_type": "display_data"
    }
   ],
   "source": [
    "import seaborn as sns\n",
    "import matplotlib.pyplot as plt\n",
    "\n",
    "# Define the five most meaningful metrics (six columns for all pairwise relationships)\n",
    "selected_cols = [\n",
    "    ('Chỉ tiêu khả năng sinh lợi', 'ROE (%)'),\n",
    "    ('Chỉ tiêu cơ cấu nguồn vốn', 'Nợ/VCSH'),\n",
    "    ('Chỉ tiêu hiệu quả hoạt động', 'Vòng quay tài sản'),\n",
    "    ('Chỉ tiêu khả năng sinh lợi', 'Biên lợi nhuận ròng (%)'),\n",
    "    ('Chỉ tiêu thanh khoản', 'Chỉ số thanh toán hiện thời'),\n",
    "    ('Chỉ tiêu định giá', 'P/S'),\n",
    "]\n",
    "\n",
    "# Subset the DataFrame\n",
    "df_pair = Ratio[selected_cols].copy()\n",
    "\n",
    "# Use only the second part of each column tuple (the metric name)\n",
    "df_pair.columns = [col[1] for col in df_pair.columns]\n",
    "\n",
    "# Optional: Remove rows with missing values for these columns\n",
    "#df_pair = df_pair.dropna()\n",
    "\n",
    "# Create the pairplot\n",
    "sns.pairplot(df_pair, diag_kind='kde', corner=True)\n",
    "plt.suptitle('Pairplot of Key Financial Metrics', y=1.02)\n",
    "plt.tight_layout()\n",
    "plt.show()"
   ]
  },
  {
   "cell_type": "markdown",
   "id": "58def4c9-c6cc-427a-8328-8d06b431991b",
   "metadata": {},
   "source": [
    "### Transform the balance sheet from long format to wide format. "
   ]
  },
  {
   "cell_type": "code",
   "execution_count": 11,
   "id": "ae5877c5-c76e-4165-be7b-dd247488f726",
   "metadata": {},
   "outputs": [],
   "source": [
    "def BS_wide(stock=None):\n",
    "    \"\"\"\n",
    "    Transform balance sheet data into a wide format with years as columns and metrics as rows.\n",
    "    \n",
    "    Parameters:\n",
    "    -----------\n",
    "    stock : object, default=None\n",
    "        The stock ticker object containing financial data.\n",
    "        If None, will create a default stock object for REE from VCI source.\n",
    "    \n",
    "    Returns:\n",
    "    --------\n",
    "    pandas.DataFrame\n",
    "        Transformed balance sheet with years as columns and financial metrics as rows\n",
    "    \"\"\"\n",
    "    \n",
    "    # Create default stock object if not provided\n",
    "    if stock is None:\n",
    "        stock = Vnstock().stock(symbol= symbol, source='VCI')\n",
    "    \n",
    "    # Get the balance sheet data\n",
    "    BS = stock.finance.balance_sheet(period='year', lang='en', dropna=True)\n",
    "    \n",
    "    # Transpose the DataFrame\n",
    "    BS_wide = BS.T\n",
    "    \n",
    "    # Promote header by setting column names using the second row (index 1)\n",
    "    BS_wide.columns = BS_wide.iloc[1]\n",
    "    \n",
    "    # Keep only the data rows (skip the first 3 rows)\n",
    "    BS_wide = BS_wide.iloc[3:]\n",
    "    \n",
    "    return BS_wide"
   ]
  },
  {
   "cell_type": "code",
   "execution_count": 12,
   "id": "5c75999d-271f-4882-9985-ba6dddaada4d",
   "metadata": {},
   "outputs": [],
   "source": [
    "# BS_wide(stock)"
   ]
  },
  {
   "cell_type": "code",
   "execution_count": 13,
   "id": "e1e76c39-5962-428b-9d2e-36f522923d30",
   "metadata": {},
   "outputs": [],
   "source": [
    "BalanceSheet = stock.finance.balance_sheet(period='year', lang='en', dropna=True)\n",
    "BalanceSheet_Transposed = BalanceSheet.T\n",
    "BalanceSheet_Transposed.columns = BalanceSheet_Transposed.iloc[1]\n",
    "BalanceSheet_Transposed = BalanceSheet_Transposed.iloc[3:]\n"
   ]
  },
  {
   "cell_type": "markdown",
   "id": "e4aeeace-b3d9-4895-ad30-6b3e0f470af6",
   "metadata": {},
   "source": [
    "### Transform Income statement from long format to wide format. "
   ]
  },
  {
   "cell_type": "code",
   "execution_count": 14,
   "id": "9ce33326-5577-4946-94ce-8ffa2eaa7c91",
   "metadata": {},
   "outputs": [],
   "source": [
    "IncomeStatement = stock.finance.income_statement(period='year', lang='en', dropna=True)\n",
    "IncomeStatement_Transpose= IncomeStatement.T\n",
    "IncomeStatement_Transpose.columns = IncomeStatement_Transpose.iloc[1]\n",
    "IncomeStatement_Transpose = IncomeStatement_Transpose.iloc[3:]\n"
   ]
  },
  {
   "cell_type": "code",
   "execution_count": 15,
   "id": "066f7e8d-1241-42d9-bee8-3bc1cc582616",
   "metadata": {},
   "outputs": [
    {
     "name": "stderr",
     "output_type": "stream",
     "text": [
      "2025-05-21 22:57:50 - vnstock.common.data.data_explorer - INFO - TCBS không cung cấp thông tin danh sách. Dữ liệu tự động trả về từ VCI.\n"
     ]
    }
   ],
   "source": [
    "from vnstock import Vnstock\n",
    "import warnings\n",
    "warnings.filterwarnings(\"ignore\")\n",
    "company = Vnstock().stock(symbol=symbol, source='TCBS').company\n"
   ]
  },
  {
   "cell_type": "code",
   "execution_count": 16,
   "id": "69fea5c2-d98e-41da-abb0-0ef0e53c602c",
   "metadata": {},
   "outputs": [],
   "source": [
    "# Levered Free Cash Flow (accounts for debt repayments/receipts)\n",
    "CashFlow['Levered Free Cash Flow'] = (\n",
    "    CashFlow['Net cash inflows/outflows from operating activities'] \n",
    "    - CashFlow['Purchase of fixed assets']\n",
    "    + CashFlow['Proceeds from disposal of fixed assets']\n",
    "    - (CashFlow['Repayment of borrowings'] - CashFlow['Proceeds from borrowings'])\n",
    ")"
   ]
  },
  {
   "cell_type": "code",
   "execution_count": 17,
   "id": "b2f8d0d8-181c-418d-9dd1-445bc8aa30af",
   "metadata": {},
   "outputs": [],
   "source": [
    "dividend_coverage_ratio = CashFlow['Levered Free Cash Flow'] / CashFlow['Dividends paid'].abs()"
   ]
  },
  {
   "cell_type": "markdown",
   "id": "2f20a3d7-bd45-4cdd-aa60-13c7a64985e1",
   "metadata": {},
   "source": [
    "# Using Market value cost of debt"
   ]
  },
  {
   "cell_type": "code",
   "execution_count": 18,
   "id": "e26fdeb0-a756-400a-a9b2-8ca37e34c48f",
   "metadata": {},
   "outputs": [
    {
     "name": "stdout",
     "output_type": "stream",
     "text": [
      "Market-Based WACC Calculation Results:\n",
      "  ticker  yearReport  wacc_market_based\n",
      "0    REE        2024           0.076080\n",
      "1    REE        2023           0.076611\n",
      "2    REE        2022           0.076610\n",
      "3    REE        2021           0.080471\n",
      "4    REE        2020           0.078101\n",
      "\n",
      "Average Market-Based WACC by Year:\n",
      "0.0762063628723774\n"
     ]
    }
   ],
   "source": [
    "# Step 1: Get book values from Balance Sheet\n",
    "short_term_debt = BalanceSheet['Short-term borrowings (Bn. VND)']\n",
    "long_term_debt = BalanceSheet['Long-term borrowings (Bn. VND)']\n",
    "total_debt = short_term_debt + long_term_debt\n",
    "book_equity = BalanceSheet[\"OWNER'S EQUITY(Bn.VND)\"]\n",
    "\n",
    "# Step 2: Get market values\n",
    "# Market capitalization for equity\n",
    "market_value_of_equity = Ratio[('Chỉ tiêu định giá', 'Vốn hóa (Tỷ đồng)')]  # Market capitalization\n",
    "\n",
    "# Use book value of debt as a proxy for market value of debt\n",
    "# (In practice, we'd prefer bond prices or yield-based valuation if available)\n",
    "market_value_of_debt = total_debt\n",
    "\n",
    "# Calculate total market capital and weights\n",
    "total_market_capital = market_value_of_equity + market_value_of_debt\n",
    "market_weight_of_debt = market_value_of_debt.div(total_market_capital).fillna(0)\n",
    "market_weight_of_equity = market_value_of_equity.div(total_market_capital).fillna(0)\n",
    "\n",
    "# Step 3: Market-based cost of debt\n",
    "# Option 1: If you have specific bond yield data (example values)\n",
    "# In reality, this would vary by company or be derived from external data sources\n",
    "base_interest_rate = 0.04  # e.g., Vietnamese government bond rate\n",
    "credit_spread = 0.03       # Credit spread based on company rating\n",
    "company_bond_yield = base_interest_rate + credit_spread  # = 0.05 (5%)\n",
    "\n",
    "# Option 2: Use credit rating to determine yield (if available)\n",
    "# This would be a mapping from credit ratings to yields\n",
    "# rating_to_yield = {'AAA': 0.035, 'AA': 0.04, 'A': 0.045, 'BBB': 0.05, 'BB': 0.06, 'B': 0.07}\n",
    "# company_bond_yield = rating_to_yield.get(company_rating, 0.05)  # Default to 5% if rating unknown\n",
    "\n",
    "# Use fixed rate for simplicity (you would replace this with company-specific data)\n",
    "market_cost_of_debt = 0.07  # 7% bond yield\n",
    "\n",
    "# Apply tax shield\n",
    "statutory_tax_rate = 0.12  # Vietnamese corporate tax rate\n",
    "after_tax_market_cost_of_debt = market_cost_of_debt * (1 - statutory_tax_rate)\n",
    "\n",
    "# Step 4: Cost of Equity using CAPM\n",
    "risk_free_rate = 0.03  # Vietnamese government bond yield\n",
    "\n",
    "# Option 1: If you have beta data from external sources\n",
    "# estimated_beta = external_beta_data  # This would be company-specific\n",
    "\n",
    "# Option 2: Estimate beta using financial leverage\n",
    "financial_leverage = Ratio[('Chỉ tiêu thanh khoản', 'Đòn bẩy tài chính')]\n",
    "leverage_mean = financial_leverage.mean()\n",
    "estimated_beta = 1.0 * financial_leverage.div(leverage_mean).fillna(1.0)  # Default to 1.0 if issues\n",
    "\n",
    "# Market risk premium\n",
    "market_risk_premium = 0.05  # Estimated risk premium for Vietnamese market\n",
    "\n",
    "# Calculate cost of equity using CAPM\n",
    "cost_of_equity = risk_free_rate + (estimated_beta * market_risk_premium)\n",
    "\n",
    "# Step 5: Calculate market-based WACC\n",
    "wacc_market_based = (market_weight_of_debt * after_tax_market_cost_of_debt) + (market_weight_of_equity * cost_of_equity)\n",
    "\n",
    "# Create a DataFrame with the results\n",
    "result_df = pd.DataFrame({\n",
    "    'ticker': BalanceSheet['ticker'],\n",
    "    'yearReport': BalanceSheet['yearReport'],\n",
    "    'market_cap': market_value_of_equity,\n",
    "    'market_debt': market_value_of_debt,\n",
    "    'market_weight_of_debt': market_weight_of_debt,\n",
    "    'market_weight_of_equity': market_weight_of_equity,\n",
    "    'market_cost_of_debt': after_tax_market_cost_of_debt,\n",
    "    'beta': estimated_beta,\n",
    "    'cost_of_equity': cost_of_equity,\n",
    "    'wacc_market_based': wacc_market_based\n",
    "})\n",
    "\n",
    "# Display first few rows to check the results\n",
    "print(\"Market-Based WACC Calculation Results:\")\n",
    "print(result_df[['ticker', 'yearReport', 'wacc_market_based']].head())\n",
    "\n",
    "\n",
    "# Calculate average\n",
    "avg_wacc_by_year = result_df['wacc_market_based'].mean()\n",
    "print(\"\\nAverage Market-Based WACC by Year:\")\n",
    "print(avg_wacc_by_year)\n"
   ]
  },
  {
   "cell_type": "code",
   "execution_count": 19,
   "id": "be083905",
   "metadata": {},
   "outputs": [
    {
     "data": {
      "image/png": "[encoded data removed]",
      "text/plain": [
       "<Figure size 1000x600 with 1 Axes>"
      ]
     },
     "metadata": {},
     "output_type": "display_data"
    }
   ],
   "source": [
    "\n",
    "# Optional: Visualize the distribution of market-based WACC\n",
    "import matplotlib.pyplot as plt\n",
    "import seaborn as sns\n",
    "\n",
    "plt.figure(figsize=(10, 6))\n",
    "sns.histplot(result_df['wacc_market_based'].dropna(), kde=True)\n",
    "plt.title('Distribution of Market-Based WACC')\n",
    "plt.xlabel('WACC')\n",
    "plt.ylabel('Frequency')\n",
    "plt.axvline(result_df['wacc_market_based'].mean(), color='red', linestyle='--', \n",
    "            label=f'Mean WACC: {result_df[\"wacc_market_based\"].mean():.2%}')\n",
    "plt.legend()\n",
    "plt.show()\n",
    "\n"
   ]
  },
  {
   "cell_type": "code",
   "execution_count": 20,
   "id": "b2a47081",
   "metadata": {},
   "outputs": [
    {
     "data": {
      "application/vnd.plotly.v1+json": {
       "config": {
        "plotlyServerURL": "https://plot.ly"
       },
       "data": [
        {
         "histnorm": "probability density",
         "marker": {
          "color": "rgba(66, 135, 245, 0.7)",
          "line": {
           "color": "rgba(33, 69, 123, 1)",
           "width": 1
          }
         },
         "name": "WACC Distribution",
         "nbinsx": 15,
         "opacity": 0.8,
         "type": "histogram",
         "x": {
          "bdata": "gG3a7gJ6sz+hbudHyZyzPwtd90iwnLM/vnZ6qbuZtD8WCq0Xcf6zP1OyDVHhebQ/IQpZR6eLsz/51ub4ISi0P8wcuRb3NLM/7rhjfKf5sj/CZZi+NSqyP+XRhC/3SLI/",
          "dtype": "f8"
         }
        },
        {
         "line": {
          "color": "rgba(236, 72, 72, 1)",
          "width": 3
         },
         "mode": "lines",
         "name": "Density",
         "type": "scatter",
         "x": {
          "bdata": "wmWYvjUqsj/xGk0WgjCyPx/QAW7ONrI/ToW2xRo9sj98OmsdZ0OyP6vvH3WzSbI/2aTUzP9Psj8IWokkTFayPzYPPnyYXLI/ZcTy0+Risj+TeacrMWmyP8IuXIN9b7I/8OMQ28l1sj8fmcUyFnyyP01OeopigrI/fAMv4q6Isj+quOM5+46yP9ltmJFHlbI/ByNN6ZObsj822AFB4KGyP2SNtpgsqLI/k0Jr8Hiusj/B9x9IxbSyP/Cs1J8Ru7I/HmKJ913Bsj9NFz5PqseyP3vM8qb2zbI/qoGn/kLUsj/YNlxWj9qyPwfsEK7b4LI/NaHFBSjnsj9kVnpddO2yP5ILL7XA87I/wcDjDA36sj/vdZhkWQCzPx4rTbylBrM/TOABFPIMsz97lbZrPhOzP6lKa8OKGbM/2P8fG9cfsz8GtdRyIyazPzVqicpvLLM/Yx8+Irwysz+S1PJ5CDmzP8CJp9FUP7M/7z5cKaFFsz8d9BCB7UuzP0ypxdg5UrM/el56MIZYsz+pEy+I0l6zP9fI498eZbM/Bn6YN2trsz80M02Pt3GzP2PoAecDeLM/kZ22PlB+sz/AUmuWnISzP+4HIO7oirM/Hb3URTWRsz9LcomdgZezP3onPvXNnbM/qNzyTBqksz/XkaekZqqzPwVHXPyysLM/NPwQVP+2sz9iscWrS72zP5FmegOYw7M/vxsvW+TJsz/u0OOyMNCzPxyGmAp91rM/SztNYsncsz958AG6FeOzP6ilthFi6bM/1lpraa7vsz8FECDB+vWzPzPF1BhH/LM/YnqJcJMCtD+QLz7I3wi0P7/k8h8sD7Q/7Zmnd3gVtD8cT1zPxBu0P0oEEScRIrQ/ebnFfl0otD+nbnrWqS60P9YjLy72NLQ/BNnjhUI7tD8zjpjdjkG0P2FDTTXbR7Q/kPgBjSdOtD++rbbkc1S0P+1iazzAWrQ/HBgglAxhtD9KzdTrWGe0P3iCiUOlbbQ/pzc+m/FztD/W7PLyPXq0PwSip0qKgLQ/MldcotaGtD9hDBH6Io20P5DBxVFvk7Q/vnZ6qbuZtD8=",
          "dtype": "f8"
         },
         "y": {
          "bdata": "taccDXYmRUCZqL3hk5pFQEVnT6AZCkZA+Q008lZ1RkCsAxyls9xGQHwz0riuQEdAY6ikBt2hR0BqugeG5wBIQOr38DOJXkhAhuYqpIy7SED+b4FFyRhJQJRiF2Mgd0lAmiVw7nnXSUCbqrcewTpKQORQkfLgoUpAPG4yosANS0Alq8UPQH9LQGdlCkQ090tAjWjZBGR2TEDCk7KShP1MQMuyupk2jU1A0y6kYQMmTkA4KedGWshOQIqFdYaOdE9A6WHisWoVUEBS69BXonVQQCelaNro2lBAXFwDRyhFUUD6taPzObRRQBsrrZXmJ1JAxak/juafUkCZQCZr4htTQKRuoppzm1NAC73ATyUeVEBDzE+UdaNUQGiYCYXWKlVAqbT/s6+zVUD4FuesXz1WQAANd5Y9x1ZAuryx65pQV0DBtptHxdhXQFqOpD0IX1hArSHNOK/iWECsf3JbB2NZQGB8j1lh31lA64dERxNXWkAynoZVeslaQNSY/Hb8NVtAgd5O5wmcW0AxUYGPHvtbQHfTWkLDUlxAbspgzI6iXEC29obTJupcQFieY4NAKV1ABlF7A6FfXUBH8wu2HY1dQHLaoD6csV1AnLqlUBLNXUDMch9Hhd9dQG6Lo4cJ6V1AdD+Us8HpXUBd2Imr3eFdQOyfpWmZ0V1AcIdJuDu5XUAiC1XLFJldQIZzj8J8cV1AX7dNHNJCXUDw+aMfeA1dQFvvjUXV0VxAtDltqFGQXEDYBwmBVUlcQETL37dH/VtAX7QckYysW0A3ouF4hFdbQEkd1/SK/lpA1UIbv/WhWkAEYrsNFEJaQI8P6Agu31lA1pkOcYR5WUD2JPt0UBFZQM56IrfDplhAx6k3gAg6WECbpUUcQstXQGVcrV6NWldAv8upSAHoVkCGd1nNr3NWQLxtyq2m/VVAyxAmZ/CFVUAHtd0slQxVQFRCoeibkVRA70b1OQsVVEDVAW1v6pZTQKYK3XNCF1NAnqBJqh6WUkDiDd2zjRNSQHEE0xuij1FAXiD55XIKUUDNHCb9G4RQQEPgp/98+U9Asfyv0wHpTkA=",
          "dtype": "f8"
         }
        }
       ],
       "layout": {
        "annotations": [
         {
          "font": {
           "color": "rgba(236, 72, 72, 1)",
           "size": 14
          },
          "showarrow": false,
          "text": "Mean: 7.62%",
          "x": 0.0762063628723774,
          "xanchor": "left",
          "xref": "x",
          "y": 1,
          "yanchor": "top",
          "yref": "y domain"
         },
         {
          "font": {
           "color": "rgba(46, 167, 76, 1)",
           "size": 14
          },
          "showarrow": false,
          "text": "Median: 7.65%",
          "x": 0.07647966038366713,
          "xanchor": "right",
          "xref": "x",
          "y": 1,
          "yanchor": "top",
          "yref": "y domain"
         },
         {
          "align": "left",
          "bgcolor": "rgba(250, 250, 250, 0.9)",
          "bordercolor": "#d3d3d3",
          "borderpad": 8,
          "borderwidth": 1,
          "font": {
           "color": "#505050",
           "size": 12
          },
          "opacity": 0.9,
          "showarrow": false,
          "text": "<b>WACC Statistics:</b> Mean: 7.62% | Median: 7.65% | Min: 7.10% | Max: 8.05% | StdDev: 0.30%",
          "x": 0.02,
          "xref": "paper",
          "y": -0.17,
          "yref": "paper"
         }
        ],
        "height": 600,
        "hoverlabel": {
         "bgcolor": "white",
         "font": {
          "family": "Arial",
          "size": 12
         }
        },
        "hovermode": "x unified",
        "legend": {
         "bgcolor": "rgba(255, 255, 255, 0.7)",
         "bordercolor": "rgba(0, 0, 0, 0.1)",
         "borderwidth": 1,
         "x": 0.02,
         "y": 0.98
        },
        "margin": {
         "b": 80,
         "l": 80,
         "r": 80,
         "t": 100
        },
        "paper_bgcolor": "rgba(248, 249, 250, 1)",
        "plot_bgcolor": "rgba(248, 249, 250, 1)",
        "shapes": [
         {
          "line": {
           "color": "rgba(236, 72, 72, 1)",
           "dash": "dash",
           "width": 2
          },
          "type": "line",
          "x0": 0.0762063628723774,
          "x1": 0.0762063628723774,
          "xref": "x",
          "y0": 0,
          "y1": 1,
          "yref": "y domain"
         },
         {
          "line": {
           "color": "rgba(46, 167, 76, 1)",
           "dash": "dot",
           "width": 2
          },
          "type": "line",
          "x0": 0.07647966038366713,
          "x1": 0.07647966038366713,
          "xref": "x",
          "y0": 0,
          "y1": 1,
          "yref": "y domain"
         }
        ],
        "template": {
         "data": {
          "bar": [
           {
            "error_x": {
             "color": "#2a3f5f"
            },
            "error_y": {
             "color": "#2a3f5f"
            },
            "marker": {
             "line": {
              "color": "white",
              "width": 0.5
             },
             "pattern": {
              "fillmode": "overlay",
              "size": 10,
              "solidity": 0.2
             }
            },
            "type": "bar"
           }
          ],
          "barpolar": [
           {
            "marker": {
             "line": {
              "color": "white",
              "width": 0.5
             },
             "pattern": {
              "fillmode": "overlay",
              "size": 10,
              "solidity": 0.2
             }
            },
            "type": "barpolar"
           }
          ],
          "carpet": [
           {
            "aaxis": {
             "endlinecolor": "#2a3f5f",
             "gridcolor": "#C8D4E3",
             "linecolor": "#C8D4E3",
             "minorgridcolor": "#C8D4E3",
             "startlinecolor": "#2a3f5f"
            },
            "baxis": {
             "endlinecolor": "#2a3f5f",
             "gridcolor": "#C8D4E3",
             "linecolor": "#C8D4E3",
             "minorgridcolor": "#C8D4E3",
             "startlinecolor": "#2a3f5f"
            },
            "type": "carpet"
           }
          ],
          "choropleth": [
           {
            "colorbar": {
             "outlinewidth": 0,
             "ticks": ""
            },
            "type": "choropleth"
           }
          ],
          "contour": [
           {
            "colorbar": {
             "outlinewidth": 0,
             "ticks": ""
            },
            "colorscale": [
             [
              0,
              "#0d0887"
             ],
             [
              0.1111111111111111,
              "#46039f"
             ],
             [
              0.2222222222222222,
              "#7201a8"
             ],
             [
              0.3333333333333333,
              "#9c179e"
             ],
             [
              0.4444444444444444,
              "#bd3786"
             ],
             [
              0.5555555555555556,
              "#d8576b"
             ],
             [
              0.6666666666666666,
              "#ed7953"
             ],
             [
              0.7777777777777778,
              "#fb9f3a"
             ],
             [
              0.8888888888888888,
              "#fdca26"
             ],
             [
              1,
              "#f0f921"
             ]
            ],
            "type": "contour"
           }
          ],
          "contourcarpet": [
           {
            "colorbar": {
             "outlinewidth": 0,
             "ticks": ""
            },
            "type": "contourcarpet"
           }
          ],
          "heatmap": [
           {
            "colorbar": {
             "outlinewidth": 0,
             "ticks": ""
            },
            "colorscale": [
             [
              0,
              "#0d0887"
             ],
             [
              0.1111111111111111,
              "#46039f"
             ],
             [
              0.2222222222222222,
              "#7201a8"
             ],
             [
              0.3333333333333333,
              "#9c179e"
             ],
             [
              0.4444444444444444,
              "#bd3786"
             ],
             [
              0.5555555555555556,
              "#d8576b"
             ],
             [
              0.6666666666666666,
              "#ed7953"
             ],
             [
              0.7777777777777778,
              "#fb9f3a"
             ],
             [
              0.8888888888888888,
              "#fdca26"
             ],
             [
              1,
              "#f0f921"
             ]
            ],
            "type": "heatmap"
           }
          ],
          "histogram": [
           {
            "marker": {
             "pattern": {
              "fillmode": "overlay",
              "size": 10,
              "solidity": 0.2
             }
            },
            "type": "histogram"
           }
          ],
          "histogram2d": [
           {
            "colorbar": {
             "outlinewidth": 0,
             "ticks": ""
            },
            "colorscale": [
             [
              0,
              "#0d0887"
             ],
             [
              0.1111111111111111,
              "#46039f"
             ],
             [
              0.2222222222222222,
              "#7201a8"
             ],
             [
              0.3333333333333333,
              "#9c179e"
             ],
             [
              0.4444444444444444,
              "#bd3786"
             ],
             [
              0.5555555555555556,
              "#d8576b"
             ],
             [
              0.6666666666666666,
              "#ed7953"
             ],
             [
              0.7777777777777778,
              "#fb9f3a"
             ],
             [
              0.8888888888888888,
              "#fdca26"
             ],
             [
              1,
              "#f0f921"
             ]
            ],
            "type": "histogram2d"
           }
          ],
          "histogram2dcontour": [
           {
            "colorbar": {
             "outlinewidth": 0,
             "ticks": ""
            },
            "colorscale": [
             [
              0,
              "#0d0887"
             ],
             [
              0.1111111111111111,
              "#46039f"
             ],
             [
              0.2222222222222222,
              "#7201a8"
             ],
             [
              0.3333333333333333,
              "#9c179e"
             ],
             [
              0.4444444444444444,
              "#bd3786"
             ],
             [
              0.5555555555555556,
              "#d8576b"
             ],
             [
              0.6666666666666666,
              "#ed7953"
             ],
             [
              0.7777777777777778,
              "#fb9f3a"
             ],
             [
              0.8888888888888888,
              "#fdca26"
             ],
             [
              1,
              "#f0f921"
             ]
            ],
            "type": "histogram2dcontour"
           }
          ],
          "mesh3d": [
           {
            "colorbar": {
             "outlinewidth": 0,
             "ticks": ""
            },
            "type": "mesh3d"
           }
          ],
          "parcoords": [
           {
            "line": {
             "colorbar": {
              "outlinewidth": 0,
              "ticks": ""
             }
            },
            "type": "parcoords"
           }
          ],
          "pie": [
           {
            "automargin": true,
            "type": "pie"
           }
          ],
          "scatter": [
           {
            "fillpattern": {
             "fillmode": "overlay",
             "size": 10,
             "solidity": 0.2
            },
            "type": "scatter"
           }
          ],
          "scatter3d": [
           {
            "line": {
             "colorbar": {
              "outlinewidth": 0,
              "ticks": ""
             }
            },
            "marker": {
             "colorbar": {
              "outlinewidth": 0,
              "ticks": ""
             }
            },
            "type": "scatter3d"
           }
          ],
          "scattercarpet": [
           {
            "marker": {
             "colorbar": {
              "outlinewidth": 0,
              "ticks": ""
             }
            },
            "type": "scattercarpet"
           }
          ],
          "scattergeo": [
           {
            "marker": {
             "colorbar": {
              "outlinewidth": 0,
              "ticks": ""
             }
            },
            "type": "scattergeo"
           }
          ],
          "scattergl": [
           {
            "marker": {
             "colorbar": {
              "outlinewidth": 0,
              "ticks": ""
             }
            },
            "type": "scattergl"
           }
          ],
          "scattermap": [
           {
            "marker": {
             "colorbar": {
              "outlinewidth": 0,
              "ticks": ""
             }
            },
            "type": "scattermap"
           }
          ],
          "scattermapbox": [
           {
            "marker": {
             "colorbar": {
              "outlinewidth": 0,
              "ticks": ""
             }
            },
            "type": "scattermapbox"
           }
          ],
          "scatterpolar": [
           {
            "marker": {
             "colorbar": {
              "outlinewidth": 0,
              "ticks": ""
             }
            },
            "type": "scatterpolar"
           }
          ],
          "scatterpolargl": [
           {
            "marker": {
             "colorbar": {
              "outlinewidth": 0,
              "ticks": ""
             }
            },
            "type": "scatterpolargl"
           }
          ],
          "scatterternary": [
           {
            "marker": {
             "colorbar": {
              "outlinewidth": 0,
              "ticks": ""
             }
            },
            "type": "scatterternary"
           }
          ],
          "surface": [
           {
            "colorbar": {
             "outlinewidth": 0,
             "ticks": ""
            },
            "colorscale": [
             [
              0,
              "#0d0887"
             ],
             [
              0.1111111111111111,
              "#46039f"
             ],
             [
              0.2222222222222222,
              "#7201a8"
             ],
             [
              0.3333333333333333,
              "#9c179e"
             ],
             [
              0.4444444444444444,
              "#bd3786"
             ],
             [
              0.5555555555555556,
              "#d8576b"
             ],
             [
              0.6666666666666666,
              "#ed7953"
             ],
             [
              0.7777777777777778,
              "#fb9f3a"
             ],
             [
              0.8888888888888888,
              "#fdca26"
             ],
             [
              1,
              "#f0f921"
             ]
            ],
            "type": "surface"
           }
          ],
          "table": [
           {
            "cells": {
             "fill": {
              "color": "#EBF0F8"
             },
             "line": {
              "color": "white"
             }
            },
            "header": {
             "fill": {
              "color": "#C8D4E3"
             },
             "line": {
              "color": "white"
             }
            },
            "type": "table"
           }
          ]
         },
         "layout": {
          "annotationdefaults": {
           "arrowcolor": "#2a3f5f",
           "arrowhead": 0,
           "arrowwidth": 1
          },
          "autotypenumbers": "strict",
          "coloraxis": {
           "colorbar": {
            "outlinewidth": 0,
            "ticks": ""
           }
          },
          "colorscale": {
           "diverging": [
            [
             0,
             "#8e0152"
            ],
            [
             0.1,
             "#c51b7d"
            ],
            [
             0.2,
             "#de77ae"
            ],
            [
             0.3,
             "#f1b6da"
            ],
            [
             0.4,
             "#fde0ef"
            ],
            [
             0.5,
             "#f7f7f7"
            ],
            [
             0.6,
             "#e6f5d0"
            ],
            [
             0.7,
             "#b8e186"
            ],
            [
             0.8,
             "#7fbc41"
            ],
            [
             0.9,
             "#4d9221"
            ],
            [
             1,
             "#276419"
            ]
           ],
           "sequential": [
            [
             0,
             "#0d0887"
            ],
            [
             0.1111111111111111,
             "#46039f"
            ],
            [
             0.2222222222222222,
             "#7201a8"
            ],
            [
             0.3333333333333333,
             "#9c179e"
            ],
            [
             0.4444444444444444,
             "#bd3786"
            ],
            [
             0.5555555555555556,
             "#d8576b"
            ],
            [
             0.6666666666666666,
             "#ed7953"
            ],
            [
             0.7777777777777778,
             "#fb9f3a"
            ],
            [
             0.8888888888888888,
             "#fdca26"
            ],
            [
             1,
             "#f0f921"
            ]
           ],
           "sequentialminus": [
            [
             0,
             "#0d0887"
            ],
            [
             0.1111111111111111,
             "#46039f"
            ],
            [
             0.2222222222222222,
             "#7201a8"
            ],
            [
             0.3333333333333333,
             "#9c179e"
            ],
            [
             0.4444444444444444,
             "#bd3786"
            ],
            [
             0.5555555555555556,
             "#d8576b"
            ],
            [
             0.6666666666666666,
             "#ed7953"
            ],
            [
             0.7777777777777778,
             "#fb9f3a"
            ],
            [
             0.8888888888888888,
             "#fdca26"
            ],
            [
             1,
             "#f0f921"
            ]
           ]
          },
          "colorway": [
           "#636efa",
           "#EF553B",
           "#00cc96",
           "#ab63fa",
           "#FFA15A",
           "#19d3f3",
           "#FF6692",
           "#B6E880",
           "#FF97FF",
           "#FECB52"
          ],
          "font": {
           "color": "#2a3f5f"
          },
          "geo": {
           "bgcolor": "white",
           "lakecolor": "white",
           "landcolor": "white",
           "showlakes": true,
           "showland": true,
           "subunitcolor": "#C8D4E3"
          },
          "hoverlabel": {
           "align": "left"
          },
          "hovermode": "closest",
          "mapbox": {
           "style": "light"
          },
          "paper_bgcolor": "white",
          "plot_bgcolor": "white",
          "polar": {
           "angularaxis": {
            "gridcolor": "#EBF0F8",
            "linecolor": "#EBF0F8",
            "ticks": ""
           },
           "bgcolor": "white",
           "radialaxis": {
            "gridcolor": "#EBF0F8",
            "linecolor": "#EBF0F8",
            "ticks": ""
           }
          },
          "scene": {
           "xaxis": {
            "backgroundcolor": "white",
            "gridcolor": "#DFE8F3",
            "gridwidth": 2,
            "linecolor": "#EBF0F8",
            "showbackground": true,
            "ticks": "",
            "zerolinecolor": "#EBF0F8"
           },
           "yaxis": {
            "backgroundcolor": "white",
            "gridcolor": "#DFE8F3",
            "gridwidth": 2,
            "linecolor": "#EBF0F8",
            "showbackground": true,
            "ticks": "",
            "zerolinecolor": "#EBF0F8"
           },
           "zaxis": {
            "backgroundcolor": "white",
            "gridcolor": "#DFE8F3",
            "gridwidth": 2,
            "linecolor": "#EBF0F8",
            "showbackground": true,
            "ticks": "",
            "zerolinecolor": "#EBF0F8"
           }
          },
          "shapedefaults": {
           "line": {
            "color": "#2a3f5f"
           }
          },
          "ternary": {
           "aaxis": {
            "gridcolor": "#DFE8F3",
            "linecolor": "#A2B1C6",
            "ticks": ""
           },
           "baxis": {
            "gridcolor": "#DFE8F3",
            "linecolor": "#A2B1C6",
            "ticks": ""
           },
           "bgcolor": "white",
           "caxis": {
            "gridcolor": "#DFE8F3",
            "linecolor": "#A2B1C6",
            "ticks": ""
           }
          },
          "title": {
           "x": 0.05
          },
          "xaxis": {
           "automargin": true,
           "gridcolor": "#EBF0F8",
           "linecolor": "#EBF0F8",
           "ticks": "",
           "title": {
            "standoff": 15
           },
           "zerolinecolor": "#EBF0F8",
           "zerolinewidth": 2
          },
          "yaxis": {
           "automargin": true,
           "gridcolor": "#EBF0F8",
           "linecolor": "#EBF0F8",
           "ticks": "",
           "title": {
            "standoff": 15
           },
           "zerolinecolor": "#EBF0F8",
           "zerolinewidth": 2
          }
         }
        },
        "title": {
         "font": {
          "color": "#303030",
          "size": 24
         },
         "text": "<b>Distribution of Market-Based WACC</b>",
         "x": 0.5,
         "xanchor": "center",
         "y": 0.95,
         "yanchor": "top"
        },
        "width": 900,
        "xaxis": {
         "gridcolor": "rgba(211, 211, 211, 0.4)",
         "gridwidth": 1,
         "showgrid": true,
         "tickformat": ".1%",
         "title": {
          "font": {
           "size": 16
          },
          "text": "<b>WACC</b>"
         },
         "zeroline": false
        },
        "yaxis": {
         "gridcolor": "rgba(211, 211, 211, 0.4)",
         "gridwidth": 1,
         "showgrid": true,
         "title": {
          "font": {
           "size": 16
          },
          "text": "<b>Density</b>"
         },
         "zeroline": false
        }
       }
      }
     },
     "metadata": {},
     "output_type": "display_data"
    }
   ],
   "source": [
    "import plotly.graph_objects as go\n",
    "import numpy as np\n",
    "from scipy import stats\n",
    "\n",
    "# Calculate statistics for annotations\n",
    "wacc_data = result_df['wacc_market_based'].dropna()\n",
    "wacc_mean = wacc_data.mean()\n",
    "wacc_median = wacc_data.median()\n",
    "\n",
    "# Create a figure\n",
    "fig = go.Figure()\n",
    "\n",
    "# Add the histogram with custom styling\n",
    "fig.add_trace(go.Histogram(\n",
    "    x=wacc_data,\n",
    "    nbinsx=15,\n",
    "    name='WACC Distribution',\n",
    "    histnorm='probability density',\n",
    "    marker=dict(\n",
    "        color='rgba(66, 135, 245, 0.7)',\n",
    "        line=dict(color='rgba(33, 69, 123, 1)', width=1)\n",
    "    ),\n",
    "    opacity=0.8\n",
    "))\n",
    "\n",
    "# Generate KDE curve manually\n",
    "kde = stats.gaussian_kde(wacc_data)\n",
    "x_range = np.linspace(wacc_data.min(), wacc_data.max(), 100)\n",
    "y_kde = kde(x_range)\n",
    "\n",
    "# Add the KDE curve\n",
    "fig.add_trace(go.Scatter(\n",
    "    x=x_range,\n",
    "    y=y_kde,\n",
    "    mode='lines',\n",
    "    name='Density',\n",
    "    line=dict(color='rgba(236, 72, 72, 1)', width=3),\n",
    "))\n",
    "\n",
    "# Add vertical line for mean\n",
    "fig.add_vline(\n",
    "    x=wacc_mean,\n",
    "    line_width=2,\n",
    "    line_dash=\"dash\",\n",
    "    line_color=\"rgba(236, 72, 72, 1)\",\n",
    "    annotation_text=f\"Mean: {wacc_mean:.2%}\",\n",
    "    annotation_position=\"top right\",\n",
    "    annotation_font_color=\"rgba(236, 72, 72, 1)\",\n",
    "    annotation_font_size=14\n",
    ")\n",
    "\n",
    "# Add vertical line for median\n",
    "fig.add_vline(\n",
    "    x=wacc_median,\n",
    "    line_width=2,\n",
    "    line_dash=\"dot\",\n",
    "    line_color=\"rgba(46, 167, 76, 1)\",\n",
    "    annotation_text=f\"Median: {wacc_median:.2%}\",\n",
    "    annotation_position=\"top left\",\n",
    "    annotation_font_color=\"rgba(46, 167, 76, 1)\",\n",
    "    annotation_font_size=14\n",
    ")\n",
    "\n",
    "# Update layout with modern styling\n",
    "fig.update_layout(\n",
    "    title={\n",
    "        'text': '<b>Distribution of Market-Based WACC</b>',\n",
    "        'y':0.95,\n",
    "        'x':0.5,\n",
    "        'xanchor': 'center',\n",
    "        'yanchor': 'top',\n",
    "        'font': dict(size=24, color='#303030')\n",
    "    },\n",
    "    xaxis_title={\n",
    "        'text': '<b>WACC</b>',\n",
    "        'font': dict(size=16)\n",
    "    },\n",
    "    yaxis_title={\n",
    "        'text': '<b>Density</b>',\n",
    "        'font': dict(size=16)\n",
    "    },\n",
    "    template='plotly_white',\n",
    "    hovermode='x unified',\n",
    "    hoverlabel=dict(\n",
    "        bgcolor=\"white\",\n",
    "        font_size=12,\n",
    "        font_family=\"Arial\"\n",
    "    ),\n",
    "    legend=dict(\n",
    "        x=0.02,\n",
    "        y=0.98,\n",
    "        bgcolor='rgba(255, 255, 255, 0.7)',\n",
    "        bordercolor='rgba(0, 0, 0, 0.1)',\n",
    "        borderwidth=1\n",
    "    ),\n",
    "    margin=dict(l=80, r=80, t=100, b=80),\n",
    "    plot_bgcolor='rgba(248, 249, 250, 1)',\n",
    "    paper_bgcolor='rgba(248, 249, 250, 1)',\n",
    "    xaxis=dict(\n",
    "        tickformat='.1%',\n",
    "        showgrid=True,\n",
    "        gridwidth=1,\n",
    "        gridcolor='rgba(211, 211, 211, 0.4)',\n",
    "        zeroline=False\n",
    "    ),\n",
    "    yaxis=dict(\n",
    "        showgrid=True,\n",
    "        gridwidth=1,\n",
    "        gridcolor='rgba(211, 211, 211, 0.4)',\n",
    "        zeroline=False\n",
    "    ),\n",
    "    width=900,\n",
    "    height=600\n",
    ")\n",
    "\n",
    "# Add annotations for statistical insights\n",
    "fig.add_annotation(\n",
    "    x=0.02,\n",
    "    y=-0.17,\n",
    "    xref=\"paper\",\n",
    "    yref=\"paper\",\n",
    "    text=f\"<b>WACC Statistics:</b> Mean: {wacc_mean:.2%} | Median: {wacc_median:.2%} | Min: {wacc_data.min():.2%} | Max: {wacc_data.max():.2%} | StdDev: {wacc_data.std():.2%}\",\n",
    "    showarrow=False,\n",
    "    font=dict(size=12, color=\"#505050\"),\n",
    "    align=\"left\",\n",
    "    bordercolor=\"#d3d3d3\",\n",
    "    borderwidth=1,\n",
    "    borderpad=8,\n",
    "    bgcolor=\"rgba(250, 250, 250, 0.9)\",\n",
    "    opacity=0.9\n",
    ")\n",
    "\n",
    "# Show the figure\n",
    "fig.show()"
   ]
  },
  {
   "cell_type": "code",
   "execution_count": 21,
   "id": "25dae33c-7a47-4fce-aa53-a17d129730a8",
   "metadata": {},
   "outputs": [],
   "source": [
    "import pandas as pd\n",
    "import numpy as np\n",
    "\n",
    "def dcf_time_series(df, cash_flow_col, date_col, discount_rate, base_date=None):\n",
    "    \"\"\"\n",
    "    Calculate DCF using a pandas DataFrame with dates.\n",
    "    \n",
    "    Parameters:\n",
    "    df (DataFrame): DataFrame containing cash flows and dates\n",
    "    cash_flow_col (str): Column name for cash flows\n",
    "    date_col (str): Column name for dates\n",
    "    discount_rate (float): Annual discount rate\n",
    "    base_date (datetime, optional): Base date for discounting, defaults to min date\n",
    "    \n",
    "    Returns:\n",
    "    float: Present value of cash flows\n",
    "    \"\"\"\n",
    "    # Ensure dates are datetime objects\n",
    "    df[date_col] = pd.to_datetime(df[date_col])\n",
    "    \n",
    "    if base_date is None:\n",
    "        base_date = df[date_col].min()\n",
    "    \n",
    "    # Calculate years from base date\n",
    "    df['years'] = (df[date_col] - base_date).dt.days / 365.25\n",
    "    \n",
    "    # Calculate discount factors\n",
    "    df['discount_factor'] = 1 / (1 + discount_rate) ** df['years']\n",
    "    \n",
    "    # Calculate present values\n",
    "    df['present_value'] = df[cash_flow_col] * df['discount_factor']\n",
    "    \n",
    "    return df['present_value'].sum()"
   ]
  },
  {
   "cell_type": "code",
   "execution_count": 22,
   "id": "e671be69-8f9f-4e5c-a9f8-f12237182c63",
   "metadata": {},
   "outputs": [
    {
     "name": "stdout",
     "output_type": "stream",
     "text": [
      "  ticker      wacc      last_fcf  enterprise_value\n",
      "0    REE  0.076206  6.620514e+12      1.642202e+14\n"
     ]
    }
   ],
   "source": [
    "import pandas as pd\n",
    "\n",
    "def full_dcf_model(projected_fcf, terminal_growth_rate, wacc, terminal_year):\n",
    "    \"\"\"\n",
    "    Simple DCF model to calculate enterprise value.\n",
    "\n",
    "    :param projected_fcf: List of projected free cash flows for each forecast year.\n",
    "    :param terminal_growth_rate: Growth rate applied after the forecast period.\n",
    "    :param wacc: Weighted Average Cost of Capital used as the discount rate.\n",
    "    :param terminal_year: Number of years in the forecast period.\n",
    "    :return: Calculated enterprise value.\n",
    "    \"\"\"\n",
    "    # Calculate the PV of projected cash flows\n",
    "    present_value_fcf = sum(fcf / ((1 + wacc) ** (i + 1)) for i, fcf in enumerate(projected_fcf))\n",
    "    \n",
    "    # Calculate the terminal value\n",
    "    last_year_fcf = projected_fcf[-1]\n",
    "    terminal_value = last_year_fcf * (1 + terminal_growth_rate) / (wacc - terminal_growth_rate)\n",
    "    \n",
    "    # Present value of the terminal value\n",
    "    present_value_terminal = terminal_value / ((1 + wacc) ** terminal_year)\n",
    "    \n",
    "    # Total enterprise value is the sum of the PV of FCF and PV of terminal value\n",
    "    enterprise_value = present_value_fcf + present_value_terminal\n",
    "    \n",
    "    return enterprise_value\n",
    "\n",
    "# Ensure CashFlow is a properly defined DataFrame with 'Levered Free Cash Flow'\n",
    "# Example setup, ensure that 'CashFlow' exists with your data\n",
    "# CashFlow = pd.DataFrame({'Levered Free Cash Flow': [...]})\n",
    "\n",
    "# Extract the free cash flow for the stock\n",
    "free_cash_flow = CashFlow['Levered Free Cash Flow']\n",
    "\n",
    "# Determine whether to use the mean or a specific value of FCF\n",
    "# Calculate the mean directly if there are multiple entries for the stock\n",
    "ticker_fcf = free_cash_flow.mean() if len(free_cash_flow) > 1 else free_cash_flow.iloc[0]\n",
    "\n",
    "# Define your parameters\n",
    "forecast_years = 5\n",
    "terminal_growth_rate = 0.03  # Long-term growth rate\n",
    "growth_rates = [0.05, 0.06, 0.07, 0.05, 0.04]  # Growth rates for next 5 years\n",
    "\n",
    "# Retrieve WACC for this single stock from a relevant DataFrame\n",
    "# Ensure result_df is properly defined\n",
    "# result_df = pd.DataFrame({'wacc_market_based': [...]})\n",
    "ticker_wacc = result_df['wacc_market_based'].mean()  # Ensure result_df is defined and contains 'wacc_market_based'\n",
    "\n",
    "# Project future cash flows\n",
    "projected_fcf = []\n",
    "for i, growth in enumerate(growth_rates):\n",
    "    if i == 0:\n",
    "        projected_fcf.append(ticker_fcf * (1 + growth))\n",
    "    else:\n",
    "        projected_fcf.append(projected_fcf[i-1] * (1 + growth))\n",
    "\n",
    "# Calculate enterprise value for the single stock\n",
    "ev = full_dcf_model(projected_fcf, terminal_growth_rate, ticker_wacc, terminal_year=forecast_years)\n",
    "\n",
    "# Store the results\n",
    "enterprise_values = {\n",
    "    'ticker': symbol,  # Replace 'YOUR_TICKER' with the actual stock ticker\n",
    "    'wacc': ticker_wacc,\n",
    "    'last_fcf': ticker_fcf,\n",
    "    'enterprise_value': ev\n",
    "}\n",
    "\n",
    "# Convert to DataFrame if desired for structured display\n",
    "enterprise_values_df = pd.DataFrame([enterprise_values])\n",
    "\n",
    "# Display the result\n",
    "print(enterprise_values_df)"
   ]
  },
  {
   "cell_type": "code",
   "execution_count": 23,
   "id": "7ba43d4d-2b5d-4976-ab94-01b207407a57",
   "metadata": {},
   "outputs": [
    {
     "name": "stdout",
     "output_type": "stream",
     "text": [
      "0     348652.990307\n",
      "1     400816.487043\n",
      "2     460761.503258\n",
      "3     529642.147455\n",
      "4     529642.147455\n",
      "5     529642.147455\n",
      "6     529642.147455\n",
      "7     529642.147455\n",
      "8     529642.147455\n",
      "9     609087.506023\n",
      "10    610324.084514\n",
      "11    622786.157066\n",
      "Name: (Chỉ tiêu định giá, Số CP lưu hành (Triệu CP)), dtype: float64\n"
     ]
    }
   ],
   "source": [
    "#intrinsic_value = ev - net_debt / Outstanding_Shares\n",
    "intrinsic_value = ev / Outstanding_Shares\n",
    "print(intrinsic_value)"
   ]
  },
  {
   "cell_type": "code",
   "execution_count": 24,
   "id": "32aee211-e0da-4205-8f1b-41ea262e4e61",
   "metadata": {},
   "outputs": [
    {
     "data": {
      "application/vnd.plotly.v1+json": {
       "config": {
        "plotlyServerURL": "https://plot.ly"
       },
       "data": [
        {
         "connector": {
          "line": {
           "color": "rgb(63, 63, 63)"
          }
         },
         "measure": [
          "absolute",
          "relative",
          "relative",
          "relative",
          "relative",
          "relative",
          "relative",
          "relative",
          "relative",
          "relative",
          "relative",
          "relative",
          "relative",
          "relative",
          "relative",
          "relative",
          "relative",
          "relative",
          "relative",
          "relative",
          "total"
         ],
         "name": "Cashflow Waterfall for REE (2024)",
         "orientation": "v",
         "text": [
          "3,022,796,235,406.0",
          "3,819,192,785,268.0",
          "704,235,820,854.0",
          "29,619,952,766.0",
          "263,174,380,566.0",
          "-5,371,378,459.0",
          "-737,213,140,244.0",
          "-279,896,384,824.0",
          "0.0",
          "-10,215,797,049.0",
          "-1,035,028,113,142.0",
          "5,175,257,443.0",
          "-303,795,229,453.0",
          "173,730,186,148.0",
          "1,278,528,100,055.0",
          "27,719,600,000.0",
          "0.0",
          "3,451,719,075,110.0",
          "-3,827,973,059,400.0",
          "-1,026,622,785,445.0",
          "5,635,908,856,765.0"
         ],
         "textposition": "outside",
         "type": "waterfall",
         "x": [
          "Initial Balance",
          "Operating profit bef...",
          "Decrease in receivab...",
          "Decrease in inventor...",
          "Decrease in payables",
          "Decrease in prepaid ...",
          "Interest paid",
          "Business Income Tax ...",
          "Other receipts from ...",
          "Other payments on op...",
          "Purchase of fixed as...",
          "Proceeds from dispos...",
          "Investment in other ...",
          "Proceeds from divest...",
          "Gain on Dividend",
          "Increase in charter ...",
          "Payments for share r...",
          "Proceeds from borrow...",
          "Repayment of borrowi...",
          "Dividends paid",
          "Ending Balance"
         ],
         "y": [
          3022796235406,
          3819192785268,
          704235820854,
          29619952766,
          263174380566,
          -5371378459,
          -737213140244,
          -279896384824,
          0,
          -10215797049,
          -1035028113142,
          5175257443,
          -303795229453,
          173730186148,
          1278528100055,
          27719600000,
          0,
          3451719075110,
          -3827973059400,
          -1026622785445,
          5635908856765
         ]
        }
       ],
       "layout": {
        "height": 600,
        "showlegend": false,
        "template": {
         "data": {
          "bar": [
           {
            "error_x": {
             "color": "#2a3f5f"
            },
            "error_y": {
             "color": "#2a3f5f"
            },
            "marker": {
             "line": {
              "color": "#E5ECF6",
              "width": 0.5
             },
             "pattern": {
              "fillmode": "overlay",
              "size": 10,
              "solidity": 0.2
             }
            },
            "type": "bar"
           }
          ],
          "barpolar": [
           {
            "marker": {
             "line": {
              "color": "#E5ECF6",
              "width": 0.5
             },
             "pattern": {
              "fillmode": "overlay",
              "size": 10,
              "solidity": 0.2
             }
            },
            "type": "barpolar"
           }
          ],
          "carpet": [
           {
            "aaxis": {
             "endlinecolor": "#2a3f5f",
             "gridcolor": "white",
             "linecolor": "white",
             "minorgridcolor": "white",
             "startlinecolor": "#2a3f5f"
            },
            "baxis": {
             "endlinecolor": "#2a3f5f",
             "gridcolor": "white",
             "linecolor": "white",
             "minorgridcolor": "white",
             "startlinecolor": "#2a3f5f"
            },
            "type": "carpet"
           }
          ],
          "choropleth": [
           {
            "colorbar": {
             "outlinewidth": 0,
             "ticks": ""
            },
            "type": "choropleth"
           }
          ],
          "contour": [
           {
            "colorbar": {
             "outlinewidth": 0,
             "ticks": ""
            },
            "colorscale": [
             [
              0,
              "#0d0887"
             ],
             [
              0.1111111111111111,
              "#46039f"
             ],
             [
              0.2222222222222222,
              "#7201a8"
             ],
             [
              0.3333333333333333,
              "#9c179e"
             ],
             [
              0.4444444444444444,
              "#bd3786"
             ],
             [
              0.5555555555555556,
              "#d8576b"
             ],
             [
              0.6666666666666666,
              "#ed7953"
             ],
             [
              0.7777777777777778,
              "#fb9f3a"
             ],
             [
              0.8888888888888888,
              "#fdca26"
             ],
             [
              1,
              "#f0f921"
             ]
            ],
            "type": "contour"
           }
          ],
          "contourcarpet": [
           {
            "colorbar": {
             "outlinewidth": 0,
             "ticks": ""
            },
            "type": "contourcarpet"
           }
          ],
          "heatmap": [
           {
            "colorbar": {
             "outlinewidth": 0,
             "ticks": ""
            },
            "colorscale": [
             [
              0,
              "#0d0887"
             ],
             [
              0.1111111111111111,
              "#46039f"
             ],
             [
              0.2222222222222222,
              "#7201a8"
             ],
             [
              0.3333333333333333,
              "#9c179e"
             ],
             [
              0.4444444444444444,
              "#bd3786"
             ],
             [
              0.5555555555555556,
              "#d8576b"
             ],
             [
              0.6666666666666666,
              "#ed7953"
             ],
             [
              0.7777777777777778,
              "#fb9f3a"
             ],
             [
              0.8888888888888888,
              "#fdca26"
             ],
             [
              1,
              "#f0f921"
             ]
            ],
            "type": "heatmap"
           }
          ],
          "histogram": [
           {
            "marker": {
             "pattern": {
              "fillmode": "overlay",
              "size": 10,
              "solidity": 0.2
             }
            },
            "type": "histogram"
           }
          ],
          "histogram2d": [
           {
            "colorbar": {
             "outlinewidth": 0,
             "ticks": ""
            },
            "colorscale": [
             [
              0,
              "#0d0887"
             ],
             [
              0.1111111111111111,
              "#46039f"
             ],
             [
              0.2222222222222222,
              "#7201a8"
             ],
             [
              0.3333333333333333,
              "#9c179e"
             ],
             [
              0.4444444444444444,
              "#bd3786"
             ],
             [
              0.5555555555555556,
              "#d8576b"
             ],
             [
              0.6666666666666666,
              "#ed7953"
             ],
             [
              0.7777777777777778,
              "#fb9f3a"
             ],
             [
              0.8888888888888888,
              "#fdca26"
             ],
             [
              1,
              "#f0f921"
             ]
            ],
            "type": "histogram2d"
           }
          ],
          "histogram2dcontour": [
           {
            "colorbar": {
             "outlinewidth": 0,
             "ticks": ""
            },
            "colorscale": [
             [
              0,
              "#0d0887"
             ],
             [
              0.1111111111111111,
              "#46039f"
             ],
             [
              0.2222222222222222,
              "#7201a8"
             ],
             [
              0.3333333333333333,
              "#9c179e"
             ],
             [
              0.4444444444444444,
              "#bd3786"
             ],
             [
              0.5555555555555556,
              "#d8576b"
             ],
             [
              0.6666666666666666,
              "#ed7953"
             ],
             [
              0.7777777777777778,
              "#fb9f3a"
             ],
             [
              0.8888888888888888,
              "#fdca26"
             ],
             [
              1,
              "#f0f921"
             ]
            ],
            "type": "histogram2dcontour"
           }
          ],
          "mesh3d": [
           {
            "colorbar": {
             "outlinewidth": 0,
             "ticks": ""
            },
            "type": "mesh3d"
           }
          ],
          "parcoords": [
           {
            "line": {
             "colorbar": {
              "outlinewidth": 0,
              "ticks": ""
             }
            },
            "type": "parcoords"
           }
          ],
          "pie": [
           {
            "automargin": true,
            "type": "pie"
           }
          ],
          "scatter": [
           {
            "fillpattern": {
             "fillmode": "overlay",
             "size": 10,
             "solidity": 0.2
            },
            "type": "scatter"
           }
          ],
          "scatter3d": [
           {
            "line": {
             "colorbar": {
              "outlinewidth": 0,
              "ticks": ""
             }
            },
            "marker": {
             "colorbar": {
              "outlinewidth": 0,
              "ticks": ""
             }
            },
            "type": "scatter3d"
           }
          ],
          "scattercarpet": [
           {
            "marker": {
             "colorbar": {
              "outlinewidth": 0,
              "ticks": ""
             }
            },
            "type": "scattercarpet"
           }
          ],
          "scattergeo": [
           {
            "marker": {
             "colorbar": {
              "outlinewidth": 0,
              "ticks": ""
             }
            },
            "type": "scattergeo"
           }
          ],
          "scattergl": [
           {
            "marker": {
             "colorbar": {
              "outlinewidth": 0,
              "ticks": ""
             }
            },
            "type": "scattergl"
           }
          ],
          "scattermap": [
           {
            "marker": {
             "colorbar": {
              "outlinewidth": 0,
              "ticks": ""
             }
            },
            "type": "scattermap"
           }
          ],
          "scattermapbox": [
           {
            "marker": {
             "colorbar": {
              "outlinewidth": 0,
              "ticks": ""
             }
            },
            "type": "scattermapbox"
           }
          ],
          "scatterpolar": [
           {
            "marker": {
             "colorbar": {
              "outlinewidth": 0,
              "ticks": ""
             }
            },
            "type": "scatterpolar"
           }
          ],
          "scatterpolargl": [
           {
            "marker": {
             "colorbar": {
              "outlinewidth": 0,
              "ticks": ""
             }
            },
            "type": "scatterpolargl"
           }
          ],
          "scatterternary": [
           {
            "marker": {
             "colorbar": {
              "outlinewidth": 0,
              "ticks": ""
             }
            },
            "type": "scatterternary"
           }
          ],
          "surface": [
           {
            "colorbar": {
             "outlinewidth": 0,
             "ticks": ""
            },
            "colorscale": [
             [
              0,
              "#0d0887"
             ],
             [
              0.1111111111111111,
              "#46039f"
             ],
             [
              0.2222222222222222,
              "#7201a8"
             ],
             [
              0.3333333333333333,
              "#9c179e"
             ],
             [
              0.4444444444444444,
              "#bd3786"
             ],
             [
              0.5555555555555556,
              "#d8576b"
             ],
             [
              0.6666666666666666,
              "#ed7953"
             ],
             [
              0.7777777777777778,
              "#fb9f3a"
             ],
             [
              0.8888888888888888,
              "#fdca26"
             ],
             [
              1,
              "#f0f921"
             ]
            ],
            "type": "surface"
           }
          ],
          "table": [
           {
            "cells": {
             "fill": {
              "color": "#EBF0F8"
             },
             "line": {
              "color": "white"
             }
            },
            "header": {
             "fill": {
              "color": "#C8D4E3"
             },
             "line": {
              "color": "white"
             }
            },
            "type": "table"
           }
          ]
         },
         "layout": {
          "annotationdefaults": {
           "arrowcolor": "#2a3f5f",
           "arrowhead": 0,
           "arrowwidth": 1
          },
          "autotypenumbers": "strict",
          "coloraxis": {
           "colorbar": {
            "outlinewidth": 0,
            "ticks": ""
           }
          },
          "colorscale": {
           "diverging": [
            [
             0,
             "#8e0152"
            ],
            [
             0.1,
             "#c51b7d"
            ],
            [
             0.2,
             "#de77ae"
            ],
            [
             0.3,
             "#f1b6da"
            ],
            [
             0.4,
             "#fde0ef"
            ],
            [
             0.5,
             "#f7f7f7"
            ],
            [
             0.6,
             "#e6f5d0"
            ],
            [
             0.7,
             "#b8e186"
            ],
            [
             0.8,
             "#7fbc41"
            ],
            [
             0.9,
             "#4d9221"
            ],
            [
             1,
             "#276419"
            ]
           ],
           "sequential": [
            [
             0,
             "#0d0887"
            ],
            [
             0.1111111111111111,
             "#46039f"
            ],
            [
             0.2222222222222222,
             "#7201a8"
            ],
            [
             0.3333333333333333,
             "#9c179e"
            ],
            [
             0.4444444444444444,
             "#bd3786"
            ],
            [
             0.5555555555555556,
             "#d8576b"
            ],
            [
             0.6666666666666666,
             "#ed7953"
            ],
            [
             0.7777777777777778,
             "#fb9f3a"
            ],
            [
             0.8888888888888888,
             "#fdca26"
            ],
            [
             1,
             "#f0f921"
            ]
           ],
           "sequentialminus": [
            [
             0,
             "#0d0887"
            ],
            [
             0.1111111111111111,
             "#46039f"
            ],
            [
             0.2222222222222222,
             "#7201a8"
            ],
            [
             0.3333333333333333,
             "#9c179e"
            ],
            [
             0.4444444444444444,
             "#bd3786"
            ],
            [
             0.5555555555555556,
             "#d8576b"
            ],
            [
             0.6666666666666666,
             "#ed7953"
            ],
            [
             0.7777777777777778,
             "#fb9f3a"
            ],
            [
             0.8888888888888888,
             "#fdca26"
            ],
            [
             1,
             "#f0f921"
            ]
           ]
          },
          "colorway": [
           "#636efa",
           "#EF553B",
           "#00cc96",
           "#ab63fa",
           "#FFA15A",
           "#19d3f3",
           "#FF6692",
           "#B6E880",
           "#FF97FF",
           "#FECB52"
          ],
          "font": {
           "color": "#2a3f5f"
          },
          "geo": {
           "bgcolor": "white",
           "lakecolor": "white",
           "landcolor": "#E5ECF6",
           "showlakes": true,
           "showland": true,
           "subunitcolor": "white"
          },
          "hoverlabel": {
           "align": "left"
          },
          "hovermode": "closest",
          "mapbox": {
           "style": "light"
          },
          "paper_bgcolor": "white",
          "plot_bgcolor": "#E5ECF6",
          "polar": {
           "angularaxis": {
            "gridcolor": "white",
            "linecolor": "white",
            "ticks": ""
           },
           "bgcolor": "#E5ECF6",
           "radialaxis": {
            "gridcolor": "white",
            "linecolor": "white",
            "ticks": ""
           }
          },
          "scene": {
           "xaxis": {
            "backgroundcolor": "#E5ECF6",
            "gridcolor": "white",
            "gridwidth": 2,
            "linecolor": "white",
            "showbackground": true,
            "ticks": "",
            "zerolinecolor": "white"
           },
           "yaxis": {
            "backgroundcolor": "#E5ECF6",
            "gridcolor": "white",
            "gridwidth": 2,
            "linecolor": "white",
            "showbackground": true,
            "ticks": "",
            "zerolinecolor": "white"
           },
           "zaxis": {
            "backgroundcolor": "#E5ECF6",
            "gridcolor": "white",
            "gridwidth": 2,
            "linecolor": "white",
            "showbackground": true,
            "ticks": "",
            "zerolinecolor": "white"
           }
          },
          "shapedefaults": {
           "line": {
            "color": "#2a3f5f"
           }
          },
          "ternary": {
           "aaxis": {
            "gridcolor": "white",
            "linecolor": "white",
            "ticks": ""
           },
           "baxis": {
            "gridcolor": "white",
            "linecolor": "white",
            "ticks": ""
           },
           "bgcolor": "#E5ECF6",
           "caxis": {
            "gridcolor": "white",
            "linecolor": "white",
            "ticks": ""
           }
          },
          "title": {
           "x": 0.05
          },
          "xaxis": {
           "automargin": true,
           "gridcolor": "white",
           "linecolor": "white",
           "ticks": "",
           "title": {
            "standoff": 15
           },
           "zerolinecolor": "white",
           "zerolinewidth": 2
          },
          "yaxis": {
           "automargin": true,
           "gridcolor": "white",
           "linecolor": "white",
           "ticks": "",
           "title": {
            "standoff": 15
           },
           "zerolinecolor": "white",
           "zerolinewidth": 2
          }
         }
        },
        "title": {
         "text": "Cashflow Waterfall Chart for REE (2024)"
        },
        "width": 1000,
        "xaxis": {
         "tickangle": 45,
         "title": {
          "text": "Cash inflows/outflows"
         }
        },
        "yaxis": {
         "tickformat": ",.0f",
         "title": {
          "text": "Amount"
         }
        }
       }
      }
     },
     "metadata": {},
     "output_type": "display_data"
    }
   ],
   "source": [
    "import plotly.graph_objects as go\n",
    "import pandas as pd\n",
    "import numpy as np\n",
    "\n",
    "def create_cashflow_waterfall(df, ticker, year):\n",
    "    # Filter dataframe for specific ticker and year\n",
    "    data = df[(df['ticker'] == ticker) & (df['yearReport'] == year)].iloc[0]\n",
    "    \n",
    "    # Select components for the waterfall chart\n",
    "    measures = [\n",
    "        'Operating profit before changes in working capital',\n",
    "        'Increase/Decrease in receivables',\n",
    "        'Increase/Decrease in inventories',\n",
    "        'Increase/Decrease in payables',\n",
    "        'Increase/Decrease in prepaid expenses',\n",
    "        'Interest paid',\n",
    "        'Business Income Tax paid',\n",
    "        'Other receipts from operating activities',\n",
    "        'Other payments on operating activities',\n",
    "        'Purchase of fixed assets',\n",
    "        'Proceeds from disposal of fixed assets',\n",
    "        'Investment in other entities',\n",
    "        'Proceeds from divestment in other entities',\n",
    "        'Gain on Dividend',\n",
    "        'Increase in charter captial',\n",
    "        'Payments for share repurchases',\n",
    "        'Proceeds from borrowings',\n",
    "        'Repayment of borrowings',\n",
    "        'Dividends paid'\n",
    "    ]\n",
    "    \n",
    "    # Extract values for these measures\n",
    "    values = [data[measure] for measure in measures]\n",
    "    \n",
    "    # Create labels for the chart (shortened for better display)\n",
    "    labels = [m.split('/')[-1].replace(' activities', '') if '/' in m else m for m in measures]\n",
    "    labels = [label[:20] + '...' if len(label) > 20 else label for label in labels]\n",
    "    \n",
    "    # Set up measure types (relative vs total)\n",
    "    measure_types = ['relative'] * len(measures)\n",
    "    \n",
    "    # Add initial and final cash positions\n",
    "    labels = ['Initial Balance'] + labels + ['Ending Balance']\n",
    "    values = [data['Cash and cash equivalents']] + values + [data['Cash and Cash Equivalents at the end of period']]\n",
    "    measure_types = ['absolute'] + measure_types + ['total']\n",
    "    \n",
    "    # Create the waterfall chart with comma-separated numbers\n",
    "    fig = go.Figure(go.Waterfall(\n",
    "        name = f\"Cashflow Waterfall for {ticker} ({year})\",\n",
    "        orientation = \"v\",\n",
    "        measure = measure_types,\n",
    "        x = labels,\n",
    "        textposition = \"outside\",\n",
    "        # Format numbers with commas as thousands separators\n",
    "        text = [f\"{x:,.1f}\" for x in values],\n",
    "        y = values,\n",
    "        connector = {\"line\":{\"color\":\"rgb(63, 63, 63)\"}},\n",
    "    ))\n",
    "    \n",
    "    # Update layout\n",
    "    fig.update_layout(\n",
    "        title = f\"Cashflow Waterfall Chart for {ticker} ({year})\",\n",
    "        showlegend = False,\n",
    "        height = 600,\n",
    "        width = 1000,\n",
    "        xaxis = dict(\n",
    "            title = \"Cash inflows/outflows\",\n",
    "            tickangle = 45\n",
    "        ),\n",
    "        yaxis = dict(\n",
    "            title = \"Amount\",\n",
    "            # Add comma separator to y-axis labels as well\n",
    "            tickformat = \",.0f\"\n",
    "        )\n",
    "    )\n",
    "    \n",
    "    return fig\n",
    "\n",
    "# Example usage\n",
    "# Replace 'REE' and 2024 with your desired ticker and year\n",
    "cf_year = 2024\n",
    "\n",
    "fig = create_cashflow_waterfall(CashFlow, 'REE', cf_year)\n",
    "fig.show()\n",
    "\n",
    "# If you prefer to save the figure\n",
    "# fig.write_html(\"cashflow_waterfall.html\")"
   ]
  },
  {
   "cell_type": "code",
   "execution_count": 25,
   "id": "7ec1b207-f812-405d-947a-a6345a0e5421",
   "metadata": {},
   "outputs": [],
   "source": [
    "import pandas as pd\n",
    "import numpy as np\n",
    "import plotly.graph_objects as go\n",
    "from plotly.subplots import make_subplots\n",
    "\n",
    "def calculate_roce_and_include_roe(BalanceSheet, IncomeStatement, Ratio):\n",
    "    \"\"\"\n",
    "    Calculate ROCE and include ROE from Ratio dataframe with MultiIndex columns.\n",
    "    \n",
    "    Parameters:\n",
    "    -----------\n",
    "    BalanceSheet : pandas DataFrame\n",
    "        Balance Sheet data with columns: ticker, yearReport, 'TOTAL ASSETS (Bn. VND)', 'Current liabilities (Bn. VND)'\n",
    "    IncomeStatement : pandas DataFrame\n",
    "        Income Statement data with columns: ticker, yearReport, 'Operating Profit/Loss'\n",
    "    Ratio : pandas DataFrame\n",
    "        Ratio data with MultiIndex columns including ('Chỉ tiêu khả năng sinh lợi', 'ROE (%)')\n",
    "        \n",
    "    Returns:\n",
    "    --------\n",
    "    pandas DataFrame\n",
    "        DataFrame with ROCE and ROE calculations\n",
    "    \"\"\"\n",
    "    # Create a copy to avoid modifying the original dataframe\n",
    "    BalanceSheet_copy = BalanceSheet.copy()\n",
    "    \n",
    "    # Step 1: Calculate Capital Employed\n",
    "    BalanceSheet_copy['Capital Employed (Bn. VND)'] = (\n",
    "        BalanceSheet_copy['Long-term borrowings (Bn. VND)'] + \n",
    "        BalanceSheet_copy['Short-term borrowings (Bn. VND)'] + \n",
    "        BalanceSheet_copy[\"OWNER'S EQUITY(Bn.VND)\"]\n",
    "    )\n",
    "    \n",
    "    # Step 2: Merge Balance Sheet and Income Statement\n",
    "    merged_df = pd.merge(\n",
    "        BalanceSheet_copy[['ticker', 'yearReport', 'Capital Employed (Bn. VND)']],\n",
    "        IncomeStatement[['ticker', 'yearReport', 'Operating Profit/Loss']],\n",
    "        on=['ticker', 'yearReport'],\n",
    "        how='inner'\n",
    "    )\n",
    "    \n",
    "    # Step 3: Calculate ROCE\n",
    "    merged_df['ROCE'] = merged_df['Operating Profit/Loss'] / merged_df['Capital Employed (Bn. VND)']\n",
    "    \n",
    "    # Select columns for ROCE calculation\n",
    "    ROCE_df = merged_df[['ticker', 'yearReport', 'Operating Profit/Loss', \n",
    "                         'Capital Employed (Bn. VND)', 'ROCE']]\n",
    "    ROCE_df = ROCE_df.rename(columns={'Operating Profit/Loss': 'EBIT (Bn. VND)'})\n",
    "    \n",
    "    # Step 4: Create a simplified version of Ratio DataFrame for merging\n",
    "    # Extract the ticker, year, and ROE columns\n",
    "    ratio_simple = pd.DataFrame({\n",
    "        'ticker': Ratio[('Meta', 'CP')],\n",
    "        'yearReport': Ratio[('Meta', 'Năm')],\n",
    "        'ROE': Ratio[('Chỉ tiêu khả năng sinh lợi', 'ROE (%)')]\n",
    "    })\n",
    "    \n",
    "    # Step 5: Merge with simplified Ratio dataframe to include ROE\n",
    "    ROCE_df = pd.merge(\n",
    "        ROCE_df,\n",
    "        ratio_simple[['ticker', 'yearReport', 'ROE']],\n",
    "        on=['ticker', 'yearReport'],\n",
    "        how='left'\n",
    "    )\n",
    "    \n",
    "    return ROCE_df\n"
   ]
  },
  {
   "cell_type": "code",
   "execution_count": 26,
   "id": "6b5bdd71",
   "metadata": {},
   "outputs": [],
   "source": [
    "def visualize_roce_vs_roe(BalanceSheet, IncomeStatement, Ratio):\n",
    "    \"\"\"\n",
    "    Calculate and visualize the ROCE vs ROE comparison using Plotly.\n",
    "    \n",
    "    Parameters:\n",
    "    -----------\n",
    "    BalanceSheet : pandas DataFrame\n",
    "        Balance Sheet data\n",
    "    IncomeStatement : pandas DataFrame\n",
    "        Income Statement data\n",
    "    Ratio : pandas DataFrame\n",
    "        Ratio data containing ROE with MultiIndex columns\n",
    "        \n",
    "    Returns:\n",
    "    --------\n",
    "    pandas DataFrame\n",
    "        DataFrame containing the calculated ROCE and ROE values\n",
    "    \"\"\"\n",
    "    # Calculate ROCE and include ROE\n",
    "    ROCE_df = calculate_roce_and_include_roe(BalanceSheet, IncomeStatement, Ratio)\n",
    "    \n",
    "    # Sort by ticker and year\n",
    "    ROCE_df = ROCE_df.sort_values(['ticker', 'yearReport'])\n",
    "    \n",
    "    # Create a comparison chart for each ticker\n",
    "    for ticker in ROCE_df['ticker'].unique():\n",
    "        ticker_data = ROCE_df[ROCE_df['ticker'] == ticker]\n",
    "        \n",
    "        # Create figure with secondary y-axis\n",
    "        fig = make_subplots(specs=[[{\"secondary_y\": True}]])\n",
    "        \n",
    "        # Add ROCE trace\n",
    "        fig.add_trace(\n",
    "            go.Scatter(\n",
    "                x=ticker_data['yearReport'],\n",
    "                y=ticker_data['ROCE'],\n",
    "                name='ROCE',\n",
    "                mode='lines+markers+text',\n",
    "                text=[f\"{x:.2f}\" for x in ticker_data['ROCE']], \n",
    "                textposition=\"top center\",\n",
    "                line=dict(color='rgba(0, 117, 210, 0.9)', width=3),\n",
    "                marker=dict(\n",
    "                    size=12, \n",
    "                    color='rgba(0, 117, 210, 0.9)',\n",
    "                    line=dict(color='white', width=2)\n",
    "                ),\n",
    "                textfont=dict(color='rgba(0, 117, 210, 1)', size=11, family=\"Arial Black\")\n",
    "            ),\n",
    "            secondary_y=False,\n",
    "        )\n",
    "        \n",
    "        # Add shaded area under ROCE for emphasis\n",
    "        fig.add_trace(\n",
    "            go.Scatter(\n",
    "                x=ticker_data['yearReport'],\n",
    "                y=ticker_data['ROCE'],\n",
    "                name='ROCE Area',\n",
    "                mode='none',\n",
    "                fill='tozeroy',\n",
    "                fillcolor='rgba(0, 117, 210, 0.1)',\n",
    "                showlegend=False,\n",
    "                hoverinfo='skip'\n",
    "            ),\n",
    "            secondary_y=False,\n",
    "        )\n",
    "        \n",
    "        # Add ROE trace\n",
    "        fig.add_trace(\n",
    "            go.Scatter(\n",
    "                x=ticker_data['yearReport'],\n",
    "                y=ticker_data['ROE'],\n",
    "                name='ROE (%)',\n",
    "                mode='lines+markers+text',\n",
    "                text=[f\"{x:.1f}%\" for x in ticker_data['ROE']],\n",
    "                textposition=\"bottom center\",\n",
    "                line=dict(color='rgba(220, 20, 60, 0.9)', width=3),\n",
    "                marker=dict(\n",
    "                    size=12, \n",
    "                    symbol='diamond',\n",
    "                    color='rgba(220, 20, 60, 0.9)',\n",
    "                    line=dict(color='white', width=2)\n",
    "                ),\n",
    "                textfont=dict(color='rgba(220, 20, 60, 1)', size=11, family=\"Arial Black\")\n",
    "            ),\n",
    "            secondary_y=True,\n",
    "        )\n",
    "        \n",
    "        # Add shaded area under ROE for emphasis\n",
    "        fig.add_trace(\n",
    "            go.Scatter(\n",
    "                x=ticker_data['yearReport'],\n",
    "                y=ticker_data['ROE'],\n",
    "                name='ROE Area',\n",
    "                mode='none',\n",
    "                fill='tozeroy',\n",
    "                fillcolor='rgba(220, 20, 60, 0.1)',\n",
    "                showlegend=False,\n",
    "                hoverinfo='skip'\n",
    "            ),\n",
    "            secondary_y=True,\n",
    "        )\n",
    "        \n",
    "        # Add crossover points as a special marker\n",
    "        for i in range(1, len(ticker_data)):\n",
    "            if ((ticker_data['ROCE'].iloc[i-1] > ticker_data['ROE'].iloc[i-1] and \n",
    "                 ticker_data['ROCE'].iloc[i] < ticker_data['ROE'].iloc[i]) or\n",
    "                (ticker_data['ROCE'].iloc[i-1] < ticker_data['ROE'].iloc[i-1] and \n",
    "                 ticker_data['ROCE'].iloc[i] > ticker_data['ROE'].iloc[i])):\n",
    "                \n",
    "                # This is a crossover point - highlight it\n",
    "                fig.add_annotation(\n",
    "                    x=ticker_data['yearReport'].iloc[i],\n",
    "                    y=ticker_data['ROCE'].iloc[i],\n",
    "                    text=\"Crossover Point\",\n",
    "                    showarrow=True,\n",
    "                    arrowhead=2,\n",
    "                    arrowsize=1,\n",
    "                    arrowwidth=2,\n",
    "                    arrowcolor=\"#636363\",\n",
    "                    ax=0,\n",
    "                    ay=-40,\n",
    "                    bordercolor=\"#c7c7c7\",\n",
    "                    borderwidth=2,\n",
    "                    borderpad=4,\n",
    "                    bgcolor=\"white\",\n",
    "                    opacity=0.8\n",
    "                )\n",
    "        \n",
    "        # Add figure title with ticker emphasis\n",
    "        fig.update_layout(\n",
    "            title={\n",
    "                'text': f'<b>ROCE vs ROE Comparison</b><br><span style=\"font-size:16px;\">{ticker}</span>',\n",
    "                'y':0.95,\n",
    "                'x':0.5,\n",
    "                'xanchor': 'center',\n",
    "                'yanchor': 'top'\n",
    "            },\n",
    "            template='plotly_white',\n",
    "            hovermode='x unified',\n",
    "            margin=dict(t=100, b=120, l=80, r=80),\n",
    "            hoverlabel=dict(\n",
    "                bgcolor=\"white\",\n",
    "                font_size=12,\n",
    "                font_family=\"Arial\"\n",
    "            ),\n",
    "            legend=dict(\n",
    "                orientation=\"h\",\n",
    "                yanchor=\"bottom\",\n",
    "                y=1.02,\n",
    "                xanchor=\"right\",\n",
    "                x=1,\n",
    "                bgcolor='rgba(255, 255, 255, 0.7)',\n",
    "                bordercolor='rgba(0, 0, 0, 0.1)',\n",
    "                borderwidth=1\n",
    "            ),\n",
    "            annotations=[\n",
    "                dict(\n",
    "                    x=0.5,\n",
    "                    y=-0.18,\n",
    "                    xref='paper',\n",
    "                    yref='paper',\n",
    "                    text=\"<b>Financial Leverage Interpretation</b><br>ROE > ROCE: Effective use of financial leverage | ROCE > ROE: Potential underutilization of debt\",\n",
    "                    showarrow=False,\n",
    "                    font=dict(size=11, color=\"#505050\"),\n",
    "                    align=\"center\",\n",
    "                    bordercolor=\"#d3d3d3\",\n",
    "                    borderwidth=1,\n",
    "                    borderpad=8,\n",
    "                    bgcolor=\"rgba(250, 250, 250, 0.9)\",\n",
    "                    opacity=0.9\n",
    "                )\n",
    "            ]\n",
    "        )\n",
    "        \n",
    "        # Set x-axis title and style\n",
    "        fig.update_xaxes(\n",
    "            title_text=\"<b>Year</b>\",\n",
    "            title_font=dict(size=14),\n",
    "            showgrid=True,\n",
    "            gridwidth=1,\n",
    "            gridcolor='rgba(211, 211, 211, 0.4)',\n",
    "            showline=True,\n",
    "            linewidth=2,\n",
    "            linecolor='rgba(0, 0, 0, 0.3)',\n",
    "            tickangle=45,\n",
    "            tickfont=dict(size=12)\n",
    "        )\n",
    "        \n",
    "        # Set y-axes titles and styles\n",
    "        fig.update_yaxes(\n",
    "            title_text=\"<b>ROCE</b>\",\n",
    "            title_font=dict(size=14, color='rgba(0, 117, 210, 1)'),\n",
    "            showgrid=True,\n",
    "            gridwidth=1, \n",
    "            gridcolor='rgba(211, 211, 211, 0.4)',\n",
    "            showline=True,\n",
    "            linewidth=2, \n",
    "            linecolor='rgba(0, 117, 210, 0.7)',\n",
    "            tickformat='.3f',\n",
    "            tickfont=dict(size=12),\n",
    "            secondary_y=False\n",
    "        )\n",
    "        \n",
    "        fig.update_yaxes(\n",
    "            title_text=\"<b>ROE (%)</b>\",\n",
    "            title_font=dict(size=14, color='rgba(220, 20, 60, 1)'),\n",
    "            showgrid=False,\n",
    "            showline=True, \n",
    "            linewidth=2, \n",
    "            linecolor='rgba(220, 20, 60, 0.7)',\n",
    "            tickformat='.1f',\n",
    "            ticksuffix='%',\n",
    "            tickfont=dict(size=12),\n",
    "            secondary_y=True\n",
    "        )\n",
    "        \n",
    "        # Add background color gradients\n",
    "        fig.update_layout(\n",
    "            plot_bgcolor='rgba(248, 249, 250, 1)',\n",
    "            paper_bgcolor='rgba(248, 249, 250, 1)',\n",
    "            width=1000,\n",
    "            height=650\n",
    "        )\n",
    "        \n",
    "        # Add a watermark or logo in the corner (optional)\n",
    "        fig.add_annotation(\n",
    "            x=1.0,\n",
    "            y=-0.12,\n",
    "            xref='paper',\n",
    "            yref='paper',\n",
    "            text=\"Financial Analysis\",\n",
    "            showarrow=False,\n",
    "            font=dict(size=10, color=\"rgba(150, 150, 150, 0.5)\"),\n",
    "            align=\"right\",\n",
    "        )\n",
    "        \n",
    "        fig.show()\n",
    "    \n",
    "    return ROCE_df"
   ]
  },
  {
   "cell_type": "code",
   "execution_count": 27,
   "id": "9ad2850a-097a-4791-a4de-390bc6a7623a",
   "metadata": {},
   "outputs": [
    {
     "name": "stdout",
     "output_type": "stream",
     "text": [
      "  ticker  yearReport  EBIT (Bn. VND)  Capital Employed (Bn. VND)      ROCE  \\\n",
      "0    REE        2024   2672346972019              32851827291499  0.081345   \n",
      "1    REE        2023   3042127311430              31512920183225  0.096536   \n",
      "2    REE        2022   3985852232731              30604777639150  0.130236   \n",
      "3    REE        2021   2387222069978              28331835703693  0.084259   \n",
      "4    REE        2020   1901472471574              17811997377269  0.106752   \n",
      "\n",
      "        ROE  \n",
      "0  0.110077  \n",
      "1  0.133335  \n",
      "2  0.186927  \n",
      "3  0.129860  \n",
      "4  0.139663  \n"
     ]
    },
    {
     "data": {
      "application/vnd.plotly.v1+json": {
       "config": {
        "plotlyServerURL": "https://plot.ly"
       },
       "data": [
        {
         "line": {
          "color": "rgba(0, 117, 210, 0.9)",
          "width": 3
         },
         "marker": {
          "color": "rgba(0, 117, 210, 0.9)",
          "line": {
           "color": "white",
           "width": 2
          },
          "size": 12
         },
         "mode": "lines+markers+text",
         "name": "ROCE",
         "text": [
          "0.11",
          "0.17",
          "0.14",
          "0.15",
          "0.15",
          "0.16",
          "0.11",
          "0.11",
          "0.08",
          "0.13",
          "0.10",
          "0.08"
         ],
         "textfont": {
          "color": "rgba(0, 117, 210, 1)",
          "family": "Arial Black",
          "size": 11
         },
         "textposition": "top center",
         "type": "scatter",
         "x": {
          "bdata": "3QfeB98H4AfhB+IH4wfkB+UH5gfnB+gH",
          "dtype": "i2"
         },
         "xaxis": "x",
         "y": {
          "bdata": "TZKn2/9CvT85U8GBiffFP4K/L0aUU8E/AKTXi5ACwz/L4ITfhsTCP1UtIx4ej8Q//Ho2vmw5vT+ydU4iH1S7P7PpCVIFkrU/BQKlDpWrwD/8K1g4k7a4P9FSWFYO07Q/",
          "dtype": "f8"
         },
         "yaxis": "y"
        },
        {
         "fill": "tozeroy",
         "fillcolor": "rgba(0, 117, 210, 0.1)",
         "hoverinfo": "skip",
         "mode": "none",
         "name": "ROCE Area",
         "showlegend": false,
         "type": "scatter",
         "x": {
          "bdata": "3QfeB98H4AfhB+IH4wfkB+UH5gfnB+gH",
          "dtype": "i2"
         },
         "xaxis": "x",
         "y": {
          "bdata": "TZKn2/9CvT85U8GBiffFP4K/L0aUU8E/AKTXi5ACwz/L4ITfhsTCP1UtIx4ej8Q//Ho2vmw5vT+ydU4iH1S7P7PpCVIFkrU/BQKlDpWrwD/8K1g4k7a4P9FSWFYO07Q/",
          "dtype": "f8"
         },
         "yaxis": "y"
        },
        {
         "line": {
          "color": "rgba(220, 20, 60, 0.9)",
          "width": 3
         },
         "marker": {
          "color": "rgba(220, 20, 60, 0.9)",
          "line": {
           "color": "white",
           "width": 2
          },
          "size": 12,
          "symbol": "diamond"
         },
         "mode": "lines+markers+text",
         "name": "ROE (%)",
         "text": [
          "0.2%",
          "0.2%",
          "0.1%",
          "0.2%",
          "0.2%",
          "0.2%",
          "0.2%",
          "0.1%",
          "0.1%",
          "0.2%",
          "0.1%",
          "0.1%"
         ],
         "textfont": {
          "color": "rgba(220, 20, 60, 1)",
          "family": "Arial Black",
          "size": 11
         },
         "textposition": "bottom center",
         "type": "scatter",
         "x": {
          "bdata": "3QfeB98H4AfhB+IH4wfkB+UH5gfnB+gH",
          "dtype": "i2"
         },
         "xaxis": "x",
         "y": {
          "bdata": "ZxDfBWqKyj+9lEVXpZHHP5wP5GSPxcA/08YtdwFuwz9UcilKJHrFP5JcAbNphsg/e0l1l0rzwz96vOrre+DBP6qDmus9n8A/NiNhqTftxz/F2cIlHxHBP7zgwN36Lbw/",
          "dtype": "f8"
         },
         "yaxis": "y2"
        },
        {
         "fill": "tozeroy",
         "fillcolor": "rgba(220, 20, 60, 0.1)",
         "hoverinfo": "skip",
         "mode": "none",
         "name": "ROE Area",
         "showlegend": false,
         "type": "scatter",
         "x": {
          "bdata": "3QfeB98H4AfhB+IH4wfkB+UH5gfnB+gH",
          "dtype": "i2"
         },
         "xaxis": "x",
         "y": {
          "bdata": "ZxDfBWqKyj+9lEVXpZHHP5wP5GSPxcA/08YtdwFuwz9UcilKJHrFP5JcAbNphsg/e0l1l0rzwz96vOrre+DBP6qDmus9n8A/NiNhqTftxz/F2cIlHxHBP7zgwN36Lbw/",
          "dtype": "f8"
         },
         "yaxis": "y2"
        }
       ],
       "layout": {
        "annotations": [
         {
          "align": "center",
          "arrowcolor": "#636363",
          "arrowhead": 2,
          "arrowsize": 1,
          "arrowwidth": 2,
          "ax": 0,
          "ay": -40,
          "bgcolor": "rgba(250, 250, 250, 0.9)",
          "bordercolor": "#d3d3d3",
          "borderpad": 8,
          "borderwidth": 1,
          "font": {
           "color": "#505050",
           "size": 11
          },
          "opacity": 0.9,
          "showarrow": false,
          "text": "<b>Financial Leverage Interpretation</b><br>ROE > ROCE: Effective use of financial leverage | ROCE > ROE: Potential underutilization of debt",
          "x": 0.5,
          "xref": "paper",
          "y": -0.18,
          "yref": "paper"
         },
         {
          "align": "center",
          "arrowcolor": "#636363",
          "arrowhead": 2,
          "arrowsize": 1,
          "arrowwidth": 2,
          "ax": 0,
          "ay": -40,
          "bgcolor": "rgba(250, 250, 250, 0.9)",
          "bordercolor": "#d3d3d3",
          "borderpad": 8,
          "borderwidth": 1,
          "font": {
           "color": "#505050",
           "size": 11
          },
          "opacity": 0.9,
          "showarrow": false,
          "text": "<b>Financial Leverage Interpretation</b><br>ROE > ROCE: Effective use of financial leverage | ROCE > ROE: Potential underutilization of debt",
          "x": 0.5,
          "xref": "paper",
          "y": -0.18,
          "yref": "paper"
         },
         {
          "align": "right",
          "font": {
           "color": "rgba(150, 150, 150, 0.5)",
           "size": 10
          },
          "showarrow": false,
          "text": "Financial Analysis",
          "x": 1,
          "xref": "paper",
          "y": -0.12,
          "yref": "paper"
         }
        ],
        "height": 650,
        "hoverlabel": {
         "bgcolor": "white",
         "font": {
          "family": "Arial",
          "size": 12
         }
        },
        "hovermode": "x unified",
        "legend": {
         "bgcolor": "rgba(255, 255, 255, 0.7)",
         "bordercolor": "rgba(0, 0, 0, 0.1)",
         "borderwidth": 1,
         "orientation": "h",
         "x": 1,
         "xanchor": "right",
         "y": 1.02,
         "yanchor": "bottom"
        },
        "margin": {
         "b": 120,
         "l": 80,
         "r": 80,
         "t": 100
        },
        "paper_bgcolor": "rgba(248, 249, 250, 1)",
        "plot_bgcolor": "rgba(248, 249, 250, 1)",
        "template": {
         "data": {
          "bar": [
           {
            "error_x": {
             "color": "#2a3f5f"
            },
            "error_y": {
             "color": "#2a3f5f"
            },
            "marker": {
             "line": {
              "color": "white",
              "width": 0.5
             },
             "pattern": {
              "fillmode": "overlay",
              "size": 10,
              "solidity": 0.2
             }
            },
            "type": "bar"
           }
          ],
          "barpolar": [
           {
            "marker": {
             "line": {
              "color": "white",
              "width": 0.5
             },
             "pattern": {
              "fillmode": "overlay",
              "size": 10,
              "solidity": 0.2
             }
            },
            "type": "barpolar"
           }
          ],
          "carpet": [
           {
            "aaxis": {
             "endlinecolor": "#2a3f5f",
             "gridcolor": "#C8D4E3",
             "linecolor": "#C8D4E3",
             "minorgridcolor": "#C8D4E3",
             "startlinecolor": "#2a3f5f"
            },
            "baxis": {
             "endlinecolor": "#2a3f5f",
             "gridcolor": "#C8D4E3",
             "linecolor": "#C8D4E3",
             "minorgridcolor": "#C8D4E3",
             "startlinecolor": "#2a3f5f"
            },
            "type": "carpet"
           }
          ],
          "choropleth": [
           {
            "colorbar": {
             "outlinewidth": 0,
             "ticks": ""
            },
            "type": "choropleth"
           }
          ],
          "contour": [
           {
            "colorbar": {
             "outlinewidth": 0,
             "ticks": ""
            },
            "colorscale": [
             [
              0,
              "#0d0887"
             ],
             [
              0.1111111111111111,
              "#46039f"
             ],
             [
              0.2222222222222222,
              "#7201a8"
             ],
             [
              0.3333333333333333,
              "#9c179e"
             ],
             [
              0.4444444444444444,
              "#bd3786"
             ],
             [
              0.5555555555555556,
              "#d8576b"
             ],
             [
              0.6666666666666666,
              "#ed7953"
             ],
             [
              0.7777777777777778,
              "#fb9f3a"
             ],
             [
              0.8888888888888888,
              "#fdca26"
             ],
             [
              1,
              "#f0f921"
             ]
            ],
            "type": "contour"
           }
          ],
          "contourcarpet": [
           {
            "colorbar": {
             "outlinewidth": 0,
             "ticks": ""
            },
            "type": "contourcarpet"
           }
          ],
          "heatmap": [
           {
            "colorbar": {
             "outlinewidth": 0,
             "ticks": ""
            },
            "colorscale": [
             [
              0,
              "#0d0887"
             ],
             [
              0.1111111111111111,
              "#46039f"
             ],
             [
              0.2222222222222222,
              "#7201a8"
             ],
             [
              0.3333333333333333,
              "#9c179e"
             ],
             [
              0.4444444444444444,
              "#bd3786"
             ],
             [
              0.5555555555555556,
              "#d8576b"
             ],
             [
              0.6666666666666666,
              "#ed7953"
             ],
             [
              0.7777777777777778,
              "#fb9f3a"
             ],
             [
              0.8888888888888888,
              "#fdca26"
             ],
             [
              1,
              "#f0f921"
             ]
            ],
            "type": "heatmap"
           }
          ],
          "histogram": [
           {
            "marker": {
             "pattern": {
              "fillmode": "overlay",
              "size": 10,
              "solidity": 0.2
             }
            },
            "type": "histogram"
           }
          ],
          "histogram2d": [
           {
            "colorbar": {
             "outlinewidth": 0,
             "ticks": ""
            },
            "colorscale": [
             [
              0,
              "#0d0887"
             ],
             [
              0.1111111111111111,
              "#46039f"
             ],
             [
              0.2222222222222222,
              "#7201a8"
             ],
             [
              0.3333333333333333,
              "#9c179e"
             ],
             [
              0.4444444444444444,
              "#bd3786"
             ],
             [
              0.5555555555555556,
              "#d8576b"
             ],
             [
              0.6666666666666666,
              "#ed7953"
             ],
             [
              0.7777777777777778,
              "#fb9f3a"
             ],
             [
              0.8888888888888888,
              "#fdca26"
             ],
             [
              1,
              "#f0f921"
             ]
            ],
            "type": "histogram2d"
           }
          ],
          "histogram2dcontour": [
           {
            "colorbar": {
             "outlinewidth": 0,
             "ticks": ""
            },
            "colorscale": [
             [
              0,
              "#0d0887"
             ],
             [
              0.1111111111111111,
              "#46039f"
             ],
             [
              0.2222222222222222,
              "#7201a8"
             ],
             [
              0.3333333333333333,
              "#9c179e"
             ],
             [
              0.4444444444444444,
              "#bd3786"
             ],
             [
              0.5555555555555556,
              "#d8576b"
             ],
             [
              0.6666666666666666,
              "#ed7953"
             ],
             [
              0.7777777777777778,
              "#fb9f3a"
             ],
             [
              0.8888888888888888,
              "#fdca26"
             ],
             [
              1,
              "#f0f921"
             ]
            ],
            "type": "histogram2dcontour"
           }
          ],
          "mesh3d": [
           {
            "colorbar": {
             "outlinewidth": 0,
             "ticks": ""
            },
            "type": "mesh3d"
           }
          ],
          "parcoords": [
           {
            "line": {
             "colorbar": {
              "outlinewidth": 0,
              "ticks": ""
             }
            },
            "type": "parcoords"
           }
          ],
          "pie": [
           {
            "automargin": true,
            "type": "pie"
           }
          ],
          "scatter": [
           {
            "fillpattern": {
             "fillmode": "overlay",
             "size": 10,
             "solidity": 0.2
            },
            "type": "scatter"
           }
          ],
          "scatter3d": [
           {
            "line": {
             "colorbar": {
              "outlinewidth": 0,
              "ticks": ""
             }
            },
            "marker": {
             "colorbar": {
              "outlinewidth": 0,
              "ticks": ""
             }
            },
            "type": "scatter3d"
           }
          ],
          "scattercarpet": [
           {
            "marker": {
             "colorbar": {
              "outlinewidth": 0,
              "ticks": ""
             }
            },
            "type": "scattercarpet"
           }
          ],
          "scattergeo": [
           {
            "marker": {
             "colorbar": {
              "outlinewidth": 0,
              "ticks": ""
             }
            },
            "type": "scattergeo"
           }
          ],
          "scattergl": [
           {
            "marker": {
             "colorbar": {
              "outlinewidth": 0,
              "ticks": ""
             }
            },
            "type": "scattergl"
           }
          ],
          "scattermap": [
           {
            "marker": {
             "colorbar": {
              "outlinewidth": 0,
              "ticks": ""
             }
            },
            "type": "scattermap"
           }
          ],
          "scattermapbox": [
           {
            "marker": {
             "colorbar": {
              "outlinewidth": 0,
              "ticks": ""
             }
            },
            "type": "scattermapbox"
           }
          ],
          "scatterpolar": [
           {
            "marker": {
             "colorbar": {
              "outlinewidth": 0,
              "ticks": ""
             }
            },
            "type": "scatterpolar"
           }
          ],
          "scatterpolargl": [
           {
            "marker": {
             "colorbar": {
              "outlinewidth": 0,
              "ticks": ""
             }
            },
            "type": "scatterpolargl"
           }
          ],
          "scatterternary": [
           {
            "marker": {
             "colorbar": {
              "outlinewidth": 0,
              "ticks": ""
             }
            },
            "type": "scatterternary"
           }
          ],
          "surface": [
           {
            "colorbar": {
             "outlinewidth": 0,
             "ticks": ""
            },
            "colorscale": [
             [
              0,
              "#0d0887"
             ],
             [
              0.1111111111111111,
              "#46039f"
             ],
             [
              0.2222222222222222,
              "#7201a8"
             ],
             [
              0.3333333333333333,
              "#9c179e"
             ],
             [
              0.4444444444444444,
              "#bd3786"
             ],
             [
              0.5555555555555556,
              "#d8576b"
             ],
             [
              0.6666666666666666,
              "#ed7953"
             ],
             [
              0.7777777777777778,
              "#fb9f3a"
             ],
             [
              0.8888888888888888,
              "#fdca26"
             ],
             [
              1,
              "#f0f921"
             ]
            ],
            "type": "surface"
           }
          ],
          "table": [
           {
            "cells": {
             "fill": {
              "color": "#EBF0F8"
             },
             "line": {
              "color": "white"
             }
            },
            "header": {
             "fill": {
              "color": "#C8D4E3"
             },
             "line": {
              "color": "white"
             }
            },
            "type": "table"
           }
          ]
         },
         "layout": {
          "annotationdefaults": {
           "arrowcolor": "#2a3f5f",
           "arrowhead": 0,
           "arrowwidth": 1
          },
          "autotypenumbers": "strict",
          "coloraxis": {
           "colorbar": {
            "outlinewidth": 0,
            "ticks": ""
           }
          },
          "colorscale": {
           "diverging": [
            [
             0,
             "#8e0152"
            ],
            [
             0.1,
             "#c51b7d"
            ],
            [
             0.2,
             "#de77ae"
            ],
            [
             0.3,
             "#f1b6da"
            ],
            [
             0.4,
             "#fde0ef"
            ],
            [
             0.5,
             "#f7f7f7"
            ],
            [
             0.6,
             "#e6f5d0"
            ],
            [
             0.7,
             "#b8e186"
            ],
            [
             0.8,
             "#7fbc41"
            ],
            [
             0.9,
             "#4d9221"
            ],
            [
             1,
             "#276419"
            ]
           ],
           "sequential": [
            [
             0,
             "#0d0887"
            ],
            [
             0.1111111111111111,
             "#46039f"
            ],
            [
             0.2222222222222222,
             "#7201a8"
            ],
            [
             0.3333333333333333,
             "#9c179e"
            ],
            [
             0.4444444444444444,
             "#bd3786"
            ],
            [
             0.5555555555555556,
             "#d8576b"
            ],
            [
             0.6666666666666666,
             "#ed7953"
            ],
            [
             0.7777777777777778,
             "#fb9f3a"
            ],
            [
             0.8888888888888888,
             "#fdca26"
            ],
            [
             1,
             "#f0f921"
            ]
           ],
           "sequentialminus": [
            [
             0,
             "#0d0887"
            ],
            [
             0.1111111111111111,
             "#46039f"
            ],
            [
             0.2222222222222222,
             "#7201a8"
            ],
            [
             0.3333333333333333,
             "#9c179e"
            ],
            [
             0.4444444444444444,
             "#bd3786"
            ],
            [
             0.5555555555555556,
             "#d8576b"
            ],
            [
             0.6666666666666666,
             "#ed7953"
            ],
            [
             0.7777777777777778,
             "#fb9f3a"
            ],
            [
             0.8888888888888888,
             "#fdca26"
            ],
            [
             1,
             "#f0f921"
            ]
           ]
          },
          "colorway": [
           "#636efa",
           "#EF553B",
           "#00cc96",
           "#ab63fa",
           "#FFA15A",
           "#19d3f3",
           "#FF6692",
           "#B6E880",
           "#FF97FF",
           "#FECB52"
          ],
          "font": {
           "color": "#2a3f5f"
          },
          "geo": {
           "bgcolor": "white",
           "lakecolor": "white",
           "landcolor": "white",
           "showlakes": true,
           "showland": true,
           "subunitcolor": "#C8D4E3"
          },
          "hoverlabel": {
           "align": "left"
          },
          "hovermode": "closest",
          "mapbox": {
           "style": "light"
          },
          "paper_bgcolor": "white",
          "plot_bgcolor": "white",
          "polar": {
           "angularaxis": {
            "gridcolor": "#EBF0F8",
            "linecolor": "#EBF0F8",
            "ticks": ""
           },
           "bgcolor": "white",
           "radialaxis": {
            "gridcolor": "#EBF0F8",
            "linecolor": "#EBF0F8",
            "ticks": ""
           }
          },
          "scene": {
           "xaxis": {
            "backgroundcolor": "white",
            "gridcolor": "#DFE8F3",
            "gridwidth": 2,
            "linecolor": "#EBF0F8",
            "showbackground": true,
            "ticks": "",
            "zerolinecolor": "#EBF0F8"
           },
           "yaxis": {
            "backgroundcolor": "white",
            "gridcolor": "#DFE8F3",
            "gridwidth": 2,
            "linecolor": "#EBF0F8",
            "showbackground": true,
            "ticks": "",
            "zerolinecolor": "#EBF0F8"
           },
           "zaxis": {
            "backgroundcolor": "white",
            "gridcolor": "#DFE8F3",
            "gridwidth": 2,
            "linecolor": "#EBF0F8",
            "showbackground": true,
            "ticks": "",
            "zerolinecolor": "#EBF0F8"
           }
          },
          "shapedefaults": {
           "line": {
            "color": "#2a3f5f"
           }
          },
          "ternary": {
           "aaxis": {
            "gridcolor": "#DFE8F3",
            "linecolor": "#A2B1C6",
            "ticks": ""
           },
           "baxis": {
            "gridcolor": "#DFE8F3",
            "linecolor": "#A2B1C6",
            "ticks": ""
           },
           "bgcolor": "white",
           "caxis": {
            "gridcolor": "#DFE8F3",
            "linecolor": "#A2B1C6",
            "ticks": ""
           }
          },
          "title": {
           "x": 0.05
          },
          "xaxis": {
           "automargin": true,
           "gridcolor": "#EBF0F8",
           "linecolor": "#EBF0F8",
           "ticks": "",
           "title": {
            "standoff": 15
           },
           "zerolinecolor": "#EBF0F8",
           "zerolinewidth": 2
          },
          "yaxis": {
           "automargin": true,
           "gridcolor": "#EBF0F8",
           "linecolor": "#EBF0F8",
           "ticks": "",
           "title": {
            "standoff": 15
           },
           "zerolinecolor": "#EBF0F8",
           "zerolinewidth": 2
          }
         }
        },
        "title": {
         "text": "<b>ROCE vs ROE Comparison</b><br><span style=\"font-size:16px;\">REE</span>",
         "x": 0.5,
         "xanchor": "center",
         "y": 0.95,
         "yanchor": "top"
        },
        "width": 1000,
        "xaxis": {
         "anchor": "y",
         "domain": [
          0,
          0.94
         ],
         "gridcolor": "rgba(211, 211, 211, 0.4)",
         "gridwidth": 1,
         "linecolor": "rgba(0, 0, 0, 0.3)",
         "linewidth": 2,
         "showgrid": true,
         "showline": true,
         "tickangle": 45,
         "tickfont": {
          "size": 12
         },
         "title": {
          "font": {
           "size": 14
          },
          "text": "<b>Year</b>"
         }
        },
        "yaxis": {
         "anchor": "x",
         "domain": [
          0,
          1
         ],
         "gridcolor": "rgba(211, 211, 211, 0.4)",
         "gridwidth": 1,
         "linecolor": "rgba(0, 117, 210, 0.7)",
         "linewidth": 2,
         "showgrid": true,
         "showline": true,
         "tickfont": {
          "size": 12
         },
         "tickformat": ".3f",
         "title": {
          "font": {
           "color": "rgba(0, 117, 210, 1)",
           "size": 14
          },
          "text": "<b>ROCE</b>"
         }
        },
        "yaxis2": {
         "anchor": "x",
         "linecolor": "rgba(220, 20, 60, 0.7)",
         "linewidth": 2,
         "overlaying": "y",
         "showgrid": false,
         "showline": true,
         "side": "right",
         "tickfont": {
          "size": 12
         },
         "tickformat": ".1f",
         "ticksuffix": "%",
         "title": {
          "font": {
           "color": "rgba(220, 20, 60, 1)",
           "size": 14
          },
          "text": "<b>ROE (%)</b>"
         }
        }
       }
      }
     },
     "metadata": {},
     "output_type": "display_data"
    },
    {
     "data": {
      "text/html": [
       "<div>\n",
       "<style scoped>\n",
       "    .dataframe tbody tr th:only-of-type {\n",
       "        vertical-align: middle;\n",
       "    }\n",
       "\n",
       "    .dataframe tbody tr th {\n",
       "        vertical-align: top;\n",
       "    }\n",
       "\n",
       "    .dataframe thead th {\n",
       "        text-align: right;\n",
       "    }\n",
       "</style>\n",
       "<table border=\"1\" class=\"dataframe\">\n",
       "  <thead>\n",
       "    <tr style=\"text-align: right;\">\n",
       "      <th></th>\n",
       "      <th>ticker</th>\n",
       "      <th>yearReport</th>\n",
       "      <th>EBIT (Bn. VND)</th>\n",
       "      <th>Capital Employed (Bn. VND)</th>\n",
       "      <th>ROCE</th>\n",
       "      <th>ROE</th>\n",
       "    </tr>\n",
       "  </thead>\n",
       "  <tbody>\n",
       "    <tr>\n",
       "      <th>11</th>\n",
       "      <td>REE</td>\n",
       "      <td>2013</td>\n",
       "      <td>653760115839</td>\n",
       "      <td>5719506891415</td>\n",
       "      <td>0.114304</td>\n",
       "      <td>0.207349</td>\n",
       "    </tr>\n",
       "    <tr>\n",
       "      <th>10</th>\n",
       "      <td>REE</td>\n",
       "      <td>2014</td>\n",
       "      <td>1209735776640</td>\n",
       "      <td>7049054886482</td>\n",
       "      <td>0.171617</td>\n",
       "      <td>0.184132</td>\n",
       "    </tr>\n",
       "    <tr>\n",
       "      <th>9</th>\n",
       "      <td>REE</td>\n",
       "      <td>2015</td>\n",
       "      <td>1038784287138</td>\n",
       "      <td>7674056085377</td>\n",
       "      <td>0.135363</td>\n",
       "      <td>0.131029</td>\n",
       "    </tr>\n",
       "    <tr>\n",
       "      <th>8</th>\n",
       "      <td>REE</td>\n",
       "      <td>2016</td>\n",
       "      <td>1368547876590</td>\n",
       "      <td>9214832267594</td>\n",
       "      <td>0.148516</td>\n",
       "      <td>0.151795</td>\n",
       "    </tr>\n",
       "    <tr>\n",
       "      <th>7</th>\n",
       "      <td>REE</td>\n",
       "      <td>2017</td>\n",
       "      <td>1711671841121</td>\n",
       "      <td>11674003426931</td>\n",
       "      <td>0.146623</td>\n",
       "      <td>0.167790</td>\n",
       "    </tr>\n",
       "    <tr>\n",
       "      <th>6</th>\n",
       "      <td>REE</td>\n",
       "      <td>2018</td>\n",
       "      <td>2105657869033</td>\n",
       "      <td>13109757690307</td>\n",
       "      <td>0.160618</td>\n",
       "      <td>0.191602</td>\n",
       "    </tr>\n",
       "    <tr>\n",
       "      <th>5</th>\n",
       "      <td>REE</td>\n",
       "      <td>2019</td>\n",
       "      <td>1909681072333</td>\n",
       "      <td>16728479197464</td>\n",
       "      <td>0.114157</td>\n",
       "      <td>0.155862</td>\n",
       "    </tr>\n",
       "    <tr>\n",
       "      <th>4</th>\n",
       "      <td>REE</td>\n",
       "      <td>2020</td>\n",
       "      <td>1901472471574</td>\n",
       "      <td>17811997377269</td>\n",
       "      <td>0.106752</td>\n",
       "      <td>0.139663</td>\n",
       "    </tr>\n",
       "    <tr>\n",
       "      <th>3</th>\n",
       "      <td>REE</td>\n",
       "      <td>2021</td>\n",
       "      <td>2387222069978</td>\n",
       "      <td>28331835703693</td>\n",
       "      <td>0.084259</td>\n",
       "      <td>0.129860</td>\n",
       "    </tr>\n",
       "    <tr>\n",
       "      <th>2</th>\n",
       "      <td>REE</td>\n",
       "      <td>2022</td>\n",
       "      <td>3985852232731</td>\n",
       "      <td>30604777639150</td>\n",
       "      <td>0.130236</td>\n",
       "      <td>0.186927</td>\n",
       "    </tr>\n",
       "    <tr>\n",
       "      <th>1</th>\n",
       "      <td>REE</td>\n",
       "      <td>2023</td>\n",
       "      <td>3042127311430</td>\n",
       "      <td>31512920183225</td>\n",
       "      <td>0.096536</td>\n",
       "      <td>0.133335</td>\n",
       "    </tr>\n",
       "    <tr>\n",
       "      <th>0</th>\n",
       "      <td>REE</td>\n",
       "      <td>2024</td>\n",
       "      <td>2672346972019</td>\n",
       "      <td>32851827291499</td>\n",
       "      <td>0.081345</td>\n",
       "      <td>0.110077</td>\n",
       "    </tr>\n",
       "  </tbody>\n",
       "</table>\n",
       "</div>"
      ],
      "text/plain": [
       "   ticker  yearReport  EBIT (Bn. VND)  Capital Employed (Bn. VND)      ROCE  \\\n",
       "11    REE        2013    653760115839               5719506891415  0.114304   \n",
       "10    REE        2014   1209735776640               7049054886482  0.171617   \n",
       "9     REE        2015   1038784287138               7674056085377  0.135363   \n",
       "8     REE        2016   1368547876590               9214832267594  0.148516   \n",
       "7     REE        2017   1711671841121              11674003426931  0.146623   \n",
       "6     REE        2018   2105657869033              13109757690307  0.160618   \n",
       "5     REE        2019   1909681072333              16728479197464  0.114157   \n",
       "4     REE        2020   1901472471574              17811997377269  0.106752   \n",
       "3     REE        2021   2387222069978              28331835703693  0.084259   \n",
       "2     REE        2022   3985852232731              30604777639150  0.130236   \n",
       "1     REE        2023   3042127311430              31512920183225  0.096536   \n",
       "0     REE        2024   2672346972019              32851827291499  0.081345   \n",
       "\n",
       "         ROE  \n",
       "11  0.207349  \n",
       "10  0.184132  \n",
       "9   0.131029  \n",
       "8   0.151795  \n",
       "7   0.167790  \n",
       "6   0.191602  \n",
       "5   0.155862  \n",
       "4   0.139663  \n",
       "3   0.129860  \n",
       "2   0.186927  \n",
       "1   0.133335  \n",
       "0   0.110077  "
      ]
     },
     "execution_count": 27,
     "metadata": {},
     "output_type": "execute_result"
    }
   ],
   "source": [
    "# Calculate ROCE and ROE\n",
    "ROCE_df = calculate_roce_and_include_roe(BalanceSheet, IncomeStatement, Ratio)\n",
    "print(ROCE_df.head())\n",
    "\n",
    "# Visualize ROCE vs ROE comparison\n",
    "visualize_roce_vs_roe(BalanceSheet, IncomeStatement, Ratio)"
   ]
  },
  {
   "cell_type": "markdown",
   "id": "2a3eba5b",
   "metadata": {},
   "source": [
    "# Corporate Finance"
   ]
  },
  {
   "cell_type": "code",
   "execution_count": 28,
   "id": "240eef9d",
   "metadata": {},
   "outputs": [
    {
     "data": {
      "application/vnd.plotly.v1+json": {
       "config": {
        "plotlyServerURL": "https://plot.ly"
       },
       "data": [
        {
         "line": {
          "color": "blue"
         },
         "name": "ROIC (%)",
         "type": "scatter",
         "x": {
          "bdata": "3QfeB98H4AfhB+IH4wfkB+UH5gfnB+gH",
          "dtype": "i2"
         },
         "y": {
          "bdata": "AiipwIcWG0B4Jpdz58EhQH67NmW4ESFANi+YCdDuIkDPRrYMm7kiQBFgBbZS6RtAhv4JLlagFkBBQMb1UtUbQMDUjX+4LhpAnAvxgmfwJ0APhnRX+r8iQEinCTYJkR1A",
          "dtype": "f8"
         }
        },
        {
         "line": {
          "color": "green"
         },
         "name": "WACC (%)",
         "type": "scatter",
         "x": {
          "bdata": "3QfeB98H4AfhB+IH4wfkB+UH5gfnB+gH",
          "dtype": "i2"
         },
         "y": {
          "bdata": "9oc/OgKSHED/Hs7582EcQPTQW7IVph1A/zyBE8ICHkDlr+gUtX4fQNQfe181ih5AomalDnD+H0DCX/60kD0fQMSsZ5waGCBAYYECctOkHkDcnFmA+qQeQBhLNZWkbh5A",
          "dtype": "f8"
         }
        },
        {
         "fill": "toself",
         "fillcolor": "rgba(0, 100, 255, 0.2)",
         "hoverinfo": "skip",
         "legendgroup": "economic_value",
         "line": {
          "width": 0
         },
         "name": "Economic Value",
         "showlegend": true,
         "type": "scatter",
         "x": {
          "bdata": "3QfeB98H4AfhB+IH4wfkB+UH5gfnB+gH6AfnB+YH5QfkB+MH4gfhB+AH3wfeB90H",
          "dtype": "i2"
         },
         "y": {
          "bdata": "fJYxFIh7HkB4Jpdz58EhQH67NmW4ESFANi+YCdDuIkDPRrYMm7kiQHyWMRSIex5AfJYxFIh7HkB8ljEUiHseQHyWMRSIex5AnAvxgmfwJ0APhnRX+r8iQHyWMRSIex5AfJYxFIh7HkB8ljEUiHseQHyWMRSIex5AfJYxFIh7HkB8ljEUiHseQHyWMRSIex5AfJYxFIh7HkB8ljEUiHseQHyWMRSIex5AfJYxFIh7HkB8ljEUiHseQHyWMRSIex5A",
          "dtype": "f8"
         }
        }
       ],
       "layout": {
        "annotations": [
         {
          "showarrow": false,
          "text": "WACC Mean: 7.62%",
          "x": 1,
          "xanchor": "right",
          "xref": "x domain",
          "y": 7.6206362872377404,
          "yanchor": "top",
          "yref": "y"
         },
         {
          "bgcolor": "rgba(0, 100, 255, 0.2)",
          "bordercolor": "blue",
          "borderpad": 4,
          "borderwidth": 1,
          "font": {
           "color": "blue",
           "size": 12
          },
          "opacity": 0.8,
          "showarrow": false,
          "text": "<b>Economic Value</b>",
          "x": 0.02,
          "xanchor": "left",
          "xref": "paper",
          "y": 0.95,
          "yanchor": "top",
          "yref": "paper"
         }
        ],
        "hovermode": "x unified",
        "legend": {
         "bgcolor": "rgba(255, 255, 255, 0.7)",
         "bordercolor": "rgba(0, 0, 0, 0.2)",
         "borderwidth": 1,
         "orientation": "h",
         "x": 0.5,
         "xanchor": "center",
         "y": -0.3,
         "yanchor": "bottom"
        },
        "margin": {
         "b": 80,
         "l": 50,
         "r": 50,
         "t": 50
        },
        "shapes": [
         {
          "line": {
           "color": "red",
           "dash": "dash"
          },
          "type": "line",
          "x0": 0,
          "x1": 1,
          "xref": "x domain",
          "y0": 7.6206362872377404,
          "y1": 7.6206362872377404,
          "yref": "y"
         }
        ],
        "showlegend": true,
        "template": {
         "data": {
          "bar": [
           {
            "error_x": {
             "color": "#2a3f5f"
            },
            "error_y": {
             "color": "#2a3f5f"
            },
            "marker": {
             "line": {
              "color": "white",
              "width": 0.5
             },
             "pattern": {
              "fillmode": "overlay",
              "size": 10,
              "solidity": 0.2
             }
            },
            "type": "bar"
           }
          ],
          "barpolar": [
           {
            "marker": {
             "line": {
              "color": "white",
              "width": 0.5
             },
             "pattern": {
              "fillmode": "overlay",
              "size": 10,
              "solidity": 0.2
             }
            },
            "type": "barpolar"
           }
          ],
          "carpet": [
           {
            "aaxis": {
             "endlinecolor": "#2a3f5f",
             "gridcolor": "#C8D4E3",
             "linecolor": "#C8D4E3",
             "minorgridcolor": "#C8D4E3",
             "startlinecolor": "#2a3f5f"
            },
            "baxis": {
             "endlinecolor": "#2a3f5f",
             "gridcolor": "#C8D4E3",
             "linecolor": "#C8D4E3",
             "minorgridcolor": "#C8D4E3",
             "startlinecolor": "#2a3f5f"
            },
            "type": "carpet"
           }
          ],
          "choropleth": [
           {
            "colorbar": {
             "outlinewidth": 0,
             "ticks": ""
            },
            "type": "choropleth"
           }
          ],
          "contour": [
           {
            "colorbar": {
             "outlinewidth": 0,
             "ticks": ""
            },
            "colorscale": [
             [
              0,
              "#0d0887"
             ],
             [
              0.1111111111111111,
              "#46039f"
             ],
             [
              0.2222222222222222,
              "#7201a8"
             ],
             [
              0.3333333333333333,
              "#9c179e"
             ],
             [
              0.4444444444444444,
              "#bd3786"
             ],
             [
              0.5555555555555556,
              "#d8576b"
             ],
             [
              0.6666666666666666,
              "#ed7953"
             ],
             [
              0.7777777777777778,
              "#fb9f3a"
             ],
             [
              0.8888888888888888,
              "#fdca26"
             ],
             [
              1,
              "#f0f921"
             ]
            ],
            "type": "contour"
           }
          ],
          "contourcarpet": [
           {
            "colorbar": {
             "outlinewidth": 0,
             "ticks": ""
            },
            "type": "contourcarpet"
           }
          ],
          "heatmap": [
           {
            "colorbar": {
             "outlinewidth": 0,
             "ticks": ""
            },
            "colorscale": [
             [
              0,
              "#0d0887"
             ],
             [
              0.1111111111111111,
              "#46039f"
             ],
             [
              0.2222222222222222,
              "#7201a8"
             ],
             [
              0.3333333333333333,
              "#9c179e"
             ],
             [
              0.4444444444444444,
              "#bd3786"
             ],
             [
              0.5555555555555556,
              "#d8576b"
             ],
             [
              0.6666666666666666,
              "#ed7953"
             ],
             [
              0.7777777777777778,
              "#fb9f3a"
             ],
             [
              0.8888888888888888,
              "#fdca26"
             ],
             [
              1,
              "#f0f921"
             ]
            ],
            "type": "heatmap"
           }
          ],
          "histogram": [
           {
            "marker": {
             "pattern": {
              "fillmode": "overlay",
              "size": 10,
              "solidity": 0.2
             }
            },
            "type": "histogram"
           }
          ],
          "histogram2d": [
           {
            "colorbar": {
             "outlinewidth": 0,
             "ticks": ""
            },
            "colorscale": [
             [
              0,
              "#0d0887"
             ],
             [
              0.1111111111111111,
              "#46039f"
             ],
             [
              0.2222222222222222,
              "#7201a8"
             ],
             [
              0.3333333333333333,
              "#9c179e"
             ],
             [
              0.4444444444444444,
              "#bd3786"
             ],
             [
              0.5555555555555556,
              "#d8576b"
             ],
             [
              0.6666666666666666,
              "#ed7953"
             ],
             [
              0.7777777777777778,
              "#fb9f3a"
             ],
             [
              0.8888888888888888,
              "#fdca26"
             ],
             [
              1,
              "#f0f921"
             ]
            ],
            "type": "histogram2d"
           }
          ],
          "histogram2dcontour": [
           {
            "colorbar": {
             "outlinewidth": 0,
             "ticks": ""
            },
            "colorscale": [
             [
              0,
              "#0d0887"
             ],
             [
              0.1111111111111111,
              "#46039f"
             ],
             [
              0.2222222222222222,
              "#7201a8"
             ],
             [
              0.3333333333333333,
              "#9c179e"
             ],
             [
              0.4444444444444444,
              "#bd3786"
             ],
             [
              0.5555555555555556,
              "#d8576b"
             ],
             [
              0.6666666666666666,
              "#ed7953"
             ],
             [
              0.7777777777777778,
              "#fb9f3a"
             ],
             [
              0.8888888888888888,
              "#fdca26"
             ],
             [
              1,
              "#f0f921"
             ]
            ],
            "type": "histogram2dcontour"
           }
          ],
          "mesh3d": [
           {
            "colorbar": {
             "outlinewidth": 0,
             "ticks": ""
            },
            "type": "mesh3d"
           }
          ],
          "parcoords": [
           {
            "line": {
             "colorbar": {
              "outlinewidth": 0,
              "ticks": ""
             }
            },
            "type": "parcoords"
           }
          ],
          "pie": [
           {
            "automargin": true,
            "type": "pie"
           }
          ],
          "scatter": [
           {
            "fillpattern": {
             "fillmode": "overlay",
             "size": 10,
             "solidity": 0.2
            },
            "type": "scatter"
           }
          ],
          "scatter3d": [
           {
            "line": {
             "colorbar": {
              "outlinewidth": 0,
              "ticks": ""
             }
            },
            "marker": {
             "colorbar": {
              "outlinewidth": 0,
              "ticks": ""
             }
            },
            "type": "scatter3d"
           }
          ],
          "scattercarpet": [
           {
            "marker": {
             "colorbar": {
              "outlinewidth": 0,
              "ticks": ""
             }
            },
            "type": "scattercarpet"
           }
          ],
          "scattergeo": [
           {
            "marker": {
             "colorbar": {
              "outlinewidth": 0,
              "ticks": ""
             }
            },
            "type": "scattergeo"
           }
          ],
          "scattergl": [
           {
            "marker": {
             "colorbar": {
              "outlinewidth": 0,
              "ticks": ""
             }
            },
            "type": "scattergl"
           }
          ],
          "scattermap": [
           {
            "marker": {
             "colorbar": {
              "outlinewidth": 0,
              "ticks": ""
             }
            },
            "type": "scattermap"
           }
          ],
          "scattermapbox": [
           {
            "marker": {
             "colorbar": {
              "outlinewidth": 0,
              "ticks": ""
             }
            },
            "type": "scattermapbox"
           }
          ],
          "scatterpolar": [
           {
            "marker": {
             "colorbar": {
              "outlinewidth": 0,
              "ticks": ""
             }
            },
            "type": "scatterpolar"
           }
          ],
          "scatterpolargl": [
           {
            "marker": {
             "colorbar": {
              "outlinewidth": 0,
              "ticks": ""
             }
            },
            "type": "scatterpolargl"
           }
          ],
          "scatterternary": [
           {
            "marker": {
             "colorbar": {
              "outlinewidth": 0,
              "ticks": ""
             }
            },
            "type": "scatterternary"
           }
          ],
          "surface": [
           {
            "colorbar": {
             "outlinewidth": 0,
             "ticks": ""
            },
            "colorscale": [
             [
              0,
              "#0d0887"
             ],
             [
              0.1111111111111111,
              "#46039f"
             ],
             [
              0.2222222222222222,
              "#7201a8"
             ],
             [
              0.3333333333333333,
              "#9c179e"
             ],
             [
              0.4444444444444444,
              "#bd3786"
             ],
             [
              0.5555555555555556,
              "#d8576b"
             ],
             [
              0.6666666666666666,
              "#ed7953"
             ],
             [
              0.7777777777777778,
              "#fb9f3a"
             ],
             [
              0.8888888888888888,
              "#fdca26"
             ],
             [
              1,
              "#f0f921"
             ]
            ],
            "type": "surface"
           }
          ],
          "table": [
           {
            "cells": {
             "fill": {
              "color": "#EBF0F8"
             },
             "line": {
              "color": "white"
             }
            },
            "header": {
             "fill": {
              "color": "#C8D4E3"
             },
             "line": {
              "color": "white"
             }
            },
            "type": "table"
           }
          ]
         },
         "layout": {
          "annotationdefaults": {
           "arrowcolor": "#2a3f5f",
           "arrowhead": 0,
           "arrowwidth": 1
          },
          "autotypenumbers": "strict",
          "coloraxis": {
           "colorbar": {
            "outlinewidth": 0,
            "ticks": ""
           }
          },
          "colorscale": {
           "diverging": [
            [
             0,
             "#8e0152"
            ],
            [
             0.1,
             "#c51b7d"
            ],
            [
             0.2,
             "#de77ae"
            ],
            [
             0.3,
             "#f1b6da"
            ],
            [
             0.4,
             "#fde0ef"
            ],
            [
             0.5,
             "#f7f7f7"
            ],
            [
             0.6,
             "#e6f5d0"
            ],
            [
             0.7,
             "#b8e186"
            ],
            [
             0.8,
             "#7fbc41"
            ],
            [
             0.9,
             "#4d9221"
            ],
            [
             1,
             "#276419"
            ]
           ],
           "sequential": [
            [
             0,
             "#0d0887"
            ],
            [
             0.1111111111111111,
             "#46039f"
            ],
            [
             0.2222222222222222,
             "#7201a8"
            ],
            [
             0.3333333333333333,
             "#9c179e"
            ],
            [
             0.4444444444444444,
             "#bd3786"
            ],
            [
             0.5555555555555556,
             "#d8576b"
            ],
            [
             0.6666666666666666,
             "#ed7953"
            ],
            [
             0.7777777777777778,
             "#fb9f3a"
            ],
            [
             0.8888888888888888,
             "#fdca26"
            ],
            [
             1,
             "#f0f921"
            ]
           ],
           "sequentialminus": [
            [
             0,
             "#0d0887"
            ],
            [
             0.1111111111111111,
             "#46039f"
            ],
            [
             0.2222222222222222,
             "#7201a8"
            ],
            [
             0.3333333333333333,
             "#9c179e"
            ],
            [
             0.4444444444444444,
             "#bd3786"
            ],
            [
             0.5555555555555556,
             "#d8576b"
            ],
            [
             0.6666666666666666,
             "#ed7953"
            ],
            [
             0.7777777777777778,
             "#fb9f3a"
            ],
            [
             0.8888888888888888,
             "#fdca26"
            ],
            [
             1,
             "#f0f921"
            ]
           ]
          },
          "colorway": [
           "#636efa",
           "#EF553B",
           "#00cc96",
           "#ab63fa",
           "#FFA15A",
           "#19d3f3",
           "#FF6692",
           "#B6E880",
           "#FF97FF",
           "#FECB52"
          ],
          "font": {
           "color": "#2a3f5f"
          },
          "geo": {
           "bgcolor": "white",
           "lakecolor": "white",
           "landcolor": "white",
           "showlakes": true,
           "showland": true,
           "subunitcolor": "#C8D4E3"
          },
          "hoverlabel": {
           "align": "left"
          },
          "hovermode": "closest",
          "mapbox": {
           "style": "light"
          },
          "paper_bgcolor": "white",
          "plot_bgcolor": "white",
          "polar": {
           "angularaxis": {
            "gridcolor": "#EBF0F8",
            "linecolor": "#EBF0F8",
            "ticks": ""
           },
           "bgcolor": "white",
           "radialaxis": {
            "gridcolor": "#EBF0F8",
            "linecolor": "#EBF0F8",
            "ticks": ""
           }
          },
          "scene": {
           "xaxis": {
            "backgroundcolor": "white",
            "gridcolor": "#DFE8F3",
            "gridwidth": 2,
            "linecolor": "#EBF0F8",
            "showbackground": true,
            "ticks": "",
            "zerolinecolor": "#EBF0F8"
           },
           "yaxis": {
            "backgroundcolor": "white",
            "gridcolor": "#DFE8F3",
            "gridwidth": 2,
            "linecolor": "#EBF0F8",
            "showbackground": true,
            "ticks": "",
            "zerolinecolor": "#EBF0F8"
           },
           "zaxis": {
            "backgroundcolor": "white",
            "gridcolor": "#DFE8F3",
            "gridwidth": 2,
            "linecolor": "#EBF0F8",
            "showbackground": true,
            "ticks": "",
            "zerolinecolor": "#EBF0F8"
           }
          },
          "shapedefaults": {
           "line": {
            "color": "#2a3f5f"
           }
          },
          "ternary": {
           "aaxis": {
            "gridcolor": "#DFE8F3",
            "linecolor": "#A2B1C6",
            "ticks": ""
           },
           "baxis": {
            "gridcolor": "#DFE8F3",
            "linecolor": "#A2B1C6",
            "ticks": ""
           },
           "bgcolor": "white",
           "caxis": {
            "gridcolor": "#DFE8F3",
            "linecolor": "#A2B1C6",
            "ticks": ""
           }
          },
          "title": {
           "x": 0.05
          },
          "xaxis": {
           "automargin": true,
           "gridcolor": "#EBF0F8",
           "linecolor": "#EBF0F8",
           "ticks": "",
           "title": {
            "standoff": 15
           },
           "zerolinecolor": "#EBF0F8",
           "zerolinewidth": 2
          },
          "yaxis": {
           "automargin": true,
           "gridcolor": "#EBF0F8",
           "linecolor": "#EBF0F8",
           "ticks": "",
           "title": {
            "standoff": 15
           },
           "zerolinecolor": "#EBF0F8",
           "zerolinewidth": 2
          }
         }
        },
        "title": {
         "text": "ROIC (%) vs WACC (%) with Economic Value Zone"
        },
        "xaxis": {
         "title": {
          "text": "Year"
         }
        },
        "yaxis": {
         "title": {
          "text": "Percentage (%)"
         }
        }
       }
      }
     },
     "metadata": {},
     "output_type": "display_data"
    }
   ],
   "source": [
    "import plotly.graph_objects as go\n",
    "import numpy as np\n",
    "import pandas as pd\n",
    "\n",
    "# Get the years from both DataFrames\n",
    "ratio_years = Ratio[('Meta', 'Năm')].astype(int).values\n",
    "result_years = result_df['yearReport'].astype(int).values\n",
    "\n",
    "# Find common years\n",
    "common_years = sorted(list(set(ratio_years).intersection(set(result_years))))\n",
    "\n",
    "# Filter and sort both DataFrames by common years\n",
    "ratio_filtered = Ratio[Ratio[('Meta', 'Năm')].astype(int).isin(common_years)]\n",
    "ratio_filtered = ratio_filtered.sort_values(('Meta', 'Năm'))\n",
    "\n",
    "result_filtered = result_df[result_df['yearReport'].astype(int).isin(common_years)]\n",
    "result_filtered = result_filtered.sort_values('yearReport')\n",
    "\n",
    "# Calculate values using the filtered and aligned data\n",
    "wacc_mean = result_filtered['wacc_market_based'].mean() * 100\n",
    "roic_values = ratio_filtered[('Chỉ tiêu khả năng sinh lợi', 'ROIC (%)')] * 100\n",
    "wacc_values = result_filtered['wacc_market_based'] * 100\n",
    "\n",
    "# Create the figure\n",
    "fig = go.Figure()\n",
    "\n",
    "# Add ROIC line\n",
    "fig.add_trace(go.Scatter(\n",
    "    x=ratio_filtered[('Meta', 'Năm')],\n",
    "    y=roic_values,\n",
    "    name='ROIC (%)',\n",
    "    line=dict(color='blue')\n",
    "))\n",
    "\n",
    "# Add WACC line\n",
    "fig.add_trace(go.Scatter(\n",
    "    x=result_filtered['yearReport'],\n",
    "    y=wacc_values,\n",
    "    name='WACC (%)',\n",
    "    line=dict(color='green')\n",
    "))\n",
    "\n",
    "# Add horizontal line at WACC mean\n",
    "fig.add_hline(\n",
    "    y=wacc_mean,\n",
    "    line_dash=\"dash\",\n",
    "    line_color=\"red\",\n",
    "    annotation_text=f\"WACC Mean: {wacc_mean:.2f}%\",\n",
    "    annotation_position=\"bottom right\"\n",
    ")\n",
    "\n",
    "# Only add shaded area if we have data points\n",
    "if len(roic_values) > 0:\n",
    "    # Create x values for the shaded area\n",
    "    x_combined = np.concatenate([ratio_filtered[('Meta', 'Năm')], ratio_filtered[('Meta', 'Năm')][::-1]])\n",
    "    y_upper = np.where(roic_values > wacc_mean, roic_values, wacc_mean)\n",
    "    y_lower = np.full_like(roic_values, wacc_mean)\n",
    "    y_combined = np.concatenate([y_upper, y_lower[::-1]])\n",
    "\n",
    "    # Add the shaded area\n",
    "    fig.add_trace(go.Scatter(\n",
    "        x=x_combined,\n",
    "        y=y_combined,\n",
    "        fill='toself',\n",
    "        fillcolor='rgba(0, 100, 255, 0.2)',\n",
    "        line=dict(width=0),\n",
    "        showlegend=True,\n",
    "        name='Economic Value',\n",
    "        legendgroup='economic_value',\n",
    "        hoverinfo='skip'\n",
    "    ))\n",
    "\n",
    "# Add Economic Value annotation in upper left corner\n",
    "fig.add_annotation(\n",
    "    x=0.02,  # Left side\n",
    "    y=0.95,  # Top side\n",
    "    xref=\"paper\",  # Use paper coordinates (0-1)\n",
    "    yref=\"paper\",  # Use paper coordinates (0-1)\n",
    "    text=\"<b>Economic Value</b>\",\n",
    "    showarrow=False,\n",
    "    font=dict(\n",
    "        size=12,\n",
    "        color=\"blue\"\n",
    "    ),\n",
    "    bgcolor='rgba(0, 100, 255, 0.2)',  # Same as fill color\n",
    "    bordercolor=\"blue\",\n",
    "    borderwidth=1,\n",
    "    borderpad=4,\n",
    "    opacity=0.8,\n",
    "    xanchor=\"left\",  # Left-align the text\n",
    "    yanchor=\"top\"    # Anchor at the top\n",
    ")\n",
    "\n",
    "# Update layout with legend at bottom\n",
    "fig.update_layout(\n",
    "    title='ROIC (%) vs WACC (%) with Economic Value Zone',\n",
    "    xaxis_title='Year',\n",
    "    yaxis_title='Percentage (%)',\n",
    "    showlegend=True,\n",
    "    template='plotly_white',\n",
    "    hovermode='x unified',\n",
    "    margin=dict(t=50, l=50, r=50, b=80),  # Added more bottom margin for legend\n",
    "    legend=dict(\n",
    "        orientation=\"h\",  # Horizontal legend\n",
    "        yanchor=\"bottom\",\n",
    "        y=-0.3,  # Position below the x-axis\n",
    "        xanchor=\"center\",\n",
    "        x=0.5,   # Center the legend\n",
    "        bgcolor='rgba(255, 255, 255, 0.7)',\n",
    "        bordercolor='rgba(0, 0, 0, 0.2)',\n",
    "        borderwidth=1\n",
    "    )\n",
    ")\n",
    "\n",
    "# Show the plot\n",
    "fig.show()"
   ]
  },
  {
   "cell_type": "markdown",
   "id": "fe439d1c",
   "metadata": {},
   "source": [
    "# Create a combined layout with subplots. "
   ]
  },
  {
   "cell_type": "code",
   "execution_count": 29,
   "id": "b98a596f",
   "metadata": {},
   "outputs": [
    {
     "name": "stdout",
     "output_type": "stream",
     "text": [
      "Financial dashboard saved to ./dist\\index.html\n"
     ]
    }
   ],
   "source": [
    "import plotly.graph_objects as go\n",
    "from plotly.subplots import make_subplots\n",
    "import pandas as pd\n",
    "import numpy as np\n",
    "import os\n",
    "\n",
    "# Define the function to calculate ROCE and include ROE from Ratio dataframe\n",
    "def calculate_roce_and_include_roe(BalanceSheet, IncomeStatement, Ratio):\n",
    "    \"\"\"\n",
    "    Calculate ROCE and include ROE from Ratio dataframe with MultiIndex columns.\n",
    "    \"\"\"\n",
    "    # Create a copy to avoid modifying the original dataframe\n",
    "    BalanceSheet_copy = BalanceSheet.copy()\n",
    "    \n",
    "    # Step 1: Calculate Capital Employed\n",
    "    BalanceSheet_copy['Capital Employed (Bn. VND)'] = (\n",
    "        BalanceSheet_copy['Long-term borrowings (Bn. VND)'] + \n",
    "        BalanceSheet_copy['Short-term borrowings (Bn. VND)'] + \n",
    "        BalanceSheet_copy[\"OWNER'S EQUITY(Bn.VND)\"]\n",
    "    )\n",
    "    \n",
    "    # Step 2: Merge Balance Sheet and Income Statement\n",
    "    merged_df = pd.merge(\n",
    "        BalanceSheet_copy[['ticker', 'yearReport', 'Capital Employed (Bn. VND)']],\n",
    "        IncomeStatement[['ticker', 'yearReport', 'Operating Profit/Loss']],\n",
    "        on=['ticker', 'yearReport'],\n",
    "        how='inner'\n",
    "    )\n",
    "    \n",
    "    # Step 3: Calculate ROCE\n",
    "    merged_df['ROCE'] = merged_df['Operating Profit/Loss'] / merged_df['Capital Employed (Bn. VND)']\n",
    "    \n",
    "    # Select columns for ROCE calculation\n",
    "    ROCE_df = merged_df[['ticker', 'yearReport', 'Operating Profit/Loss', \n",
    "                         'Capital Employed (Bn. VND)', 'ROCE']]\n",
    "    ROCE_df = ROCE_df.rename(columns={'Operating Profit/Loss': 'EBIT (Bn. VND)'})\n",
    "    \n",
    "    # Step 4: Create a simplified version of Ratio DataFrame for merging\n",
    "    # Extract the ticker, year, and ROE columns\n",
    "    ratio_simple = pd.DataFrame({\n",
    "        'ticker': Ratio[('Meta', 'CP')],\n",
    "        'yearReport': Ratio[('Meta', 'Năm')],\n",
    "        'ROE': Ratio[('Chỉ tiêu khả năng sinh lợi', 'ROE (%)')]\n",
    "    })\n",
    "    \n",
    "    # Step 5: Merge with simplified Ratio dataframe to include ROE\n",
    "    ROCE_df = pd.merge(\n",
    "        ROCE_df,\n",
    "        ratio_simple[['ticker', 'yearReport', 'ROE']],\n",
    "        on=['ticker', 'yearReport'],\n",
    "        how='left'\n",
    "    )\n",
    "    \n",
    "    return ROCE_df\n",
    "\n",
    "# Define function for DuPont analysis\n",
    "def create_dupont_analysis(IncomeStatement, BalanceSheet, CashFlow):\n",
    "    \"\"\"\n",
    "    Create a 3-factor DuPont analysis based on the three financial statements.\n",
    "    \n",
    "    DuPont Analysis: ROE = Net Profit Margin × Asset Turnover × Financial Leverage\n",
    "    \n",
    "    Where:\n",
    "    - Net Profit Margin = Net Income / Revenue\n",
    "    - Asset Turnover = Revenue / Average Total Assets\n",
    "    - Financial Leverage = Average Total Assets / Average Shareholders' Equity\n",
    "    \n",
    "    Returns:\n",
    "    --------\n",
    "    pandas DataFrame\n",
    "        DataFrame with DuPont analysis results\n",
    "    \"\"\"\n",
    "    # Step 1: Combine necessary data from all three statements\n",
    "    # Start with Income Statement data for revenue and net income\n",
    "    income_data = IncomeStatement[['ticker', 'yearReport', 'Revenue (Bn. VND)', 'Attribute to parent company (Bn. VND)']].copy()\n",
    "    \n",
    "    # Rename for clarity\n",
    "    income_data = income_data.rename(columns={'Attribute to parent company (Bn. VND)': 'Net Income (Bn. VND)'})\n",
    "    \n",
    "    # Step 2: Add Balance Sheet data for assets and equity\n",
    "    balance_data = BalanceSheet[['ticker', 'yearReport', 'TOTAL ASSETS (Bn. VND)', \"OWNER'S EQUITY(Bn.VND)\"]].copy()\n",
    "    \n",
    "    # Merge the dataframes\n",
    "    dupont_df = pd.merge(income_data, balance_data, on=['ticker', 'yearReport'], how='inner')\n",
    "    \n",
    "    # Step 3: Group by ticker to calculate year-over-year values and averages\n",
    "    # Sort by ticker and year\n",
    "    dupont_df = dupont_df.sort_values(['ticker', 'yearReport'])\n",
    "    \n",
    "    # Calculate average total assets and equity for each year (current + previous year) / 2\n",
    "    # First create shifted columns for previous year's values\n",
    "    dupont_df['Prev_Assets'] = dupont_df.groupby('ticker')['TOTAL ASSETS (Bn. VND)'].shift(1)\n",
    "    dupont_df['Prev_Equity'] = dupont_df.groupby('ticker')[\"OWNER'S EQUITY(Bn.VND)\"].shift(1)\n",
    "    \n",
    "    # Calculate averages\n",
    "    dupont_df['Average Total Assets (Bn. VND)'] = (dupont_df['TOTAL ASSETS (Bn. VND)'] + dupont_df['Prev_Assets']) / 2\n",
    "    dupont_df['Average Equity (Bn. VND)'] = (dupont_df[\"OWNER'S EQUITY(Bn.VND)\"] + dupont_df['Prev_Equity']) / 2\n",
    "    \n",
    "    # For the first year of each ticker, we don't have previous year data, so use current year\n",
    "    dupont_df['Average Total Assets (Bn. VND)'] = dupont_df['Average Total Assets (Bn. VND)'].fillna(\n",
    "        dupont_df['TOTAL ASSETS (Bn. VND)'])\n",
    "    dupont_df['Average Equity (Bn. VND)'] = dupont_df['Average Equity (Bn. VND)'].fillna(\n",
    "        dupont_df[\"OWNER'S EQUITY(Bn.VND)\"])\n",
    "    \n",
    "    # Step 4: Calculate the 3 DuPont components\n",
    "    # Net Profit Margin = Net Income / Revenue\n",
    "    dupont_df['Net Profit Margin'] = dupont_df['Net Income (Bn. VND)'] / dupont_df['Revenue (Bn. VND)']\n",
    "    \n",
    "    # Asset Turnover = Revenue / Average Total Assets\n",
    "    dupont_df['Asset Turnover'] = dupont_df['Revenue (Bn. VND)'] / dupont_df['Average Total Assets (Bn. VND)']\n",
    "    \n",
    "    # Financial Leverage = Average Total Assets / Average Equity\n",
    "    dupont_df['Financial Leverage'] = dupont_df['Average Total Assets (Bn. VND)'] / dupont_df['Average Equity (Bn. VND)']\n",
    "    \n",
    "    # Step 5: Calculate ROE using DuPont formula\n",
    "    dupont_df['ROE (DuPont)'] = dupont_df['Net Profit Margin'] * dupont_df['Asset Turnover'] * dupont_df['Financial Leverage']\n",
    "    \n",
    "    # Step 6: Calculate ROE directly for validation\n",
    "    dupont_df['ROE (Direct)'] = dupont_df['Net Income (Bn. VND)'] / dupont_df['Average Equity (Bn. VND)']\n",
    "    \n",
    "    # Step 7: Clean up the DataFrame and select relevant columns\n",
    "    dupont_analysis = dupont_df[[\n",
    "        'ticker', 'yearReport', \n",
    "        'Net Income (Bn. VND)', 'Revenue (Bn. VND)',\n",
    "        'Average Total Assets (Bn. VND)', 'Average Equity (Bn. VND)',\n",
    "        'Net Profit Margin', 'Asset Turnover', 'Financial Leverage',\n",
    "        'ROE (DuPont)', 'ROE (Direct)'\n",
    "    ]]\n",
    "    \n",
    "    # Convert ratios to percentages for better readability\n",
    "    dupont_analysis['Net Profit Margin'] = dupont_analysis['Net Profit Margin'] * 100\n",
    "    dupont_analysis['ROE (DuPont)'] = dupont_analysis['ROE (DuPont)'] * 100\n",
    "    dupont_analysis['ROE (Direct)'] = dupont_analysis['ROE (Direct)'] * 100\n",
    "    \n",
    "    # Round values for better display\n",
    "    dupont_analysis = dupont_analysis.round({\n",
    "        'Net Profit Margin': 2,\n",
    "        'Asset Turnover': 2,\n",
    "        'Financial Leverage': 2,\n",
    "        'ROE (DuPont)': 2,\n",
    "        'ROE (Direct)': 2\n",
    "    })\n",
    "    \n",
    "    return dupont_analysis\n",
    "\n",
    "# Create a new layout with 4 rows (3 separate charts for DuPont analysis)\n",
    "fig = make_subplots(\n",
    "    rows=5, \n",
    "    cols=2,\n",
    "    subplot_titles=(\n",
    "        'Net Operating Cashflow', \n",
    "        'ROIC (%) vs WACC (%) with Economic Value Zone',\n",
    "        'Cashflow Waterfall',\n",
    "        'ROCE vs ROE Comparison',\n",
    "        'DuPont Analysis: Net Profit Margin (%)',  # Row 3, Col 1\n",
    "        'DuPont Analysis: Asset Turnover',         # Row 3, Col 2\n",
    "        'DuPont Analysis: Financial Leverage',     # Row 4, Col 1\n",
    "        'DuPont Analysis: ROE (DuPont) vs ROE (Direct)'  # Row 4, Col 2\n",
    "    ),\n",
    "    specs=[\n",
    "        [{\"type\": \"xy\"}, {\"type\": \"xy\"}],\n",
    "        [{\"type\": \"waterfall\"}, {\"type\": \"xy\", \"secondary_y\": True}],\n",
    "        [{\"type\": \"xy\"}, {\"type\": \"xy\"}],  # Row 3: Net Profit Margin, Asset Turnover\n",
    "        [{\"type\": \"xy\"}, {\"type\": \"xy\"}],  # Row 4: Financial Leverage, ROE Comparison\n",
    "        [{\"type\": \"xy\", \"colspan\": 2}, None]  # Row 5: Empty row for spacing\n",
    "    ],\n",
    "    vertical_spacing=0.07,  # Reduced spacing for more compact layout\n",
    "    horizontal_spacing=0.08\n",
    ")\n",
    "\n",
    "# Get unique years from CashFlow\n",
    "years = sorted(CashFlow['yearReport'].unique())\n",
    "\n",
    "# Ensure years are integers for comparison operations\n",
    "years = [int(y) if isinstance(y, str) else y for y in years]\n",
    "\n",
    "# 1. Net Operating Cashflow (Bar Chart) - Top Left\n",
    "# For each year, calculate the average Net cash inflows/outflows from operating activities\n",
    "ocf_data = CashFlow.groupby('yearReport')['Net cash inflows/outflows from operating activities'].mean() / 1000  # Convert to billions\n",
    "ocf_years = ocf_data.index.tolist()\n",
    "ocf_values = ocf_data.values.tolist()\n",
    "\n",
    "# Add bar chart\n",
    "fig.add_trace(\n",
    "    go.Bar(\n",
    "        x=ocf_years,\n",
    "        y=ocf_values,\n",
    "        text=[f'{v:.2f}B' for v in ocf_values],\n",
    "        textposition='outside',\n",
    "        marker_color='rgb(66, 135, 245)',\n",
    "        marker_line_color='lightgrey',\n",
    "        marker_line_width=1.5,\n",
    "        opacity=0.8,\n",
    "        name='Net Operating Cash Flow'\n",
    "    ),\n",
    "    row=1, col=1\n",
    ")\n",
    "\n",
    "# 2. ROIC vs WACC Chart with Economic Value Zone - Top Right\n",
    "# Get the years from both DataFrames\n",
    "ratio_years = Ratio[('Meta', 'Năm')].values\n",
    "# Convert to int if they're strings\n",
    "ratio_years = [int(y) if isinstance(y, str) else y for y in ratio_years]\n",
    "\n",
    "result_years = result_df['yearReport'].values\n",
    "# Convert to int if they're strings\n",
    "result_years = [int(y) if isinstance(y, str) else y for y in result_years]\n",
    "\n",
    "# Find common years\n",
    "common_years = sorted(list(set(ratio_years).intersection(set(result_years))))\n",
    "\n",
    "# Filter and sort both DataFrames by common years\n",
    "# Ensure comparison works correctly by converting to the same type\n",
    "ratio_filtered = Ratio[Ratio[('Meta', 'Năm')].apply(lambda x: int(x) if isinstance(x, str) else x).isin(common_years)]\n",
    "ratio_filtered = ratio_filtered.sort_values(('Meta', 'Năm'))\n",
    "\n",
    "result_filtered = result_df[result_df['yearReport'].apply(lambda x: int(x) if isinstance(x, str) else x).isin(common_years)]\n",
    "result_filtered = result_filtered.sort_values('yearReport')\n",
    "\n",
    "# Calculate values using the filtered and aligned data\n",
    "wacc_mean = result_filtered['wacc_market_based'].mean() * 100\n",
    "roic_values = ratio_filtered[('Chỉ tiêu khả năng sinh lợi', 'ROIC (%)')] * 100\n",
    "wacc_values = result_filtered['wacc_market_based'] * 100\n",
    "\n",
    "# Add ROIC line\n",
    "fig.add_trace(\n",
    "    go.Scatter(\n",
    "        x=ratio_filtered[('Meta', 'Năm')],\n",
    "        y=roic_values,\n",
    "        name='ROIC (%)',\n",
    "        line=dict(color='blue')\n",
    "    ),\n",
    "    row=1, col=2\n",
    ")\n",
    "\n",
    "# Add WACC line\n",
    "fig.add_trace(\n",
    "    go.Scatter(\n",
    "        x=result_filtered['yearReport'],\n",
    "        y=wacc_values,\n",
    "        name='WACC (%)',\n",
    "        line=dict(color='green')\n",
    "    ),\n",
    "    row=1, col=2\n",
    ")\n",
    "\n",
    "# Add horizontal line at WACC mean\n",
    "fig.add_shape(\n",
    "    type=\"line\",\n",
    "    x0=min(common_years),\n",
    "    x1=max(common_years),\n",
    "    y0=wacc_mean,\n",
    "    y1=wacc_mean,\n",
    "    line=dict(color=\"red\", dash=\"dash\"),\n",
    "    row=1, col=2\n",
    ")\n",
    "\n",
    "# Add WACC mean annotation\n",
    "fig.add_annotation(\n",
    "    x=max(common_years),\n",
    "    y=wacc_mean,\n",
    "    text=f\"WACC Mean: {wacc_mean:.2f}%\",\n",
    "    showarrow=False,\n",
    "    xanchor=\"right\",\n",
    "    font=dict(color=\"red\"),\n",
    "    row=1, col=2\n",
    ")\n",
    "\n",
    "# Only add shaded area if we have data points\n",
    "if len(roic_values) > 0:\n",
    "    # Create x values for the shaded area\n",
    "    x_combined = np.concatenate([ratio_filtered[('Meta', 'Năm')].values, ratio_filtered[('Meta', 'Năm')].values[::-1]])\n",
    "    y_upper = np.where(roic_values > wacc_mean, roic_values, wacc_mean)\n",
    "    y_lower = np.full_like(roic_values, wacc_mean)\n",
    "    y_combined = np.concatenate([y_upper, y_lower[::-1]])\n",
    "\n",
    "    # Add the shaded area\n",
    "    fig.add_trace(\n",
    "        go.Scatter(\n",
    "            x=x_combined,\n",
    "            y=y_combined,\n",
    "            fill='toself',\n",
    "            fillcolor='rgba(0, 100, 255, 0.2)',\n",
    "            line=dict(width=0),\n",
    "            showlegend=True,\n",
    "            name='Economic Value',\n",
    "            legendgroup='economic_value',\n",
    "            hoverinfo='skip'\n",
    "        ),\n",
    "        row=1, col=2\n",
    "    )\n",
    "\n",
    "# Add Economic Value annotation in upper left corner of the ROIC vs WACC plot\n",
    "fig.add_annotation(\n",
    "    x=0.52,  # Adjusted for subplot positioning\n",
    "    y=0.97,  # Top side\n",
    "    xref=\"paper\",  # Use paper coordinates (0-1)\n",
    "    yref=\"paper\",  # Use paper coordinates (0-1)\n",
    "    text=\"<b>Economic Value</b>\",\n",
    "    showarrow=False,\n",
    "    font=dict(\n",
    "        size=12,\n",
    "        color=\"blue\"\n",
    "    ),\n",
    "    bgcolor='rgba(0, 100, 255, 0.2)',  # Same as fill color\n",
    "    bordercolor=\"blue\",\n",
    "    borderwidth=1,\n",
    "    borderpad=4,\n",
    "    opacity=0.8,\n",
    "    xanchor=\"left\",  # Left-align the text\n",
    "    yanchor=\"top\"    # Anchor at the top\n",
    ")\n",
    "\n",
    "# 3. Cashflow Waterfall - 2nd Row, Left\n",
    "# Get a representative ticker (or use one specified)\n",
    "ticker = CashFlow['ticker'].iloc[0]\n",
    "# Get the latest year\n",
    "latest_year = max(years)\n",
    "\n",
    "# Filter data for the specific ticker and latest year\n",
    "waterfall_data = CashFlow[(CashFlow['ticker'] == ticker) & \n",
    "                          (CashFlow['yearReport'] == latest_year)]\n",
    "\n",
    "if len(waterfall_data) > 0:\n",
    "    data = waterfall_data.iloc[0]\n",
    "    \n",
    "    # Key cashflow components with updated labels\n",
    "    measures = [\n",
    "        'Net Profit',  # Changed from 'Initial Cash' to 'Net Profit'\n",
    "        'Operating CF',\n",
    "        'Investing CF',\n",
    "        'Financing CF',\n",
    "        'Final Cash'\n",
    "    ]\n",
    "    \n",
    "    # Updated values using Net Profit as the initial value\n",
    "    values = [\n",
    "        data['Net Profit/Loss before tax'],  # Changed to Net Profit/Loss before tax\n",
    "        data['Net cash inflows/outflows from operating activities'],\n",
    "        data['Net Cash Flows from Investing Activities'],\n",
    "        data['Cash flows from financial activities'],\n",
    "        data['Cash and Cash Equivalents at the end of period']\n",
    "    ]\n",
    "    \n",
    "    measure_types = ['absolute', 'relative', 'relative', 'relative', 'total']\n",
    "    \n",
    "    # Add waterfall chart\n",
    "    fig.add_trace(\n",
    "        go.Waterfall(\n",
    "            name=f\"Cashflow {latest_year}\",\n",
    "            orientation=\"v\",\n",
    "            measure=measure_types,\n",
    "            x=measures,\n",
    "            textposition=\"outside\",\n",
    "            text=[f\"{x:,.1f}\" for x in values],\n",
    "            y=values,\n",
    "            connector={\"line\": {\"color\": \"rgb(63, 63, 63)\"}},\n",
    "        ),\n",
    "        row=2, col=1\n",
    "    )\n",
    "\n",
    "# 4. ROCE vs ROE Comparison - 2nd Row, Right\n",
    "# Calculate ROCE and ROE using the provided function\n",
    "ROCE_df = calculate_roce_and_include_roe(BalanceSheet, IncomeStatement, Ratio)\n",
    "\n",
    "# Filter for the specific ticker\n",
    "ticker_data = ROCE_df[ROCE_df['ticker'] == ticker].sort_values('yearReport')\n",
    "\n",
    "# Convert ROCE to percentage\n",
    "ticker_data['ROCE_PCT'] = ticker_data['ROCE'] * 100\n",
    "\n",
    "# Convert ROE to percentage if it's not already\n",
    "# Check if ROE values are already in percentage (typically >1 if in %)\n",
    "if ticker_data['ROE'].max() < 1:  # If ROE is in decimal form (e.g., 0.15 for 15%)\n",
    "    ticker_data['ROE_PCT'] = ticker_data['ROE'] * 100\n",
    "else:\n",
    "    ticker_data['ROE_PCT'] = ticker_data['ROE']  # If already in percentage form\n",
    "\n",
    "# Add ROCE trace (using percentage values) - REMOVED text labels\n",
    "fig.add_trace(\n",
    "    go.Scatter(\n",
    "        x=ticker_data['yearReport'],\n",
    "        y=ticker_data['ROCE_PCT'],\n",
    "        name='ROCE (%)',\n",
    "        mode='lines+markers',  # Removed 'text' from mode\n",
    "        line=dict(color='rgba(0, 117, 210, 0.9)', width=3),\n",
    "        marker=dict(\n",
    "            size=10, \n",
    "            color='rgba(0, 117, 210, 0.9)',\n",
    "            line=dict(color='white', width=2)\n",
    "        )\n",
    "    ),\n",
    "    row=2, col=2,\n",
    "    secondary_y=False\n",
    ")\n",
    "\n",
    "# Add shaded area under ROCE for emphasis\n",
    "fig.add_trace(\n",
    "    go.Scatter(\n",
    "        x=ticker_data['yearReport'],\n",
    "        y=ticker_data['ROCE_PCT'],\n",
    "        name='ROCE Area',\n",
    "        mode='none',\n",
    "        fill='tozeroy',\n",
    "        fillcolor='rgba(0, 117, 210, 0.1)',\n",
    "        showlegend=False,\n",
    "        hoverinfo='skip'\n",
    "    ),\n",
    "    row=2, col=2,\n",
    "    secondary_y=False\n",
    ")\n",
    "\n",
    "# Add ROE trace using percentage values - REMOVED text labels\n",
    "fig.add_trace(\n",
    "    go.Scatter(\n",
    "        x=ticker_data['yearReport'],\n",
    "        y=ticker_data['ROE_PCT'],\n",
    "        name='ROE (%)',\n",
    "        mode='lines+markers',  # Removed 'text' from mode\n",
    "        line=dict(color='rgba(220, 20, 60, 0.9)', width=3),\n",
    "        marker=dict(\n",
    "            size=10, \n",
    "            symbol='diamond',\n",
    "            color='rgba(220, 20, 60, 0.9)',\n",
    "            line=dict(color='white', width=2)\n",
    "        )\n",
    "    ),\n",
    "    row=2, col=2,\n",
    "    secondary_y=True\n",
    ")\n",
    "\n",
    "# Add shaded area under ROE for emphasis\n",
    "fig.add_trace(\n",
    "    go.Scatter(\n",
    "        x=ticker_data['yearReport'],\n",
    "        y=ticker_data['ROE_PCT'],\n",
    "        name='ROE Area',\n",
    "        mode='none',\n",
    "        fill='tozeroy',\n",
    "        fillcolor='rgba(220, 20, 60, 0.1)',\n",
    "        showlegend=False,\n",
    "        hoverinfo='skip'\n",
    "    ),\n",
    "    row=2, col=2,\n",
    "    secondary_y=True\n",
    ")\n",
    "\n",
    "# 5. DuPont Analysis (Split into 3 separate charts)\n",
    "# Calculate DuPont Analysis\n",
    "dupont_analysis = create_dupont_analysis(IncomeStatement, BalanceSheet, CashFlow)\n",
    "\n",
    "# Filter for the specific ticker\n",
    "dupont_ticker_data = dupont_analysis[dupont_analysis['ticker'] == ticker].sort_values('yearReport')\n",
    "\n",
    "# 5.1. Net Profit Margin - Row 3, Col 1\n",
    "fig.add_trace(\n",
    "    go.Scatter(\n",
    "        x=dupont_ticker_data['yearReport'],\n",
    "        y=dupont_ticker_data['Net Profit Margin'],\n",
    "        mode='lines+markers',\n",
    "        name='Net Profit Margin (%)',\n",
    "        line=dict(color='rgba(66, 135, 245, 0.9)', width=3),\n",
    "        marker=dict(\n",
    "            size=10, \n",
    "            color='rgba(66, 135, 245, 0.9)',\n",
    "            line=dict(color='white', width=2)\n",
    "        ),\n",
    "        showlegend=True\n",
    "    ),\n",
    "    row=3, col=1\n",
    ")\n",
    "\n",
    "# Add shaded area for Net Profit Margin\n",
    "fig.add_trace(\n",
    "    go.Scatter(\n",
    "        x=dupont_ticker_data['yearReport'],\n",
    "        y=dupont_ticker_data['Net Profit Margin'],\n",
    "        name='NPM Area',\n",
    "        mode='none',\n",
    "        fill='tozeroy',\n",
    "        fillcolor='rgba(66, 135, 245, 0.1)',\n",
    "        showlegend=False,\n",
    "        hoverinfo='skip'\n",
    "    ),\n",
    "    row=3, col=1\n",
    ")\n",
    "\n",
    "# 5.2. Asset Turnover - Row 3, Col 2\n",
    "fig.add_trace(\n",
    "    go.Scatter(\n",
    "        x=dupont_ticker_data['yearReport'],\n",
    "        y=dupont_ticker_data['Asset Turnover'],\n",
    "        mode='lines+markers',\n",
    "        name='Asset Turnover',\n",
    "        line=dict(color='rgba(0, 200, 0, 0.9)', width=3),\n",
    "        marker=dict(\n",
    "            size=10, \n",
    "            color='rgba(0, 200, 0, 0.9)',\n",
    "            line=dict(color='white', width=2)\n",
    "        ),\n",
    "        showlegend=True\n",
    "    ),\n",
    "    row=3, col=2\n",
    ")\n",
    "\n",
    "# Add shaded area for Asset Turnover\n",
    "fig.add_trace(\n",
    "    go.Scatter(\n",
    "        x=dupont_ticker_data['yearReport'],\n",
    "        y=dupont_ticker_data['Asset Turnover'],\n",
    "        name='AT Area',\n",
    "        mode='none',\n",
    "        fill='tozeroy',\n",
    "        fillcolor='rgba(0, 200, 0, 0.1)',\n",
    "        showlegend=False,\n",
    "        hoverinfo='skip'\n",
    "    ),\n",
    "    row=3, col=2\n",
    ")\n",
    "\n",
    "# 5.3. Financial Leverage - Row 4, Col 1\n",
    "fig.add_trace(\n",
    "    go.Scatter(\n",
    "        x=dupont_ticker_data['yearReport'],\n",
    "        y=dupont_ticker_data['Financial Leverage'],\n",
    "        mode='lines+markers',\n",
    "        name='Financial Leverage',\n",
    "        line=dict(color='rgba(220, 20, 60, 0.9)', width=3),\n",
    "        marker=dict(\n",
    "            size=10, \n",
    "            color='rgba(220, 20, 60, 0.9)',\n",
    "            line=dict(color='white', width=2)\n",
    "        ),\n",
    "        showlegend=True\n",
    "    ),\n",
    "    row=4, col=1\n",
    ")\n",
    "\n",
    "# Add shaded area for Financial Leverage\n",
    "fig.add_trace(\n",
    "    go.Scatter(\n",
    "        x=dupont_ticker_data['yearReport'],\n",
    "        y=dupont_ticker_data['Financial Leverage'],\n",
    "        name='FL Area',\n",
    "        mode='none',\n",
    "        fill='tozeroy',\n",
    "        fillcolor='rgba(220, 20, 60, 0.1)',\n",
    "        showlegend=False,\n",
    "        hoverinfo='skip'\n",
    "    ),\n",
    "    row=4, col=1\n",
    ")\n",
    "\n",
    "# 5.4. ROE Comparison (DuPont vs Direct) - Row 4, Col 2\n",
    "fig.add_trace(\n",
    "    go.Scatter(\n",
    "        x=dupont_ticker_data['yearReport'],\n",
    "        y=dupont_ticker_data['ROE (DuPont)'],\n",
    "        mode='lines+markers',\n",
    "        name='ROE (DuPont) (%)',\n",
    "        line=dict(color='rgba(255, 165, 0, 0.9)', width=3),  # Orange color\n",
    "        marker=dict(\n",
    "            size=10, \n",
    "            color='rgba(255, 165, 0, 0.9)',\n",
    "            line=dict(color='white', width=2)\n",
    "        ),\n",
    "        showlegend=True\n",
    "    ),\n",
    "    row=4, col=2\n",
    ")\n",
    "\n",
    "fig.add_trace(\n",
    "    go.Scatter(\n",
    "        x=dupont_ticker_data['yearReport'],\n",
    "        y=dupont_ticker_data['ROE (Direct)'],\n",
    "        mode='lines+markers',\n",
    "        name='ROE (Direct) (%)',\n",
    "        line=dict(color='rgba(128, 0, 128, 0.9)', width=3),  # Purple color\n",
    "        marker=dict(\n",
    "            size=10, \n",
    "            symbol='diamond',\n",
    "            color='rgba(128, 0, 128, 0.9)',\n",
    "            line=dict(color='white', width=2)\n",
    "        ),\n",
    "        showlegend=True\n",
    "    ),\n",
    "    row=4, col=2\n",
    ")\n",
    "\n",
    "# Update layout for better appearance\n",
    "fig.update_layout(\n",
    "    title={\n",
    "        'text': f'Financial Analysis Dashboard for {ticker}',\n",
    "        'y':0.98,\n",
    "        'x':0.5,\n",
    "        'xanchor': 'center',\n",
    "        'yanchor': 'top'\n",
    "    },\n",
    "    template='plotly_white',\n",
    "    height=1600,  # Increased height for 5 rows\n",
    "    width=1200,\n",
    "    showlegend=True,\n",
    "    legend=dict(\n",
    "        orientation=\"h\",\n",
    "        yanchor=\"bottom\",\n",
    "        y=-0.12,  # Adjusted for new layout\n",
    "        xanchor=\"center\",\n",
    "        x=0.5,\n",
    "        bgcolor='rgba(255, 255, 255, 0.7)',\n",
    "        bordercolor='rgba(0, 0, 0, 0.2)',\n",
    "        borderwidth=1\n",
    "    ),\n",
    "    hovermode='x unified',\n",
    "    margin=dict(t=100, b=150, l=80, r=80)  # Increased bottom margin\n",
    ")\n",
    "\n",
    "# Add DuPont formula annotation\n",
    "fig.add_annotation(\n",
    "    x=0.5,\n",
    "    y=0.05,  # Positioned at the bottom section\n",
    "    xref=\"paper\",\n",
    "    yref=\"paper\",\n",
    "    text=\"<b>DuPont Formula:</b><br>ROE = Net Profit Margin × Asset Turnover × Financial Leverage\",\n",
    "    showarrow=False,\n",
    "    font=dict(size=12, color=\"black\"),\n",
    "    align=\"center\",\n",
    "    bgcolor=\"rgba(255, 255, 255, 0.8)\",\n",
    "    bordercolor=\"rgba(0, 0, 0, 0.2)\",\n",
    "    borderwidth=1,\n",
    "    borderpad=4\n",
    ")\n",
    "\n",
    "# Update axes labels and settings for all plots\n",
    "# Row 1\n",
    "fig.update_xaxes(\n",
    "    title_text=\"Year\",\n",
    "    tickangle=45,\n",
    "    tickmode='array',\n",
    "    tickvals=years,\n",
    "    row=1, \n",
    "    col=1\n",
    ")\n",
    "\n",
    "fig.update_yaxes(title_text=\"Value (Billions VND)\", row=1, col=1)\n",
    "\n",
    "fig.update_xaxes(\n",
    "    title_text=\"Year\",\n",
    "    tickangle=45,\n",
    "    tickmode='array',\n",
    "    tickvals=common_years,\n",
    "    row=1, \n",
    "    col=2\n",
    ")\n",
    "\n",
    "fig.update_yaxes(title_text=\"Percentage (%)\", row=1, col=2)\n",
    "\n",
    "# Row 2\n",
    "fig.update_xaxes(title_text=\"Cash Flow Components\", tickangle=0, row=2, col=1)\n",
    "fig.update_yaxes(title_text=\"Amount (Bn. VND)\", row=2, col=1)\n",
    "\n",
    "fig.update_xaxes(\n",
    "    title_text=\"Year\",\n",
    "    tickangle=45,\n",
    "    tickmode='array',\n",
    "    tickvals=ticker_data['yearReport'],\n",
    "    row=2, \n",
    "    col=2\n",
    ")\n",
    "\n",
    "fig.update_yaxes(\n",
    "    title_text=\"ROCE (%)\",\n",
    "    title_font=dict(color='rgba(0, 117, 210, 1)'),\n",
    "    row=2, \n",
    "    col=2,\n",
    "    secondary_y=False\n",
    ")\n",
    "\n",
    "fig.update_yaxes(\n",
    "    title_text=\"ROE (%)\",\n",
    "    title_font=dict(color='rgba(220, 20, 60, 1)'),\n",
    "    row=2, \n",
    "    col=2,\n",
    "    secondary_y=True\n",
    ")\n",
    "\n",
    "# Row 3 - DuPont Analysis (Net Profit Margin, Asset Turnover)\n",
    "fig.update_xaxes(\n",
    "    title_text=\"Year\",\n",
    "    tickangle=45,\n",
    "    tickmode='array',\n",
    "    tickvals=dupont_ticker_data['yearReport'],\n",
    "    row=3, \n",
    "    col=1\n",
    ")\n",
    "\n",
    "fig.update_yaxes(\n",
    "    title_text=\"Net Profit Margin (%)\",\n",
    "    title_font=dict(color='rgba(66, 135, 245, 1)'),\n",
    "    row=3, \n",
    "    col=1\n",
    ")\n",
    "\n",
    "fig.update_xaxes(\n",
    "    title_text=\"Year\",\n",
    "    tickangle=45,\n",
    "    tickmode='array',\n",
    "    tickvals=dupont_ticker_data['yearReport'],\n",
    "    row=3, \n",
    "    col=2\n",
    ")\n",
    "\n",
    "fig.update_yaxes(\n",
    "    title_text=\"Asset Turnover (times)\",\n",
    "    title_font=dict(color='rgba(0, 200, 0, 1)'),\n",
    "    row=3, \n",
    "    col=2\n",
    ")\n",
    "\n",
    "# Row 4 - DuPont Analysis (Financial Leverage, ROE Comparison)\n",
    "fig.update_xaxes(\n",
    "    title_text=\"Year\",\n",
    "    tickangle=45,\n",
    "    tickmode='array',\n",
    "    tickvals=dupont_ticker_data['yearReport'],\n",
    "    row=4, \n",
    "    col=1\n",
    ")\n",
    "\n",
    "fig.update_yaxes(\n",
    "    title_text=\"Financial Leverage (times)\",\n",
    "    title_font=dict(color='rgba(220, 20, 60, 1)'),\n",
    "    row=4, \n",
    "    col=1\n",
    ")\n",
    "\n",
    "fig.update_xaxes(\n",
    "    title_text=\"Year\",\n",
    "    tickangle=45,\n",
    "    tickmode='array',\n",
    "    tickvals=dupont_ticker_data['yearReport'],\n",
    "    row=4, \n",
    "    col=2\n",
    ")\n",
    "\n",
    "fig.update_yaxes(\n",
    "    title_text=\"ROE (%)\",\n",
    "    row=4, \n",
    "    col=2\n",
    ")\n",
    "\n",
    "# Update subplot titles\n",
    "fig.update_annotations(\n",
    "    text=f\"Cashflow Waterfall ({latest_year})\",\n",
    "    selector={\"index\": 2}\n",
    ")\n",
    "\n",
    "# Improve grid appearance for better readability\n",
    "for row in range(1, 5):\n",
    "    for col in range(1, 3):\n",
    "        fig.update_xaxes(\n",
    "            showgrid=True,\n",
    "            gridwidth=1,\n",
    "            gridcolor='rgba(211, 211, 211, 0.4)',\n",
    "            showline=True,\n",
    "            linewidth=2,\n",
    "            linecolor='rgba(0, 0, 0, 0.3)',\n",
    "            row=row, \n",
    "            col=col\n",
    "        )\n",
    "        \n",
    "        fig.update_yaxes(\n",
    "            showgrid=True,\n",
    "            gridwidth=1,\n",
    "            gridcolor='rgba(211, 211, 211, 0.4)',\n",
    "            showline=True,\n",
    "            linewidth=2,\n",
    "            linecolor='rgba(0, 0, 0, 0.3)',\n",
    "            row=row, \n",
    "            col=col\n",
    "        )\n",
    "\n",
    "# Create outputs directory if it doesn't exist\n",
    "output_dir = './dist'  # Changed from './outputs' to './dist'\n",
    "if not os.path.exists(output_dir):\n",
    "    os.makedirs(output_dir)\n",
    "\n",
    "# Save the figure as an HTML file\n",
    "output_path = os.path.join(output_dir, 'index.html')\n",
    "fig.write_html(output_path)\n",
    "\n",
    "print(f\"Financial dashboard saved to {output_path}\")"
   ]
  },
  {
   "cell_type": "code",
   "execution_count": 40,
   "id": "c76d6fa3",
   "metadata": {},
   "outputs": [
    {
     "name": "stdout",
     "output_type": "stream",
     "text": [
      "Financial dashboard saved to ./dist\\index.html\n"
     ]
    }
   ],
   "source": [
    "import plotly.graph_objects as go\n",
    "from plotly.subplots import make_subplots\n",
    "import pandas as pd\n",
    "import numpy as np\n",
    "import os\n",
    "\n",
    "\n",
    "\n",
    "# Define the function to calculate DFL\n",
    "def calculate_degree_of_financial_leverage(IncomeStatement):\n",
    "    \"\"\"\n",
    "    Calculate Degree of Financial Leverage using percentage changes in Net Income and EBIT.\n",
    "    \n",
    "    DFL = % Change in Net Income / % Change in EBIT\n",
    "    \n",
    "    Parameters:\n",
    "    -----------\n",
    "    IncomeStatement : pandas DataFrame\n",
    "        Income Statement data with columns including 'Operating Profit/Loss' and 'Attribute to parent company (Bn. VND)'\n",
    "    \n",
    "    Returns:\n",
    "    --------\n",
    "    pandas DataFrame\n",
    "        DataFrame with DFL calculations\n",
    "    \"\"\"\n",
    "    # Create a copy to avoid modifying the original dataframe\n",
    "    financial_leverage_data = IncomeStatement.copy()\n",
    "    \n",
    "    # Rename for clarity\n",
    "    financial_leverage_data = financial_leverage_data.rename(columns={\n",
    "        'Operating Profit/Loss': 'EBIT (Bn. VND)',\n",
    "        'Attribute to parent company (Bn. VND)': 'Net Income (Bn. VND)'\n",
    "    })\n",
    "    \n",
    "    # Sort by ticker and year\n",
    "    financial_leverage_data = financial_leverage_data.sort_values(['ticker', 'yearReport'])\n",
    "    \n",
    "    # Calculate year-over-year percentage changes for each ticker\n",
    "    financial_leverage_data['EBIT % Change'] = financial_leverage_data.groupby('ticker')['EBIT (Bn. VND)'].pct_change() * 100\n",
    "    financial_leverage_data['Net Income % Change'] = financial_leverage_data.groupby('ticker')['Net Income (Bn. VND)'].pct_change() * 100\n",
    "    \n",
    "    # Calculate DFL\n",
    "    financial_leverage_data['DFL'] = financial_leverage_data['Net Income % Change'] / financial_leverage_data['EBIT % Change']\n",
    "    \n",
    "    # Handle infinite or NaN values (when EBIT % Change is near zero)\n",
    "    financial_leverage_data['DFL'] = financial_leverage_data['DFL'].replace([np.inf, -np.inf], np.nan)\n",
    "    \n",
    "    # Select relevant columns\n",
    "    dfl_results = financial_leverage_data[['ticker', 'yearReport', \n",
    "                                         'EBIT (Bn. VND)', 'Net Income (Bn. VND)', \n",
    "                                         'EBIT % Change', 'Net Income % Change', \n",
    "                                         'DFL']]\n",
    "    \n",
    "    return dfl_results\n",
    "\n",
    "# Define the function to calculate ROCE and include ROE from Ratio dataframe\n",
    "def calculate_roce_and_include_roe(BalanceSheet, IncomeStatement, Ratio):\n",
    "    \"\"\"\n",
    "    Calculate ROCE and include ROE from Ratio dataframe with MultiIndex columns.\n",
    "    \"\"\"\n",
    "    # Create a copy to avoid modifying the original dataframe\n",
    "    BalanceSheet_copy = BalanceSheet.copy()\n",
    "    \n",
    "    # Step 1: Calculate Capital Employed\n",
    "    BalanceSheet_copy['Capital Employed (Bn. VND)'] = (\n",
    "        BalanceSheet_copy['Long-term borrowings (Bn. VND)'] + \n",
    "        BalanceSheet_copy['Short-term borrowings (Bn. VND)'] + \n",
    "        BalanceSheet_copy[\"OWNER'S EQUITY(Bn.VND)\"]\n",
    "    )\n",
    "    \n",
    "    # Step 2: Merge Balance Sheet and Income Statement\n",
    "    merged_df = pd.merge(\n",
    "        BalanceSheet_copy[['ticker', 'yearReport', 'Capital Employed (Bn. VND)']],\n",
    "        IncomeStatement[['ticker', 'yearReport', 'Operating Profit/Loss']],\n",
    "        on=['ticker', 'yearReport'],\n",
    "        how='inner'\n",
    "    )\n",
    "    \n",
    "    # Step 3: Calculate ROCE\n",
    "    merged_df['ROCE'] = merged_df['Operating Profit/Loss'] / merged_df['Capital Employed (Bn. VND)']\n",
    "    \n",
    "    # Select columns for ROCE calculation\n",
    "    ROCE_df = merged_df[['ticker', 'yearReport', 'Operating Profit/Loss', \n",
    "                         'Capital Employed (Bn. VND)', 'ROCE']]\n",
    "    ROCE_df = ROCE_df.rename(columns={'Operating Profit/Loss': 'EBIT (Bn. VND)'})\n",
    "    \n",
    "    # Step 4: Create a simplified version of Ratio DataFrame for merging\n",
    "    # Extract the ticker, year, and ROE columns\n",
    "    ratio_simple = pd.DataFrame({\n",
    "        'ticker': Ratio[('Meta', 'CP')],\n",
    "        'yearReport': Ratio[('Meta', 'Năm')],\n",
    "        'ROE': Ratio[('Chỉ tiêu khả năng sinh lợi', 'ROE (%)')]\n",
    "    })\n",
    "    \n",
    "    # Step 5: Merge with simplified Ratio dataframe to include ROE\n",
    "    ROCE_df = pd.merge(\n",
    "        ROCE_df,\n",
    "        ratio_simple[['ticker', 'yearReport', 'ROE']],\n",
    "        on=['ticker', 'yearReport'],\n",
    "        how='left'\n",
    "    )\n",
    "    \n",
    "    return ROCE_df\n",
    "\n",
    "# Define function for DuPont analysis\n",
    "def create_dupont_analysis(IncomeStatement, BalanceSheet, CashFlow):\n",
    "    \"\"\"\n",
    "    Create a 3-factor DuPont analysis based on the three financial statements.\n",
    "    \n",
    "    DuPont Analysis: ROE = Net Profit Margin × Asset Turnover × Financial Leverage\n",
    "    \n",
    "    Where:\n",
    "    - Net Profit Margin = Net Income / Revenue\n",
    "    - Asset Turnover = Revenue / Average Total Assets\n",
    "    - Financial Leverage = Average Total Assets / Average Shareholders' Equity\n",
    "    \n",
    "    Returns:\n",
    "    --------\n",
    "    pandas DataFrame\n",
    "        DataFrame with DuPont analysis results\n",
    "    \"\"\"\n",
    "    # Step 1: Combine necessary data from all three statements\n",
    "    # Start with Income Statement data for revenue and net income\n",
    "    income_data = IncomeStatement[['ticker', 'yearReport', 'Revenue (Bn. VND)', 'Attribute to parent company (Bn. VND)']].copy()\n",
    "    \n",
    "    # Rename for clarity\n",
    "    income_data = income_data.rename(columns={'Attribute to parent company (Bn. VND)': 'Net Income (Bn. VND)'})\n",
    "    \n",
    "    # Step 2: Add Balance Sheet data for assets and equity\n",
    "    balance_data = BalanceSheet[['ticker', 'yearReport', 'TOTAL ASSETS (Bn. VND)', \"OWNER'S EQUITY(Bn.VND)\"]].copy()\n",
    "    \n",
    "    # Merge the dataframes\n",
    "    dupont_df = pd.merge(income_data, balance_data, on=['ticker', 'yearReport'], how='inner')\n",
    "    \n",
    "    # Step 3: Group by ticker to calculate year-over-year values and averages\n",
    "    # Sort by ticker and year\n",
    "    dupont_df = dupont_df.sort_values(['ticker', 'yearReport'])\n",
    "    \n",
    "    # Calculate average total assets and equity for each year (current + previous year) / 2\n",
    "    # First create shifted columns for previous year's values\n",
    "    dupont_df['Prev_Assets'] = dupont_df.groupby('ticker')['TOTAL ASSETS (Bn. VND)'].shift(1)\n",
    "    dupont_df['Prev_Equity'] = dupont_df.groupby('ticker')[\"OWNER'S EQUITY(Bn.VND)\"].shift(1)\n",
    "    \n",
    "    # Calculate averages\n",
    "    dupont_df['Average Total Assets (Bn. VND)'] = (dupont_df['TOTAL ASSETS (Bn. VND)'] + dupont_df['Prev_Assets']) / 2\n",
    "    dupont_df['Average Equity (Bn. VND)'] = (dupont_df[\"OWNER'S EQUITY(Bn.VND)\"] + dupont_df['Prev_Equity']) / 2\n",
    "    \n",
    "    # For the first year of each ticker, we don't have previous year data, so use current year\n",
    "    dupont_df['Average Total Assets (Bn. VND)'] = dupont_df['Average Total Assets (Bn. VND)'].fillna(\n",
    "        dupont_df['TOTAL ASSETS (Bn. VND)'])\n",
    "    dupont_df['Average Equity (Bn. VND)'] = dupont_df['Average Equity (Bn. VND)'].fillna(\n",
    "        dupont_df[\"OWNER'S EQUITY(Bn.VND)\"])\n",
    "    \n",
    "    # Step 4: Calculate the 3 DuPont components\n",
    "    # Net Profit Margin = Net Income / Revenue\n",
    "    dupont_df['Net Profit Margin'] = dupont_df['Net Income (Bn. VND)'] / dupont_df['Revenue (Bn. VND)']\n",
    "    \n",
    "    # Asset Turnover = Revenue / Average Total Assets\n",
    "    dupont_df['Asset Turnover'] = dupont_df['Revenue (Bn. VND)'] / dupont_df['Average Total Assets (Bn. VND)']\n",
    "    \n",
    "    # Financial Leverage = Average Total Assets / Average Equity\n",
    "    dupont_df['Financial Leverage'] = dupont_df['Average Total Assets (Bn. VND)'] / dupont_df['Average Equity (Bn. VND)']\n",
    "    \n",
    "    # Step 5: Calculate ROE using DuPont formula\n",
    "    dupont_df['ROE (DuPont)'] = dupont_df['Net Profit Margin'] * dupont_df['Asset Turnover'] * dupont_df['Financial Leverage']\n",
    "    \n",
    "    # Step 6: Calculate ROE directly for validation\n",
    "    dupont_df['ROE (Direct)'] = dupont_df['Net Income (Bn. VND)'] / dupont_df['Average Equity (Bn. VND)']\n",
    "    \n",
    "    # Step 7: Clean up the DataFrame and select relevant columns\n",
    "    dupont_analysis = dupont_df[[\n",
    "        'ticker', 'yearReport', \n",
    "        'Net Income (Bn. VND)', 'Revenue (Bn. VND)',\n",
    "        'Average Total Assets (Bn. VND)', 'Average Equity (Bn. VND)',\n",
    "        'Net Profit Margin', 'Asset Turnover', 'Financial Leverage',\n",
    "        'ROE (DuPont)', 'ROE (Direct)'\n",
    "    ]]\n",
    "    \n",
    "    # Convert ratios to percentages for better readability\n",
    "    dupont_analysis['Net Profit Margin'] = dupont_analysis['Net Profit Margin'] * 100\n",
    "    dupont_analysis['ROE (DuPont)'] = dupont_analysis['ROE (DuPont)'] * 100\n",
    "    dupont_analysis['ROE (Direct)'] = dupont_analysis['ROE (Direct)'] * 100\n",
    "    \n",
    "    # Round values for better display\n",
    "    dupont_analysis = dupont_analysis.round({\n",
    "        'Net Profit Margin': 2,\n",
    "        'Asset Turnover': 2,\n",
    "        'Financial Leverage': 2,\n",
    "        'ROE (DuPont)': 2,\n",
    "        'ROE (Direct)': 2\n",
    "    })\n",
    "    \n",
    "    return dupont_analysis\n",
    "\n",
    "# Create a new layout with 6 rows, added row for DFL only (removed EBIT vs Net Income)\n",
    "fig = make_subplots(\n",
    "    rows=6, \n",
    "    cols=2,\n",
    "    subplot_titles=(\n",
    "        'Net Operating Cashflow',                  # Row 1, Col 1\n",
    "        'ROIC (%) vs WACC (%)', # Row 1, Col 2\n",
    "        'Cashflow',                     # Row 2, Col 1\n",
    "        'ROCE vs ROE Comparison',                 # Row 2, Col 2\n",
    "        'DuPont Analysis: Net Profit Margin (%)',  # Row 3, Col 1\n",
    "        'DuPont Analysis: Asset Turnover',         # Row 3, Col 2\n",
    "        'DuPont Analysis: Financial Leverage',     # Row 4, Col 1\n",
    "        'Degree of Financial Leverage (DFL)'       # Row 5, Col 1\n",
    "    ),\n",
    "    specs=[\n",
    "        [{\"type\": \"xy\"}, {\"type\": \"xy\"}],\n",
    "        [{\"type\": \"waterfall\"}, {\"type\": \"xy\", \"secondary_y\": True}],\n",
    "        [{\"type\": \"xy\"}, {\"type\": \"xy\"}],  # Row 3: Net Profit Margin, Asset Turnover\n",
    "        [{\"type\": \"xy\"}, None],  # Row 4: Financial Leverage only (removed ROE Comparison)\n",
    "        [{\"type\": \"xy\"}, None],  # Row 5: DFL only\n",
    "        [{\"type\": \"xy\", \"colspan\": 2}, None]  # Row 6: Empty row for spacing\n",
    "    ],\n",
    "    vertical_spacing=0.06,  # Reduced spacing for more compact layout\n",
    "    horizontal_spacing=0.08\n",
    ")\n",
    "\n",
    "# Get unique years from CashFlow\n",
    "years = sorted(CashFlow['yearReport'].unique())\n",
    "\n",
    "# Ensure years are integers for comparison operations\n",
    "years = [int(y) if isinstance(y, str) else y for y in years]\n",
    "\n",
    "# 1. Net Operating Cashflow (Bar Chart) - Top Left\n",
    "# For each year, calculate the average Net cash inflows/outflows from operating activities\n",
    "ocf_data = CashFlow.groupby('yearReport')['Net cash inflows/outflows from operating activities'].mean() / 1000  # Convert to billions\n",
    "ocf_years = ocf_data.index.tolist()\n",
    "ocf_values = ocf_data.values.tolist()\n",
    "\n",
    "# Add bar chart\n",
    "fig.add_trace(\n",
    "    go.Bar(\n",
    "        x=ocf_years,\n",
    "        y=ocf_values,\n",
    "        text=[f'{v:.2f}B' for v in ocf_values],\n",
    "        textposition='outside',\n",
    "        marker_color='rgb(66, 135, 245)',\n",
    "        marker_line_color='lightgrey',\n",
    "        marker_line_width=1.5,\n",
    "        opacity=0.8,\n",
    "        name='Net Operating Cash Flow'\n",
    "    ),\n",
    "    row=1, col=1\n",
    ")\n",
    "\n",
    "# 2. ROIC vs WACC Chart with Economic Value Zone - Top Right\n",
    "# Get the years from both DataFrames\n",
    "ratio_years = Ratio[('Meta', 'Năm')].values\n",
    "# Convert to int if they're strings\n",
    "ratio_years = [int(y) if isinstance(y, str) else y for y in ratio_years]\n",
    "\n",
    "result_years = result_df['yearReport'].values\n",
    "# Convert to int if they're strings\n",
    "result_years = [int(y) if isinstance(y, str) else y for y in result_years]\n",
    "\n",
    "# Find common years\n",
    "common_years = sorted(list(set(ratio_years).intersection(set(result_years))))\n",
    "\n",
    "# Filter and sort both DataFrames by common years\n",
    "# Ensure comparison works correctly by converting to the same type\n",
    "ratio_filtered = Ratio[Ratio[('Meta', 'Năm')].apply(lambda x: int(x) if isinstance(x, str) else x).isin(common_years)]\n",
    "ratio_filtered = ratio_filtered.sort_values(('Meta', 'Năm'))\n",
    "\n",
    "result_filtered = result_df[result_df['yearReport'].apply(lambda x: int(x) if isinstance(x, str) else x).isin(common_years)]\n",
    "result_filtered = result_filtered.sort_values('yearReport')\n",
    "\n",
    "# Calculate values using the filtered and aligned data\n",
    "wacc_mean = result_filtered['wacc_market_based'].mean() * 100\n",
    "roic_values = ratio_filtered[('Chỉ tiêu khả năng sinh lợi', 'ROIC (%)')] * 100\n",
    "wacc_values = result_filtered['wacc_market_based'] * 100\n",
    "\n",
    "# Add ROIC line\n",
    "fig.add_trace(\n",
    "    go.Scatter(\n",
    "        x=ratio_filtered[('Meta', 'Năm')],\n",
    "        y=roic_values,\n",
    "        name='ROIC (%)',\n",
    "        line=dict(color='blue')\n",
    "    ),\n",
    "    row=1, col=2\n",
    ")\n",
    "\n",
    "# Add WACC line\n",
    "fig.add_trace(\n",
    "    go.Scatter(\n",
    "        x=result_filtered['yearReport'],\n",
    "        y=wacc_values,\n",
    "        name='WACC (%)',\n",
    "        line=dict(color='green')\n",
    "    ),\n",
    "    row=1, col=2\n",
    ")\n",
    "\n",
    "# Add horizontal line at WACC mean\n",
    "fig.add_shape(\n",
    "    type=\"line\",\n",
    "    x0=min(common_years),\n",
    "    x1=max(common_years),\n",
    "    y0=wacc_mean,\n",
    "    y1=wacc_mean,\n",
    "    line=dict(color=\"red\", dash=\"dash\"),\n",
    "    row=1, col=2\n",
    ")\n",
    "\n",
    "# Add WACC mean annotation\n",
    "fig.add_annotation(\n",
    "    x=max(common_years),\n",
    "    y=wacc_mean,\n",
    "    text=f\"WACC Mean: {wacc_mean:.2f}%\",\n",
    "    showarrow=False,\n",
    "    xanchor=\"right\",\n",
    "    font=dict(color=\"red\"),\n",
    "    row=1, col=2\n",
    ")\n",
    "\n",
    "# Only add shaded area if we have data points\n",
    "if len(roic_values) > 0:\n",
    "    # Create x values for the shaded area\n",
    "    x_combined = np.concatenate([ratio_filtered[('Meta', 'Năm')].values, ratio_filtered[('Meta', 'Năm')].values[::-1]])\n",
    "    y_upper = np.where(roic_values > wacc_mean, roic_values, wacc_mean)\n",
    "    y_lower = np.full_like(roic_values, wacc_mean)\n",
    "    y_combined = np.concatenate([y_upper, y_lower[::-1]])\n",
    "\n",
    "    # Add the shaded area\n",
    "    fig.add_trace(\n",
    "        go.Scatter(\n",
    "            x=x_combined,\n",
    "            y=y_combined,\n",
    "            fill='toself',\n",
    "            fillcolor='rgba(0, 100, 255, 0.2)',\n",
    "            line=dict(width=0),\n",
    "            showlegend=True,\n",
    "            name='Economic Value',\n",
    "            legendgroup='economic_value',\n",
    "            hoverinfo='skip'\n",
    "        ),\n",
    "        row=1, col=2\n",
    "    )\n",
    "\n",
    "# Add Economic Value annotation in upper left corner of the ROIC vs WACC plot\n",
    "fig.add_annotation(\n",
    "    x=0.52,  # Adjusted for subplot positioning\n",
    "    y=0.97,  # Top side\n",
    "    xref=\"paper\",  # Use paper coordinates (0-1)\n",
    "    yref=\"paper\",  # Use paper coordinates (0-1)\n",
    "    text=\"<b>Economic Value</b>\",\n",
    "    showarrow=False,\n",
    "    font=dict(\n",
    "        size=12,\n",
    "        color=\"blue\"\n",
    "    ),\n",
    "    bgcolor='rgba(0, 100, 255, 0.2)',  # Same as fill color\n",
    "    bordercolor=\"blue\",\n",
    "    borderwidth=1,\n",
    "    borderpad=4,\n",
    "    opacity=0.8,\n",
    "    xanchor=\"left\",  # Left-align the text\n",
    "    yanchor=\"top\"    # Anchor at the top\n",
    ")\n",
    "\n",
    "# 3. Cashflow Waterfall - 2nd Row, Left\n",
    "# Get a representative ticker (or use one specified)\n",
    "ticker = CashFlow['ticker'].iloc[0]\n",
    "# Get the latest year\n",
    "latest_year = max(years)\n",
    "\n",
    "# Filter data for the specific ticker and latest year\n",
    "waterfall_data = CashFlow[(CashFlow['ticker'] == ticker) & \n",
    "                          (CashFlow['yearReport'] == latest_year)]\n",
    "\n",
    "if len(waterfall_data) > 0:\n",
    "    data = waterfall_data.iloc[0]\n",
    "    \n",
    "    # Key cashflow components with updated labels\n",
    "    measures = [\n",
    "        'Net Profit',  # Changed from 'Initial Cash' to 'Net Profit'\n",
    "        'Operating CF',\n",
    "        'Investing CF',\n",
    "        'Financing CF',\n",
    "        'Final Cash'\n",
    "    ]\n",
    "    \n",
    "    # Updated values using Net Profit as the initial value\n",
    "    values = [\n",
    "        data['Net Profit/Loss before tax'],  # Changed to Net Profit/Loss before tax\n",
    "        data['Net cash inflows/outflows from operating activities'],\n",
    "        data['Net Cash Flows from Investing Activities'],\n",
    "        data['Cash flows from financial activities'],\n",
    "        data['Cash and Cash Equivalents at the end of period']\n",
    "    ]\n",
    "    \n",
    "    measure_types = ['absolute', 'relative', 'relative', 'relative', 'total']\n",
    "    \n",
    "    # Add waterfall chart\n",
    "    fig.add_trace(\n",
    "        go.Waterfall(\n",
    "            name=f\"Cashflow {latest_year}\",\n",
    "            orientation=\"v\",\n",
    "            measure=measure_types,\n",
    "            x=measures,\n",
    "            textposition=\"outside\",  # Standard position for all labels\n",
    "            text=[f\"{x:,.1f}\" for x in values],\n",
    "            y=values,\n",
    "            connector={\"line\": {\"color\": \"rgb(63, 63, 63)\"}},\n",
    "        ),\n",
    "        row=2, col=1\n",
    "    )\n",
    "    \n",
    "    # Create text position array - use 'none' only for Investing CF (index 2)\n",
    "    text_positions = ['outside', 'outside', 'none', 'outside', 'outside']\n",
    "    \n",
    "    # Update the waterfall chart to use different text positions for each bar\n",
    "    fig.data[-1].textposition = text_positions\n",
    "\n",
    "# 4. ROCE vs ROE Comparison - 2nd Row, Right\n",
    "# Calculate ROCE and ROE using the provided function\n",
    "ROCE_df = calculate_roce_and_include_roe(BalanceSheet, IncomeStatement, Ratio)\n",
    "\n",
    "# Filter for the specific ticker\n",
    "ticker_data = ROCE_df[ROCE_df['ticker'] == ticker].sort_values('yearReport')\n",
    "\n",
    "# Convert ROCE to percentage\n",
    "ticker_data['ROCE_PCT'] = ticker_data['ROCE'] * 100\n",
    "\n",
    "# Convert ROE to percentage if it's not already\n",
    "# Check if ROE values are already in percentage (typically >1 if in %)\n",
    "if ticker_data['ROE'].max() < 1:  # If ROE is in decimal form (e.g., 0.15 for 15%)\n",
    "    ticker_data['ROE_PCT'] = ticker_data['ROE'] * 100\n",
    "else:\n",
    "    ticker_data['ROE_PCT'] = ticker_data['ROE']  # If already in percentage form\n",
    "\n",
    "# Add ROCE trace (using percentage values) - REMOVED text labels\n",
    "fig.add_trace(\n",
    "    go.Scatter(\n",
    "        x=ticker_data['yearReport'],\n",
    "        y=ticker_data['ROCE_PCT'],\n",
    "        name='ROCE (%)',\n",
    "        mode='lines+markers',  # Removed 'text' from mode\n",
    "        line=dict(color='rgba(0, 117, 210, 0.9)', width=3),\n",
    "        marker=dict(\n",
    "            size=10, \n",
    "            color='rgba(0, 117, 210, 0.9)',\n",
    "            line=dict(color='white', width=2)\n",
    "        )\n",
    "    ),\n",
    "    row=2, col=2,\n",
    "    secondary_y=False\n",
    ")\n",
    "\n",
    "# Add shaded area under ROCE for emphasis\n",
    "fig.add_trace(\n",
    "    go.Scatter(\n",
    "        x=ticker_data['yearReport'],\n",
    "        y=ticker_data['ROCE_PCT'],\n",
    "        name='ROCE Area',\n",
    "        mode='none',\n",
    "        fill='tozeroy',\n",
    "        fillcolor='rgba(0, 117, 210, 0.1)',\n",
    "        showlegend=False,\n",
    "        hoverinfo='skip'\n",
    "    ),\n",
    "    row=2, col=2,\n",
    "    secondary_y=False\n",
    ")\n",
    "\n",
    "# Add ROE trace using percentage values - REMOVED text labels\n",
    "fig.add_trace(\n",
    "    go.Scatter(\n",
    "        x=ticker_data['yearReport'],\n",
    "        y=ticker_data['ROE_PCT'],\n",
    "        name='ROE (%)',\n",
    "        mode='lines+markers',  # Removed 'text' from mode\n",
    "        line=dict(color='rgba(220, 20, 60, 0.9)', width=3),\n",
    "        marker=dict(\n",
    "            size=10, \n",
    "            symbol='diamond',\n",
    "            color='rgba(220, 20, 60, 0.9)',\n",
    "            line=dict(color='white', width=2)\n",
    "        )\n",
    "    ),\n",
    "    row=2, col=2,\n",
    "    secondary_y=True\n",
    ")\n",
    "\n",
    "# Add shaded area under ROE for emphasis\n",
    "fig.add_trace(\n",
    "    go.Scatter(\n",
    "        x=ticker_data['yearReport'],\n",
    "        y=ticker_data['ROE_PCT'],\n",
    "        name='ROE Area',\n",
    "        mode='none',\n",
    "        fill='tozeroy',\n",
    "        fillcolor='rgba(220, 20, 60, 0.1)',\n",
    "        showlegend=False,\n",
    "        hoverinfo='skip'\n",
    "    ),\n",
    "    row=2, col=2,\n",
    "    secondary_y=True\n",
    ")\n",
    "\n",
    "# 5. DuPont Analysis (Split into 3 separate charts)\n",
    "# Calculate DuPont Analysis\n",
    "dupont_analysis = create_dupont_analysis(IncomeStatement, BalanceSheet, CashFlow)\n",
    "\n",
    "# Filter for the specific ticker\n",
    "dupont_ticker_data = dupont_analysis[dupont_analysis['ticker'] == ticker].sort_values('yearReport')\n",
    "\n",
    "# 5.1. Net Profit Margin - Row 3, Col 1\n",
    "fig.add_trace(\n",
    "    go.Scatter(\n",
    "        x=dupont_ticker_data['yearReport'],\n",
    "        y=dupont_ticker_data['Net Profit Margin'],\n",
    "        mode='lines+markers',\n",
    "        name='Net Profit Margin (%)',\n",
    "        line=dict(color='rgba(66, 135, 245, 0.9)', width=3),\n",
    "        marker=dict(\n",
    "            size=10, \n",
    "            color='rgba(66, 135, 245, 0.9)',\n",
    "            line=dict(color='white', width=2)\n",
    "        ),\n",
    "        showlegend=True\n",
    "    ),\n",
    "    row=3, col=1\n",
    ")\n",
    "\n",
    "# Add shaded area for Net Profit Margin\n",
    "fig.add_trace(\n",
    "    go.Scatter(\n",
    "        x=dupont_ticker_data['yearReport'],\n",
    "        y=dupont_ticker_data['Net Profit Margin'],\n",
    "        name='NPM Area',\n",
    "        mode='none',\n",
    "        fill='tozeroy',\n",
    "        fillcolor='rgba(66, 135, 245, 0.1)',\n",
    "        showlegend=False,\n",
    "        hoverinfo='skip'\n",
    "    ),\n",
    "    row=3, col=1\n",
    ")\n",
    "\n",
    "# 5.2. Asset Turnover - Row 3, Col 2\n",
    "fig.add_trace(\n",
    "    go.Scatter(\n",
    "        x=dupont_ticker_data['yearReport'],\n",
    "        y=dupont_ticker_data['Asset Turnover'],\n",
    "        mode='lines+markers',\n",
    "        name='Asset Turnover',\n",
    "        line=dict(color='rgba(0, 200, 0, 0.9)', width=3),\n",
    "        marker=dict(\n",
    "            size=10, \n",
    "            color='rgba(0, 200, 0, 0.9)',\n",
    "            line=dict(color='white', width=2)\n",
    "        ),\n",
    "        showlegend=True\n",
    "    ),\n",
    "    row=3, col=2\n",
    ")\n",
    "\n",
    "# Add shaded area for Asset Turnover\n",
    "fig.add_trace(\n",
    "    go.Scatter(\n",
    "        x=dupont_ticker_data['yearReport'],\n",
    "        y=dupont_ticker_data['Asset Turnover'],\n",
    "        name='AT Area',\n",
    "        mode='none',\n",
    "        fill='tozeroy',\n",
    "        fillcolor='rgba(0, 200, 0, 0.1)',\n",
    "        showlegend=False,\n",
    "        hoverinfo='skip'\n",
    "    ),\n",
    "    row=3, col=2\n",
    ")\n",
    "\n",
    "# 5.3. Financial Leverage - Row 4, Col 1\n",
    "fig.add_trace(\n",
    "    go.Scatter(\n",
    "        x=dupont_ticker_data['yearReport'],\n",
    "        y=dupont_ticker_data['Financial Leverage'],\n",
    "        mode='lines+markers',\n",
    "        name='Financial Leverage',\n",
    "        line=dict(color='rgba(220, 20, 60, 0.9)', width=3),\n",
    "        marker=dict(\n",
    "            size=10, \n",
    "            color='rgba(220, 20, 60, 0.9)',\n",
    "            line=dict(color='white', width=2)\n",
    "        ),\n",
    "        showlegend=True\n",
    "    ),\n",
    "    row=4, col=1\n",
    ")\n",
    "\n",
    "# Add shaded area for Financial Leverage\n",
    "fig.add_trace(\n",
    "    go.Scatter(\n",
    "        x=dupont_ticker_data['yearReport'],\n",
    "        y=dupont_ticker_data['Financial Leverage'],\n",
    "        name='FL Area',\n",
    "        mode='none',\n",
    "        fill='tozeroy',\n",
    "        fillcolor='rgba(220, 20, 60, 0.1)',\n",
    "        showlegend=False,\n",
    "        hoverinfo='skip'\n",
    "    ),\n",
    "    row=4, col=1\n",
    ")\n",
    "\n",
    "# ROE Comparison chart removed as requested\n",
    "\n",
    "# 6. NEW: DFL Analysis - Row 5, Col 1\n",
    "# Calculate DFL\n",
    "dfl_results = calculate_degree_of_financial_leverage(IncomeStatement)\n",
    "\n",
    "# Filter for the specific ticker and remove rows with NaN DFL\n",
    "dfl_data = dfl_results[(dfl_results['ticker'] == ticker) & (~dfl_results['DFL'].isna())].sort_values('yearReport')\n",
    "\n",
    "if len(dfl_data) > 0:\n",
    "    # Add DFL line chart\n",
    "    fig.add_trace(\n",
    "        go.Scatter(\n",
    "            x=dfl_data['yearReport'],\n",
    "            y=dfl_data['DFL'],\n",
    "            mode='lines+markers',\n",
    "            name='DFL',\n",
    "            line=dict(color='rgba(214, 39, 40, 0.9)', width=3),\n",
    "            marker=dict(\n",
    "                size=10, \n",
    "                color='rgba(214, 39, 40, 0.9)',\n",
    "                line=dict(color='white', width=2)\n",
    "            ),\n",
    "            showlegend=True\n",
    "        ),\n",
    "        row=5, col=1\n",
    "    )\n",
    "    \n",
    "    # Add shaded area under DFL for emphasis\n",
    "    fig.add_trace(\n",
    "        go.Scatter(\n",
    "            x=dfl_data['yearReport'],\n",
    "            y=dfl_data['DFL'],\n",
    "            name='DFL Area',\n",
    "            mode='none',\n",
    "            fill='tozeroy',\n",
    "            fillcolor='rgba(214, 39, 40, 0.1)',\n",
    "            showlegend=False,\n",
    "            hoverinfo='skip'\n",
    "        ),\n",
    "        row=5, col=1\n",
    "    )\n",
    "    \n",
    "    # Add horizontal reference line at DFL = 1\n",
    "    fig.add_shape(\n",
    "        type=\"line\",\n",
    "        x0=min(dfl_data['yearReport']),\n",
    "        y0=1,\n",
    "        x1=max(dfl_data['yearReport']),\n",
    "        y1=1,\n",
    "        line=dict(color=\"gray\", width=1, dash=\"dash\"),\n",
    "        row=5, col=1\n",
    "    )\n",
    "    \n",
    "    # Add annotation explaining DFL = 1\n",
    "    fig.add_annotation(\n",
    "        x=dfl_data['yearReport'].iloc[-1],\n",
    "        y=1.1,\n",
    "        text=\"DFL = 1 (Neutral)\",\n",
    "        showarrow=False,\n",
    "        xanchor=\"right\",\n",
    "        font=dict(size=10, color=\"gray\"),\n",
    "        row=5, col=1\n",
    "    )\n",
    "\n",
    "\n",
    "# Update layout for better appearance\n",
    "fig.update_layout(\n",
    "    title={\n",
    "        'text': f'Financial Analysis Dashboard for {ticker}',\n",
    "        'y':0.98,\n",
    "        'x':0.5,\n",
    "        'xanchor': 'center',\n",
    "        'yanchor': 'top'\n",
    "    },\n",
    "    template='plotly_white',\n",
    "    height=1800,  # Increased height for 6 rows\n",
    "    width=1200,\n",
    "    showlegend=True,\n",
    "    legend=dict(\n",
    "        orientation=\"h\",\n",
    "        yanchor=\"bottom\",\n",
    "        y=-0.10,  # Adjusted for new layout\n",
    "        xanchor=\"center\",\n",
    "        x=0.5,\n",
    "        bgcolor='rgba(255, 255, 255, 0.7)',\n",
    "        bordercolor='rgba(0, 0, 0, 0.2)',\n",
    "        borderwidth=1\n",
    "    ),\n",
    "    hovermode='x unified',\n",
    "    margin=dict(t=100, b=150, l=80, r=80)  # Increased bottom margin\n",
    ")\n",
    "\n",
    "# DuPont formula annotation removed\n",
    "\n",
    "# DFL formula annotation removed\n",
    "\n",
    "# Update axes labels and settings for all plots\n",
    "# Row 1\n",
    "fig.update_xaxes(\n",
    "    title_text=\"Year\",\n",
    "    tickangle=45,\n",
    "    tickmode='array',\n",
    "    tickvals=years,\n",
    "    row=1, \n",
    "    col=1\n",
    ")\n",
    "\n",
    "fig.update_yaxes(title_text=\"Value (Billions VND)\", row=1, col=1)\n",
    "\n",
    "fig.update_xaxes(\n",
    "    title_text=\"Year\",\n",
    "    tickangle=45,\n",
    "    tickmode='array',\n",
    "    tickvals=common_years,\n",
    "    row=1, \n",
    "    col=2\n",
    ")\n",
    "\n",
    "fig.update_yaxes(title_text=\"Percentage (%)\", row=1, col=2)\n",
    "\n",
    "# Row 2\n",
    "fig.update_xaxes(title_text=\"Cash Flow Components\", tickangle=0, row=2, col=1)\n",
    "fig.update_yaxes(title_text=\"Amount (Bn. VND)\", row=2, col=1)\n",
    "\n",
    "fig.update_xaxes(\n",
    "    title_text=\"Year\",\n",
    "    tickangle=45,\n",
    "    tickmode='array',\n",
    "    tickvals=ticker_data['yearReport'],\n",
    "    row=2, \n",
    "    col=2\n",
    ")\n",
    "\n",
    "fig.update_yaxes(\n",
    "    title_text=\"ROCE (%)\",\n",
    "    title_font=dict(color='rgba(0, 117, 210, 1)'),\n",
    "    row=2, \n",
    "    col=2,\n",
    "    secondary_y=False\n",
    ")\n",
    "\n",
    "fig.update_yaxes(\n",
    "    title_text=\"ROE (%)\",\n",
    "    title_font=dict(color='rgba(220, 20, 60, 1)'),\n",
    "    row=2, \n",
    "    col=2,\n",
    "    secondary_y=True\n",
    ")\n",
    "\n",
    "# Row 3 - DuPont Analysis (Net Profit Margin, Asset Turnover)\n",
    "fig.update_xaxes(\n",
    "    title_text=\"Year\",\n",
    "    tickangle=45,\n",
    "    tickmode='array',\n",
    "    tickvals=dupont_ticker_data['yearReport'],\n",
    "    row=3, \n",
    "    col=1\n",
    ")\n",
    "\n",
    "fig.update_yaxes(\n",
    "    title_text=\"Net Profit Margin (%)\",\n",
    "    title_font=dict(color='rgba(66, 135, 245, 1)'),\n",
    "    row=3, \n",
    "    col=1\n",
    ")\n",
    "\n",
    "fig.update_xaxes(\n",
    "    title_text=\"Year\",\n",
    "    tickangle=45,\n",
    "    tickmode='array',\n",
    "    tickvals=dupont_ticker_data['yearReport'],\n",
    "    row=3, \n",
    "    col=2\n",
    ")\n",
    "\n",
    "fig.update_yaxes(\n",
    "    title_text=\"Asset Turnover (times)\",\n",
    "    title_font=dict(color='rgba(0, 200, 0, 1)'),\n",
    "    row=3, \n",
    "    col=2\n",
    ")\n",
    "\n",
    "# Row 4 - DuPont Analysis (Financial Leverage, ROE Comparison)\n",
    "fig.update_xaxes(\n",
    "    title_text=\"Year\",\n",
    "    tickangle=45,\n",
    "    tickmode='array',\n",
    "    tickvals=dupont_ticker_data['yearReport'],\n",
    "    row=4, \n",
    "    col=1\n",
    ")\n",
    "\n",
    "fig.update_yaxes(\n",
    "    title_text=\"Financial Leverage (times)\",\n",
    "    title_font=dict(color='rgba(220, 20, 60, 1)'),\n",
    "    row=4, \n",
    "    col=1\n",
    ")\n",
    "\n",
    "# Axis configuration for ROE Comparison chart removed\n",
    "\n",
    "# Row 5 - NEW: DFL and EBIT vs Net Income\n",
    "if len(dfl_data) > 0:\n",
    "    fig.update_xaxes(\n",
    "        title_text=\"Year\",\n",
    "        tickangle=45,\n",
    "        tickmode='array',\n",
    "        tickvals=dfl_data['yearReport'],\n",
    "        row=5, \n",
    "        col=1\n",
    "    )\n",
    "\n",
    "    fig.update_yaxes(\n",
    "        title_text=\"Degree of Financial Leverage\",\n",
    "        title_font=dict(color='rgba(214, 39, 40, 1)'),\n",
    "        row=5, \n",
    "        col=1\n",
    "    )\n",
    "\n",
    "    fig.update_xaxes(\n",
    "        title_text=\"Year\",\n",
    "        tickangle=45,\n",
    "        tickmode='array',\n",
    "        tickvals=dfl_data['yearReport'],\n",
    "        row=5, \n",
    "        col=2\n",
    "    )\n",
    "\n",
    "    fig.update_yaxes(\n",
    "        title_text=\"Amount (Bn. VND)\",\n",
    "        title_font=dict(color='rgba(55, 83, 109, 1)'),\n",
    "        row=5, \n",
    "        col=2,\n",
    "        secondary_y=False\n",
    "    )\n",
    "\n",
    "    fig.update_yaxes(\n",
    "        title_text=\"Percent Change (%)\",\n",
    "        title_font=dict(color='rgba(26, 118, 255, 1)'),\n",
    "        row=5, \n",
    "        col=2,\n",
    "        secondary_y=True\n",
    "    )\n",
    "\n",
    "# Update subplot titles\n",
    "fig.update_annotations(\n",
    "    text=f\"Cashflow Waterfall ({latest_year})\",\n",
    "    selector={\"index\": 2}\n",
    ")\n",
    "\n",
    "# Remove grid lines and keep only axis lines\n",
    "for row in range(1, 6):  # All rows\n",
    "    for col in range(1, 3):  # Both columns\n",
    "        fig.update_xaxes(\n",
    "            showgrid=False,  # No grid lines\n",
    "            showline=True,   # Show axis line\n",
    "            linewidth=1.5,\n",
    "            linecolor='rgba(0, 0, 0, 0.3)',\n",
    "            row=row, \n",
    "            col=col\n",
    "        )\n",
    "        \n",
    "        fig.update_yaxes(\n",
    "            showgrid=False,  # No grid lines\n",
    "            showline=True,   # Show axis line\n",
    "            linewidth=1.5,\n",
    "            linecolor='rgba(0, 0, 0, 0.3)',\n",
    "            row=row, \n",
    "            col=col\n",
    "        )\n",
    "\n",
    "# Create outputs directory if it doesn't exist\n",
    "output_dir = './dist'  # Changed from './outputs' to './dist'\n",
    "if not os.path.exists(output_dir):\n",
    "    os.makedirs(output_dir)\n",
    "\n",
    "# Save the figure as an HTML file\n",
    "output_path = os.path.join(output_dir, 'index.html')\n",
    "fig.write_html(output_path)\n",
    "\n",
    "print(f\"Financial dashboard saved to {output_path}\")"
   ]
  }
 ],
 "metadata": {
  "kernelspec": {
   "display_name": ".venv",
   "language": "python",
   "name": "python3"
  },
  "language_info": {
   "codemirror_mode": {
    "name": "ipython",
    "version": 3
   },
   "file_extension": ".py",
   "mimetype": "text/x-python",
   "name": "python",
   "nbconvert_exporter": "python",
   "pygments_lexer": "ipython3",
   "version": "3.10.11"
  }
 },
 "nbformat": 4,
 "nbformat_minor": 5
}
