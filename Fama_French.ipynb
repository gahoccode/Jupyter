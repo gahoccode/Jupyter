{
 "cells": [
  {
   "cell_type": "code",
   "execution_count": null,
   "id": "d19cf0a7-bf95-4074-973b-60a75eb4e4ac",
   "metadata": {},
   "outputs": [],
   "source": [
    "factor3_url = 'https://raw.githubusercontent.com/gahoccode/Datasets/main/FamaFrench3FACTOR.csv'\n",
    "factor5_url = 'https://raw.githubusercontent.com/gahoccode/Datasets/refs/heads/main/FamaFrench5FACTOR.csv'\n",
    "fama_french_3f = pd.read_csv(factor3_url)\n",
    "fama_french_5f= pd.read_csv(factor5_url)\n",
    "\n",
    "# Convert the 'time' column to datetime and set as index\n",
    "fama_french_3f['time'] = pd.to_datetime(fama_french_3f['time'])\n",
    "fama_french_3f = fama_french_3f.set_index('time')\n",
    "fama_french_5f['time'] = pd.to_datetime(fama_french_5f['time'])\n",
    "fama_french_5f = fama_french_5f.set_index('time')"
   ]
  },
  {
   "cell_type": "code",
   "execution_count": null,
   "id": "8e27dec8-a31c-453d-b119-4d3bfc6948d6",
   "metadata": {},
   "outputs": [],
   "source": [
    "fama_french_3f.head()\n",
    "fama_french_5f.head()"
   ]
  },
  {
   "cell_type": "code",
   "execution_count": 2,
   "id": "36a05a78-75c8-4e34-ab6d-1b834a07ae11",
   "metadata": {},
   "outputs": [],
   "source": [
    "# In[ ]:\n",
    "\n",
    "\n",
    "def three_factor(url=None):\n",
    "    \"\"\"\n",
    "    Load and process the Fama-French 3-Factor model data.\n",
    "    \n",
    "    Parameters:\n",
    "    ----------\n",
    "    url : str, optional\n",
    "        URL to the CSV file. If None, uses the default GitHub URL.\n",
    "        \n",
    "    Returns:\n",
    "    -------\n",
    "    pandas.DataFrame\n",
    "        Processed Fama-French 3-Factor model data with datetime index.\n",
    "    \"\"\"\n",
    "    if url is None:\n",
    "        url = 'https://raw.githubusercontent.com/gahoccode/Datasets/main/FamaFrench3FACTOR.csv'\n",
    "    \n",
    "    # Load the data\n",
    "    ff_3f = pd.read_csv(url)\n",
    "    \n",
    "    # Convert 'time' to datetime and set as index\n",
    "    ff_3f['time'] = pd.to_datetime(ff_3f['time'])\n",
    "    ff_3f = ff_3f.set_index('time')\n",
    "    \n",
    "    return ff_3f\n",
    "\n",
    "def five_factor(url=None):\n",
    "    \"\"\"\n",
    "    Load and process the Fama-French 5-Factor model data.\n",
    "    \n",
    "    Parameters:\n",
    "    ----------\n",
    "    url : str, optional\n",
    "        URL to the CSV file. If None, uses the default GitHub URL.\n",
    "        \n",
    "    Returns:\n",
    "    -------\n",
    "    pandas.DataFrame\n",
    "        Processed Fama-French 5-Factor model data with datetime index.\n",
    "    \"\"\"\n",
    "    if url is None:\n",
    "        url = 'https://raw.githubusercontent.com/gahoccode/Datasets/refs/heads/main/FamaFrench5FACTOR.csv'\n",
    "    \n",
    "    # Load the data\n",
    "    ff_5f = pd.read_csv(url)\n",
    "    \n",
    "    # Convert 'time' to datetime and set as index\n",
    "    ff_5f['time'] = pd.to_datetime(ff_5f['time'])\n",
    "    ff_5f = ff_5f.set_index('time')\n",
    "    \n",
    "    return ff_5f\n",
    "    "
   ]
  },
  {
   "cell_type": "code",
   "execution_count": 3,
   "id": "61bb8d51-4065-4997-9833-3db926567081",
   "metadata": {},
   "outputs": [
    {
     "name": "stdout",
     "output_type": "stream",
     "text": [
      "                 smb       hml      rmrf        rf\n",
      "time                                              \n",
      "2010-07-30  0.072562  0.033567  0.005701 -0.002441\n",
      "2010-08-31 -0.084894  0.011566  0.023687  0.003284\n",
      "2010-09-30 -0.006054 -0.012890  0.003488  0.004061\n",
      "2010-10-29 -0.112621 -0.001663  0.005688  0.000431\n",
      "2010-11-30 -0.006577 -0.025319  0.011717  0.018323\n",
      "                 rmw       cma       hml   smb_ave      rmrf        rf  month  \\\n",
      "time                                                                            \n",
      "2010-07-30 -0.002295  0.018383  0.033567  0.077511  0.005701 -0.002441      7   \n",
      "2010-08-31  0.057870  0.038095  0.011566 -0.074865  0.023687  0.003284      8   \n",
      "2010-09-30 -0.003626 -0.013542 -0.012890 -0.008455  0.003488  0.004061      9   \n",
      "2010-10-29  0.050812  0.031904 -0.001663 -0.106843  0.005688  0.000431     10   \n",
      "2010-11-30 -0.016760  0.017386 -0.025319 -0.015388  0.011717  0.018323     11   \n",
      "\n",
      "            year  \n",
      "time              \n",
      "2010-07-30  2010  \n",
      "2010-08-31  2010  \n",
      "2010-09-30  2010  \n",
      "2010-10-29  2010  \n",
      "2010-11-30  2010  \n"
     ]
    }
   ],
   "source": [
    "# Import required libraries\n",
    "import pandas as pd\n",
    "\n",
    "# Load the factor data\n",
    "ff3 = three_factor()\n",
    "ff5 = five_factor()\n",
    "\n",
    "# Now you can work with the data\n",
    "print(ff3.head())\n",
    "print(ff5.head())  "
   ]
  },
  {
   "cell_type": "markdown",
   "id": "f11559bc-35b0-498e-a503-42ef381a677e",
   "metadata": {},
   "source": [
    "# Add stock screener to get market cap info that only works from 9 to 5"
   ]
  },
  {
   "cell_type": "code",
   "execution_count": null,
   "id": "646466df-b666-4139-944f-4510890ec144",
   "metadata": {},
   "outputs": [],
   "source": [
    "# from vnstock import Screener\n",
    "# params = {\n",
    "#     \"exchangeName\": \"HOSE,HNX,UPCOM\",\n",
    "#     \"ticker\": \"REE\"  # Replace with your stock symbol\n",
    "# }\n",
    "# screener = Screener()\n",
    "# df = screener.stock(params=params, limit=10)\n",
    "# print(df[['ticker', 'marketCap']])\n",
    "\n",
    "from vnstock import Vnstock\n",
    "company = Vnstock().stock(symbol='REE', source='VCI').company\n",
    "overview = company.overview()\n",
    "overview.head()\n",
    "overview.columns.to_list()"
   ]
  }
 ],
 "metadata": {
  "kernelspec": {
   "display_name": "Python 3 (ipykernel)",
   "language": "python",
   "name": "python3"
  },
  "language_info": {
   "codemirror_mode": {
    "name": "ipython",
    "version": 3
   },
   "file_extension": ".py",
   "mimetype": "text/x-python",
   "name": "python",
   "nbconvert_exporter": "python",
   "pygments_lexer": "ipython3",
   "version": "3.10.11"
  }
 },
 "nbformat": 4,
 "nbformat_minor": 5
}
